{
 "cells": [
  {
   "cell_type": "markdown",
   "id": "0263a666",
   "metadata": {},
   "source": [
    "## 1. APP U本位合约交易-基础订单函数总览"
   ]
  },
  {
   "cell_type": "markdown",
   "id": "cc67e955",
   "metadata": {},
   "source": [
    "|方法|解释|\n",
    "|:---|:---|\n",
    "|set_order|下单（API原始接口）|\n",
    "|get_order|查询订单（API原始接口）|\n",
    "|get_orders_pending|查看当前挂单|\n",
    "|get_orders_pending_open|查看当前开仓挂单|\n",
    "|get_orders_pending_close|查看当前平仓挂单|\n",
    "|wait_order_FILLED|等待订单成交|\n",
    "|cancel_order|撤销订单（API原始接口）|"
   ]
  },
  {
   "cell_type": "markdown",
   "id": "fcdb8469",
   "metadata": {},
   "source": [
    "## 2. 模型实例化"
   ]
  },
  {
   "cell_type": "code",
   "execution_count": 1,
   "id": "5947b148",
   "metadata": {},
   "outputs": [],
   "source": [
    "from binance_interface.app import BinanceUM\n",
    "from binance_interface.app.utils import eprint\n",
    "import paux.date"
   ]
  },
  {
   "cell_type": "code",
   "execution_count": 2,
   "id": "9f2b9af1",
   "metadata": {},
   "outputs": [],
   "source": [
    "# 转发：需搭建转发服务器，可参考：https://github.com/pyted/binance_resender\n",
    "proxy_host = None\n",
    "key = 'xxxx'\n",
    "secret = 'xxxx'\n",
    "\n",
    "binanceUM = BinanceUM(\n",
    "    key=key,\n",
    "    secret=secret,\n",
    "    proxy_host=proxy_host,\n",
    "    timezone='Asia/Shanghai',\n",
    ")\n",
    "trade = binanceUM.trade"
   ]
  },
  {
   "cell_type": "markdown",
   "id": "6f36bb79",
   "metadata": {},
   "source": [
    "## 3. 下单（API原始接口）  set_order"
   ]
  },
  {
   "cell_type": "code",
   "execution_count": 3,
   "id": "307c0098",
   "metadata": {},
   "outputs": [
    {
     "name": "stdout",
     "output_type": "stream",
     "text": [
      "{'code': 200,\n",
      " 'data': {'orderId': 10508381477,\n",
      "          'symbol': 'MANAUSDT',\n",
      "          'status': 'NEW',\n",
      "          'clientOrderId': '3ilBoDldzzHd16kvCqt99x',\n",
      "          'price': '0.4000',\n",
      "          'avgPrice': '0.00',\n",
      "          'origQty': '15',\n",
      "          'executedQty': '0',\n",
      "          'cumQty': '0',\n",
      "          'cumQuote': '0.0000',\n",
      "          'timeInForce': 'GTC',\n",
      "          'type': 'LIMIT',\n",
      "          'reduceOnly': False,\n",
      "          'closePosition': False,\n",
      "          'side': 'BUY',\n",
      "          'positionSide': 'LONG',\n",
      "          'stopPrice': '0.0000',\n",
      "          'workingType': 'CONTRACT_PRICE',\n",
      "          'priceProtect': False,\n",
      "          'origType': 'LIMIT',\n",
      "          'priceMatch': 'NONE',\n",
      "          'selfTradePreventionMode': 'NONE',\n",
      "          'goodTillDate': 0,\n",
      "          'updateTime': 1706118925588},\n",
      " 'msg': ''}\n"
     ]
    }
   ],
   "source": [
    "set_order_result = trade.set_order(\n",
    "    symbol='MANAUSDT',\n",
    "    side='BUY',\n",
    "    type='LIMIT',\n",
    "    price='0.4',\n",
    "    quantity=15,\n",
    "    positionSide='LONG',\n",
    "    timeInForce='GTC',\n",
    ")\n",
    "eprint(set_order_result)"
   ]
  },
  {
   "cell_type": "markdown",
   "id": "80282624",
   "metadata": {},
   "source": [
    "## 4. 查询订单（API原始接口） get_order"
   ]
  },
  {
   "cell_type": "code",
   "execution_count": 4,
   "id": "f9d5b14c",
   "metadata": {},
   "outputs": [
    {
     "name": "stdout",
     "output_type": "stream",
     "text": [
      "{'code': 200,\n",
      " 'data': {'orderId': 10508381477,\n",
      "          'symbol': 'MANAUSDT',\n",
      "          'status': 'NEW',\n",
      "          'clientOrderId': '3ilBoDldzzHd16kvCqt99x',\n",
      "          'price': '0.4000',\n",
      "          'avgPrice': '0.00',\n",
      "          'origQty': '15',\n",
      "          'executedQty': '0',\n",
      "          'cumQuote': '0.0000',\n",
      "          'timeInForce': 'GTC',\n",
      "          'type': 'LIMIT',\n",
      "          'reduceOnly': False,\n",
      "          'closePosition': False,\n",
      "          'side': 'BUY',\n",
      "          'positionSide': 'LONG',\n",
      "          'stopPrice': '0.0000',\n",
      "          'workingType': 'CONTRACT_PRICE',\n",
      "          'priceProtect': False,\n",
      "          'origType': 'LIMIT',\n",
      "          'priceMatch': 'NONE',\n",
      "          'selfTradePreventionMode': 'NONE',\n",
      "          'goodTillDate': 0,\n",
      "          'time': 1706118925588,\n",
      "          'updateTime': 1706118925588},\n",
      " 'msg': ''}\n"
     ]
    }
   ],
   "source": [
    "orderId = set_order_result['data']['orderId']\n",
    "order_result = trade.get_order(\n",
    "    symbol='MANAUSDT',\n",
    "    orderId=orderId,\n",
    ")\n",
    "eprint(order_result)"
   ]
  },
  {
   "cell_type": "markdown",
   "id": "8679c095",
   "metadata": {},
   "source": [
    "## 5. 查看当前挂单 get_orders_pending"
   ]
  },
  {
   "cell_type": "code",
   "execution_count": 5,
   "id": "b4b88001",
   "metadata": {},
   "outputs": [
    {
     "name": "stdout",
     "output_type": "stream",
     "text": [
      "{'code': 200,\n",
      " 'data': [{'orderId': 38469242721,\n",
      "           'symbol': 'ADAUSDT',\n",
      "           'status': 'NEW',\n",
      "           'clientOrderId': 'ios_8Caon6uUaXDwTaiUu7dY',\n",
      "           'price': '0.50000',\n",
      "           'avgPrice': '0',\n",
      "           'origQty': '20',\n",
      "           'executedQty': '0',\n",
      "           'cumQuote': '0.00000',\n",
      "           'timeInForce': 'GTC',\n",
      "           'type': 'LIMIT',\n",
      "           'reduceOnly': False,\n",
      "           'closePosition': False,\n",
      "           'side': 'SELL',\n",
      "           'positionSide': 'SHORT',\n",
      "           'stopPrice': '0',\n",
      "           'workingType': 'CONTRACT_PRICE',\n",
      "           'priceProtect': False,\n",
      "           'origType': 'LIMIT',\n",
      "           'priceMatch': 'NONE',\n",
      "           'selfTradePreventionMode': 'NONE',\n",
      "           'goodTillDate': 0,\n",
      "           'time': 1706118620980,\n",
      "           'updateTime': 1706118620980},\n",
      "          {'orderId': 38469210055,\n",
      "           'symbol': 'ADAUSDT',\n",
      "           'status': 'NEW',\n",
      "           'clientOrderId': 'ios_Odv0cISfWne64Tslg79N',\n",
      "           'price': '0.43000',\n",
      "           'avgPrice': '0',\n",
      "           'origQty': '23',\n",
      "           'executedQty': '0',\n",
      "           'cumQuote': '0.00000',\n",
      "           'timeInForce': 'GTC',\n",
      "           'type': 'LIMIT',\n",
      "           'reduceOnly': False,\n",
      "           'closePosition': False,\n",
      "           'side': 'BUY',\n",
      "           'positionSide': 'LONG',\n",
      "           'stopPrice': '0',\n",
      "           'workingType': 'CONTRACT_PRICE',\n",
      "           'priceProtect': False,\n",
      "           'origType': 'LIMIT',\n",
      "           'priceMatch': 'NONE',\n",
      "           'selfTradePreventionMode': 'NONE',\n",
      "           'goodTillDate': 0,\n",
      "           'time': 1706118533703,\n",
      "           'updateTime': 1706118533703},\n",
      "          {'orderId': 10485110992,\n",
      "           'symbol': 'MANAUSDT',\n",
      "           'status': 'NEW',\n",
      "           'clientOrderId': 'CqSdY5QH4x1UWdUypMvoAl',\n",
      "           'price': '0.5348',\n",
      "           'avgPrice': '0',\n",
      "           'origQty': '10',\n",
      "           'executedQty': '0',\n",
      "           'cumQuote': '0.0000',\n",
      "           'timeInForce': 'GTC',\n",
      "           'type': 'LIMIT',\n",
      "           'reduceOnly': True,\n",
      "           'closePosition': False,\n",
      "           'side': 'SELL',\n",
      "           'positionSide': 'LONG',\n",
      "           'stopPrice': '0',\n",
      "           'workingType': 'CONTRACT_PRICE',\n",
      "           'priceProtect': False,\n",
      "           'origType': 'LIMIT',\n",
      "           'priceMatch': 'NONE',\n",
      "           'selfTradePreventionMode': 'NONE',\n",
      "           'goodTillDate': 0,\n",
      "           'time': 1705832967589,\n",
      "           'updateTime': 1705832967589},\n",
      "          {'orderId': 10508354973,\n",
      "           'symbol': 'MANAUSDT',\n",
      "           'status': 'NEW',\n",
      "           'clientOrderId': 'ios_pZwB8GcFYVAvxxpyCDaC',\n",
      "           'price': '0.5000',\n",
      "           'avgPrice': '0',\n",
      "           'origQty': '20',\n",
      "           'executedQty': '0',\n",
      "           'cumQuote': '0.0000',\n",
      "           'timeInForce': 'GTC',\n",
      "           'type': 'LIMIT',\n",
      "           'reduceOnly': False,\n",
      "           'closePosition': False,\n",
      "           'side': 'SELL',\n",
      "           'positionSide': 'SHORT',\n",
      "           'stopPrice': '0',\n",
      "           'workingType': 'CONTRACT_PRICE',\n",
      "           'priceProtect': False,\n",
      "           'origType': 'LIMIT',\n",
      "           'priceMatch': 'NONE',\n",
      "           'selfTradePreventionMode': 'NONE',\n",
      "           'goodTillDate': 0,\n",
      "           'time': 1706118636567,\n",
      "           'updateTime': 1706118636567},\n",
      "          {'orderId': 10508381477,\n",
      "           'symbol': 'MANAUSDT',\n",
      "           'status': 'NEW',\n",
      "           'clientOrderId': '3ilBoDldzzHd16kvCqt99x',\n",
      "           'price': '0.4000',\n",
      "           'avgPrice': '0',\n",
      "           'origQty': '15',\n",
      "           'executedQty': '0',\n",
      "           'cumQuote': '0.0000',\n",
      "           'timeInForce': 'GTC',\n",
      "           'type': 'LIMIT',\n",
      "           'reduceOnly': False,\n",
      "           'closePosition': False,\n",
      "           'side': 'BUY',\n",
      "           'positionSide': 'LONG',\n",
      "           'stopPrice': '0',\n",
      "           'workingType': 'CONTRACT_PRICE',\n",
      "           'priceProtect': False,\n",
      "           'origType': 'LIMIT',\n",
      "           'priceMatch': 'NONE',\n",
      "           'selfTradePreventionMode': 'NONE',\n",
      "           'goodTillDate': 0,\n",
      "           'time': 1706118925588,\n",
      "           'updateTime': 1706118925588}],\n",
      " 'msg': ''}\n"
     ]
    }
   ],
   "source": [
    "# 查询symbol 从start到end全部未成交订单\n",
    "orders_pending_result = trade.get_orders_pending(\n",
    "    symbol='',  # 默认为空，表示全部产品\n",
    "    start='2024-01-01 10:00:00',  # 默认为空，表示不限定订单的起始时间\n",
    "    end='2024-12-26',  # 默认为空，表示不限定订单的终止时间\n",
    ")\n",
    "eprint(orders_pending_result, length=30)"
   ]
  },
  {
   "cell_type": "code",
   "execution_count": 6,
   "id": "5990e8ca",
   "metadata": {},
   "outputs": [
    {
     "name": "stdout",
     "output_type": "stream",
     "text": [
      "{'code': 200,\n",
      " 'data': [{'orderId': 10485110992,\n",
      "           'symbol': 'MANAUSDT',\n",
      "           'status': 'NEW',\n",
      "           'clientOrderId': 'CqSdY5QH4x1UWdUypMvoAl',\n",
      "           'price': '0.5348',\n",
      "           'avgPrice': '0',\n",
      "           'origQty': '10',\n",
      "           'executedQty': '0',\n",
      "           'cumQuote': '0.0000',\n",
      "           'timeInForce': 'GTC',\n",
      "           'type': 'LIMIT',\n",
      "           'reduceOnly': True,\n",
      "           'closePosition': False,\n",
      "           'side': 'SELL',\n",
      "           'positionSide': 'LONG',\n",
      "           'stopPrice': '0',\n",
      "           'workingType': 'CONTRACT_PRICE',\n",
      "           'priceProtect': False,\n",
      "           'origType': 'LIMIT',\n",
      "           'priceMatch': 'NONE',\n",
      "           'selfTradePreventionMode': 'NONE',\n",
      "           'goodTillDate': 0,\n",
      "           'time': 1705832967589,\n",
      "           'updateTime': 1705832967589},\n",
      "          {'orderId': 10508354973,\n",
      "           'symbol': 'MANAUSDT',\n",
      "           'status': 'NEW',\n",
      "           'clientOrderId': 'ios_pZwB8GcFYVAvxxpyCDaC',\n",
      "           'price': '0.5000',\n",
      "           'avgPrice': '0',\n",
      "           'origQty': '20',\n",
      "           'executedQty': '0',\n",
      "           'cumQuote': '0.0000',\n",
      "           'timeInForce': 'GTC',\n",
      "           'type': 'LIMIT',\n",
      "           'reduceOnly': False,\n",
      "           'closePosition': False,\n",
      "           'side': 'SELL',\n",
      "           'positionSide': 'SHORT',\n",
      "           'stopPrice': '0',\n",
      "           'workingType': 'CONTRACT_PRICE',\n",
      "           'priceProtect': False,\n",
      "           'origType': 'LIMIT',\n",
      "           'priceMatch': 'NONE',\n",
      "           'selfTradePreventionMode': 'NONE',\n",
      "           'goodTillDate': 0,\n",
      "           'time': 1706118636567,\n",
      "           'updateTime': 1706118636567},\n",
      "          {'orderId': 10508381477,\n",
      "           'symbol': 'MANAUSDT',\n",
      "           'status': 'NEW',\n",
      "           'clientOrderId': '3ilBoDldzzHd16kvCqt99x',\n",
      "           'price': '0.4000',\n",
      "           'avgPrice': '0',\n",
      "           'origQty': '15',\n",
      "           'executedQty': '0',\n",
      "           'cumQuote': '0.0000',\n",
      "           'timeInForce': 'GTC',\n",
      "           'type': 'LIMIT',\n",
      "           'reduceOnly': False,\n",
      "           'closePosition': False,\n",
      "           'side': 'BUY',\n",
      "           'positionSide': 'LONG',\n",
      "           'stopPrice': '0',\n",
      "           'workingType': 'CONTRACT_PRICE',\n",
      "           'priceProtect': False,\n",
      "           'origType': 'LIMIT',\n",
      "           'priceMatch': 'NONE',\n",
      "           'selfTradePreventionMode': 'NONE',\n",
      "           'goodTillDate': 0,\n",
      "           'time': 1706118925588,\n",
      "           'updateTime': 1706118925588}],\n",
      " 'msg': ''}\n"
     ]
    }
   ],
   "source": [
    "# 查询symbol 从start到end全部未成交订单\n",
    "orders_pending_result = trade.get_orders_pending(\n",
    "    symbol='MANAUSDT',  # 默认为空，表示全部产品\n",
    "    start='2024-01-01 10:00:00',  # 默认为空，表示不限定订单的起始时间\n",
    "    end='2024-12-26',  # 默认为空，表示不限定订单的终止时间\n",
    ")\n",
    "eprint(orders_pending_result, length=30)"
   ]
  },
  {
   "cell_type": "markdown",
   "id": "4fb1cc73",
   "metadata": {},
   "source": [
    "## 6. 查看当前开仓挂单 get_orders_pending_open"
   ]
  },
  {
   "cell_type": "code",
   "execution_count": 7,
   "id": "b4d5137c",
   "metadata": {},
   "outputs": [
    {
     "name": "stdout",
     "output_type": "stream",
     "text": [
      "{'code': 200,\n",
      " 'data': [{'orderId': 10508354973,\n",
      "           'symbol': 'MANAUSDT',\n",
      "           'status': 'NEW',\n",
      "           'clientOrderId': 'ios_pZwB8GcFYVAvxxpyCDaC',\n",
      "           'price': '0.5000',\n",
      "           'avgPrice': '0',\n",
      "           'origQty': '20',\n",
      "           'executedQty': '0',\n",
      "           'cumQuote': '0.0000',\n",
      "           'timeInForce': 'GTC',\n",
      "           'type': 'LIMIT',\n",
      "           'reduceOnly': False,\n",
      "           'closePosition': False,\n",
      "           'side': 'SELL',\n",
      "           'positionSide': 'SHORT',\n",
      "           'stopPrice': '0',\n",
      "           'workingType': 'CONTRACT_PRICE',\n",
      "           'priceProtect': False,\n",
      "           'origType': 'LIMIT',\n",
      "           'priceMatch': 'NONE',\n",
      "           'selfTradePreventionMode': 'NONE',\n",
      "           'goodTillDate': 0,\n",
      "           'time': 1706118636567,\n",
      "           'updateTime': 1706118636567},\n",
      "          {'orderId': 10508381477,\n",
      "           'symbol': 'MANAUSDT',\n",
      "           'status': 'NEW',\n",
      "           'clientOrderId': '3ilBoDldzzHd16kvCqt99x',\n",
      "           'price': '0.4000',\n",
      "           'avgPrice': '0',\n",
      "           'origQty': '15',\n",
      "           'executedQty': '0',\n",
      "           'cumQuote': '0.0000',\n",
      "           'timeInForce': 'GTC',\n",
      "           'type': 'LIMIT',\n",
      "           'reduceOnly': False,\n",
      "           'closePosition': False,\n",
      "           'side': 'BUY',\n",
      "           'positionSide': 'LONG',\n",
      "           'stopPrice': '0',\n",
      "           'workingType': 'CONTRACT_PRICE',\n",
      "           'priceProtect': False,\n",
      "           'origType': 'LIMIT',\n",
      "           'priceMatch': 'NONE',\n",
      "           'selfTradePreventionMode': 'NONE',\n",
      "           'goodTillDate': 0,\n",
      "           'time': 1706118925588,\n",
      "           'updateTime': 1706118925588}],\n",
      " 'msg': ''}\n"
     ]
    }
   ],
   "source": [
    "# 参数positionSide默认值为''，表示全部多单和空单\n",
    "orders_pending_open_result = trade.get_orders_pending_open(\n",
    "    symbol='MANAUSDT',\n",
    ")\n",
    "eprint(orders_pending_open_result, length=30)"
   ]
  },
  {
   "cell_type": "code",
   "execution_count": 8,
   "id": "c3783802",
   "metadata": {},
   "outputs": [
    {
     "name": "stdout",
     "output_type": "stream",
     "text": [
      "{'code': 200,\n",
      " 'data': [{'orderId': 10508354973,\n",
      "           'symbol': 'MANAUSDT',\n",
      "           'status': 'NEW',\n",
      "           'clientOrderId': 'ios_pZwB8GcFYVAvxxpyCDaC',\n",
      "           'price': '0.5000',\n",
      "           'avgPrice': '0',\n",
      "           'origQty': '20',\n",
      "           'executedQty': '0',\n",
      "           'cumQuote': '0.0000',\n",
      "           'timeInForce': 'GTC',\n",
      "           'type': 'LIMIT',\n",
      "           'reduceOnly': False,\n",
      "           'closePosition': False,\n",
      "           'side': 'SELL',\n",
      "           'positionSide': 'SHORT',\n",
      "           'stopPrice': '0',\n",
      "           'workingType': 'CONTRACT_PRICE',\n",
      "           'priceProtect': False,\n",
      "           'origType': 'LIMIT',\n",
      "           'priceMatch': 'NONE',\n",
      "           'selfTradePreventionMode': 'NONE',\n",
      "           'goodTillDate': 0,\n",
      "           'time': 1706118636567,\n",
      "           'updateTime': 1706118636567}],\n",
      " 'msg': ''}\n"
     ]
    }
   ],
   "source": [
    "# positionSide='SHORT' 限制结果为空单\n",
    "orders_pending_open_result = trade.get_orders_pending_open(\n",
    "    symbol='MANAUSDT',\n",
    "    positionSide='SHORT',\n",
    ")\n",
    "eprint(orders_pending_open_result, length=30)"
   ]
  },
  {
   "cell_type": "markdown",
   "id": "e1da5e32",
   "metadata": {},
   "source": [
    "## 7. 查看当前平仓挂单 get_orders_pending_close"
   ]
  },
  {
   "cell_type": "code",
   "execution_count": 9,
   "id": "6a346221",
   "metadata": {},
   "outputs": [
    {
     "name": "stdout",
     "output_type": "stream",
     "text": [
      "{'code': 200,\n",
      " 'data': [{'orderId': 10485110992,\n",
      "           'symbol': 'MANAUSDT',\n",
      "           'status': 'NEW',\n",
      "           'clientOrderId': 'CqSdY5QH4x1UWdUypMvoAl',\n",
      "           'price': '0.5348',\n",
      "           'avgPrice': '0',\n",
      "           'origQty': '10',\n",
      "           'executedQty': '0',\n",
      "           'cumQuote': '0.0000',\n",
      "           'timeInForce': 'GTC',\n",
      "           'type': 'LIMIT',\n",
      "           'reduceOnly': True,\n",
      "           'closePosition': False,\n",
      "           'side': 'SELL',\n",
      "           'positionSide': 'LONG',\n",
      "           'stopPrice': '0',\n",
      "           'workingType': 'CONTRACT_PRICE',\n",
      "           'priceProtect': False,\n",
      "           'origType': 'LIMIT',\n",
      "           'priceMatch': 'NONE',\n",
      "           'selfTradePreventionMode': 'NONE',\n",
      "           'goodTillDate': 0,\n",
      "           'time': 1705832967589,\n",
      "           'updateTime': 1705832967589}],\n",
      " 'msg': ''}\n"
     ]
    }
   ],
   "source": [
    "# 参数positionSide默认值为''，表示全部多单和空单\n",
    "orders_pending_close_result = trade.get_orders_pending_close(\n",
    "    symbol='MANAUSDT',\n",
    ")\n",
    "eprint(orders_pending_close_result, length=30)"
   ]
  },
  {
   "cell_type": "code",
   "execution_count": 10,
   "id": "d19feadf",
   "metadata": {},
   "outputs": [
    {
     "name": "stdout",
     "output_type": "stream",
     "text": [
      "{'code': 200, 'data': [], 'msg': ''}\n"
     ]
    }
   ],
   "source": [
    "# positionSide='SHORT' 限制结果为空单\n",
    "orders_pending_close_result = trade.get_orders_pending_close(\n",
    "    symbol='MANAUSDT',\n",
    "    positionSide='SHORT',\n",
    ")\n",
    "eprint(orders_pending_close_result, length=30)"
   ]
  },
  {
   "cell_type": "markdown",
   "id": "bb0d6472",
   "metadata": {},
   "source": [
    "## 8. 等待订单成交 wait_order_FILLED"
   ]
  },
  {
   "cell_type": "code",
   "execution_count": 11,
   "id": "b258bc1d",
   "metadata": {},
   "outputs": [
    {
     "name": "stdout",
     "output_type": "stream",
     "text": [
      "{'code': 200,\n",
      " 'data': {'orderId': 10508381477,\n",
      "          'symbol': 'MANAUSDT',\n",
      "          'status': 'NEW',\n",
      "          'clientOrderId': '3ilBoDldzzHd16kvCqt99x',\n",
      "          'price': '0.4000',\n",
      "          'avgPrice': '0.00',\n",
      "          'origQty': '15',\n",
      "          'executedQty': '0',\n",
      "          'cumQuote': '0.0000',\n",
      "          'timeInForce': 'GTC',\n",
      "          'type': 'LIMIT',\n",
      "          'reduceOnly': False,\n",
      "          'closePosition': False,\n",
      "          'side': 'BUY',\n",
      "          'positionSide': 'LONG',\n",
      "          'stopPrice': '0.0000',\n",
      "          'workingType': 'CONTRACT_PRICE',\n",
      "          'priceProtect': False,\n",
      "          'origType': 'LIMIT',\n",
      "          'priceMatch': 'NONE',\n",
      "          'selfTradePreventionMode': 'NONE',\n",
      "          'goodTillDate': 0,\n",
      "          'time': 1706118925588,\n",
      "          'updateTime': 1706118925588},\n",
      " 'msg': ''}\n"
     ]
    }
   ],
   "source": [
    "orderId = set_order_result['data']['orderId']\n",
    "symbol = set_order_result['data']['symbol']\n",
    "# 堵塞，等待订单完全成交，如果超时后仍未成交，返回订单数据\n",
    "wait_order_filled_result = trade.wait_order_FILLED(\n",
    "    symbol=symbol,\n",
    "    orderId=orderId,\n",
    "    timeout=5,\n",
    ")\n",
    "eprint(wait_order_filled_result, length=30)"
   ]
  },
  {
   "cell_type": "markdown",
   "id": "58e24b6f",
   "metadata": {},
   "source": [
    "## 9. 撤销订单（API原始接口） cancel_order"
   ]
  },
  {
   "cell_type": "code",
   "execution_count": 12,
   "id": "62a492bb",
   "metadata": {},
   "outputs": [
    {
     "name": "stdout",
     "output_type": "stream",
     "text": [
      "{'code': 200,\n",
      " 'data': {'orderId': 10508381477,\n",
      "          'symbol': 'MANAUSDT',\n",
      "          'status': 'CANCELED',\n",
      "          'clientOrderId': '3ilBoDldzzHd16kvCqt99x',\n",
      "          'price': '0.4000',\n",
      "          'avgPrice': '0.00',\n",
      "          'origQty': '15',\n",
      "          'executedQty': '0',\n",
      "          'cumQty': '0',\n",
      "          'cumQuote': '0.0000',\n",
      "          'timeInForce': 'GTC',\n",
      "          'type': 'LIMIT',\n",
      "          'reduceOnly': False,\n",
      "          'closePosition': False,\n",
      "          'side': 'BUY',\n",
      "          'positionSide': 'LONG',\n",
      "          'stopPrice': '0.0000',\n",
      "          'workingType': 'CONTRACT_PRICE',\n",
      "          'priceProtect': False,\n",
      "          'origType': 'LIMIT',\n",
      "          'priceMatch': 'NONE',\n",
      "          'selfTradePreventionMode': 'NONE',\n",
      "          'goodTillDate': 0,\n",
      "          'updateTime': 1706118936170},\n",
      " 'msg': ''}\n"
     ]
    }
   ],
   "source": [
    "orderId = set_order_result['data']['orderId']\n",
    "symbol = set_order_result['data']['symbol']\n",
    "\n",
    "cancel_order_result = trade.cancel_order(\n",
    "    symbol=symbol,\n",
    "    orderId=orderId,\n",
    ")\n",
    "eprint(cancel_order_result, length=30)"
   ]
  }
 ],
 "metadata": {
  "kernelspec": {
   "display_name": "Python 3 (ipykernel)",
   "language": "python",
   "name": "python3"
  },
  "language_info": {
   "codemirror_mode": {
    "name": "ipython",
    "version": 3
   },
   "file_extension": ".py",
   "mimetype": "text/x-python",
   "name": "python",
   "nbconvert_exporter": "python",
   "pygments_lexer": "ipython3",
   "version": "3.8.4"
  }
 },
 "nbformat": 4,
 "nbformat_minor": 5
}
