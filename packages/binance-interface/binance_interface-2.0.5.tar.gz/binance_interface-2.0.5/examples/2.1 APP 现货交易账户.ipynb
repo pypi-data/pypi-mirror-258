{
 "cells": [
  {
   "cell_type": "markdown",
   "id": "dfe2d50f",
   "metadata": {},
   "source": [
    "## 1 APP 现货交易账户函数总览"
   ]
  },
  {
   "cell_type": "markdown",
   "id": "3a7b93ec",
   "metadata": {},
   "source": [
    "|方法|解释|\n",
    "|:---|:---|\n",
    "|get_account|获取账户信息|\n",
    "|get_balance|获取单个现货余额|\n",
    "|get_balances|获取全部现货余额（列表格式）|\n",
    "|get_balancesMap|获取全部现货余额（字典格式）|"
   ]
  },
  {
   "cell_type": "markdown",
   "id": "ffee543d",
   "metadata": {},
   "source": [
    "## 2. 模型实例化"
   ]
  },
  {
   "cell_type": "code",
   "execution_count": 1,
   "id": "a9a45f09",
   "metadata": {},
   "outputs": [],
   "source": [
    "from binance_interface.app import BinanceSPOT\n",
    "from binance_interface.app.utils import eprint"
   ]
  },
  {
   "cell_type": "code",
   "execution_count": 2,
   "id": "3d7db1a8",
   "metadata": {},
   "outputs": [],
   "source": [
    "# 转发：需搭建转发服务器，可参考：https://github.com/pyted/binance_resender\n",
    "proxy_host = None\n",
    "key = 'xxxx'\n",
    "secret = 'xxxx'\n",
    "\n",
    "binanceSPOT = BinanceSPOT(\n",
    "    key=key, secret=secret,\n",
    "    proxy_host=proxy_host\n",
    ")\n",
    "account = binanceSPOT.account"
   ]
  },
  {
   "cell_type": "markdown",
   "id": "3f893754",
   "metadata": {},
   "source": [
    "## 3. 获取账户信息 get_account"
   ]
  },
  {
   "cell_type": "code",
   "execution_count": 3,
   "id": "20a93c41",
   "metadata": {},
   "outputs": [
    {
     "name": "stdout",
     "output_type": "stream",
     "text": [
      "{'code': 200,\n",
      " 'data': {'makerCommission': 10,\n",
      "          'takerCommission': 10,\n",
      "          'buyerCommission': 0,\n",
      "          'sellerCommission': 0,\n",
      "          'commissionRates': {'maker': '0.00100000',\n",
      "                              'taker': '0.00100000',\n",
      "                              'buyer': '0.00000000',\n",
      "                              'seller': '0.00000000'},\n",
      "          'canTrade': True,\n",
      "          'canWithdraw': True,\n",
      "          'canDeposit': True,\n",
      "          'brokered': False,\n",
      "          'requireSelfTradePrevention': False,\n",
      "          'preventSor': False,\n",
      "          'updateTime': 1706103804303,\n",
      "          'accountType': 'SPOT',\n",
      "          'balances': [{'asset': 'BTC', 'free': '0.00024975', 'locked': '0.00000000'},\n",
      "                       {'asset': 'LTC', 'free': '0.00000000', 'locked': '0.00000000'},\n",
      "                       {'asset': 'ETH', 'free': '0.00439560', 'locked': '0.00000000'},\n",
      "                       {'asset': 'NEO', 'free': '0.00000000', 'locked': '0.00000000'},\n",
      "                       {'asset': 'BNB', 'free': '0.00000840', 'locked': '0.00000000'},\n",
      "                       '......'],\n",
      "          'permissions': ['SPOT'],\n",
      "          'uid': 459188049},\n",
      " 'msg': ''}\n"
     ]
    }
   ],
   "source": [
    "account_result = account.get_account()\n",
    "eprint(account_result)"
   ]
  },
  {
   "cell_type": "markdown",
   "id": "8eb5ac32",
   "metadata": {},
   "source": [
    "## 4. 获取单个现货余额 get_balance"
   ]
  },
  {
   "cell_type": "code",
   "execution_count": 4,
   "id": "1a8f0859",
   "metadata": {},
   "outputs": [
    {
     "name": "stdout",
     "output_type": "stream",
     "text": [
      "{'code': 200, 'data': {'asset': 'BTC', 'free': '0.00024975', 'locked': '0.00000000'}, 'msg': ''}\n"
     ]
    }
   ],
   "source": [
    "# 等价于下面代码：account.get_balance(symbol='BTCUSDT',base_asset='USDT')\n",
    "balance_result = account.get_balance(asset='BTC')\n",
    "eprint(balance_result)"
   ]
  },
  {
   "cell_type": "markdown",
   "id": "c4fcd288",
   "metadata": {},
   "source": [
    "## 5. 获取全部现货余额（列表格式） get_balances"
   ]
  },
  {
   "cell_type": "code",
   "execution_count": 5,
   "id": "45d999cf",
   "metadata": {},
   "outputs": [
    {
     "name": "stdout",
     "output_type": "stream",
     "text": [
      "{'code': 200,\n",
      " 'data': [{'asset': 'BTC', 'free': '0.00024975', 'locked': '0.00000000'},\n",
      "          {'asset': 'LTC', 'free': '0.00000000', 'locked': '0.00000000'},\n",
      "          {'asset': 'ETH', 'free': '0.00439560', 'locked': '0.00000000'},\n",
      "          {'asset': 'NEO', 'free': '0.00000000', 'locked': '0.00000000'},\n",
      "          {'asset': 'BNB', 'free': '0.00000840', 'locked': '0.00000000'},\n",
      "          {'asset': 'QTUM', 'free': '0.00000000', 'locked': '0.00000000'},\n",
      "          {'asset': 'EOS', 'free': '0.00000000', 'locked': '0.00000000'},\n",
      "          {'asset': 'SNT', 'free': '0.00000000', 'locked': '0.00000000'},\n",
      "          {'asset': 'BNT', 'free': '0.00000000', 'locked': '0.00000000'},\n",
      "          {'asset': 'GAS', 'free': '0.00000000', 'locked': '0.00000000'},\n",
      "          {'asset': 'BCC', 'free': '0.00000000', 'locked': '0.00000000'},\n",
      "          {'asset': 'USDT', 'free': '470.79762454', 'locked': '0.00000000'},\n",
      "          {'asset': 'HSR', 'free': '0.00000000', 'locked': '0.00000000'},\n",
      "          {'asset': 'OAX', 'free': '0.00000000', 'locked': '0.00000000'},\n",
      "          {'asset': 'DNT', 'free': '0.00000000', 'locked': '0.00000000'},\n",
      "          {'asset': 'MCO', 'free': '0.00000000', 'locked': '0.00000000'},\n",
      "          {'asset': 'ICN', 'free': '0.00000000', 'locked': '0.00000000'},\n",
      "          {'asset': 'ZRX', 'free': '0.00000000', 'locked': '0.00000000'},\n",
      "          {'asset': 'OMG', 'free': '0.00000000', 'locked': '0.00000000'},\n",
      "          {'asset': 'WTC', 'free': '0.00000000', 'locked': '0.00000000'},\n",
      "          {'asset': 'YOYO', 'free': '0.00000000', 'locked': '0.00000000'},\n",
      "          {'asset': 'LRC', 'free': '0.00000000', 'locked': '0.00000000'},\n",
      "          {'asset': 'TRX', 'free': '0.00000000', 'locked': '0.00000000'},\n",
      "          {'asset': 'SNGLS', 'free': '0.00000000', 'locked': '0.00000000'},\n",
      "          {'asset': 'STRAT', 'free': '0.00000000', 'locked': '0.00000000'},\n",
      "          {'asset': 'BQX', 'free': '0.00000000', 'locked': '0.00000000'},\n",
      "          {'asset': 'FUN', 'free': '0.00000000', 'locked': '0.00000000'},\n",
      "          {'asset': 'KNC', 'free': '0.00000000', 'locked': '0.00000000'},\n",
      "          {'asset': 'CDT', 'free': '0.00000000', 'locked': '0.00000000'},\n",
      "          {'asset': 'XVG', 'free': '0.00000000', 'locked': '0.00000000'},\n",
      "          '......'],\n",
      " 'msg': ''}\n"
     ]
    }
   ],
   "source": [
    "# 参数assets默认为[]，表示全部货币\n",
    "balances_result = account.get_balances()\n",
    "eprint(balances_result)"
   ]
  },
  {
   "cell_type": "code",
   "execution_count": 6,
   "id": "3d57545f",
   "metadata": {},
   "outputs": [
    {
     "name": "stdout",
     "output_type": "stream",
     "text": [
      "{'code': 200,\n",
      " 'data': [{'asset': 'BTC', 'free': '0.00024975', 'locked': '0.00000000'},\n",
      "          {'asset': 'ETH', 'free': '0.00439560', 'locked': '0.00000000'}],\n",
      " 'msg': ''}\n"
     ]
    }
   ],
   "source": [
    "# 指定多个货币\n",
    "balances_result = account.get_balances(assets=['BTC', 'ETH'])\n",
    "eprint(balances_result)"
   ]
  },
  {
   "cell_type": "markdown",
   "id": "f0ae6502",
   "metadata": {},
   "source": [
    "## 6. 获取全部现货余额（字典格式） get_balancesMap"
   ]
  },
  {
   "cell_type": "code",
   "execution_count": 7,
   "id": "75d078bf",
   "metadata": {},
   "outputs": [
    {
     "name": "stdout",
     "output_type": "stream",
     "text": [
      "{'code': 200,\n",
      " 'data': {'BTC': {'asset': 'BTC', 'free': '0.00024975', 'locked': '0.00000000'},\n",
      "          'LTC': {'asset': 'LTC', 'free': '0.00000000', 'locked': '0.00000000'},\n",
      "          'ETH': {'asset': 'ETH', 'free': '0.00439560', 'locked': '0.00000000'},\n",
      "          'NEO': {'asset': 'NEO', 'free': '0.00000000', 'locked': '0.00000000'},\n",
      "          'BNB': {'asset': 'BNB', 'free': '0.00000840', 'locked': '0.00000000'},\n",
      "          'QTUM': {'asset': 'QTUM', 'free': '0.00000000', 'locked': '0.00000000'},\n",
      "          'EOS': {'asset': 'EOS', 'free': '0.00000000', 'locked': '0.00000000'},\n",
      "          'SNT': {'asset': 'SNT', 'free': '0.00000000', 'locked': '0.00000000'},\n",
      "          'BNT': {'asset': 'BNT', 'free': '0.00000000', 'locked': '0.00000000'},\n",
      "          'GAS': {'asset': 'GAS', 'free': '0.00000000', 'locked': '0.00000000'},\n",
      "          'BCC': {'asset': 'BCC', 'free': '0.00000000', 'locked': '0.00000000'},\n",
      "          'USDT': {'asset': 'USDT', 'free': '470.79762454', 'locked': '0.00000000'},\n",
      "          'HSR': {'asset': 'HSR', 'free': '0.00000000', 'locked': '0.00000000'},\n",
      "          'OAX': {'asset': 'OAX', 'free': '0.00000000', 'locked': '0.00000000'},\n",
      "          'DNT': {'asset': 'DNT', 'free': '0.00000000', 'locked': '0.00000000'},\n",
      "          'MCO': {'asset': 'MCO', 'free': '0.00000000', 'locked': '0.00000000'},\n",
      "          'ICN': {'asset': 'ICN', 'free': '0.00000000', 'locked': '0.00000000'},\n",
      "          'ZRX': {'asset': 'ZRX', 'free': '0.00000000', 'locked': '0.00000000'},\n",
      "          'OMG': {'asset': 'OMG', 'free': '0.00000000', 'locked': '0.00000000'},\n",
      "          'WTC': {'asset': 'WTC', 'free': '0.00000000', 'locked': '0.00000000'},\n",
      "          'YOYO': {'asset': 'YOYO', 'free': '0.00000000', 'locked': '0.00000000'},\n",
      "          'LRC': {'asset': 'LRC', 'free': '0.00000000', 'locked': '0.00000000'},\n",
      "          'TRX': {'asset': 'TRX', 'free': '0.00000000', 'locked': '0.00000000'},\n",
      "          'SNGLS': {'asset': 'SNGLS', 'free': '0.00000000', 'locked': '0.00000000'},\n",
      "          'STRAT': {'asset': 'STRAT', 'free': '0.00000000', 'locked': '0.00000000'},\n",
      "          'BQX': {'asset': 'BQX', 'free': '0.00000000', 'locked': '0.00000000'},\n",
      "          'FUN': {'asset': 'FUN', 'free': '0.00000000', 'locked': '0.00000000'},\n",
      "          'KNC': {'asset': 'KNC', 'free': '0.00000000', 'locked': '0.00000000'},\n",
      "          'CDT': {'asset': 'CDT', 'free': '0.00000000', 'locked': '0.00000000'},\n",
      "          'XVG': {'asset': 'XVG', 'free': '0.00000000', 'locked': '0.00000000'},\n",
      "          'IOTA': {'asset': 'IOTA', 'free': '0.00000000', 'locked': '0.00000000'},\n",
      "          '...': '......'},\n",
      " 'msg': ''}\n"
     ]
    }
   ],
   "source": [
    "# 参数assets默认为[]，表示全部货币\n",
    "balancesMap_result = account.get_balancesMap()\n",
    "eprint(balancesMap_result)"
   ]
  },
  {
   "cell_type": "code",
   "execution_count": 8,
   "id": "e8d39796",
   "metadata": {},
   "outputs": [
    {
     "name": "stdout",
     "output_type": "stream",
     "text": [
      "{'code': 200,\n",
      " 'data': {'BTC': {'asset': 'BTC', 'free': '0.00024975', 'locked': '0.00000000'},\n",
      "          'ETH': {'asset': 'ETH', 'free': '0.00439560', 'locked': '0.00000000'}},\n",
      " 'msg': ''}\n"
     ]
    }
   ],
   "source": [
    "# 指定多个货币\n",
    "balancesMap_result = account.get_balancesMap(assets=['BTC', 'ETH'])\n",
    "eprint(balancesMap_result)"
   ]
  }
 ],
 "metadata": {
  "kernelspec": {
   "display_name": "Python 3 (ipykernel)",
   "language": "python",
   "name": "python3"
  },
  "language_info": {
   "codemirror_mode": {
    "name": "ipython",
    "version": 3
   },
   "file_extension": ".py",
   "mimetype": "text/x-python",
   "name": "python",
   "nbconvert_exporter": "python",
   "pygments_lexer": "ipython3",
   "version": "3.8.4"
  }
 },
 "nbformat": 4,
 "nbformat_minor": 5
}
