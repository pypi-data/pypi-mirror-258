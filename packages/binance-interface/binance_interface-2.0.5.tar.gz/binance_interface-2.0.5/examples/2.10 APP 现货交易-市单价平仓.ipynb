{
 "cells": [
  {
   "cell_type": "markdown",
   "id": "0543ac7b",
   "metadata": {},
   "source": [
    "## 1. APP 现货交易-市单价平仓函数总览"
   ]
  },
  {
   "cell_type": "markdown",
   "id": "b86f26bc",
   "metadata": {},
   "source": [
    "|方法|解释|\n",
    "|:---|:---|\n",
    "|close_market|市价单卖出|"
   ]
  },
  {
   "cell_type": "markdown",
   "id": "ff9f01d1",
   "metadata": {},
   "source": [
    "## 2. 模型实例化"
   ]
  },
  {
   "cell_type": "code",
   "execution_count": 1,
   "id": "2f6d4685",
   "metadata": {},
   "outputs": [],
   "source": [
    "from binance_interface.app import BinanceSPOT\n",
    "from pprint import pprint"
   ]
  },
  {
   "cell_type": "code",
   "execution_count": 2,
   "id": "837c02d1",
   "metadata": {},
   "outputs": [],
   "source": [
    "# 转发：需搭建转发服务器，可参考：https://github.com/pyted/binance_resender\n",
    "proxy_host = None\n",
    "key = 'xxxx'\n",
    "secret = 'xxxx'\n",
    "\n",
    "binanceSPOT = BinanceSPOT(\n",
    "    key=key, secret=secret,\n",
    "    proxy_host=proxy_host\n",
    ")\n",
    "trade = binanceSPOT.trade"
   ]
  },
  {
   "cell_type": "markdown",
   "id": "a352042e",
   "metadata": {},
   "source": [
    "## 3. 同步 市价平仓（卖出）"
   ]
  },
  {
   "cell_type": "code",
   "execution_count": 3,
   "id": "deae15b3",
   "metadata": {},
   "outputs": [
    {
     "name": "stdout",
     "output_type": "stream",
     "text": [
      "{'cancel_result': None,\n",
      " 'error_result': None,\n",
      " 'func_param': {'base_asset': None,\n",
      "                'callback': None,\n",
      "                'cancel': True,\n",
      "                'delay': 0.2,\n",
      "                'errorback': None,\n",
      "                'meta': {},\n",
      "                'newClientOrderId': '',\n",
      "                'newThread': False,\n",
      "                'quantity': 15,\n",
      "                'symbol': 'MANAUSDT',\n",
      "                'timeout': 5},\n",
      " 'get_order_result': {'code': 200,\n",
      "                      'data': {'clientOrderId': 'QZJUobM66O1b6rz1KM1Iig',\n",
      "                               'cummulativeQuoteQty': '6.54600000',\n",
      "                               'executedQty': '15.00000000',\n",
      "                               'icebergQty': '0.00000000',\n",
      "                               'isWorking': True,\n",
      "                               'orderId': 2207185871,\n",
      "                               'orderListId': -1,\n",
      "                               'origQty': '15.00000000',\n",
      "                               'origQuoteOrderQty': '0.00000000',\n",
      "                               'price': '0.00000000',\n",
      "                               'selfTradePreventionMode': 'EXPIRE_MAKER',\n",
      "                               'side': 'SELL',\n",
      "                               'status': 'FILLED',\n",
      "                               'stopPrice': '0.00000000',\n",
      "                               'symbol': 'MANAUSDT',\n",
      "                               'time': 1706105828515,\n",
      "                               'timeInForce': 'GTC',\n",
      "                               'type': 'MARKET',\n",
      "                               'updateTime': 1706105828515,\n",
      "                               'workingTime': 1706105828515},\n",
      "                      'msg': ''},\n",
      " 'meta': {},\n",
      " 'request_param': {'newClientOrderId': '',\n",
      "                   'quantity': '15',\n",
      "                   'side': 'SELL',\n",
      "                   'symbol': 'MANAUSDT',\n",
      "                   'type': 'MARKET'},\n",
      " 'set_order_result': {'code': 200,\n",
      "                      'data': {'clientOrderId': 'QZJUobM66O1b6rz1KM1Iig',\n",
      "                               'cummulativeQuoteQty': '6.54600000',\n",
      "                               'executedQty': '15.00000000',\n",
      "                               'fills': [{'commission': '0.00654600',\n",
      "                                          'commissionAsset': 'USDT',\n",
      "                                          'price': '0.43640000',\n",
      "                                          'qty': '15.00000000',\n",
      "                                          'tradeId': 199517216}],\n",
      "                               'orderId': 2207185871,\n",
      "                               'orderListId': -1,\n",
      "                               'origQty': '15.00000000',\n",
      "                               'price': '0.00000000',\n",
      "                               'selfTradePreventionMode': 'EXPIRE_MAKER',\n",
      "                               'side': 'SELL',\n",
      "                               'status': 'FILLED',\n",
      "                               'symbol': 'MANAUSDT',\n",
      "                               'timeInForce': 'GTC',\n",
      "                               'transactTime': 1706105828515,\n",
      "                               'type': 'MARKET',\n",
      "                               'workingTime': 1706105828515},\n",
      "                      'msg': ''},\n",
      " 'status': 'FILLED',\n",
      " 'symbol': 'MANAUSDT'}\n"
     ]
    }
   ],
   "source": [
    "close_market3 = trade.close_market(\n",
    "    symbol='MANAUSDT',  # 产品\n",
    "    quantity=15,  # 平仓数量（交易货币） \n",
    "    timeout=5,\n",
    ")\n",
    "\n",
    "pprint(close_market3)"
   ]
  },
  {
   "cell_type": "markdown",
   "id": "8e705ee9",
   "metadata": {},
   "source": [
    "## 4. 同步 市价平仓（卖出） 回调函数"
   ]
  },
  {
   "cell_type": "code",
   "execution_count": 4,
   "id": "e23e1d5a",
   "metadata": {},
   "outputs": [],
   "source": [
    "# 执行成功回调\n",
    "def callback4(information):\n",
    "    print('callback')\n",
    "    pprint(information)\n",
    "    \n",
    "\n",
    "# 执行错误回调\n",
    "def errorback4(information):\n",
    "    print('errorback')\n",
    "    pprint(information)"
   ]
  },
  {
   "cell_type": "code",
   "execution_count": 5,
   "id": "aeb58eef",
   "metadata": {},
   "outputs": [
    {
     "name": "stdout",
     "output_type": "stream",
     "text": [
      "callback\n",
      "{'cancel_result': None,\n",
      " 'error_result': None,\n",
      " 'func_param': {'base_asset': None,\n",
      "                'callback': <function callback4 at 0x7fbae0ed0940>,\n",
      "                'cancel': True,\n",
      "                'delay': 0.2,\n",
      "                'errorback': <function errorback4 at 0x7fbae0ed09d0>,\n",
      "                'meta': {},\n",
      "                'newClientOrderId': '',\n",
      "                'newThread': False,\n",
      "                'quantity': 15,\n",
      "                'symbol': 'MANAUSDT',\n",
      "                'timeout': 60},\n",
      " 'get_order_result': {'code': 200,\n",
      "                      'data': {'clientOrderId': 'azGx2KtNmnOBSkbHi7anNM',\n",
      "                               'cummulativeQuoteQty': '6.54600000',\n",
      "                               'executedQty': '15.00000000',\n",
      "                               'icebergQty': '0.00000000',\n",
      "                               'isWorking': True,\n",
      "                               'orderId': 2207185872,\n",
      "                               'orderListId': -1,\n",
      "                               'origQty': '15.00000000',\n",
      "                               'origQuoteOrderQty': '0.00000000',\n",
      "                               'price': '0.00000000',\n",
      "                               'selfTradePreventionMode': 'EXPIRE_MAKER',\n",
      "                               'side': 'SELL',\n",
      "                               'status': 'FILLED',\n",
      "                               'stopPrice': '0.00000000',\n",
      "                               'symbol': 'MANAUSDT',\n",
      "                               'time': 1706105828997,\n",
      "                               'timeInForce': 'GTC',\n",
      "                               'type': 'MARKET',\n",
      "                               'updateTime': 1706105828997,\n",
      "                               'workingTime': 1706105828997},\n",
      "                      'msg': ''},\n",
      " 'meta': {},\n",
      " 'request_param': {'newClientOrderId': '',\n",
      "                   'quantity': '15',\n",
      "                   'side': 'SELL',\n",
      "                   'symbol': 'MANAUSDT',\n",
      "                   'type': 'MARKET'},\n",
      " 'set_order_result': {'code': 200,\n",
      "                      'data': {'clientOrderId': 'azGx2KtNmnOBSkbHi7anNM',\n",
      "                               'cummulativeQuoteQty': '6.54600000',\n",
      "                               'executedQty': '15.00000000',\n",
      "                               'fills': [{'commission': '0.00654600',\n",
      "                                          'commissionAsset': 'USDT',\n",
      "                                          'price': '0.43640000',\n",
      "                                          'qty': '15.00000000',\n",
      "                                          'tradeId': 199517217}],\n",
      "                               'orderId': 2207185872,\n",
      "                               'orderListId': -1,\n",
      "                               'origQty': '15.00000000',\n",
      "                               'price': '0.00000000',\n",
      "                               'selfTradePreventionMode': 'EXPIRE_MAKER',\n",
      "                               'side': 'SELL',\n",
      "                               'status': 'FILLED',\n",
      "                               'symbol': 'MANAUSDT',\n",
      "                               'timeInForce': 'GTC',\n",
      "                               'transactTime': 1706105828997,\n",
      "                               'type': 'MARKET',\n",
      "                               'workingTime': 1706105828997},\n",
      "                      'msg': ''},\n",
      " 'status': 'FILLED',\n",
      " 'symbol': 'MANAUSDT'}\n"
     ]
    }
   ],
   "source": [
    "# 设置callback和errorback\n",
    "close_market4 = trade.close_market(\n",
    "    symbol='MANAUSDT',  # 产品\n",
    "    quantity=15,  # 平仓数量 (交易货币) 'all' 表示全部可用数量\n",
    "    meta={},  # 向回调函数中传递的参数字典\n",
    "\n",
    "    callback=callback4,  # 开仓成功触发的回调函数\n",
    "    errorback=errorback4,  # 开仓失败触发的回调函数\n",
    ")"
   ]
  },
  {
   "cell_type": "markdown",
   "id": "8599d8d5",
   "metadata": {},
   "source": [
    "## 5. 异步 市价平仓（卖出）回调函数"
   ]
  },
  {
   "cell_type": "code",
   "execution_count": 6,
   "id": "560a62b7",
   "metadata": {},
   "outputs": [],
   "source": [
    "# 执行成功回调\n",
    "def callback5(information):\n",
    "    print('thread callback')\n",
    "    pprint(information)\n",
    "\n",
    "\n",
    "# 执行错误回调\n",
    "def errorback5(information):\n",
    "    print('thread errorback')\n",
    "    pprint(information)"
   ]
  },
  {
   "cell_type": "code",
   "execution_count": 7,
   "id": "cc374981",
   "metadata": {},
   "outputs": [
    {
     "name": "stdout",
     "output_type": "stream",
     "text": [
      "<Thread(Thread-5, started 123145458274304)>\n",
      "------------------------------\n",
      "thread callback\n",
      "{'cancel_result': None,\n",
      " 'error_result': None,\n",
      " 'func_param': {'base_asset': None,\n",
      "                'callback': <function callback5 at 0x7fbae0ed05e0>,\n",
      "                'cancel': True,\n",
      "                'delay': 0.2,\n",
      "                'errorback': <function errorback5 at 0x7fbae0ed0a60>,\n",
      "                'meta': {},\n",
      "                'newClientOrderId': '',\n",
      "                'newThread': True,\n",
      "                'quantity': 15,\n",
      "                'symbol': 'MANAUSDT',\n",
      "                'timeout': 60},\n",
      " 'get_order_result': {'code': 200,\n",
      "                      'data': {'clientOrderId': '8c7BxLhWTJuTyly19RLlk5',\n",
      "                               'cummulativeQuoteQty': '6.55350000',\n",
      "                               'executedQty': '15.00000000',\n",
      "                               'icebergQty': '0.00000000',\n",
      "                               'isWorking': True,\n",
      "                               'orderId': 2207186239,\n",
      "                               'orderListId': -1,\n",
      "                               'origQty': '15.00000000',\n",
      "                               'origQuoteOrderQty': '0.00000000',\n",
      "                               'price': '0.00000000',\n",
      "                               'selfTradePreventionMode': 'EXPIRE_MAKER',\n",
      "                               'side': 'SELL',\n",
      "                               'status': 'FILLED',\n",
      "                               'stopPrice': '0.00000000',\n",
      "                               'symbol': 'MANAUSDT',\n",
      "                               'time': 1706105848443,\n",
      "                               'timeInForce': 'GTC',\n",
      "                               'type': 'MARKET',\n",
      "                               'updateTime': 1706105848443,\n",
      "                               'workingTime': 1706105848443},\n",
      "                      'msg': ''},\n",
      " 'meta': {},\n",
      " 'request_param': {'newClientOrderId': '',\n",
      "                   'quantity': '15',\n",
      "                   'side': 'SELL',\n",
      "                   'symbol': 'MANAUSDT',\n",
      "                   'type': 'MARKET'},\n",
      " 'set_order_result': {'code': 200,\n",
      "                      'data': {'clientOrderId': '8c7BxLhWTJuTyly19RLlk5',\n",
      "                               'cummulativeQuoteQty': '6.55350000',\n",
      "                               'executedQty': '15.00000000',\n",
      "                               'fills': [{'commission': '0.00655350',\n",
      "                                          'commissionAsset': 'USDT',\n",
      "                                          'price': '0.43690000',\n",
      "                                          'qty': '15.00000000',\n",
      "                                          'tradeId': 199517234}],\n",
      "                               'orderId': 2207186239,\n",
      "                               'orderListId': -1,\n",
      "                               'origQty': '15.00000000',\n",
      "                               'price': '0.00000000',\n",
      "                               'selfTradePreventionMode': 'EXPIRE_MAKER',\n",
      "                               'side': 'SELL',\n",
      "                               'status': 'FILLED',\n",
      "                               'symbol': 'MANAUSDT',\n",
      "                               'timeInForce': 'GTC',\n",
      "                               'transactTime': 1706105848443,\n",
      "                               'type': 'MARKET',\n",
      "                               'workingTime': 1706105848443},\n",
      "                      'msg': ''},\n",
      " 'status': 'FILLED',\n",
      " 'symbol': 'MANAUSDT'}\n"
     ]
    }
   ],
   "source": [
    "# newThread=True\n",
    "close_market5 = trade.close_market(\n",
    "    symbol='MANAUSDT',  # 产品\n",
    "    quantity=15,  # 平仓数量 (交易货币) 'all' 表示全部可用数量\n",
    "    meta={},  # 向回调函数中传递的参数字典\n",
    "    callback=callback5,  # 开仓成功触发的回调函数\n",
    "    errorback=errorback5,  # 开仓失败触发的回调函数\n",
    "\n",
    "    newThread=True,  # 是否开启一个新的线程维护这个订单\n",
    ")\n",
    "print(close_market5)\n",
    "print('-' * 30)"
   ]
  }
 ],
 "metadata": {
  "kernelspec": {
   "display_name": "Python 3 (ipykernel)",
   "language": "python",
   "name": "python3"
  },
  "language_info": {
   "codemirror_mode": {
    "name": "ipython",
    "version": 3
   },
   "file_extension": ".py",
   "mimetype": "text/x-python",
   "name": "python",
   "nbconvert_exporter": "python",
   "pygments_lexer": "ipython3",
   "version": "3.8.4"
  }
 },
 "nbformat": 4,
 "nbformat_minor": 5
}