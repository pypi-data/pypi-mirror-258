{
 "cells": [
  {
   "cell_type": "markdown",
   "id": "5f247246",
   "metadata": {},
   "source": [
    "## 1. API 现货行情接口总览"
   ]
  },
  {
   "cell_type": "markdown",
   "id": "f87bdea5",
   "metadata": {},
   "source": [
    "|方法|解释|Path|\n",
    "|:---|:---|:---|\n",
    "|get_ping|测试服务器连通性|/api/v3/ping|\n",
    "|get_time|获取服务器时间|/api/v3/time|\n",
    "|get_exchangeInfo|交易规范信息|/api/v3/exchangeInfo|\n",
    "|get_depth|深度信息|/api/v3/depth|\n",
    "|get_trades|近期成交列表|/api/v3/trades|\n",
    "|get_historicalTrades|查询历史成交|/api/v3/historicalTrades|\n",
    "|get_aggTrades|近期成交(归集)|/api/v3/aggTrades|\n",
    "|get_klines|K线数据|/api/v3/klines|\n",
    "|get_avgPrice|当前平均价格|/api/v3/avgPrice|\n",
    "|get_uiKlines|UIK线数据|/api/v3/uiKlines|\n",
    "|get_ticker_24hr|24hr 价格变动情况|/api/v3/ticker/24hr|\n",
    "|get_ticker_tradingDay|交易日行情(Ticker)|/api/v3/ticker/tradingDay|\n",
    "|get_ticker_price|最新价格|/api/v3/ticker/price|\n",
    "|get_ticker_bookTicker|当前最优挂单|/api/v3/ticker/bookTicker|\n",
    "|get_ticker|滚动窗口价格变动统计|/api/v3/ticker|"
   ]
  },
  {
   "cell_type": "markdown",
   "id": "35066669",
   "metadata": {},
   "source": [
    "## 2. 模型实例化"
   ]
  },
  {
   "cell_type": "code",
   "execution_count": 1,
   "id": "a754479a",
   "metadata": {},
   "outputs": [],
   "source": [
    "import datetime\n",
    "from binance_interface.api import SPOT\n",
    "from binance_interface.app.utils import eprint"
   ]
  },
  {
   "cell_type": "code",
   "execution_count": 2,
   "id": "d1314684",
   "metadata": {},
   "outputs": [],
   "source": [
    "# 转发：需搭建转发服务器，可参考：https://github.com/pyted/binance_resender\n",
    "proxy_host = None\n",
    "spot = SPOT(\n",
    "    proxy_host=proxy_host\n",
    ")\n",
    "market = spot.market"
   ]
  },
  {
   "cell_type": "markdown",
   "id": "9e8bd915",
   "metadata": {},
   "source": [
    "## 3. 现货实时行情"
   ]
  },
  {
   "cell_type": "markdown",
   "id": "eae4402f",
   "metadata": {},
   "source": [
    "### 3.1 当前最优挂单 get_ticker_bookTicker"
   ]
  },
  {
   "cell_type": "code",
   "execution_count": 3,
   "id": "cd8ad9c9",
   "metadata": {},
   "outputs": [
    {
     "name": "stdout",
     "output_type": "stream",
     "text": [
      "{'code': 200,\n",
      " 'data': [{'symbol': 'ETHBTC',\n",
      "           'bidPrice': '0.05540000',\n",
      "           'bidQty': '28.23540000',\n",
      "           'askPrice': '0.05541000',\n",
      "           'askQty': '15.71610000'},\n",
      "          {'symbol': 'LTCBTC',\n",
      "           'bidPrice': '0.00163500',\n",
      "           'bidQty': '21.90100000',\n",
      "           'askPrice': '0.00163600',\n",
      "           'askQty': '106.10600000'},\n",
      "          {'symbol': 'BNBBTC',\n",
      "           'bidPrice': '0.00731400',\n",
      "           'bidQty': '20.91300000',\n",
      "           'askPrice': '0.00731500',\n",
      "           'askQty': '1.82300000'},\n",
      "          {'symbol': 'NEOBTC',\n",
      "           'bidPrice': '0.00026380',\n",
      "           'bidQty': '16.21000000',\n",
      "           'askPrice': '0.00026430',\n",
      "           'askQty': '280.65000000'},\n",
      "          {'symbol': 'QTUMETH',\n",
      "           'bidPrice': '0.00126800',\n",
      "           'bidQty': '956.20000000',\n",
      "           'askPrice': '0.00127200',\n",
      "           'askQty': '142.30000000'},\n",
      "          '......'],\n",
      " 'msg': ''}\n"
     ]
    }
   ],
   "source": [
    "# 现货全部产品\n",
    "bookTicker_result = market.get_ticker_bookTicker()\n",
    "eprint(bookTicker_result, data_length=5)"
   ]
  },
  {
   "cell_type": "code",
   "execution_count": 4,
   "id": "a22415f2",
   "metadata": {},
   "outputs": [
    {
     "name": "stdout",
     "output_type": "stream",
     "text": [
      "{'code': 200,\n",
      " 'data': {'symbol': 'BTCUSDT',\n",
      "          'bidPrice': '40159.99000000',\n",
      "          'bidQty': '7.89362000',\n",
      "          'askPrice': '40160.00000000',\n",
      "          'askQty': '4.85293000'},\n",
      " 'msg': ''}\n"
     ]
    }
   ],
   "source": [
    "# 现货单个交易对\n",
    "bookTicker_result = market.get_ticker_bookTicker(symbol='BTCUSDT')\n",
    "eprint(bookTicker_result)"
   ]
  },
  {
   "cell_type": "code",
   "execution_count": 5,
   "id": "a7b53954",
   "metadata": {},
   "outputs": [
    {
     "name": "stdout",
     "output_type": "stream",
     "text": [
      "{'code': 200,\n",
      " 'data': [{'symbol': 'BTCUSDT',\n",
      "           'bidPrice': '40159.99000000',\n",
      "           'bidQty': '8.45940000',\n",
      "           'askPrice': '40160.00000000',\n",
      "           'askQty': '4.39677000'},\n",
      "          {'symbol': 'ETHUSDT',\n",
      "           'bidPrice': '2224.51000000',\n",
      "           'bidQty': '16.37630000',\n",
      "           'askPrice': '2224.52000000',\n",
      "           'askQty': '120.87570000'}],\n",
      " 'msg': ''}\n"
     ]
    }
   ],
   "source": [
    "# 现货多个交易对\n",
    "bookTicker_result = market.get_ticker_bookTicker(symbols=['BTCUSDT', 'ETHUSDT'])\n",
    "eprint(bookTicker_result)"
   ]
  },
  {
   "cell_type": "markdown",
   "id": "9877efde",
   "metadata": {},
   "source": [
    "### 3.2 最新价格 get_ticker_price"
   ]
  },
  {
   "cell_type": "code",
   "execution_count": 6,
   "id": "adcfe844",
   "metadata": {},
   "outputs": [
    {
     "name": "stdout",
     "output_type": "stream",
     "text": [
      "{'code': 200,\n",
      " 'data': [{'symbol': 'ETHBTC', 'price': '0.05539000'},\n",
      "          {'symbol': 'LTCBTC', 'price': '0.00163600'},\n",
      "          {'symbol': 'BNBBTC', 'price': '0.00731700'},\n",
      "          {'symbol': 'NEOBTC', 'price': '0.00026390'},\n",
      "          {'symbol': 'QTUMETH', 'price': '0.00126400'},\n",
      "          '......'],\n",
      " 'msg': ''}\n"
     ]
    }
   ],
   "source": [
    "# 现货全部产品\n",
    "price_result = market.get_ticker_price()\n",
    "eprint(price_result, data_length=5)"
   ]
  },
  {
   "cell_type": "code",
   "execution_count": 7,
   "id": "cb866a5a",
   "metadata": {},
   "outputs": [
    {
     "name": "stdout",
     "output_type": "stream",
     "text": [
      "{'code': 200, 'data': {'symbol': 'BTCUSDT', 'price': '40165.43000000'}, 'msg': ''}\n"
     ]
    }
   ],
   "source": [
    "# 现货单个产品\n",
    "price_result = market.get_ticker_price(symbol='BTCUSDT')\n",
    "eprint(price_result)"
   ]
  },
  {
   "cell_type": "markdown",
   "id": "003d4154",
   "metadata": {},
   "source": [
    "### 3.3 24hr价格变动情况 get_ticker_24hr"
   ]
  },
  {
   "cell_type": "code",
   "execution_count": 8,
   "id": "a6d44ca7",
   "metadata": {},
   "outputs": [
    {
     "name": "stdout",
     "output_type": "stream",
     "text": [
      "{'code': 200,\n",
      " 'data': [{'symbol': 'ETHBTC',\n",
      "           'priceChange': '0.00002000',\n",
      "           'priceChangePercent': '0.036',\n",
      "           'weightedAvgPrice': '0.05546431',\n",
      "           'prevClosePrice': '0.05538000',\n",
      "           '...': '......'},\n",
      "          {'symbol': 'LTCBTC',\n",
      "           'priceChange': '-0.00000400',\n",
      "           'priceChangePercent': '-0.244',\n",
      "           'weightedAvgPrice': '0.00163939',\n",
      "           'prevClosePrice': '0.00164000',\n",
      "           '...': '......'},\n",
      "          {'symbol': 'BNBBTC',\n",
      "           'priceChange': '0.00008800',\n",
      "           'priceChangePercent': '1.217',\n",
      "           'weightedAvgPrice': '0.00731215',\n",
      "           'prevClosePrice': '0.00723000',\n",
      "           '...': '......'},\n",
      "          {'symbol': 'NEOBTC',\n",
      "           'priceChange': '0.00000240',\n",
      "           'priceChangePercent': '0.918',\n",
      "           'weightedAvgPrice': '0.00026346',\n",
      "           'prevClosePrice': '0.00026150',\n",
      "           '...': '......'},\n",
      "          {'symbol': 'QTUMETH',\n",
      "           'priceChange': '-0.00001600',\n",
      "           'priceChangePercent': '-1.250',\n",
      "           'weightedAvgPrice': '0.00126355',\n",
      "           'prevClosePrice': '0.00128700',\n",
      "           '...': '......'},\n",
      "          '......'],\n",
      " 'msg': ''}\n"
     ]
    }
   ],
   "source": [
    "# 现货全部产品\n",
    "hr24_result = market.get_ticker_24hr()\n",
    "eprint(hr24_result, data_length=5)"
   ]
  },
  {
   "cell_type": "code",
   "execution_count": 9,
   "id": "30064196",
   "metadata": {},
   "outputs": [
    {
     "name": "stdout",
     "output_type": "stream",
     "text": [
      "{'code': 200,\n",
      " 'data': {'symbol': 'BTCUSDT',\n",
      "          'priceChange': '201.46000000',\n",
      "          'priceChangePercent': '0.504',\n",
      "          'weightedAvgPrice': '39936.01998935',\n",
      "          'prevClosePrice': '39961.57000000',\n",
      "          'lastPrice': '40163.04000000',\n",
      "          'lastQty': '0.10067000',\n",
      "          'bidPrice': '40163.03000000',\n",
      "          'bidQty': '2.46034000',\n",
      "          'askPrice': '40163.04000000',\n",
      "          'askQty': '4.41599000',\n",
      "          'openPrice': '39961.58000000',\n",
      "          'highPrice': '40300.24000000',\n",
      "          'lowPrice': '39550.00000000',\n",
      "          'volume': '30537.50491000',\n",
      "          'quoteVolume': '1219546406.51072070',\n",
      "          'openTime': 1706158866387,\n",
      "          'closeTime': 1706245266387,\n",
      "          'firstId': 3388774536,\n",
      "          'lastId': 3390061603,\n",
      "          'count': 1287068},\n",
      " 'msg': ''}\n"
     ]
    }
   ],
   "source": [
    "# 现货单个产品\n",
    "hr24_result = market.get_ticker_24hr(symbol='BTCUSDT')\n",
    "eprint(hr24_result)"
   ]
  },
  {
   "cell_type": "markdown",
   "id": "71a3fe03",
   "metadata": {},
   "source": [
    "## 4. 历史K线 get_klines"
   ]
  },
  {
   "cell_type": "code",
   "execution_count": 10,
   "id": "b20bdf21",
   "metadata": {},
   "outputs": [
    {
     "name": "stdout",
     "output_type": "stream",
     "text": [
      "2023-01-01 00:00:00 1672502400000\n",
      "2023-01-01 00:05:00 1672502700000\n"
     ]
    }
   ],
   "source": [
    "# 测试时间\n",
    "startDatetime = '2023-01-01 00:00:00'\n",
    "endDatetime = '2023-01-01 00:05:00'\n",
    "startTime = int(datetime.datetime.strptime(startDatetime, '%Y-%m-%d %H:%M:%S').timestamp() * 1000)\n",
    "endTime = int(datetime.datetime.strptime(endDatetime, '%Y-%m-%d %H:%M:%S').timestamp() * 1000)\n",
    "\n",
    "print(startDatetime, startTime)\n",
    "print(endDatetime, endTime)"
   ]
  },
  {
   "cell_type": "code",
   "execution_count": 11,
   "id": "f9a7424a",
   "metadata": {},
   "outputs": [
    {
     "name": "stdout",
     "output_type": "stream",
     "text": [
      "{'code': 200,\n",
      " 'data': [[1672502640000, '16592.96000000', '16593.36000000', '16591.20000000', '16591.91000000', '......'],\n",
      "          [1672502700000, '16591.91000000', '16593.10000000', '16591.09000000', '16591.93000000', '......']],\n",
      " 'msg': ''}\n"
     ]
    }
   ],
   "source": [
    "# 仅给定终止时间\n",
    "kline_result = market.get_klines(symbol='BTCUSDT', interval='1m', endTime=endTime, limit=2)\n",
    "eprint(kline_result)"
   ]
  },
  {
   "cell_type": "code",
   "execution_count": 12,
   "id": "c3b8093f",
   "metadata": {},
   "outputs": [
    {
     "name": "stdout",
     "output_type": "stream",
     "text": [
      "{'code': 200,\n",
      " 'data': [[1672502400000, '16590.10000000', '16596.97000000', '16590.10000000', '16595.81000000', '......'],\n",
      "          [1672502460000, '16596.09000000', '16597.31000000', '16593.10000000', '16596.20000000', '......'],\n",
      "          [1672502520000, '16596.58000000', '16597.77000000', '16595.22000000', '16596.62000000', '......'],\n",
      "          [1672502580000, '16596.62000000', '16597.06000000', '16591.89000000', '16592.96000000', '......'],\n",
      "          [1672502640000, '16592.96000000', '16593.36000000', '16591.20000000', '16591.91000000', '......'],\n",
      "          [1672502700000, '16591.91000000', '16593.10000000', '16591.09000000', '16591.93000000', '......']],\n",
      " 'msg': ''}\n"
     ]
    }
   ],
   "source": [
    "# 仅给定起始和终止时间\n",
    "kline_result = market.get_klines(\n",
    "    symbol='BTCUSDT',\n",
    "    interval='1m',\n",
    "    startTime=startTime,  # 包括startTime\n",
    "    endTime=endTime,  # 包括endTime\n",
    ")\n",
    "eprint(kline_result)"
   ]
  },
  {
   "cell_type": "markdown",
   "id": "1ff1b76b",
   "metadata": {},
   "source": [
    "## 5. 深度信息 get_depth"
   ]
  },
  {
   "cell_type": "code",
   "execution_count": 13,
   "id": "b8aa843a",
   "metadata": {},
   "outputs": [
    {
     "name": "stdout",
     "output_type": "stream",
     "text": [
      "{'code': 200,\n",
      " 'data': {'lastUpdateId': 42474354585,\n",
      "          'bids': [['40150.79000000', '0.38907000'],\n",
      "                   ['40150.55000000', '0.00021000'],\n",
      "                   ['40150.33000000', '0.00034000'],\n",
      "                   ['40150.31000000', '0.00021000'],\n",
      "                   ['40150.07000000', '0.00021000']],\n",
      "          'asks': [['40150.80000000', '4.19536000'],\n",
      "                   ['40150.91000000', '1.84369000'],\n",
      "                   ['40151.03000000', '0.00021000'],\n",
      "                   ['40151.04000000', '0.08007000'],\n",
      "                   ['40151.27000000', '0.00021000']]},\n",
      " 'msg': ''}\n"
     ]
    }
   ],
   "source": [
    "depth_result = market.get_depth(symbol='BTCUSDT', limit=5)\n",
    "eprint(depth_result)"
   ]
  },
  {
   "cell_type": "markdown",
   "id": "ff607ff3",
   "metadata": {},
   "source": [
    "## 6. 成交查询"
   ]
  },
  {
   "cell_type": "markdown",
   "id": "47d183d6",
   "metadata": {},
   "source": [
    "### 6.1 近期成交列表 get_trades"
   ]
  },
  {
   "cell_type": "code",
   "execution_count": 14,
   "id": "d32cb807",
   "metadata": {},
   "outputs": [
    {
     "name": "stdout",
     "output_type": "stream",
     "text": [
      "{'code': 200,\n",
      " 'data': [{'id': 3390062025,\n",
      "           'price': '40150.01000000',\n",
      "           'qty': '0.00038000',\n",
      "           'quoteQty': '15.25700380',\n",
      "           'time': 1706245291151,\n",
      "           '...': '......'},\n",
      "          {'id': 3390062026,\n",
      "           'price': '40150.01000000',\n",
      "           'qty': '0.00051000',\n",
      "           'quoteQty': '20.47650510',\n",
      "           'time': 1706245291172,\n",
      "           '...': '......'},\n",
      "          {'id': 3390062027,\n",
      "           'price': '40150.01000000',\n",
      "           'qty': '0.00030000',\n",
      "           'quoteQty': '12.04500300',\n",
      "           'time': 1706245291223,\n",
      "           '...': '......'},\n",
      "          {'id': 3390062028,\n",
      "           'price': '40150.01000000',\n",
      "           'qty': '0.00028000',\n",
      "           'quoteQty': '11.24200280',\n",
      "           'time': 1706245291246,\n",
      "           '...': '......'},\n",
      "          {'id': 3390062029,\n",
      "           'price': '40150.01000000',\n",
      "           'qty': '0.00029000',\n",
      "           'quoteQty': '11.64350290',\n",
      "           'time': 1706245291472,\n",
      "           '...': '......'}],\n",
      " 'msg': ''}\n"
     ]
    }
   ],
   "source": [
    "trades_result = market.get_trades(symbol='BTCUSDT', limit=5)\n",
    "eprint(trades_result)"
   ]
  },
  {
   "cell_type": "markdown",
   "id": "039d9458",
   "metadata": {},
   "source": [
    "### 6.2  查询历史成交 get_historicalTrades"
   ]
  },
  {
   "cell_type": "code",
   "execution_count": 15,
   "id": "336a7c27",
   "metadata": {},
   "outputs": [
    {
     "name": "stdout",
     "output_type": "stream",
     "text": [
      "{'code': 200,\n",
      " 'data': [{'id': 3390062078,\n",
      "           'price': '40150.01000000',\n",
      "           'qty': '0.00920000',\n",
      "           'quoteQty': '369.38009200',\n",
      "           'time': 1706245293746,\n",
      "           '...': '......'},\n",
      "          {'id': 3390062079,\n",
      "           'price': '40150.01000000',\n",
      "           'qty': '0.00920000',\n",
      "           'quoteQty': '369.38009200',\n",
      "           'time': 1706245293748,\n",
      "           '...': '......'},\n",
      "          {'id': 3390062080,\n",
      "           'price': '40150.01000000',\n",
      "           'qty': '0.00030000',\n",
      "           'quoteQty': '12.04500300',\n",
      "           'time': 1706245293852,\n",
      "           '...': '......'},\n",
      "          {'id': 3390062081,\n",
      "           'price': '40150.00000000',\n",
      "           'qty': '0.01623000',\n",
      "           'quoteQty': '651.63450000',\n",
      "           'time': 1706245293918,\n",
      "           '...': '......'},\n",
      "          {'id': 3390062082,\n",
      "           'price': '40150.01000000',\n",
      "           'qty': '0.00030000',\n",
      "           'quoteQty': '12.04500300',\n",
      "           'time': 1706245293957,\n",
      "           '...': '......'}],\n",
      " 'msg': ''}\n"
     ]
    }
   ],
   "source": [
    "historicalTrades_result = market.get_historicalTrades(symbol='BTCUSDT', limit=5)\n",
    "eprint(historicalTrades_result)"
   ]
  },
  {
   "cell_type": "markdown",
   "id": "dc5cecb9",
   "metadata": {},
   "source": [
    "### 6.3  近期成交(归集) get_aggTrades "
   ]
  },
  {
   "cell_type": "code",
   "execution_count": 16,
   "id": "98bf5ea5",
   "metadata": {},
   "outputs": [
    {
     "name": "stdout",
     "output_type": "stream",
     "text": [
      "{'code': 200,\n",
      " 'data': [{'a': 2843850936,\n",
      "           'p': '40140.76000000',\n",
      "           'q': '0.00181000',\n",
      "           'f': 3390062212,\n",
      "           'l': 3390062212,\n",
      "           '...': '......'},\n",
      "          {'a': 2843850937,\n",
      "           'p': '40140.76000000',\n",
      "           'q': '0.00020000',\n",
      "           'f': 3390062213,\n",
      "           'l': 3390062213,\n",
      "           '...': '......'},\n",
      "          {'a': 2843850938,\n",
      "           'p': '40140.77000000',\n",
      "           'q': '0.00074000',\n",
      "           'f': 3390062214,\n",
      "           'l': 3390062214,\n",
      "           '...': '......'},\n",
      "          {'a': 2843850939,\n",
      "           'p': '40140.77000000',\n",
      "           'q': '0.00022000',\n",
      "           'f': 3390062215,\n",
      "           'l': 3390062215,\n",
      "           '...': '......'},\n",
      "          {'a': 2843850940,\n",
      "           'p': '40140.77000000',\n",
      "           'q': '0.00075000',\n",
      "           'f': 3390062216,\n",
      "           'l': 3390062216,\n",
      "           '...': '......'}],\n",
      " 'msg': ''}\n"
     ]
    }
   ],
   "source": [
    "aggTrades_result = market.get_aggTrades(symbol='BTCUSDT', limit=5)\n",
    "eprint(aggTrades_result)"
   ]
  },
  {
   "cell_type": "markdown",
   "id": "f66f45d2",
   "metadata": {},
   "source": [
    "## 6. 交易规范信息 get_exchangeInfo"
   ]
  },
  {
   "cell_type": "code",
   "execution_count": 17,
   "id": "5062cf95",
   "metadata": {},
   "outputs": [
    {
     "name": "stdout",
     "output_type": "stream",
     "text": [
      "{'code': 200,\n",
      " 'data': {'timezone': 'UTC',\n",
      "          'serverTime': 1706245351986,\n",
      "          'rateLimits': [{'rateLimitType': 'REQUEST_WEIGHT', 'interval': 'MINUTE', 'intervalNum': 1, 'limit': 6000},\n",
      "                         {'rateLimitType': 'ORDERS', 'interval': 'SECOND', 'intervalNum': 10, 'limit': 100},\n",
      "                         {'rateLimitType': 'ORDERS', 'interval': 'DAY', 'intervalNum': 1, 'limit': 200000},\n",
      "                         {'rateLimitType': 'RAW_REQUESTS', 'interval': 'MINUTE', 'intervalNum': 5, 'limit': 61000}],\n",
      "          'exchangeFilters': [],\n",
      "          'symbols': [{'symbol': 'ETHBTC',\n",
      "                       'status': 'TRADING',\n",
      "                       'baseAsset': 'ETH',\n",
      "                       'baseAssetPrecision': 8,\n",
      "                       'quoteAsset': 'BTC',\n",
      "                       '...': '......'},\n",
      "                      {'symbol': 'LTCBTC',\n",
      "                       'status': 'TRADING',\n",
      "                       'baseAsset': 'LTC',\n",
      "                       'baseAssetPrecision': 8,\n",
      "                       'quoteAsset': 'BTC',\n",
      "                       '...': '......'},\n",
      "                      {'symbol': 'BNBBTC',\n",
      "                       'status': 'TRADING',\n",
      "                       'baseAsset': 'BNB',\n",
      "                       'baseAssetPrecision': 8,\n",
      "                       'quoteAsset': 'BTC',\n",
      "                       '...': '......'},\n",
      "                      {'symbol': 'NEOBTC',\n",
      "                       'status': 'TRADING',\n",
      "                       'baseAsset': 'NEO',\n",
      "                       'baseAssetPrecision': 8,\n",
      "                       'quoteAsset': 'BTC',\n",
      "                       '...': '......'},\n",
      "                      {'symbol': 'QTUMETH',\n",
      "                       'status': 'TRADING',\n",
      "                       'baseAsset': 'QTUM',\n",
      "                       'baseAssetPrecision': 8,\n",
      "                       'quoteAsset': 'ETH',\n",
      "                       '...': '......'},\n",
      "                      '......']},\n",
      " 'msg': ''}\n"
     ]
    }
   ],
   "source": [
    "exchangeInfo_result = market.get_exchangeInfo()\n",
    "eprint(exchangeInfo_result)"
   ]
  }
 ],
 "metadata": {
  "kernelspec": {
   "display_name": "Python 3 (ipykernel)",
   "language": "python",
   "name": "python3"
  },
  "language_info": {
   "codemirror_mode": {
    "name": "ipython",
    "version": 3
   },
   "file_extension": ".py",
   "mimetype": "text/x-python",
   "name": "python",
   "nbconvert_exporter": "python",
   "pygments_lexer": "ipython3",
   "version": "3.8.4"
  }
 },
 "nbformat": 4,
 "nbformat_minor": 5
}
