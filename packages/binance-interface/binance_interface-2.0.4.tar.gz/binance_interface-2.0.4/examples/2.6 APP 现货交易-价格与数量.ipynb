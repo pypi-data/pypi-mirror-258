{
 "cells": [
  {
   "cell_type": "markdown",
   "id": "e0159046",
   "metadata": {},
   "source": [
    "## 1. APP 现货交易-价格与数量函数总览"
   ]
  },
  {
   "cell_type": "markdown",
   "id": "83103087",
   "metadata": {},
   "source": [
    "|方法|解释|\n",
    "|:---|:---|\n",
    "|round_quantity|下单数量圆整|\n",
    "|round_price|价格圆整|\n",
    "|get_quantity|根据产品的开仓金额、杠杆倍数、开仓价格获取购买数量|\n",
    "|quantity_to_f|将下单数量转化为字符串|\n",
    "|price_to_f|将价格转化为字符串|"
   ]
  },
  {
   "cell_type": "markdown",
   "id": "88249a61",
   "metadata": {},
   "source": [
    "## 2. 模型实例化"
   ]
  },
  {
   "cell_type": "code",
   "execution_count": 1,
   "id": "da0bee75",
   "metadata": {},
   "outputs": [],
   "source": [
    "from binance_interface.app import BinanceSPOT\n",
    "from binance_interface.app.utils import eprint"
   ]
  },
  {
   "cell_type": "code",
   "execution_count": 2,
   "id": "dfbb1e93",
   "metadata": {},
   "outputs": [],
   "source": [
    "# 转发：需搭建转发服务器，可参考：https://github.com/pyted/binance_resender\n",
    "proxy_host = None\n",
    "key = 'xxxx'\n",
    "secret = 'xxxx'\n",
    "\n",
    "binanceSPOT = BinanceSPOT(\n",
    "    key=key, secret=secret,\n",
    "    proxy_host=proxy_host\n",
    ")\n",
    "trade = binanceSPOT.trade"
   ]
  },
  {
   "cell_type": "markdown",
   "id": "6352116d",
   "metadata": {},
   "source": [
    "## 3. 下单数量圆整 round_quantity"
   ]
  },
  {
   "cell_type": "code",
   "execution_count": 3,
   "id": "76c816d4",
   "metadata": {},
   "outputs": [
    {
     "name": "stdout",
     "output_type": "stream",
     "text": [
      "{'code': 200, 'data': 0.12345, 'msg': ''}\n"
     ]
    }
   ],
   "source": [
    "# 以产品数量的最小精度向下取圆整\n",
    "quantity_result = trade.round_quantity(\n",
    "    symbol='BTCUSDT',\n",
    "    quantity=0.12345678912345,\n",
    ")\n",
    "print(quantity_result)"
   ]
  },
  {
   "cell_type": "markdown",
   "id": "8f848e3f",
   "metadata": {},
   "source": [
    "## 4. 价格圆整 round_price"
   ]
  },
  {
   "cell_type": "code",
   "execution_count": 4,
   "id": "2d37074b",
   "metadata": {},
   "outputs": [
    {
     "name": "stdout",
     "output_type": "stream",
     "text": [
      "{'code': 200, 'data': 12345.68, 'msg': ''}\n"
     ]
    }
   ],
   "source": [
    "# 以产品价格的最小精度取圆整\n",
    "price_result = trade.round_price(\n",
    "    price=12345.67891234,\n",
    "    symbol='BTCUSDT',\n",
    "    type='CEIL',  # 向上取圆整\n",
    ")\n",
    "print(price_result)"
   ]
  },
  {
   "cell_type": "code",
   "execution_count": 5,
   "id": "df74c21e",
   "metadata": {},
   "outputs": [
    {
     "name": "stdout",
     "output_type": "stream",
     "text": [
      "{'code': 200, 'data': 12345.67, 'msg': ''}\n"
     ]
    }
   ],
   "source": [
    "# 以产品价格的最小精度取圆整\n",
    "price_result = trade.round_price(\n",
    "    price=12345.67891234,\n",
    "    symbol='BTCUSDT',\n",
    "    type='FLOOR',  # 向下取圆整\n",
    ")\n",
    "print(price_result)"
   ]
  },
  {
   "cell_type": "markdown",
   "id": "26193de1",
   "metadata": {},
   "source": [
    "## 5. 根据产品的开仓金额、杠杆倍数、开仓价格获取购买数量 get_quantity"
   ]
  },
  {
   "cell_type": "code",
   "execution_count": 6,
   "id": "08257c00",
   "metadata": {},
   "outputs": [
    {
     "name": "stdout",
     "output_type": "stream",
     "text": [
      "{'code': 200, 'data': 0.01885, 'msg': ''}\n"
     ]
    }
   ],
   "source": [
    "quantity_result = trade.get_quantity(\n",
    "    openPrice=21212.12,\n",
    "    openMoney=400,\n",
    "    symbol='BTCUSDT',\n",
    ")\n",
    "print(quantity_result)"
   ]
  },
  {
   "cell_type": "markdown",
   "id": "5854236c",
   "metadata": {},
   "source": [
    "## 6. 将下单数量转化为字符串 quantity_to_f"
   ]
  },
  {
   "cell_type": "code",
   "execution_count": 7,
   "id": "c28ca261",
   "metadata": {},
   "outputs": [
    {
     "name": "stdout",
     "output_type": "stream",
     "text": [
      "{'code': 200, 'data': '0.01885', 'msg': ''}\n"
     ]
    }
   ],
   "source": [
    "quantity_to_f_result = trade.quantity_to_f(\n",
    "    quantity=0.01885,\n",
    "    symbol='BTCUSDT',\n",
    ")\n",
    "print(quantity_to_f_result)"
   ]
  },
  {
   "cell_type": "markdown",
   "id": "4922ce6c",
   "metadata": {},
   "source": [
    "## 7. 将价格转化为字符串 price_to_f"
   ]
  },
  {
   "cell_type": "code",
   "execution_count": 8,
   "id": "b1833f1d",
   "metadata": {},
   "outputs": [
    {
     "name": "stdout",
     "output_type": "stream",
     "text": [
      "{'code': 200, 'data': '12345.12', 'msg': ''}\n"
     ]
    }
   ],
   "source": [
    "price_to_f_result = trade.price_to_f(\n",
    "    price=12345.12,\n",
    "    symbol='BTCUSDT',\n",
    ")\n",
    "print(price_to_f_result)"
   ]
  }
 ],
 "metadata": {
  "kernelspec": {
   "display_name": "Python 3 (ipykernel)",
   "language": "python",
   "name": "python3"
  },
  "language_info": {
   "codemirror_mode": {
    "name": "ipython",
    "version": 3
   },
   "file_extension": ".py",
   "mimetype": "text/x-python",
   "name": "python",
   "nbconvert_exporter": "python",
   "pygments_lexer": "ipython3",
   "version": "3.8.4"
  }
 },
 "nbformat": 4,
 "nbformat_minor": 5
}
