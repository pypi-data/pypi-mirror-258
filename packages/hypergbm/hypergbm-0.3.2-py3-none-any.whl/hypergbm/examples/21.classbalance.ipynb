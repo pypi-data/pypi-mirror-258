{
 "cells": [
  {
   "cell_type": "markdown",
   "id": "50ed32de",
   "metadata": {},
   "source": [
    "## Prepare train_data and test_data"
   ]
  },
  {
   "cell_type": "code",
   "execution_count": 1,
   "id": "b3b0c7d4",
   "metadata": {},
   "outputs": [],
   "source": [
    "import pandas as pd\n",
    "from sklearn.model_selection import train_test_split\n",
    "from hypergbm import make_experiment\n",
    "from sklearn.metrics import recall_score"
   ]
  },
  {
   "cell_type": "code",
   "execution_count": 2,
   "id": "913bfc32",
   "metadata": {},
   "outputs": [],
   "source": [
    "train_data = pd.read_csv('datasets/Bank/train.csv.gz')\n",
    "test_data = pd.read_csv('datasets/Bank/test.csv.gz')\n",
    "X_train = train_data.copy()\n",
    "y_train = X_train.pop('deposit')\n",
    "X_test = test_data.copy()\n",
    "y_test = X_test.pop('deposit')"
   ]
  },
  {
   "cell_type": "markdown",
   "id": "8b413f51",
   "metadata": {},
   "source": [
    "# The distribution of y"
   ]
  },
  {
   "cell_type": "code",
   "execution_count": 3,
   "id": "13e548d4",
   "metadata": {},
   "outputs": [
    {
     "name": "stdout",
     "output_type": "stream",
     "text": [
      "The distribution of y_train\n",
      "no     31918\n",
      "yes     4250\n",
      "Name: deposit, dtype: int64\n",
      "\n",
      "\n",
      "The distribution of y_test\n",
      "no     8004\n",
      "yes    1039\n",
      "Name: deposit, dtype: int64\n",
      "\n",
      "\n"
     ]
    }
   ],
   "source": [
    "labels_train = y_train.value_counts()\n",
    "print('The distribution of y_train\\n{}\\n\\n'.format(labels_train))\n",
    "labels_test = y_test.value_counts()\n",
    "print('The distribution of y_test\\n{}\\n\\n'.format(labels_test))"
   ]
  },
  {
   "cell_type": "markdown",
   "id": "fc84256e",
   "metadata": {},
   "source": [
    "# Without class_balancing"
   ]
  },
  {
   "cell_type": "code",
   "execution_count": 4,
   "id": "c9afdb67",
   "metadata": {
    "scrolled": true
   },
   "outputs": [],
   "source": [
    "experiment = make_experiment(train_data.copy(),target='deposit',\n",
    "                             random_state=8888,max_trials=10,\n",
    "                             class_balancing=None)\n",
    "estimator = experiment.run()"
   ]
  },
  {
   "cell_type": "code",
   "execution_count": 5,
   "id": "83c39212",
   "metadata": {},
   "outputs": [
    {
     "data": {
      "text/plain": [
       "0.45813282001924927"
      ]
     },
     "execution_count": 5,
     "metadata": {},
     "output_type": "execute_result"
    }
   ],
   "source": [
    "y_pred = estimator.predict(X_test)\n",
    "score = recall_score(y_test,y_pred,pos_label='yes')\n",
    "score"
   ]
  },
  {
   "cell_type": "markdown",
   "id": "4fee1c7a",
   "metadata": {},
   "source": [
    "# Set class_balancing='ClassWeight'"
   ]
  },
  {
   "cell_type": "code",
   "execution_count": 6,
   "id": "ad9abe14",
   "metadata": {},
   "outputs": [
    {
     "data": {
      "text/plain": [
       "0.7189605389797883"
      ]
     },
     "execution_count": 6,
     "metadata": {},
     "output_type": "execute_result"
    }
   ],
   "source": [
    "experiment = make_experiment(train_data.copy(), target='deposit',\n",
    "                             random_state=8888,max_trials=10,\n",
    "                              class_balancing='ClassWeight',\n",
    "                             )\n",
    "estimator = experiment.run()\n",
    "y_pred = estimator.predict(X_test)\n",
    "score = recall_score(y_test,y_pred,pos_label='yes')\n",
    "score"
   ]
  },
  {
   "cell_type": "markdown",
   "id": "fed3db22",
   "metadata": {},
   "source": [
    "#  Set class_balancing='RandomOverSampler'"
   ]
  },
  {
   "cell_type": "code",
   "execution_count": 7,
   "id": "70d4b018",
   "metadata": {},
   "outputs": [
    {
     "data": {
      "text/plain": [
       "0.6862367661212705"
      ]
     },
     "execution_count": 7,
     "metadata": {},
     "output_type": "execute_result"
    }
   ],
   "source": [
    "experiment = make_experiment(train_data.copy(), target='deposit',\n",
    "                             random_state=8888,max_trials=10,\n",
    "                              class_balancing='RandomOverSampler',\n",
    "                             )\n",
    "estimator = experiment.run()\n",
    "y_pred = estimator.predict(X_test)\n",
    "score = recall_score(y_test,y_pred,pos_label='yes')\n",
    "score"
   ]
  },
  {
   "cell_type": "markdown",
   "id": "aad451ca",
   "metadata": {},
   "source": [
    "#  Set class_balancing='RandomUnderSampler'"
   ]
  },
  {
   "cell_type": "code",
   "execution_count": 8,
   "id": "0d48441d",
   "metadata": {},
   "outputs": [
    {
     "data": {
      "text/plain": [
       "0.8931665062560153"
      ]
     },
     "execution_count": 8,
     "metadata": {},
     "output_type": "execute_result"
    }
   ],
   "source": [
    "experiment = make_experiment(train_data.copy(), target='deposit',\n",
    "                             random_state=8888,max_trials=10,\n",
    "                              class_balancing='RandomUnderSampler',\n",
    "                             )\n",
    "estimator = experiment.run()\n",
    "y_pred = estimator.predict(X_test)\n",
    "score = recall_score(y_test,y_pred,pos_label='yes')\n",
    "score"
   ]
  },
  {
   "cell_type": "markdown",
   "id": "64c56a55",
   "metadata": {},
   "source": [
    "#  More choices of class_balancing"
   ]
  },
  {
   "cell_type": "code",
   "execution_count": 9,
   "id": "29875b5d",
   "metadata": {},
   "outputs": [
    {
     "data": {
      "text/plain": [
       "0.7314725697786333"
      ]
     },
     "execution_count": 9,
     "metadata": {},
     "output_type": "execute_result"
    }
   ],
   "source": [
    "#possible values of class_balancing:'SMOTE'↑,'ADASYN'↑,'NearMiss'↓,'TomeksLinks'↓\n",
    "experiment = make_experiment(train_data.copy(), target='deposit',\n",
    "                             random_state=8888,max_trials=10,\n",
    "                             class_balancing='SMOTE',\n",
    "                             )\n",
    "estimator = experiment.run()\n",
    "y_pred = estimator.predict(X_test)\n",
    "score = recall_score(y_test,y_pred,pos_label='yes')\n",
    "score"
   ]
  },
  {
   "cell_type": "code",
   "execution_count": null,
   "id": "119d7700-6c8c-4844-97bc-6abd7f33145c",
   "metadata": {},
   "outputs": [],
   "source": []
  }
 ],
 "metadata": {
  "kernelspec": {
   "display_name": "Python 3 (ipykernel)",
   "language": "python",
   "name": "python3"
  },
  "language_info": {
   "codemirror_mode": {
    "name": "ipython",
    "version": 3
   },
   "file_extension": ".py",
   "mimetype": "text/x-python",
   "name": "python",
   "nbconvert_exporter": "python",
   "pygments_lexer": "ipython3",
   "version": "3.8.12"
  }
 },
 "nbformat": 4,
 "nbformat_minor": 5
}
