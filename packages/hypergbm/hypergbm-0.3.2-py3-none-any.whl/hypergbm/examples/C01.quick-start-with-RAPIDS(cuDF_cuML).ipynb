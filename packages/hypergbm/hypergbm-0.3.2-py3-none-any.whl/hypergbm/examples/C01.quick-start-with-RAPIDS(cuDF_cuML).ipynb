{
 "cells": [
  {
   "cell_type": "markdown",
   "id": "8467075a-b4a9-4305-99bf-3bbfae17c107",
   "metadata": {},
   "source": [
    "## Check software and hardware"
   ]
  },
  {
   "cell_type": "code",
   "execution_count": 1,
   "id": "f5549601-c4db-4e24-be27-5438e57cb1a0",
   "metadata": {},
   "outputs": [],
   "source": [
    "import cudf\n",
    "import cuml\n",
    "import cupy\n",
    "\n",
    "assert cupy.cuda.is_available(), 'CUDA not ready!'"
   ]
  },
  {
   "cell_type": "code",
   "execution_count": null,
   "id": "179df87e-148f-409a-ab6c-ac6a0c954b6f",
   "metadata": {},
   "outputs": [],
   "source": []
  },
  {
   "cell_type": "markdown",
   "id": "3e04025a",
   "metadata": {},
   "source": [
    "## Prepare train_data and test_data"
   ]
  },
  {
   "cell_type": "code",
   "execution_count": 2,
   "id": "90e59bf3-da64-453b-a199-38ed3bb0697b",
   "metadata": {},
   "outputs": [],
   "source": [
    "import pandas as pd\n",
    "from sklearn import datasets\n",
    "from sklearn.model_selection import train_test_split"
   ]
  },
  {
   "cell_type": "code",
   "execution_count": 3,
   "id": "21254360-c3aa-4cd5-91d0-89b7559532fa",
   "metadata": {},
   "outputs": [],
   "source": [
    "X,y = datasets.load_breast_cancer(as_frame=True,return_X_y=True)\n",
    "X_train,X_test,y_train,y_test = train_test_split(X,y,train_size=0.7,random_state=335)"
   ]
  },
  {
   "cell_type": "code",
   "execution_count": 4,
   "id": "e096753e-a581-4d4c-a96b-ff7d0492c681",
   "metadata": {},
   "outputs": [],
   "source": [
    "train_data = pd.concat([X_train,y_train],axis=1)\n",
    "\n",
    "train_data_cu = cudf.from_pandas(train_data)\n",
    "X_test_cu=cudf.from_pandas(X_test)\n",
    "y_test_cu=cudf.from_pandas(y_test)"
   ]
  },
  {
   "cell_type": "markdown",
   "id": "30825862-d3a4-466d-a0f8-e8a6228dd4e5",
   "metadata": {},
   "source": [
    "## Make HyperGBM experiment with cuDF dataframe and run it"
   ]
  },
  {
   "cell_type": "code",
   "execution_count": 5,
   "id": "0afe5742",
   "metadata": {},
   "outputs": [
    {
     "name": "stdout",
     "output_type": "stream",
     "text": [
      "CPU times: user 34.4 s, sys: 5.7 s, total: 40.1 s\n",
      "Wall time: 14.4 s\n"
     ]
    }
   ],
   "source": [
    "%%time\n",
    "from hypergbm import make_experiment\n",
    "\n",
    "experiment = make_experiment(train_data_cu, target='target', reward_metric='precision')\n",
    "estimator = experiment.run()"
   ]
  },
  {
   "cell_type": "code",
   "execution_count": 6,
   "id": "2593d656",
   "metadata": {},
   "outputs": [
    {
     "data": {
      "text/plain": [
       "LocalizablePipeline(steps=[('data_clean',\n",
       "                            DataCleanStep(cv=True,\n",
       "                                          data_cleaner_args={'correct_object_dtype': True,\n",
       "                                                             'drop_columns': None,\n",
       "                                                             'drop_constant_columns': True,\n",
       "                                                             'drop_duplicated_columns': False,\n",
       "                                                             'drop_idness_columns': True,\n",
       "                                                             'drop_label_nan_rows': True,\n",
       "                                                             'int_convert_to': 'float',\n",
       "                                                             'nan_chars': None,\n",
       "                                                             'reduce_mem_usage': False,\n",
       "                                                             'reserve_columns': None},\n",
       "                                          name='data_cle...\n",
       "                            CumlGreedyEnsemble(weight=[1.0, 0.0, 0.0, 0.0, 0.0, 0.0, 0.0, 0.0, 0.0, 0.0], scores=[0.9753086419753086, 0.9753086419753086, 0.9753086419753086, 0.9753086419753086, 0.9753086419753086, 0.9753086419753086, 0.9753086419753086, 0.9753086419753086, 0.9753086419753086, 0.9753086419753086, 0.9753086419753086, 0.9753086419753086, 0.9753086419753086, 0.9753086419753086, 0.9753086419753086, 0.9753086419753086, 0.9753086419753086, 0.9753086419753086, 0.9753086419753086, 0.9753086419753086]))])"
      ]
     },
     "execution_count": 6,
     "metadata": {},
     "output_type": "execute_result"
    }
   ],
   "source": [
    "estimator"
   ]
  },
  {
   "cell_type": "code",
   "execution_count": null,
   "id": "e9c970c4",
   "metadata": {},
   "outputs": [],
   "source": []
  },
  {
   "cell_type": "markdown",
   "id": "87ea03ca",
   "metadata": {},
   "source": [
    "## Export the trained model"
   ]
  },
  {
   "cell_type": "code",
   "execution_count": 7,
   "id": "089bc603",
   "metadata": {},
   "outputs": [],
   "source": [
    "import pickle\n",
    "with open('model.pkl','wb') as f:\n",
    "    pickle.dump( estimator,f)"
   ]
  },
  {
   "cell_type": "code",
   "execution_count": null,
   "id": "ab3de826-1f55-4741-998c-d3b8504ebb5b",
   "metadata": {},
   "outputs": [],
   "source": []
  },
  {
   "cell_type": "markdown",
   "id": "92dec730",
   "metadata": {},
   "source": [
    "## Scoring with cuML"
   ]
  },
  {
   "cell_type": "code",
   "execution_count": 8,
   "id": "40154324-a0c7-42fb-9f85-c7bb63ce1ffa",
   "metadata": {},
   "outputs": [
    {
     "data": {
      "text/plain": [
       "0.9649122953414917"
      ]
     },
     "execution_count": 8,
     "metadata": {},
     "output_type": "execute_result"
    }
   ],
   "source": [
    "from cuml.metrics import accuracy_score\n",
    "\n",
    "preds=estimator.predict(X_test_cu) \n",
    "accuracy_score(y_test_cu,preds)"
   ]
  },
  {
   "cell_type": "code",
   "execution_count": null,
   "id": "bc4ef21f-7bae-4a0c-8403-b8cefa4ec7ee",
   "metadata": {},
   "outputs": [],
   "source": []
  },
  {
   "cell_type": "markdown",
   "id": "364df85d",
   "metadata": {},
   "source": [
    "## Scoring with Hypernets.tabular toolbox"
   ]
  },
  {
   "cell_type": "code",
   "execution_count": 9,
   "id": "5fba5c86-47ed-4c14-8372-dd0d0924ad34",
   "metadata": {},
   "outputs": [
    {
     "data": {
      "text/plain": [
       "{'auc': 0.9776472383277388,\n",
       " 'accuracy': 0.9649122807017544,\n",
       " 'f1': 0.9736842105263158,\n",
       " 'recall': 0.9823008849557522,\n",
       " 'precision': 0.9652173913043478}"
      ]
     },
     "execution_count": 9,
     "metadata": {},
     "output_type": "execute_result"
    }
   ],
   "source": [
    "from hypernets.tabular import get_tool_box\n",
    "\n",
    "tb=get_tool_box(cudf.DataFrame)\n",
    "\n",
    "preds=estimator.predict(X_test_cu)\n",
    "proba=estimator.predict_proba(X_test_cu)\n",
    "\n",
    "scores = tb.metrics.calc_score(y_test_cu,preds,proba,task='binary', metrics=['auc','accuracy','f1','recall','precision'] )\n",
    "scores"
   ]
  },
  {
   "cell_type": "code",
   "execution_count": null,
   "id": "2553e959-ba10-4333-b4b2-0b4dbe41044f",
   "metadata": {},
   "outputs": [],
   "source": []
  },
  {
   "cell_type": "markdown",
   "id": "fe83a185-16e5-47f3-a2cb-ab55b21ac98f",
   "metadata": {},
   "source": [
    "## Convert trained model  *as local* to used with pandas data and sklearn utilities"
   ]
  },
  {
   "cell_type": "code",
   "execution_count": 10,
   "id": "8bea8229-8f28-4a20-ab2c-65e1b86bd06d",
   "metadata": {},
   "outputs": [
    {
     "data": {
      "text/plain": [
       "Pipeline(steps=[('data_clean',\n",
       "                 DataCleanStep(cv=True,\n",
       "                               data_cleaner_args={'correct_object_dtype': True,\n",
       "                                                  'drop_columns': None,\n",
       "                                                  'drop_constant_columns': True,\n",
       "                                                  'drop_duplicated_columns': False,\n",
       "                                                  'drop_idness_columns': True,\n",
       "                                                  'drop_label_nan_rows': True,\n",
       "                                                  'int_convert_to': 'float',\n",
       "                                                  'nan_chars': None,\n",
       "                                                  'reduce_mem_usage': False,\n",
       "                                                  'reserve_columns': None},\n",
       "                               name='data_clean')),\n",
       "                ('est...\n",
       "                 GreedyEnsemble(weight=[1.0, 0.0, 0.0, 0.0, 0.0, 0.0, 0.0, 0.0, 0.0, 0.0], scores=[0.9753086419753086, 0.9753086419753086, 0.9753086419753086, 0.9753086419753086, 0.9753086419753086, 0.9753086419753086, 0.9753086419753086, 0.9753086419753086, 0.9753086419753086, 0.9753086419753086, 0.9753086419753086, 0.9753086419753086, 0.9753086419753086, 0.9753086419753086, 0.9753086419753086, 0.9753086419753086, 0.9753086419753086, 0.9753086419753086, 0.9753086419753086, 0.9753086419753086]))])"
      ]
     },
     "execution_count": 10,
     "metadata": {},
     "output_type": "execute_result"
    }
   ],
   "source": [
    "lestimator = estimator.as_local()\n",
    "lestimator"
   ]
  },
  {
   "cell_type": "code",
   "execution_count": 11,
   "id": "dd08adb8-92a0-434f-b309-916a014d07bb",
   "metadata": {},
   "outputs": [
    {
     "data": {
      "text/plain": [
       "0.9652173913043478"
      ]
     },
     "execution_count": 11,
     "metadata": {},
     "output_type": "execute_result"
    }
   ],
   "source": [
    "from sklearn.metrics import get_scorer\n",
    "\n",
    "scorer=get_scorer('precision')\n",
    "# scorer=get_scorer('accuracy')\n",
    "# scorer = get_scorer('roc_auc_ovo')\n",
    "# sc=get_scorer('recall')\n",
    "score = scorer(lestimator,X_test,y_test)\n",
    "score"
   ]
  },
  {
   "cell_type": "code",
   "execution_count": 12,
   "id": "d170d123-a02d-4dfe-8b0b-3a49c03f498f",
   "metadata": {},
   "outputs": [
    {
     "name": "stdout",
     "output_type": "stream",
     "text": [
      "              precision    recall  f1-score   support\n",
      "\n",
      "           0    0.96429   0.93103   0.94737        58\n",
      "           1    0.96522   0.98230   0.97368       113\n",
      "\n",
      "    accuracy                        0.96491       171\n",
      "   macro avg    0.96475   0.95667   0.96053       171\n",
      "weighted avg    0.96490   0.96491   0.96476       171\n",
      "\n"
     ]
    }
   ],
   "source": [
    "from sklearn.metrics import classification_report\n",
    "\n",
    "y_pred=lestimator.predict(X_test)\n",
    "print(classification_report(y_test, y_pred, digits=5))"
   ]
  },
  {
   "cell_type": "code",
   "execution_count": null,
   "id": "35f80a96-9bdc-474d-809c-71137b1c0299",
   "metadata": {},
   "outputs": [],
   "source": []
  }
 ],
 "metadata": {
  "kernelspec": {
   "display_name": "Python 3 (ipykernel)",
   "language": "python",
   "name": "python3"
  },
  "language_info": {
   "codemirror_mode": {
    "name": "ipython",
    "version": 3
   },
   "file_extension": ".py",
   "mimetype": "text/x-python",
   "name": "python",
   "nbconvert_exporter": "python",
   "pygments_lexer": "ipython3",
   "version": "3.8.12"
  }
 },
 "nbformat": 4,
 "nbformat_minor": 5
}
