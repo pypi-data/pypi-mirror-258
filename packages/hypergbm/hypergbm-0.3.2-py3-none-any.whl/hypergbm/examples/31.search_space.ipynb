{
 "cells": [
  {
   "cell_type": "markdown",
   "id": "50ed32de",
   "metadata": {},
   "source": [
    "## Prepare train_data and test_data"
   ]
  },
  {
   "cell_type": "code",
   "execution_count": 1,
   "id": "b3b0c7d4",
   "metadata": {
    "scrolled": true
   },
   "outputs": [],
   "source": [
    "import pandas as pd\n",
    "from sklearn import datasets\n",
    "from sklearn.model_selection import train_test_split\n",
    "from hypergbm import make_experiment\n",
    "from hypernets.tabular.metrics import metric_to_scoring"
   ]
  },
  {
   "cell_type": "code",
   "execution_count": 2,
   "id": "913bfc32",
   "metadata": {},
   "outputs": [],
   "source": [
    "X,y = datasets.load_breast_cancer(as_frame=True,return_X_y=True)\n",
    "X_train,X_test,y_train,y_test = train_test_split(X,y,train_size=0.7,random_state=335)\n",
    "train_data = pd.concat([X_train,y_train],axis=1)\n",
    "eval_data = pd.concat([X_test,y_test],axis=1)"
   ]
  },
  {
   "cell_type": "markdown",
   "id": "e7141fc0",
   "metadata": {},
   "source": [
    "# Define your own SearchSpace with GeneralSearchSpaceGenerator"
   ]
  },
  {
   "cell_type": "code",
   "execution_count": 3,
   "id": "eef25fba",
   "metadata": {},
   "outputs": [],
   "source": [
    "from hypergbm.search_space import GeneralSearchSpaceGenerator"
   ]
  },
  {
   "cell_type": "markdown",
   "id": "ce1e854f",
   "metadata": {},
   "source": [
    "## 1.Set n_estimators"
   ]
  },
  {
   "cell_type": "code",
   "execution_count": 4,
   "id": "0d2dac9c",
   "metadata": {},
   "outputs": [],
   "source": [
    "my_space1=GeneralSearchSpaceGenerator(n_estimators=500)"
   ]
  },
  {
   "cell_type": "markdown",
   "id": "4df18cb4",
   "metadata": {},
   "source": [
    "# 2.Choose gbm model "
   ]
  },
  {
   "cell_type": "code",
   "execution_count": 5,
   "id": "1853387a",
   "metadata": {},
   "outputs": [],
   "source": [
    "my_space2=GeneralSearchSpaceGenerator(\n",
    "                                    enable_lightgbm=True,\n",
    "                                    enable_xgb=False,\n",
    "                                    enable_catboost=False,\n",
    "                                    enable_histgb=False)"
   ]
  },
  {
   "cell_type": "markdown",
   "id": "632b8260",
   "metadata": {},
   "source": [
    "## 3.Enabel GPU devices"
   ]
  },
  {
   "cell_type": "code",
   "execution_count": 6,
   "id": "48d31e40",
   "metadata": {},
   "outputs": [],
   "source": [
    "my_space3=GeneralSearchSpaceGenerator(\n",
    "                                    enable_lightgbm = False,\n",
    "                                    xgb_init_kwargs={'tree_method': 'gpu_hist',\n",
    "                                                     'gpu_id':'1'},\n",
    "                                    catboost_init_kwargs={'task_type': 'GPU',\n",
    "                                                          'devices':'1'}\n",
    "                                    )"
   ]
  },
  {
   "cell_type": "markdown",
   "id": "1eb512f4",
   "metadata": {},
   "source": [
    "## 4.Advanced setting"
   ]
  },
  {
   "cell_type": "code",
   "execution_count": 7,
   "id": "202ae64a",
   "metadata": {},
   "outputs": [],
   "source": [
    "from hypernets.core.search_space import Choice,Int\n",
    "my_space4=GeneralSearchSpaceGenerator(\n",
    "                                    enable_lightgbm=False,\n",
    "                                    xgb_init_kwargs = {\n",
    "                                    'booster': 'dart',\n",
    "                                    'max_depth':Int(3, 15),\n",
    "                                    'n_estimators': Choice([100,150,200,250,300]),\n",
    "                                    'learning_rate': 0.1,\n",
    "                                    'min_child_weight': 5,\n",
    "                                    'gamma': 0.5,\n",
    "                                    'reg_alpha': 10,\n",
    "                                    'reg_lambda': 0.01}\n",
    "                                    )"
   ]
  },
  {
   "cell_type": "code",
   "execution_count": 8,
   "id": "542a1a1e",
   "metadata": {
    "scrolled": true
   },
   "outputs": [],
   "source": [
    "experiment1 = make_experiment(train_data.copy(),target='target',\n",
    "                            search_space=my_space1)\n",
    "experiment2 = make_experiment(train_data.copy(),target='target',\n",
    "                            search_space=my_space2)\n",
    "experiment3 = make_experiment(train_data.copy(),target='target',\n",
    "                            search_space=my_space3)\n",
    "experiment4 = make_experiment(train_data.copy(),target='target',\n",
    "                            search_space=my_space4)"
   ]
  },
  {
   "cell_type": "code",
   "execution_count": 9,
   "id": "994758d3",
   "metadata": {},
   "outputs": [
    {
     "data": {
      "text/plain": [
       "Pipeline(steps=[('data_clean',\n",
       "                 DataCleanStep(cv=True,\n",
       "                               data_cleaner_args={'correct_object_dtype': True,\n",
       "                                                  'drop_columns': None,\n",
       "                                                  'drop_constant_columns': True,\n",
       "                                                  'drop_duplicated_columns': False,\n",
       "                                                  'drop_idness_columns': True,\n",
       "                                                  'drop_label_nan_rows': True,\n",
       "                                                  'int_convert_to': 'float',\n",
       "                                                  'nan_chars': None,\n",
       "                                                  'reduce_mem_usage': False,\n",
       "                                                  'reserve_columns': None},\n",
       "                               name='data_clean')),\n",
       "                ('est...\n",
       "                 GreedyEnsemble(weight=[1.0, 0.0, 0.0, 0.0, 0.0, 0.0, 0.0, 0.0, 0.0, 0.0], scores=[0.9773869346733668, 0.9773869346733668, 0.9773869346733668, 0.9773869346733668, 0.9773869346733668, 0.9773869346733668, 0.9773869346733668, 0.9773869346733668, 0.9773869346733668, 0.9773869346733668, 0.9773869346733668, 0.9773869346733668, 0.9773869346733668, 0.9773869346733668, 0.9773869346733668, 0.9773869346733668, 0.9773869346733668, 0.9773869346733668, 0.9773869346733668, 0.9773869346733668]))])"
      ]
     },
     "execution_count": 9,
     "metadata": {},
     "output_type": "execute_result"
    }
   ],
   "source": [
    "experiment1.run()"
   ]
  },
  {
   "cell_type": "code",
   "execution_count": 10,
   "id": "99f0e818",
   "metadata": {},
   "outputs": [
    {
     "data": {
      "text/plain": [
       "Pipeline(steps=[('data_clean',\n",
       "                 DataCleanStep(cv=True,\n",
       "                               data_cleaner_args={'correct_object_dtype': True,\n",
       "                                                  'drop_columns': None,\n",
       "                                                  'drop_constant_columns': True,\n",
       "                                                  'drop_duplicated_columns': False,\n",
       "                                                  'drop_idness_columns': True,\n",
       "                                                  'drop_label_nan_rows': True,\n",
       "                                                  'int_convert_to': 'float',\n",
       "                                                  'nan_chars': None,\n",
       "                                                  'reduce_mem_usage': False,\n",
       "                                                  'reserve_columns': None},\n",
       "                               name='data_clean')),\n",
       "                ('est...\n",
       "                 GreedyEnsemble(weight=[0.6, 0.1, 0.25, 0.0, 0.0, 0.0, 0.0, 0.05, 0.0], scores=[0.9673366834170855, 0.9673366834170855, 0.9698492462311558, 0.9698492462311558, 0.9698492462311558, 0.9698492462311558, 0.9698492462311558, 0.9698492462311558, 0.9698492462311558, 0.9723618090452262, 0.9723618090452262, 0.9723618090452262, 0.9723618090452262, 0.9723618090452262, 0.9723618090452262, 0.9723618090452262, 0.9723618090452262, 0.9723618090452262, 0.9723618090452262, 0.9723618090452262]))])"
      ]
     },
     "execution_count": 10,
     "metadata": {},
     "output_type": "execute_result"
    }
   ],
   "source": [
    "experiment2.run()"
   ]
  },
  {
   "cell_type": "code",
   "execution_count": 11,
   "id": "c9afdb67",
   "metadata": {
    "scrolled": true
   },
   "outputs": [],
   "source": [
    "# uncomment next line if your GPUs are ready\n",
    "# experiment3.run() "
   ]
  },
  {
   "cell_type": "code",
   "execution_count": 12,
   "id": "eabcf85e",
   "metadata": {},
   "outputs": [
    {
     "data": {
      "text/plain": [
       "Pipeline(steps=[('data_clean',\n",
       "                 DataCleanStep(cv=True,\n",
       "                               data_cleaner_args={'correct_object_dtype': True,\n",
       "                                                  'drop_columns': None,\n",
       "                                                  'drop_constant_columns': True,\n",
       "                                                  'drop_duplicated_columns': False,\n",
       "                                                  'drop_idness_columns': True,\n",
       "                                                  'drop_label_nan_rows': True,\n",
       "                                                  'int_convert_to': 'float',\n",
       "                                                  'nan_chars': None,\n",
       "                                                  'reduce_mem_usage': False,\n",
       "                                                  'reserve_columns': None},\n",
       "                               name='data_clean')),\n",
       "                ('est...\n",
       "                 GreedyEnsemble(weight=[1.0, 0.0, 0.0, 0.0, 0.0, 0.0, 0.0, 0.0, 0.0, 0.0], scores=[0.9673366834170855, 0.9673366834170855, 0.9673366834170855, 0.9673366834170855, 0.9673366834170855, 0.9673366834170855, 0.9673366834170855, 0.9673366834170855, 0.9673366834170855, 0.9673366834170855, 0.9673366834170855, 0.9673366834170855, 0.9673366834170855, 0.9673366834170855, 0.9673366834170855, 0.9673366834170855, 0.9673366834170855, 0.9673366834170855, 0.9673366834170855, 0.9673366834170855]))])"
      ]
     },
     "execution_count": 12,
     "metadata": {},
     "output_type": "execute_result"
    }
   ],
   "source": [
    "experiment4.run()"
   ]
  },
  {
   "cell_type": "code",
   "execution_count": null,
   "id": "8b118055-9980-447c-83b9-83e18efb174c",
   "metadata": {},
   "outputs": [],
   "source": []
  }
 ],
 "metadata": {
  "kernelspec": {
   "display_name": "Python 3 (ipykernel)",
   "language": "python",
   "name": "python3"
  },
  "language_info": {
   "codemirror_mode": {
    "name": "ipython",
    "version": 3
   },
   "file_extension": ".py",
   "mimetype": "text/x-python",
   "name": "python",
   "nbconvert_exporter": "python",
   "pygments_lexer": "ipython3",
   "version": "3.8.12"
  }
 },
 "nbformat": 4,
 "nbformat_minor": 5
}
