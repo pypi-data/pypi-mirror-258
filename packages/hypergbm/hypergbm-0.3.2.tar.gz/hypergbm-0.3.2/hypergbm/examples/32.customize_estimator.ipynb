{
 "cells": [
  {
   "cell_type": "markdown",
   "id": "4ba451d1",
   "metadata": {},
   "source": [
    "## Prepare train_data and test_data"
   ]
  },
  {
   "cell_type": "code",
   "execution_count": 1,
   "id": "e2de9aa1",
   "metadata": {
    "scrolled": true
   },
   "outputs": [],
   "source": [
    "import pandas as pd\n",
    "from sklearn import datasets\n",
    "from sklearn.model_selection import train_test_split\n",
    "from hypergbm import make_experiment\n",
    "from hypernets.tabular.metrics import metric_to_scoring\n",
    "from sklearn.metrics import get_scorer"
   ]
  },
  {
   "cell_type": "code",
   "execution_count": 2,
   "id": "b8c3b8ab",
   "metadata": {},
   "outputs": [],
   "source": [
    "X,y = datasets.load_breast_cancer(as_frame=True,return_X_y=True)\n",
    "X_train,X_test,y_train,y_test = train_test_split(X,y,train_size=0.7,random_state=335)\n",
    "train_data = pd.concat([X_train,y_train],axis=1)"
   ]
  },
  {
   "cell_type": "markdown",
   "id": "3ae04315",
   "metadata": {},
   "source": [
    "# Add your own estimator(svm)"
   ]
  },
  {
   "cell_type": "code",
   "execution_count": 3,
   "id": "0c734c3b",
   "metadata": {},
   "outputs": [],
   "source": [
    "from hypergbm.sklearn.sklearn_ops import numeric_pipeline_simple,categorical_pipeline_simple\n",
    "from hypergbm.estimators import HyperEstimator\n",
    "from hypernets.pipeline.base import DataFrameMapper\n",
    "from hypernets.core.ops import ModuleChoice, HyperInput\n",
    "from hypernets.core.search_space import Choice, Int,Real\n",
    "from hypernets.core.search_space import HyperSpace\n",
    "from hypernets.tabular.column_selector import column_object\n",
    "from hypernets.utils import const\n",
    "from sklearn import svm"
   ]
  },
  {
   "cell_type": "markdown",
   "id": "c8448d26",
   "metadata": {},
   "source": [
    "## Define SVMEstimator"
   ]
  },
  {
   "cell_type": "code",
   "execution_count": 4,
   "id": "e55a7a14",
   "metadata": {},
   "outputs": [],
   "source": [
    "class SVMEstimator(HyperEstimator):\n",
    "    def __init__(self, fit_kwargs, C=1.0, kernel='rbf', gamma='auto',degree=3,random_state=666,probability=True,\n",
    "                 decision_function_shape=None,space=None, name=None, **kwargs):\n",
    "        if C is not None:\n",
    "            kwargs['C'] = C\n",
    "        if kernel is not None:\n",
    "            kwargs['kernel'] = kernel\n",
    "        if gamma is not None:\n",
    "            kwargs['gamma'] = gamma\n",
    "        if degree is not None:\n",
    "            kwargs['degree'] = degree\n",
    "        if random_state is not None:\n",
    "            kwargs['random_state'] = random_state\n",
    "        if decision_function_shape is not None:\n",
    "            kwargs['decision_function_shape'] = decision_function_shape\n",
    "        kwargs['probability'] = probability\n",
    "        HyperEstimator.__init__(self, fit_kwargs, space, name, **kwargs)\n",
    "    def _build_estimator(self, task, kwargs):\n",
    "        if task == const.TASK_REGRESSION:\n",
    "            hsvm = SVMRegressorWrapper(**kwargs)\n",
    "        else:\n",
    "            hsvm = SVMClassifierWrapper(**kwargs)\n",
    "        hsvm.__dict__['task'] = task\n",
    "        return hsvm\n",
    "class SVMClassifierWrapper(svm.SVC):\n",
    "    def fit(self, X, y=None, **kwargs):\n",
    "        return super().fit(X, y)\n",
    "class SVMRegressorWrapper(svm.SVC):\n",
    "    def fit(self, X, y=None, **kwargs):\n",
    "        return super().fit(X, y)"
   ]
  },
  {
   "cell_type": "markdown",
   "id": "f820163b",
   "metadata": {},
   "source": [
    "## Define search_space"
   ]
  },
  {
   "cell_type": "code",
   "execution_count": 5,
   "id": "aab1030a",
   "metadata": {},
   "outputs": [],
   "source": [
    "def search_space():\n",
    "    space = HyperSpace()\n",
    "    with space.as_default():\n",
    "        input = HyperInput(name='input1')\n",
    "        num_pipeline = numeric_pipeline_simple()(input)\n",
    "        cat_pipeline = categorical_pipeline_simple()(input)\n",
    "        union_pipeline = DataFrameMapper(default=False, input_df=True, df_out=True,\n",
    "                                         df_out_dtype_transforms=[(column_object, 'int')])([num_pipeline, cat_pipeline])\n",
    "        svm_init_kwargs = {\n",
    "            'C': Real(0.1,5,0.1),\n",
    "            'kernel':Choice(['rbf','poly','sigmoid']),\n",
    "            'degree':Int(1,5),\n",
    "            'gamma':Real(0.0001,5,0.0002)\n",
    "        }\n",
    "        svm_est =SVMEstimator(fit_kwargs={},**svm_init_kwargs)\n",
    "        ModuleChoice([svm_est], name='estimator_options')(union_pipeline)\n",
    "        space.set_inputs(input)\n",
    "    return space"
   ]
  },
  {
   "cell_type": "code",
   "execution_count": 6,
   "id": "029cecbc",
   "metadata": {},
   "outputs": [],
   "source": [
    "experiment = make_experiment(train_data.copy(),target='target',test_data=X_test,\n",
    "                             search_space=search_space)\n",
    "estimator = experiment.run()"
   ]
  },
  {
   "cell_type": "code",
   "execution_count": 7,
   "id": "e4212418",
   "metadata": {},
   "outputs": [
    {
     "data": {
      "text/plain": [
       "0.9658119658119658"
      ]
     },
     "execution_count": 7,
     "metadata": {},
     "output_type": "execute_result"
    }
   ],
   "source": [
    "scorer = get_scorer(metric_to_scoring('precision',pos_label=1))\n",
    "score = scorer(estimator, X_test, y_test)\n",
    "score"
   ]
  },
  {
   "cell_type": "markdown",
   "id": "193d8eb0",
   "metadata": {},
   "source": [
    "# Add SVM into GeneralSearchSpaceGenerator"
   ]
  },
  {
   "cell_type": "code",
   "execution_count": 8,
   "id": "bbb0cc98",
   "metadata": {},
   "outputs": [],
   "source": [
    "from hypergbm.search_space import GeneralSearchSpaceGenerator\n",
    "from hypergbm.estimators import XGBoostEstimator,LightGBMEstimator,CatBoostEstimator\n",
    "\n",
    "class GeneralSearchSpaceGeneratorWithSVM(GeneralSearchSpaceGenerator):\n",
    "    def __init__(self,enable_svm=True, **kwargs):\n",
    "        super().__init__(**kwargs)\n",
    "        self.enable_svm = enable_svm\n",
    "    @property\n",
    "    def default_svm_init_kwargs(self):\n",
    "        return {\n",
    "            'C': Real(0.1,5,0.1),\n",
    "            'kernel':Choice(['rbf','poly','sigmoid']),\n",
    "            'degree':Int(1,5),\n",
    "            'gamma':Real(0.0001,5,0.0002)\n",
    "        }\n",
    "    @property\n",
    "    def default_svm_fit_kwargs(self):\n",
    "        return {}\n",
    "    @property\n",
    "    def estimators(self):\n",
    "        r=super().estimators\n",
    "        if self.enable_svm:\n",
    "            r['svm'] = (SVMEstimator, self.default_svm_init_kwargs, self.default_svm_fit_kwargs)\n",
    "        return r\n",
    "    \n",
    "generalSearchSpaceGeneratorWithSVM = GeneralSearchSpaceGeneratorWithSVM()"
   ]
  },
  {
   "cell_type": "code",
   "execution_count": 9,
   "id": "8f571693",
   "metadata": {},
   "outputs": [],
   "source": [
    "experiment = make_experiment(train_data.copy(),target='target',test_data=X_test,\n",
    "                             search_space=generalSearchSpaceGeneratorWithSVM)\n",
    "estimator = experiment.run()"
   ]
  },
  {
   "cell_type": "code",
   "execution_count": 10,
   "id": "2f104e93",
   "metadata": {},
   "outputs": [
    {
     "data": {
      "text/plain": [
       "0.9652173913043478"
      ]
     },
     "execution_count": 10,
     "metadata": {},
     "output_type": "execute_result"
    }
   ],
   "source": [
    "scorer = get_scorer(metric_to_scoring('precision',pos_label=1))\n",
    "score = scorer(estimator, X_test, y_test)\n",
    "score"
   ]
  },
  {
   "cell_type": "code",
   "execution_count": null,
   "id": "563eb649-9215-463b-b4c9-9813c195af59",
   "metadata": {},
   "outputs": [],
   "source": []
  }
 ],
 "metadata": {
  "kernelspec": {
   "display_name": "Python 3 (ipykernel)",
   "language": "python",
   "name": "python3"
  },
  "language_info": {
   "codemirror_mode": {
    "name": "ipython",
    "version": 3
   },
   "file_extension": ".py",
   "mimetype": "text/x-python",
   "name": "python",
   "nbconvert_exporter": "python",
   "pygments_lexer": "ipython3",
   "version": "3.8.12"
  }
 },
 "nbformat": 4,
 "nbformat_minor": 5
}
