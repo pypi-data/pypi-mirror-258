{
 "cells": [
  {
   "cell_type": "markdown",
   "id": "26e799d8",
   "metadata": {},
   "source": [
    "# HyperGBM experiment visualization in notebook\n",
    "\n",
    "HyperGBM provides features to help you better use experiments in notebooks, including:\n",
    "\n",
    "1. show experiment dataset information\n",
    "2. show experiment configuration\n",
    "3. show experiment running process\n",
    "\n",
    "Note that these features is optional, make sure you are installing hypergbm by the command \n",
    "```\n",
    "pip install hypergbm[notebook]\n",
    "```\n",
    "If you do not installed the notebook widget, please install it by command \n",
    "```\n",
    "pip install hboard-widget\n",
    "```\n",
    "\n",
    "This is an example of how to use these features in [jupyter notebook](https://jupyter.org/).\n"
   ]
  },
  {
   "cell_type": "code",
   "execution_count": null,
   "id": "8bee9ba6",
   "metadata": {},
   "outputs": [],
   "source": [
    "import warnings\n",
    "warnings.filterwarnings('ignore')\n",
    "\n",
    "from hypernets.utils import logging\n",
    "\n",
    "from sklearn.model_selection import train_test_split\n",
    "\n",
    "from hypergbm import make_experiment\n",
    "from hypernets.tabular.datasets import dsutils"
   ]
  },
  {
   "cell_type": "markdown",
   "id": "f4c88f25",
   "metadata": {},
   "source": [
    "## Build hypernets experiment and show configuration"
   ]
  },
  {
   "cell_type": "code",
   "execution_count": null,
   "id": "bc7c6810",
   "metadata": {},
   "outputs": [],
   "source": [
    "df = dsutils.load_bank()\n",
    "\n",
    "df_train, df_test = train_test_split(df, test_size=0.8, random_state=42)\n",
    "\n",
    "experiment = make_experiment(df_train, target='y')\n",
    "experiment"
   ]
  },
  {
   "cell_type": "markdown",
   "id": "ca48fbba",
   "metadata": {},
   "source": [
    "## Show experiment dataset information"
   ]
  },
  {
   "cell_type": "code",
   "execution_count": null,
   "id": "6aca5a8c",
   "metadata": {},
   "outputs": [],
   "source": [
    "experiment.plot_dataset()"
   ]
  },
  {
   "cell_type": "markdown",
   "id": "15bea778",
   "metadata": {},
   "source": [
    "## Show experiment running process "
   ]
  },
  {
   "cell_type": "code",
   "execution_count": null,
   "id": "2b062670",
   "metadata": {},
   "outputs": [],
   "source": [
    "experiment.run(max_trials=20)\n"
   ]
  }
 ],
 "metadata": {
  "kernelspec": {
   "display_name": "Python 3 (ipykernel)",
   "language": "python",
   "name": "python3"
  },
  "language_info": {
   "codemirror_mode": {
    "name": "ipython",
    "version": 3
   },
   "file_extension": ".py",
   "mimetype": "text/x-python",
   "name": "python",
   "nbconvert_exporter": "python",
   "pygments_lexer": "ipython3",
   "version": "3.7.11"
  }
 },
 "nbformat": 4,
 "nbformat_minor": 5
}
