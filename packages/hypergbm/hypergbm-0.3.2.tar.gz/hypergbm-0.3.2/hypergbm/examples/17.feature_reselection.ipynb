{
 "cells": [
  {
   "cell_type": "markdown",
   "id": "50ed32de",
   "metadata": {},
   "source": [
    "## Prepare train_data and test_data"
   ]
  },
  {
   "cell_type": "code",
   "execution_count": 1,
   "id": "b3b0c7d4",
   "metadata": {
    "scrolled": true
   },
   "outputs": [],
   "source": [
    "import pandas as pd\n",
    "from sklearn import datasets\n",
    "from sklearn.model_selection import train_test_split\n",
    "from hypergbm import make_experiment\n",
    "from hypernets.tabular.metrics import metric_to_scoring\n",
    "from sklearn.metrics import get_scorer"
   ]
  },
  {
   "cell_type": "code",
   "execution_count": 2,
   "id": "913bfc32",
   "metadata": {},
   "outputs": [],
   "source": [
    "X,y = datasets.load_breast_cancer(as_frame=True,return_X_y=True)\n",
    "X_train,X_test,y_train,y_test = train_test_split(X,y,train_size=0.7,random_state=335)\n",
    "train_data = pd.concat([X_train,y_train],axis=1)\n",
    "eval_data = pd.concat([X_test,y_test],axis=1)"
   ]
  },
  {
   "cell_type": "markdown",
   "id": "4fee1c7a",
   "metadata": {
    "tags": []
   },
   "source": [
    "# Use Feature Reselection\n",
    "\n",
    "HyperGBM can select features from train_data with the searched estimator, then re-search with HyperGBM (two-stages search). Set `feature_reselection=True` to enable feature reselection. HyperGBM select features with `permutation_importance` at this stage.\n",
    "\n",
    "**Options**:\n",
    "\n",
    "* feature_reselection : bool, (default=True)\n",
    "    Whether to enable two stage feature selection with permutation importance.\n",
    "* feature_reselection_estimator_size : int, (default=10)\n",
    "    The number of estimator to evaluate feature importance. Only valid when *feature_reselection* is True.\n",
    "* feature_reselection_strategy : str, (default='threshold')\n",
    "    Strategy to reselect features(*threshold*, *number* or *quantile*).\n",
    "* feature_reselection_threshold : float, (default=1e-5)\n",
    "    Confidence threshold of the mean permutation importance. Only valid when *feature_reselection_strategy* is 'threshold'.\n",
    "* feature_reselection_quantile:\n",
    "    Confidence quantile of feature_importance. Only valid when *feature_reselection_strategy* is 'quantile'.\n",
    "* feature_reselection_number:\n",
    "    Expected feature number to keep. Only valid when *feature_reselection_strategy* is 'number'.\n",
    "    \n",
    "See [scikit-learn](https://scikit-learn.org/stable/modules/permutation_importance.html) from more details about `permutation_importance`."
   ]
  },
  {
   "cell_type": "code",
   "execution_count": 3,
   "id": "01febbae",
   "metadata": {},
   "outputs": [],
   "source": [
    "experiment = make_experiment(train_data.copy(), target='target',\n",
    "                             random_state=8888, max_trials=20,\n",
    "                             feature_reselection=True)\n",
    "estimator = experiment.run()"
   ]
  },
  {
   "cell_type": "code",
   "execution_count": 4,
   "id": "43c97962-d28b-42ec-9df9-93948146f98b",
   "metadata": {},
   "outputs": [
    {
     "data": {
      "text/plain": [
       "[('data_clean',\n",
       "  DataCleanStep(cv=True,\n",
       "                data_cleaner_args={'correct_object_dtype': True,\n",
       "                                   'drop_columns': None,\n",
       "                                   'drop_constant_columns': True,\n",
       "                                   'drop_duplicated_columns': False,\n",
       "                                   'drop_idness_columns': True,\n",
       "                                   'drop_label_nan_rows': True,\n",
       "                                   'int_convert_to': 'float', 'nan_chars': None,\n",
       "                                   'reduce_mem_usage': False,\n",
       "                                   'reserve_columns': None},\n",
       "                name='data_clean')),\n",
       " ('feature_reselection',\n",
       "  PermutationImportanceSelectionStep(estimator_size=10,\n",
       "                                     name='feature_reselection', number=None,\n",
       "                                     quantile=None,\n",
       "                                     scorer=make_scorer(accuracy_score),\n",
       "                                     strategy='threshold', threshold=1e-05)),\n",
       " ('estimator',\n",
       "  GreedyEnsemble(weight=[1.0, 0.0, 0.0, 0.0, 0.0, 0.0, 0.0, 0.0, 0.0, 0.0, 0.0, 0.0, 0.0, 0.0, 0.0, 0.0], scores=[0.9723618090452262, 0.9723618090452262, 0.9723618090452262, 0.9723618090452262, 0.9723618090452262, 0.9723618090452262, 0.9723618090452262, 0.9723618090452262, 0.9723618090452262, 0.9723618090452262, 0.9723618090452262, 0.9723618090452262, 0.9723618090452262, 0.9723618090452262, 0.9723618090452262, 0.9723618090452262, 0.9723618090452262, 0.9723618090452262, 0.9723618090452262, 0.9723618090452262]))]"
      ]
     },
     "execution_count": 4,
     "metadata": {},
     "output_type": "execute_result"
    }
   ],
   "source": [
    "estimator.steps"
   ]
  },
  {
   "cell_type": "code",
   "execution_count": null,
   "id": "e2ef08cc-ca9c-41c9-9d06-5f6ba3aa2181",
   "metadata": {},
   "outputs": [],
   "source": []
  },
  {
   "cell_type": "code",
   "execution_count": 5,
   "id": "ad300e0c-94d2-4fb0-a610-fcd26c179723",
   "metadata": {},
   "outputs": [
    {
     "data": {
      "text/plain": [
       "0.9649122807017544"
      ]
     },
     "execution_count": 5,
     "metadata": {},
     "output_type": "execute_result"
    }
   ],
   "source": [
    "scorer = get_scorer(metric_to_scoring('accuracy'))\n",
    "score = scorer(estimator, X_test, y_test)\n",
    "score"
   ]
  },
  {
   "cell_type": "code",
   "execution_count": null,
   "id": "0f4dab35-fa15-4d8f-bd18-b9de968ac765",
   "metadata": {},
   "outputs": [],
   "source": []
  },
  {
   "cell_type": "code",
   "execution_count": null,
   "id": "0974ca48-50b1-416c-ac2b-b70be17d775a",
   "metadata": {},
   "outputs": [],
   "source": []
  }
 ],
 "metadata": {
  "kernelspec": {
   "display_name": "Python 3 (ipykernel)",
   "language": "python",
   "name": "python3"
  },
  "language_info": {
   "codemirror_mode": {
    "name": "ipython",
    "version": 3
   },
   "file_extension": ".py",
   "mimetype": "text/x-python",
   "name": "python",
   "nbconvert_exporter": "python",
   "pygments_lexer": "ipython3",
   "version": "3.8.12"
  }
 },
 "nbformat": 4,
 "nbformat_minor": 5
}
