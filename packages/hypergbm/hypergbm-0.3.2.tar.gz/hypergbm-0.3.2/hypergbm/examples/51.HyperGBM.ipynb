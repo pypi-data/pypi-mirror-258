{
 "cells": [
  {
   "cell_type": "markdown",
   "id": "50ed32de",
   "metadata": {},
   "source": [
    "## Prepare train_data and test_data"
   ]
  },
  {
   "cell_type": "code",
   "execution_count": 1,
   "id": "b3b0c7d4",
   "metadata": {
    "scrolled": true
   },
   "outputs": [],
   "source": [
    "import pandas as pd\n",
    "from sklearn import datasets\n",
    "from sklearn.model_selection import train_test_split\n",
    "import warnings\n",
    "warnings.filterwarnings(\"ignore\")"
   ]
  },
  {
   "cell_type": "code",
   "execution_count": 2,
   "id": "913bfc32",
   "metadata": {},
   "outputs": [],
   "source": [
    "X,y = datasets.load_breast_cancer(as_frame=True,return_X_y=True)\n",
    "X_train,X_test,y_train,y_test = train_test_split(X,y,train_size=0.7,random_state=335)\n",
    "train_data = pd.concat([X_train,y_train],axis=1)\n",
    "eval_data = pd.concat([X_test,y_test],axis=1)"
   ]
  },
  {
   "cell_type": "markdown",
   "id": "eb913df0",
   "metadata": {},
   "source": [
    "# Use HyperGBM to train model"
   ]
  },
  {
   "cell_type": "code",
   "execution_count": 3,
   "id": "83c39212",
   "metadata": {
    "scrolled": true
   },
   "outputs": [],
   "source": [
    "from hypergbm import HyperGBM\n",
    "from hypergbm.search_space import search_space_general\n",
    "from hypernets.searchers.random_searcher import RandomSearcher"
   ]
  },
  {
   "cell_type": "code",
   "execution_count": 4,
   "id": "a5b0481f",
   "metadata": {},
   "outputs": [],
   "source": [
    "# instantiate related objects\n",
    "searcher = RandomSearcher(search_space_general, optimize_direction='max')\n",
    "hypergbm = HyperGBM(searcher, task='binary', reward_metric='accuracy')\n",
    "# search\n",
    "hypergbm.search(X_train, y_train, X_eval=None, y_eval=None,cv=True, max_trials=20)"
   ]
  },
  {
   "cell_type": "code",
   "execution_count": 5,
   "id": "081f5df8",
   "metadata": {},
   "outputs": [
    {
     "data": {
      "text/html": [
       "<div><h>Trial:</h><table border=\"1\" class=\"dataframe\">\n",
       "<thead>\n",
       "<tr style=\"text-align: right;\">\n",
       "  <th>key</th>\n",
       "  <th>value</th>\n",
       "</tr>\n",
       "</thead>\n",
       "<tbody><tr>\n",
       "  <td>Trial No.</td>\n",
       "  <td>6</td>\n",
       "</tr>\n",
       "<tr>\n",
       "  <td>Reward</td>\n",
       "  <td>0.9748743718592965</td>\n",
       "</tr>\n",
       "<tr>\n",
       "  <td>Elapsed</td>\n",
       "  <td>0.17852544784545898</td>\n",
       "</tr>\n",
       "<tr>\n",
       "  <td>space.signature</td>\n",
       "  <td>7f41587c0bd6e9402046c943b41e8ef6</td>\n",
       "</tr>\n",
       "<tr>\n",
       "  <td>space.vectors</td>\n",
       "  <td>[2, 2, 3, 2, 1, 4]</td>\n",
       "</tr><tr>\n",
       "  <td>0-estimator_options.hp_or</td>\n",
       "  <td>2</td>\n",
       "</tr>\n",
       "<tr><tr>\n",
       "  <td>1-numeric_imputer_0.strategy</td>\n",
       "  <td>constant</td>\n",
       "</tr>\n",
       "<tr><tr>\n",
       "  <td>2-numeric_or_scaler_0.hp_or</td>\n",
       "  <td>3</td>\n",
       "</tr>\n",
       "<tr><tr>\n",
       "  <td>3-Module_CatBoostEstimator_1.learning_rate</td>\n",
       "  <td>0.5</td>\n",
       "</tr>\n",
       "<tr><tr>\n",
       "  <td>4-Module_CatBoostEstimator_1.depth</td>\n",
       "  <td>5</td>\n",
       "</tr>\n",
       "<tr><tr>\n",
       "  <td>5-Module_CatBoostEstimator_1.l2_leaf_reg</td>\n",
       "  <td>30</td>\n",
       "</tr>\n",
       "<tr>  </tbody>\n",
       "</table>\n",
       "</div>"
      ],
      "text/plain": [
       "Trial(space_sample=DAG_HyperSpace_1, trial_no=6, reward=0.9748743718592965, elapsed=0.17852544784545898, model_file='experiment_20220209161026/models/00006_bd332c82-897f-11ec-9824-00155ded4413.pkl')"
      ]
     },
     "execution_count": 5,
     "metadata": {},
     "output_type": "execute_result"
    }
   ],
   "source": [
    "# load best model\n",
    "best_trial = hypergbm.get_best_trial()\n",
    "estimator = hypergbm.load_estimator(best_trial.model_file)\n",
    "best_trial"
   ]
  },
  {
   "cell_type": "code",
   "execution_count": 6,
   "id": "d8c2677e",
   "metadata": {},
   "outputs": [
    {
     "data": {
      "text/plain": [
       "{'auc': 0.977113213304852,\n",
       " 'accuracy': 0.9532163742690059,\n",
       " 'f1': 0.9652173913043478,\n",
       " 'recall': 0.9823008849557522,\n",
       " 'precision': 0.9487179487179487}"
      ]
     },
     "execution_count": 6,
     "metadata": {},
     "output_type": "execute_result"
    }
   ],
   "source": [
    "# Scoring\n",
    "from hypernets.tabular.metrics import calc_score\n",
    "preds=estimator.predict(X_test)\n",
    "proba=estimator.predict_proba(X_test)\n",
    "scores = calc_score(y_test,preds,proba,task='binary', metrics=['auc','accuracy','f1','recall','precision'] )\n",
    "scores"
   ]
  },
  {
   "cell_type": "code",
   "execution_count": null,
   "id": "4206f612",
   "metadata": {},
   "outputs": [],
   "source": []
  }
 ],
 "metadata": {
  "kernelspec": {
   "display_name": "Python 3 (ipykernel)",
   "language": "python",
   "name": "python3"
  },
  "language_info": {
   "codemirror_mode": {
    "name": "ipython",
    "version": 3
   },
   "file_extension": ".py",
   "mimetype": "text/x-python",
   "name": "python",
   "nbconvert_exporter": "python",
   "pygments_lexer": "ipython3",
   "version": "3.8.12"
  }
 },
 "nbformat": 4,
 "nbformat_minor": 5
}
