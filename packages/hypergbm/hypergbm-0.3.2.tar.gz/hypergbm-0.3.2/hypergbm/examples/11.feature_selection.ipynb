{
 "cells": [
  {
   "cell_type": "markdown",
   "id": "50ed32de",
   "metadata": {},
   "source": [
    "# Prepare train_data and test_data"
   ]
  },
  {
   "cell_type": "code",
   "execution_count": 1,
   "id": "b3b0c7d4",
   "metadata": {
    "scrolled": true
   },
   "outputs": [],
   "source": [
    "import pandas as pd\n",
    "from sklearn import datasets\n",
    "from sklearn.model_selection import train_test_split\n",
    "from hypergbm import make_experiment\n",
    "from hypernets.tabular.metrics import metric_to_scoring"
   ]
  },
  {
   "cell_type": "code",
   "execution_count": 2,
   "id": "913bfc32",
   "metadata": {},
   "outputs": [],
   "source": [
    "X,y = datasets.load_breast_cancer(as_frame=True,return_X_y=True)\n",
    "X_train,X_test,y_train,y_test = train_test_split(X,y,train_size=0.7,random_state=335)\n",
    "train_data = pd.concat([X_train,y_train],axis=1)"
   ]
  },
  {
   "cell_type": "code",
   "execution_count": 3,
   "id": "c9afdb67",
   "metadata": {
    "scrolled": true,
    "tags": []
   },
   "outputs": [],
   "source": [
    "experiment = make_experiment(train_data.copy(), target='target', \n",
    "                             reward_metric='precision', pos_label=1,\n",
    "                             random_state=1234, max_trials=20)\n",
    "estimator = experiment.run()"
   ]
  },
  {
   "cell_type": "code",
   "execution_count": 4,
   "id": "83c39212",
   "metadata": {
    "tags": []
   },
   "outputs": [
    {
     "data": {
      "text/plain": [
       "0.9568965517241379"
      ]
     },
     "execution_count": 4,
     "metadata": {},
     "output_type": "execute_result"
    }
   ],
   "source": [
    "scorer = metric_to_scoring('precision',pos_label=1)\n",
    "score = scorer(estimator, X_test, y_test)\n",
    "score"
   ]
  },
  {
   "cell_type": "markdown",
   "id": "4fee1c7a",
   "metadata": {},
   "source": [
    "# Use Feature selection\n",
    "Set `feature_selection=True` to enable feature selection with feature_importance before HyperGBM search, optional settings:\n",
    "* feature_selection_strategy: one of *threshold*, *number* or *quantile*. default is *threshold*\n",
    "* feature_selection_threshold: confidence threshold of feature_importance  \n",
    "* feature_selection_quantile: confidence quantile of feature_importance  \n",
    "* feature_selection_number: expected feature number to keep"
   ]
  },
  {
   "cell_type": "code",
   "execution_count": 5,
   "id": "ad9abe14",
   "metadata": {},
   "outputs": [],
   "source": [
    "#feature_selection_number = 15\n",
    "#feature_selection_quantile = 0.1\n",
    "#feature_selection_threshold = 0.1\n",
    "experiment = make_experiment(train_data.copy(), target='target', \n",
    "                             reward_metric='precision', pos_label=1,\n",
    "                             random_state=1234, max_trials=20,\n",
    "                             feature_selection=True,\n",
    "                             feature_selection_threshold=0.0001,\n",
    "                             )\n",
    "estimator = experiment.run()"
   ]
  },
  {
   "cell_type": "code",
   "execution_count": 6,
   "id": "da40fabd-9348-47a5-a447-9e1469c0be3d",
   "metadata": {},
   "outputs": [
    {
     "data": {
      "text/plain": [
       "[('data_clean',\n",
       "  DataCleanStep(cv=True,\n",
       "                data_cleaner_args={'correct_object_dtype': True,\n",
       "                                   'drop_columns': None,\n",
       "                                   'drop_constant_columns': True,\n",
       "                                   'drop_duplicated_columns': False,\n",
       "                                   'drop_idness_columns': True,\n",
       "                                   'drop_label_nan_rows': True,\n",
       "                                   'int_convert_to': 'float', 'nan_chars': None,\n",
       "                                   'reduce_mem_usage': False,\n",
       "                                   'reserve_columns': None},\n",
       "                name='data_clean')),\n",
       " ('feature_selection',\n",
       "  FeatureImportanceSelectionStep(name='feature_selection', number=None,\n",
       "                                 quantile=None, strategy='threshold',\n",
       "                                 threshold=0.0001)),\n",
       " ('estimator',\n",
       "  GreedyEnsemble(weight=[0.2, 0.0, 0.0, 0.0, 0.0, 0.05, 0.0, 0.0, 0.75, 0.0, 0.0, 0.0, 0.0, 0.0, 0.0, 0.0, 0.0, 0.0, 0.0], scores=[0.9786324786324786, 0.9786324786324786, 0.9786324786324786, 0.9786324786324786, 0.979253112033195, 0.979253112033195, 0.979253112033195, 0.979253112033195, 0.979253112033195, 0.979253112033195, 0.979253112033195, 0.979253112033195, 0.979253112033195, 0.979253112033195, 0.979253112033195, 0.979253112033195, 0.979253112033195, 0.979253112033195, 0.979253112033195, 0.979253112033195]))]"
      ]
     },
     "execution_count": 6,
     "metadata": {},
     "output_type": "execute_result"
    }
   ],
   "source": [
    "estimator.steps"
   ]
  },
  {
   "cell_type": "code",
   "execution_count": null,
   "id": "7c8d269d-0730-4cf6-b1b4-f00474634189",
   "metadata": {},
   "outputs": [],
   "source": []
  },
  {
   "cell_type": "code",
   "execution_count": 7,
   "id": "26baa6a3-b2d0-4287-83b4-cb14cc4e5527",
   "metadata": {},
   "outputs": [
    {
     "data": {
      "text/plain": [
       "0.956140350877193"
      ]
     },
     "execution_count": 7,
     "metadata": {},
     "output_type": "execute_result"
    }
   ],
   "source": [
    "scorer = metric_to_scoring('precision', pos_label=1)\n",
    "score = scorer(estimator, X_test, y_test)\n",
    "score"
   ]
  },
  {
   "cell_type": "code",
   "execution_count": null,
   "id": "1cc97f8d-8186-4ea4-ad37-f5ef214d45d3",
   "metadata": {},
   "outputs": [],
   "source": []
  }
 ],
 "metadata": {
  "kernelspec": {
   "display_name": "Python 3 (ipykernel)",
   "language": "python",
   "name": "python3"
  },
  "language_info": {
   "codemirror_mode": {
    "name": "ipython",
    "version": 3
   },
   "file_extension": ".py",
   "mimetype": "text/x-python",
   "name": "python",
   "nbconvert_exporter": "python",
   "pygments_lexer": "ipython3",
   "version": "3.8.12"
  }
 },
 "nbformat": 4,
 "nbformat_minor": 5
}
