{
 "cells": [
  {
   "cell_type": "markdown",
   "id": "50ed32de",
   "metadata": {},
   "source": [
    "## Prepare train_data and test_data"
   ]
  },
  {
   "cell_type": "code",
   "execution_count": 1,
   "id": "b3b0c7d4",
   "metadata": {},
   "outputs": [],
   "source": [
    "import pandas as pd\n",
    "from sklearn.model_selection import train_test_split\n",
    "from hypergbm import make_experiment\n",
    "from hypernets.tabular.metrics import metric_to_scoring\n"
   ]
  },
  {
   "cell_type": "code",
   "execution_count": 2,
   "id": "913bfc32",
   "metadata": {},
   "outputs": [],
   "source": [
    "train_data = pd.read_csv('datasets/West_Nile_Virus_II/train.csv.gz')\n",
    "test_data = pd.read_csv('datasets/West_Nile_Virus_II/test.csv.gz')\n",
    "X_train = train_data.copy()\n",
    "y_train = X_train.pop('WnvPresent')\n",
    "X_test = test_data.copy()\n",
    "y_test = X_test.pop('WnvPresent')"
   ]
  },
  {
   "cell_type": "code",
   "execution_count": 3,
   "id": "0026dcee",
   "metadata": {},
   "outputs": [
    {
     "data": {
      "text/html": [
       "<div>\n",
       "<style scoped>\n",
       "    .dataframe tbody tr th:only-of-type {\n",
       "        vertical-align: middle;\n",
       "    }\n",
       "\n",
       "    .dataframe tbody tr th {\n",
       "        vertical-align: top;\n",
       "    }\n",
       "\n",
       "    .dataframe thead th {\n",
       "        text-align: right;\n",
       "    }\n",
       "</style>\n",
       "<table border=\"1\" class=\"dataframe\">\n",
       "  <thead>\n",
       "    <tr style=\"text-align: right;\">\n",
       "      <th></th>\n",
       "      <th>Unnamed: 0</th>\n",
       "      <th>Address</th>\n",
       "      <th>Species</th>\n",
       "      <th>Block</th>\n",
       "      <th>Street</th>\n",
       "      <th>Trap</th>\n",
       "      <th>AddressNumberAndStreet</th>\n",
       "      <th>Latitude</th>\n",
       "      <th>Longitude</th>\n",
       "      <th>Latitude1</th>\n",
       "      <th>Longitude1</th>\n",
       "      <th>AddressAccuracy</th>\n",
       "      <th>NumMosquitos</th>\n",
       "    </tr>\n",
       "  </thead>\n",
       "  <tbody>\n",
       "    <tr>\n",
       "      <th>0</th>\n",
       "      <td>6709</td>\n",
       "      <td>South Cottage Grove Avenue, Chicago, IL, USA</td>\n",
       "      <td>CULEX PIPIENS/RESTUANS</td>\n",
       "      <td>10</td>\n",
       "      <td>S COTTAGE GROVE</td>\n",
       "      <td>T102</td>\n",
       "      <td>1000  S COTTAGE GROVE, Chicago, IL</td>\n",
       "      <td>41.750498</td>\n",
       "      <td>-87.605294</td>\n",
       "      <td>32.601011</td>\n",
       "      <td>-86.680736</td>\n",
       "      <td>5</td>\n",
       "      <td>6</td>\n",
       "    </tr>\n",
       "    <tr>\n",
       "      <th>1</th>\n",
       "      <td>789</td>\n",
       "      <td>1500 West Webster Avenue, Chicago, IL 60614, USA</td>\n",
       "      <td>CULEX PIPIENS</td>\n",
       "      <td>15</td>\n",
       "      <td>W WEBSTER AVE</td>\n",
       "      <td>T045</td>\n",
       "      <td>1500  W WEBSTER AVE, Chicago, IL</td>\n",
       "      <td>41.921600</td>\n",
       "      <td>-87.666455</td>\n",
       "      <td>61.302501</td>\n",
       "      <td>-158.775020</td>\n",
       "      <td>8</td>\n",
       "      <td>2</td>\n",
       "    </tr>\n",
       "    <tr>\n",
       "      <th>2</th>\n",
       "      <td>6556</td>\n",
       "      <td>ORD Terminal 5, O'Hare International Airport, ...</td>\n",
       "      <td>CULEX RESTUANS</td>\n",
       "      <td>10</td>\n",
       "      <td>W OHARE AIRPORT</td>\n",
       "      <td>T900</td>\n",
       "      <td>1000  W OHARE AIRPORT, Chicago, IL</td>\n",
       "      <td>41.974689</td>\n",
       "      <td>-87.890615</td>\n",
       "      <td>34.168219</td>\n",
       "      <td>-111.930907</td>\n",
       "      <td>9</td>\n",
       "      <td>16</td>\n",
       "    </tr>\n",
       "    <tr>\n",
       "      <th>3</th>\n",
       "      <td>8170</td>\n",
       "      <td>ORD Terminal 5, O'Hare International Airport, ...</td>\n",
       "      <td>CULEX RESTUANS</td>\n",
       "      <td>10</td>\n",
       "      <td>W OHARE AIRPORT</td>\n",
       "      <td>T900</td>\n",
       "      <td>1000  W OHARE AIRPORT, Chicago, IL</td>\n",
       "      <td>41.974689</td>\n",
       "      <td>-87.890615</td>\n",
       "      <td>34.751928</td>\n",
       "      <td>-92.131378</td>\n",
       "      <td>9</td>\n",
       "      <td>2</td>\n",
       "    </tr>\n",
       "    <tr>\n",
       "      <th>4</th>\n",
       "      <td>6517</td>\n",
       "      <td>3700 South Pulaski Road, Chicago, IL 60623, USA</td>\n",
       "      <td>CULEX PIPIENS/RESTUANS</td>\n",
       "      <td>37</td>\n",
       "      <td>S PULASKI RD</td>\n",
       "      <td>T063</td>\n",
       "      <td>3700  S PULASKI RD, Chicago, IL</td>\n",
       "      <td>41.825610</td>\n",
       "      <td>-87.726549</td>\n",
       "      <td>37.271875</td>\n",
       "      <td>-119.270415</td>\n",
       "      <td>9</td>\n",
       "      <td>10</td>\n",
       "    </tr>\n",
       "  </tbody>\n",
       "</table>\n",
       "</div>"
      ],
      "text/plain": [
       "   Unnamed: 0                                            Address  \\\n",
       "0        6709       South Cottage Grove Avenue, Chicago, IL, USA   \n",
       "1         789   1500 West Webster Avenue, Chicago, IL 60614, USA   \n",
       "2        6556  ORD Terminal 5, O'Hare International Airport, ...   \n",
       "3        8170  ORD Terminal 5, O'Hare International Airport, ...   \n",
       "4        6517    3700 South Pulaski Road, Chicago, IL 60623, USA   \n",
       "\n",
       "                  Species  Block            Street  Trap  \\\n",
       "0  CULEX PIPIENS/RESTUANS     10   S COTTAGE GROVE  T102   \n",
       "1           CULEX PIPIENS     15     W WEBSTER AVE  T045   \n",
       "2          CULEX RESTUANS     10   W OHARE AIRPORT  T900   \n",
       "3          CULEX RESTUANS     10   W OHARE AIRPORT  T900   \n",
       "4  CULEX PIPIENS/RESTUANS     37      S PULASKI RD  T063   \n",
       "\n",
       "               AddressNumberAndStreet   Latitude  Longitude  Latitude1  \\\n",
       "0  1000  S COTTAGE GROVE, Chicago, IL  41.750498 -87.605294  32.601011   \n",
       "1    1500  W WEBSTER AVE, Chicago, IL  41.921600 -87.666455  61.302501   \n",
       "2  1000  W OHARE AIRPORT, Chicago, IL  41.974689 -87.890615  34.168219   \n",
       "3  1000  W OHARE AIRPORT, Chicago, IL  41.974689 -87.890615  34.751928   \n",
       "4     3700  S PULASKI RD, Chicago, IL  41.825610 -87.726549  37.271875   \n",
       "\n",
       "   Longitude1  AddressAccuracy  NumMosquitos  \n",
       "0  -86.680736                5             6  \n",
       "1 -158.775020                8             2  \n",
       "2 -111.930907                9            16  \n",
       "3  -92.131378                9             2  \n",
       "4 -119.270415                9            10  "
      ]
     },
     "execution_count": 3,
     "metadata": {},
     "output_type": "execute_result"
    }
   ],
   "source": [
    "X_train.head()"
   ]
  },
  {
   "cell_type": "code",
   "execution_count": 4,
   "id": "e6ce2ec3",
   "metadata": {
    "scrolled": true
   },
   "outputs": [
    {
     "name": "stdout",
     "output_type": "stream",
     "text": [
      "<class 'pandas.core.frame.DataFrame'>\n",
      "RangeIndex: 8404 entries, 0 to 8403\n",
      "Data columns (total 13 columns):\n",
      " #   Column                  Non-Null Count  Dtype  \n",
      "---  ------                  --------------  -----  \n",
      " 0   Unnamed: 0              8404 non-null   int64  \n",
      " 1   Address                 8404 non-null   object \n",
      " 2   Species                 8404 non-null   object \n",
      " 3   Block                   8404 non-null   int64  \n",
      " 4   Street                  8404 non-null   object \n",
      " 5   Trap                    8404 non-null   object \n",
      " 6   AddressNumberAndStreet  8404 non-null   object \n",
      " 7   Latitude                8404 non-null   float64\n",
      " 8   Longitude               8404 non-null   float64\n",
      " 9   Latitude1               8404 non-null   float64\n",
      " 10  Longitude1              8404 non-null   float64\n",
      " 11  AddressAccuracy         8404 non-null   int64  \n",
      " 12  NumMosquitos            8404 non-null   int64  \n",
      "dtypes: float64(4), int64(4), object(5)\n",
      "memory usage: 853.7+ KB\n"
     ]
    }
   ],
   "source": [
    "X_train.info()"
   ]
  },
  {
   "cell_type": "markdown",
   "id": "d278be68",
   "metadata": {},
   "source": [
    "# Without Feature Generation"
   ]
  },
  {
   "cell_type": "code",
   "execution_count": 5,
   "id": "f074626a",
   "metadata": {
    "scrolled": true
   },
   "outputs": [],
   "source": [
    "experiment = make_experiment(train_data.copy(), target='WnvPresent',\n",
    "                             reward_metric='f1', \n",
    "                             random_state=8888, max_trials=30,\n",
    "                             class_balancing='ClassWeight') #'RandomUnderSampling')\n",
    "estimator = experiment.run()"
   ]
  },
  {
   "cell_type": "code",
   "execution_count": 6,
   "id": "1c91411d",
   "metadata": {},
   "outputs": [
    {
     "data": {
      "text/plain": [
       "0.2196796338672769"
      ]
     },
     "execution_count": 6,
     "metadata": {},
     "output_type": "execute_result"
    }
   ],
   "source": [
    "scorer = metric_to_scoring('f1',pos_label=1)\n",
    "score = scorer(estimator, X_test, y_test)*scorer._sign\n",
    "score"
   ]
  },
  {
   "cell_type": "markdown",
   "id": "45cda04b",
   "metadata": {},
   "source": [
    "# About Feature Generation\n",
    "\n",
    "See [FeatureTools](https://github.com/alteryx/featuretools) for more datails"
   ]
  },
  {
   "cell_type": "code",
   "execution_count": 7,
   "id": "5c032885",
   "metadata": {
    "scrolled": true
   },
   "outputs": [],
   "source": [
    "from hypernets.tabular.feature_generators import FeatureGenerationTransformer\n",
    "train_data['latlong1'] = train_data[['Latitude', 'Longitude']].apply(tuple, axis=1)\n",
    "test_data['latlong1'] = test_data[['Latitude', 'Longitude']].apply(tuple, axis=1)\n",
    "train_data['latlong2'] = train_data[['Latitude1', 'Longitude1']].apply(tuple, axis=1)\n",
    "test_data['latlong2'] = test_data[['Latitude1', 'Longitude1']].apply(tuple, axis=1)\n",
    "X_train = train_data.copy()\n",
    "y_train = X_train.pop('WnvPresent')\n",
    "X_test = test_data.copy()\n",
    "y_test = X_test.pop('WnvPresent')"
   ]
  },
  {
   "cell_type": "code",
   "execution_count": 8,
   "id": "5d6eaab0",
   "metadata": {},
   "outputs": [],
   "source": [
    "featureGenerationTransformer = FeatureGenerationTransformer(latlong_cols=['latlong1','latlong2'])\n",
    "featureGenerationTransformer.fit(pd.DataFrame(train_data[['latlong1','latlong2']]))\n",
    "X_test_new = featureGenerationTransformer.transform(pd.DataFrame(test_data[['latlong1','latlong2']]))"
   ]
  },
  {
   "cell_type": "code",
   "execution_count": 9,
   "id": "51357f05",
   "metadata": {},
   "outputs": [
    {
     "name": "stdout",
     "output_type": "stream",
     "text": [
      "<class 'pandas.core.frame.DataFrame'>\n",
      "Int64Index: 2102 entries, 0 to 2101\n",
      "Data columns (total 5 columns):\n",
      " #   Column                                                 Non-Null Count  Dtype  \n",
      "---  ------                                                 --------------  -----  \n",
      " 0   latlong1                                               2102 non-null   object \n",
      " 1   latlong2                                               2102 non-null   object \n",
      " 2   GEOHASH__latlong1__                                    2102 non-null   object \n",
      " 3   GEOHASH__latlong2__                                    2102 non-null   object \n",
      " 4   HAVERSINE__latlong1____latlong2____unit__kilometers__  2102 non-null   float64\n",
      "dtypes: float64(1), object(4)\n",
      "memory usage: 98.5+ KB\n"
     ]
    }
   ],
   "source": [
    "X_test_new.info()"
   ]
  },
  {
   "cell_type": "code",
   "execution_count": 10,
   "id": "44a3d904",
   "metadata": {},
   "outputs": [
    {
     "data": {
      "text/html": [
       "<div>\n",
       "<style scoped>\n",
       "    .dataframe tbody tr th:only-of-type {\n",
       "        vertical-align: middle;\n",
       "    }\n",
       "\n",
       "    .dataframe tbody tr th {\n",
       "        vertical-align: top;\n",
       "    }\n",
       "\n",
       "    .dataframe thead th {\n",
       "        text-align: right;\n",
       "    }\n",
       "</style>\n",
       "<table border=\"1\" class=\"dataframe\">\n",
       "  <thead>\n",
       "    <tr style=\"text-align: right;\">\n",
       "      <th></th>\n",
       "      <th>latlong1</th>\n",
       "      <th>latlong2</th>\n",
       "      <th>GEOHASH__latlong1__</th>\n",
       "      <th>GEOHASH__latlong2__</th>\n",
       "      <th>HAVERSINE__latlong1____latlong2____unit__kilometers__</th>\n",
       "    </tr>\n",
       "    <tr>\n",
       "      <th>e_hypernets_ft_index</th>\n",
       "      <th></th>\n",
       "      <th></th>\n",
       "      <th></th>\n",
       "      <th></th>\n",
       "      <th></th>\n",
       "    </tr>\n",
       "  </thead>\n",
       "  <tbody>\n",
       "    <tr>\n",
       "      <th>0</th>\n",
       "      <td>(41.948167, -87.730698)</td>\n",
       "      <td>(32.6010112, -86.6807365)</td>\n",
       "      <td>dp3weskmy945</td>\n",
       "      <td>djf37wc48kyq</td>\n",
       "      <td>1043.476383</td>\n",
       "    </tr>\n",
       "    <tr>\n",
       "      <th>1</th>\n",
       "      <td>(41.903002, -87.688267)</td>\n",
       "      <td>(61.3025006, -158.7750198)</td>\n",
       "      <td>dp3wks5qem9p</td>\n",
       "      <td>b6zhdzz8cykk</td>\n",
       "      <td>5052.504275</td>\n",
       "    </tr>\n",
       "    <tr>\n",
       "      <th>2</th>\n",
       "      <td>(41.974689, -87.890615)</td>\n",
       "      <td>(34.1682185, -111.930907)</td>\n",
       "      <td>dp3wb12021pk</td>\n",
       "      <td>9w06kunkkcd6</td>\n",
       "      <td>2266.646309</td>\n",
       "    </tr>\n",
       "    <tr>\n",
       "      <th>3</th>\n",
       "      <td>(41.869107, -87.696293)</td>\n",
       "      <td>(34.7519275, -92.1313784)</td>\n",
       "      <td>dp3whqj90r0r</td>\n",
       "      <td>9ynmxqruxkc4</td>\n",
       "      <td>880.605092</td>\n",
       "    </tr>\n",
       "    <tr>\n",
       "      <th>4</th>\n",
       "      <td>(41.825902, -87.667827)</td>\n",
       "      <td>(37.2718745, -119.2704153)</td>\n",
       "      <td>dp3tvn4jx94p</td>\n",
       "      <td>9qehjcjumuur</td>\n",
       "      <td>2740.466848</td>\n",
       "    </tr>\n",
       "  </tbody>\n",
       "</table>\n",
       "</div>"
      ],
      "text/plain": [
       "                                     latlong1                    latlong2  \\\n",
       "e_hypernets_ft_index                                                        \n",
       "0                     (41.948167, -87.730698)   (32.6010112, -86.6807365)   \n",
       "1                     (41.903002, -87.688267)  (61.3025006, -158.7750198)   \n",
       "2                     (41.974689, -87.890615)   (34.1682185, -111.930907)   \n",
       "3                     (41.869107, -87.696293)   (34.7519275, -92.1313784)   \n",
       "4                     (41.825902, -87.667827)  (37.2718745, -119.2704153)   \n",
       "\n",
       "                     GEOHASH__latlong1__ GEOHASH__latlong2__  \\\n",
       "e_hypernets_ft_index                                           \n",
       "0                           dp3weskmy945        djf37wc48kyq   \n",
       "1                           dp3wks5qem9p        b6zhdzz8cykk   \n",
       "2                           dp3wb12021pk        9w06kunkkcd6   \n",
       "3                           dp3whqj90r0r        9ynmxqruxkc4   \n",
       "4                           dp3tvn4jx94p        9qehjcjumuur   \n",
       "\n",
       "                      HAVERSINE__latlong1____latlong2____unit__kilometers__  \n",
       "e_hypernets_ft_index                                                         \n",
       "0                                                           1043.476383      \n",
       "1                                                           5052.504275      \n",
       "2                                                           2266.646309      \n",
       "3                                                            880.605092      \n",
       "4                                                           2740.466848      "
      ]
     },
     "execution_count": 10,
     "metadata": {},
     "output_type": "execute_result"
    }
   ],
   "source": [
    "X_test_new.head()"
   ]
  },
  {
   "cell_type": "markdown",
   "id": "be594fa1",
   "metadata": {},
   "source": [
    "# Enable Feature Generation in HyperGBM\n",
    "\n",
    "Set `feature_generation=True` to enable feature generation in HyperGBM experiment. Possible options:\n",
    "* feature_generation : bool (default False), whether to enable feature generation.\n",
    "* feature_generation_trans_primitives: list (default None), FeatureTools transform primitives list.\n",
    "* feature_generation_categories_cols: list (default None), column name list to generate new features as FeatureTools Categorical variables.\n",
    "* feature_generation_continuous_cols: list (default detected from X_train), column name list to generate new features as FeatureTools Numeric variables.\n",
    "* feature_generation_datetime_cols: list (default detected from X_train), column name list to generate new features as FeatureTools Datetime variables.\n",
    "* feature_generation_latlong_cols: list (default None), column name list to generate new features as FeatureTools LatLong variables.\n",
    "* feature_generation_text_cols: list (default None), column name list to generate new features as FeatureTools Text(NaturalLanguage) variables."
   ]
  },
  {
   "cell_type": "code",
   "execution_count": 11,
   "id": "1c3bcccd",
   "metadata": {
    "scrolled": true,
    "tags": []
   },
   "outputs": [],
   "source": [
    "experiment = make_experiment(train_data.copy(), target='WnvPresent',\n",
    "                             reward_metric='f1', \n",
    "                             random_state=8888, max_trials=30,  class_balancing='ClassWeight',\n",
    "                             feature_generation=True, \n",
    "                            )\n",
    "estimator = experiment.run()"
   ]
  },
  {
   "cell_type": "code",
   "execution_count": 12,
   "id": "382b49e2-cc6d-4808-9118-345ff40393f6",
   "metadata": {
    "tags": []
   },
   "outputs": [
    {
     "data": {
      "text/plain": [
       "[('data_clean',\n",
       "  DataCleanStep(cv=True,\n",
       "                data_cleaner_args={'correct_object_dtype': True,\n",
       "                                   'drop_columns': None,\n",
       "                                   'drop_constant_columns': True,\n",
       "                                   'drop_duplicated_columns': False,\n",
       "                                   'drop_idness_columns': True,\n",
       "                                   'drop_label_nan_rows': True,\n",
       "                                   'int_convert_to': 'float', 'nan_chars': None,\n",
       "                                   'reduce_mem_usage': False,\n",
       "                                   'reserve_columns': ['latlong1', 'latlong2',\n",
       "                                                       'Address',\n",
       "                                                       'AddressNumberAndStreet']},\n",
       "                name='data_clean')),\n",
       " ('feature_generation',\n",
       "  FeatureGenerationStep(datetime_cols=[], latlong_cols=['latlong1', 'latlong2'],\n",
       "                        name='feature_generation',\n",
       "                        text_cols=['Address', 'AddressNumberAndStreet'])),\n",
       " ('estimator',\n",
       "  GreedyEnsemble(weight=[0.1, 0.0, 0.0, 0.0, 0.0, 0.0, 0.2, 0.6, 0.0, 0.0, 0.0, 0.0, 0.0, 0.05, 0.05, 0.0, 0.0, 0.0], scores=[0.23741007194244607, 0.2433288104929896, 0.24368231046931407, 0.24414414414414418, 0.24409799554565703, 0.24355555555555555, 0.24301552106430155, 0.24347056219566177, 0.2421328671328671, 0.2430795847750865, 0.24388149420352084, 0.24356775300171526, 0.24271012006861065, 0.24250214224507283, 0.24208725406330195, 0.2419837537409149, 0.24177701836821872, 0.24157063593683312, 0.24085106382978724, 0.24160488443087655]))]"
      ]
     },
     "execution_count": 12,
     "metadata": {},
     "output_type": "execute_result"
    }
   ],
   "source": [
    "estimator.steps"
   ]
  },
  {
   "cell_type": "code",
   "execution_count": null,
   "id": "68eda019-e1cb-4058-8494-fcf61d555130",
   "metadata": {},
   "outputs": [],
   "source": []
  },
  {
   "cell_type": "code",
   "execution_count": 13,
   "id": "93b59352",
   "metadata": {},
   "outputs": [
    {
     "data": {
      "text/plain": [
       "0.22807017543859642"
      ]
     },
     "execution_count": 13,
     "metadata": {},
     "output_type": "execute_result"
    }
   ],
   "source": [
    "scorer = metric_to_scoring('f1' )\n",
    "score = scorer(estimator, X_test, y_test)\n",
    "score"
   ]
  },
  {
   "cell_type": "code",
   "execution_count": null,
   "id": "7d77c2da-7ab1-4a83-963e-25ae424b7f15",
   "metadata": {},
   "outputs": [],
   "source": []
  }
 ],
 "metadata": {
  "kernelspec": {
   "display_name": "Python 3 (ipykernel)",
   "language": "python",
   "name": "python3"
  },
  "language_info": {
   "codemirror_mode": {
    "name": "ipython",
    "version": 3
   },
   "file_extension": ".py",
   "mimetype": "text/x-python",
   "name": "python",
   "nbconvert_exporter": "python",
   "pygments_lexer": "ipython3",
   "version": "3.8.12"
  }
 },
 "nbformat": 4,
 "nbformat_minor": 5
}
