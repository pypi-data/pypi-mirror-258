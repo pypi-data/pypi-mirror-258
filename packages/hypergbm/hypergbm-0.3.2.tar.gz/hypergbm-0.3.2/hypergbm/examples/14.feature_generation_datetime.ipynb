{
 "cells": [
  {
   "cell_type": "markdown",
   "id": "50ed32de",
   "metadata": {},
   "source": [
    "## Prepare train_data and test_data"
   ]
  },
  {
   "cell_type": "code",
   "execution_count": 1,
   "id": "b3b0c7d4",
   "metadata": {},
   "outputs": [],
   "source": [
    "import pandas as pd\n",
    "from sklearn.model_selection import train_test_split\n",
    "from hypergbm import make_experiment\n",
    "from hypernets.tabular.metrics import metric_to_scoring"
   ]
  },
  {
   "cell_type": "code",
   "execution_count": 2,
   "id": "913bfc32",
   "metadata": {},
   "outputs": [],
   "source": [
    "data = pd.read_csv('datasets/Metro_Interstate_Traffic_Volume/data.csv.gz')"
   ]
  },
  {
   "cell_type": "code",
   "execution_count": 3,
   "id": "0026dcee",
   "metadata": {},
   "outputs": [
    {
     "data": {
      "text/html": [
       "<div>\n",
       "<style scoped>\n",
       "    .dataframe tbody tr th:only-of-type {\n",
       "        vertical-align: middle;\n",
       "    }\n",
       "\n",
       "    .dataframe tbody tr th {\n",
       "        vertical-align: top;\n",
       "    }\n",
       "\n",
       "    .dataframe thead th {\n",
       "        text-align: right;\n",
       "    }\n",
       "</style>\n",
       "<table border=\"1\" class=\"dataframe\">\n",
       "  <thead>\n",
       "    <tr style=\"text-align: right;\">\n",
       "      <th></th>\n",
       "      <th>holiday</th>\n",
       "      <th>temp</th>\n",
       "      <th>rain_1h</th>\n",
       "      <th>snow_1h</th>\n",
       "      <th>clouds_all</th>\n",
       "      <th>weather_main</th>\n",
       "      <th>weather_description</th>\n",
       "      <th>date_time</th>\n",
       "      <th>traffic_volume</th>\n",
       "    </tr>\n",
       "  </thead>\n",
       "  <tbody>\n",
       "    <tr>\n",
       "      <th>0</th>\n",
       "      <td>None</td>\n",
       "      <td>288.28</td>\n",
       "      <td>0.0</td>\n",
       "      <td>0.0</td>\n",
       "      <td>40</td>\n",
       "      <td>Clouds</td>\n",
       "      <td>scattered clouds</td>\n",
       "      <td>2012-10-02 09:00:00</td>\n",
       "      <td>5545</td>\n",
       "    </tr>\n",
       "    <tr>\n",
       "      <th>1</th>\n",
       "      <td>None</td>\n",
       "      <td>289.36</td>\n",
       "      <td>0.0</td>\n",
       "      <td>0.0</td>\n",
       "      <td>75</td>\n",
       "      <td>Clouds</td>\n",
       "      <td>broken clouds</td>\n",
       "      <td>2012-10-02 10:00:00</td>\n",
       "      <td>4516</td>\n",
       "    </tr>\n",
       "    <tr>\n",
       "      <th>2</th>\n",
       "      <td>None</td>\n",
       "      <td>289.58</td>\n",
       "      <td>0.0</td>\n",
       "      <td>0.0</td>\n",
       "      <td>90</td>\n",
       "      <td>Clouds</td>\n",
       "      <td>overcast clouds</td>\n",
       "      <td>2012-10-02 11:00:00</td>\n",
       "      <td>4767</td>\n",
       "    </tr>\n",
       "    <tr>\n",
       "      <th>3</th>\n",
       "      <td>None</td>\n",
       "      <td>290.13</td>\n",
       "      <td>0.0</td>\n",
       "      <td>0.0</td>\n",
       "      <td>90</td>\n",
       "      <td>Clouds</td>\n",
       "      <td>overcast clouds</td>\n",
       "      <td>2012-10-02 12:00:00</td>\n",
       "      <td>5026</td>\n",
       "    </tr>\n",
       "    <tr>\n",
       "      <th>4</th>\n",
       "      <td>None</td>\n",
       "      <td>291.14</td>\n",
       "      <td>0.0</td>\n",
       "      <td>0.0</td>\n",
       "      <td>75</td>\n",
       "      <td>Clouds</td>\n",
       "      <td>broken clouds</td>\n",
       "      <td>2012-10-02 13:00:00</td>\n",
       "      <td>4918</td>\n",
       "    </tr>\n",
       "  </tbody>\n",
       "</table>\n",
       "</div>"
      ],
      "text/plain": [
       "  holiday    temp  rain_1h  snow_1h  clouds_all weather_main  \\\n",
       "0    None  288.28      0.0      0.0          40       Clouds   \n",
       "1    None  289.36      0.0      0.0          75       Clouds   \n",
       "2    None  289.58      0.0      0.0          90       Clouds   \n",
       "3    None  290.13      0.0      0.0          90       Clouds   \n",
       "4    None  291.14      0.0      0.0          75       Clouds   \n",
       "\n",
       "  weather_description            date_time  traffic_volume  \n",
       "0    scattered clouds  2012-10-02 09:00:00            5545  \n",
       "1       broken clouds  2012-10-02 10:00:00            4516  \n",
       "2     overcast clouds  2012-10-02 11:00:00            4767  \n",
       "3     overcast clouds  2012-10-02 12:00:00            5026  \n",
       "4       broken clouds  2012-10-02 13:00:00            4918  "
      ]
     },
     "execution_count": 3,
     "metadata": {},
     "output_type": "execute_result"
    }
   ],
   "source": [
    "data.head()"
   ]
  },
  {
   "cell_type": "code",
   "execution_count": 4,
   "id": "e6ce2ec3",
   "metadata": {},
   "outputs": [
    {
     "name": "stdout",
     "output_type": "stream",
     "text": [
      "<class 'pandas.core.frame.DataFrame'>\n",
      "RangeIndex: 48204 entries, 0 to 48203\n",
      "Data columns (total 9 columns):\n",
      " #   Column               Non-Null Count  Dtype  \n",
      "---  ------               --------------  -----  \n",
      " 0   holiday              48204 non-null  object \n",
      " 1   temp                 48204 non-null  float64\n",
      " 2   rain_1h              48204 non-null  float64\n",
      " 3   snow_1h              48204 non-null  float64\n",
      " 4   clouds_all           48204 non-null  int64  \n",
      " 5   weather_main         48204 non-null  object \n",
      " 6   weather_description  48204 non-null  object \n",
      " 7   date_time            48204 non-null  object \n",
      " 8   traffic_volume       48204 non-null  int64  \n",
      "dtypes: float64(3), int64(2), object(4)\n",
      "memory usage: 3.3+ MB\n"
     ]
    }
   ],
   "source": [
    "data.info()"
   ]
  },
  {
   "cell_type": "code",
   "execution_count": 5,
   "id": "3cd131ef",
   "metadata": {},
   "outputs": [],
   "source": [
    "##Transform data_time' dtype to datetime\n",
    "data.date_time = pd.to_datetime(data.date_time)"
   ]
  },
  {
   "cell_type": "code",
   "execution_count": 6,
   "id": "69b9e4f2",
   "metadata": {},
   "outputs": [],
   "source": [
    "train_data,test_data = train_test_split(data,test_size=0.2)\n",
    "X_train = train_data.copy()\n",
    "y_train = X_train.pop('traffic_volume')\n",
    "X_test = test_data.copy()\n",
    "y_test = X_test.pop('traffic_volume')"
   ]
  },
  {
   "cell_type": "markdown",
   "id": "b13e6f1f",
   "metadata": {},
   "source": [
    "# Without Feature Generation\n"
   ]
  },
  {
   "cell_type": "code",
   "execution_count": 7,
   "id": "c9afdb67",
   "metadata": {
    "scrolled": true
   },
   "outputs": [],
   "source": [
    "experiment = make_experiment(train_data.copy(), target='traffic_volume',\n",
    "                             random_state=8888,max_trials=10)\n",
    "estimator = experiment.run()"
   ]
  },
  {
   "cell_type": "code",
   "execution_count": 8,
   "id": "83c39212",
   "metadata": {},
   "outputs": [
    {
     "data": {
      "text/plain": [
       "1880.6791797381823"
      ]
     },
     "execution_count": 8,
     "metadata": {},
     "output_type": "execute_result"
    }
   ],
   "source": [
    "scorer = metric_to_scoring('rmse')\n",
    "score = scorer(estimator, X_test, y_test)*scorer._sign\n",
    "score"
   ]
  },
  {
   "cell_type": "markdown",
   "id": "45cda04b",
   "metadata": {},
   "source": [
    "# About Feature Generation\n",
    "\n",
    "See [FeatureTools](https://github.com/alteryx/featuretools) for more datails"
   ]
  },
  {
   "cell_type": "code",
   "execution_count": 9,
   "id": "b184c2fc",
   "metadata": {},
   "outputs": [],
   "source": [
    "from hypernets.tabular.feature_generators import FeatureGenerationTransformer\n",
    "featureGenerationTransformer = FeatureGenerationTransformer(datetime_cols=['date_time'])\n",
    "featureGenerationTransformer.fit(pd.DataFrame(X_train['date_time']))\n",
    "X_test_new = featureGenerationTransformer.transform(pd.DataFrame(X_test['date_time']))"
   ]
  },
  {
   "cell_type": "code",
   "execution_count": 10,
   "id": "51357f05",
   "metadata": {},
   "outputs": [
    {
     "name": "stdout",
     "output_type": "stream",
     "text": [
      "<class 'pandas.core.frame.DataFrame'>\n",
      "Int64Index: 9641 entries, 0 to 9640\n",
      "Data columns (total 9 columns):\n",
      " #   Column                   Non-Null Count  Dtype         \n",
      "---  ------                   --------------  -----         \n",
      " 0   date_time                9641 non-null   datetime64[ns]\n",
      " 1   DAY__date_time__         9641 non-null   int64         \n",
      " 2   HOUR__date_time__        9641 non-null   int64         \n",
      " 3   IS_WEEKEND__date_time__  9641 non-null   int64         \n",
      " 4   MINUTE__date_time__      9641 non-null   int64         \n",
      " 5   MONTH__date_time__       9641 non-null   int64         \n",
      " 6   SECOND__date_time__      9641 non-null   int64         \n",
      " 7   WEEK__date_time__        9641 non-null   int64         \n",
      " 8   WEEKDAY__date_time__     9641 non-null   int64         \n",
      "dtypes: datetime64[ns](1), int64(8)\n",
      "memory usage: 753.2 KB\n"
     ]
    }
   ],
   "source": [
    "X_test_new.info()"
   ]
  },
  {
   "cell_type": "code",
   "execution_count": 11,
   "id": "44a3d904",
   "metadata": {},
   "outputs": [
    {
     "data": {
      "text/html": [
       "<div>\n",
       "<style scoped>\n",
       "    .dataframe tbody tr th:only-of-type {\n",
       "        vertical-align: middle;\n",
       "    }\n",
       "\n",
       "    .dataframe tbody tr th {\n",
       "        vertical-align: top;\n",
       "    }\n",
       "\n",
       "    .dataframe thead th {\n",
       "        text-align: right;\n",
       "    }\n",
       "</style>\n",
       "<table border=\"1\" class=\"dataframe\">\n",
       "  <thead>\n",
       "    <tr style=\"text-align: right;\">\n",
       "      <th></th>\n",
       "      <th>date_time</th>\n",
       "      <th>DAY__date_time__</th>\n",
       "      <th>HOUR__date_time__</th>\n",
       "      <th>IS_WEEKEND__date_time__</th>\n",
       "      <th>MINUTE__date_time__</th>\n",
       "      <th>MONTH__date_time__</th>\n",
       "      <th>SECOND__date_time__</th>\n",
       "      <th>WEEK__date_time__</th>\n",
       "      <th>WEEKDAY__date_time__</th>\n",
       "    </tr>\n",
       "    <tr>\n",
       "      <th>e_hypernets_ft_index</th>\n",
       "      <th></th>\n",
       "      <th></th>\n",
       "      <th></th>\n",
       "      <th></th>\n",
       "      <th></th>\n",
       "      <th></th>\n",
       "      <th></th>\n",
       "      <th></th>\n",
       "      <th></th>\n",
       "    </tr>\n",
       "  </thead>\n",
       "  <tbody>\n",
       "    <tr>\n",
       "      <th>0</th>\n",
       "      <td>2017-01-10 08:00:00</td>\n",
       "      <td>10</td>\n",
       "      <td>8</td>\n",
       "      <td>0</td>\n",
       "      <td>0</td>\n",
       "      <td>1</td>\n",
       "      <td>0</td>\n",
       "      <td>2</td>\n",
       "      <td>1</td>\n",
       "    </tr>\n",
       "    <tr>\n",
       "      <th>1</th>\n",
       "      <td>2018-07-17 18:00:00</td>\n",
       "      <td>17</td>\n",
       "      <td>18</td>\n",
       "      <td>0</td>\n",
       "      <td>0</td>\n",
       "      <td>7</td>\n",
       "      <td>0</td>\n",
       "      <td>29</td>\n",
       "      <td>1</td>\n",
       "    </tr>\n",
       "    <tr>\n",
       "      <th>2</th>\n",
       "      <td>2018-08-24 11:00:00</td>\n",
       "      <td>24</td>\n",
       "      <td>11</td>\n",
       "      <td>0</td>\n",
       "      <td>0</td>\n",
       "      <td>8</td>\n",
       "      <td>0</td>\n",
       "      <td>34</td>\n",
       "      <td>4</td>\n",
       "    </tr>\n",
       "    <tr>\n",
       "      <th>3</th>\n",
       "      <td>2012-11-23 04:00:00</td>\n",
       "      <td>23</td>\n",
       "      <td>4</td>\n",
       "      <td>0</td>\n",
       "      <td>0</td>\n",
       "      <td>11</td>\n",
       "      <td>0</td>\n",
       "      <td>47</td>\n",
       "      <td>4</td>\n",
       "    </tr>\n",
       "    <tr>\n",
       "      <th>4</th>\n",
       "      <td>2016-11-15 02:00:00</td>\n",
       "      <td>15</td>\n",
       "      <td>2</td>\n",
       "      <td>0</td>\n",
       "      <td>0</td>\n",
       "      <td>11</td>\n",
       "      <td>0</td>\n",
       "      <td>46</td>\n",
       "      <td>1</td>\n",
       "    </tr>\n",
       "  </tbody>\n",
       "</table>\n",
       "</div>"
      ],
      "text/plain": [
       "                               date_time  DAY__date_time__  HOUR__date_time__  \\\n",
       "e_hypernets_ft_index                                                            \n",
       "0                    2017-01-10 08:00:00                10                  8   \n",
       "1                    2018-07-17 18:00:00                17                 18   \n",
       "2                    2018-08-24 11:00:00                24                 11   \n",
       "3                    2012-11-23 04:00:00                23                  4   \n",
       "4                    2016-11-15 02:00:00                15                  2   \n",
       "\n",
       "                      IS_WEEKEND__date_time__  MINUTE__date_time__  \\\n",
       "e_hypernets_ft_index                                                 \n",
       "0                                           0                    0   \n",
       "1                                           0                    0   \n",
       "2                                           0                    0   \n",
       "3                                           0                    0   \n",
       "4                                           0                    0   \n",
       "\n",
       "                      MONTH__date_time__  SECOND__date_time__  \\\n",
       "e_hypernets_ft_index                                            \n",
       "0                                      1                    0   \n",
       "1                                      7                    0   \n",
       "2                                      8                    0   \n",
       "3                                     11                    0   \n",
       "4                                     11                    0   \n",
       "\n",
       "                      WEEK__date_time__  WEEKDAY__date_time__  \n",
       "e_hypernets_ft_index                                           \n",
       "0                                     2                     1  \n",
       "1                                    29                     1  \n",
       "2                                    34                     4  \n",
       "3                                    47                     4  \n",
       "4                                    46                     1  "
      ]
     },
     "execution_count": 11,
     "metadata": {},
     "output_type": "execute_result"
    }
   ],
   "source": [
    "X_test_new.head()"
   ]
  },
  {
   "cell_type": "markdown",
   "id": "4fee1c7a",
   "metadata": {},
   "source": [
    "# Enable Feature Generation in HyperGBM\n",
    "\n",
    "Set `feature_generation=True` to enable feature generation in HyperGBM experiment. Possible options:\n",
    "* feature_generation : bool (default False), whether to enable feature generation.\n",
    "* feature_generation_trans_primitives: list (default None), FeatureTools transform primitives list.\n",
    "* feature_generation_categories_cols: list (default None), column name list to generate new features as FeatureTools Categorical variables.\n",
    "* feature_generation_continuous_cols: list (default detected from X_train), column name list to generate new features as FeatureTools Numeric variables.\n",
    "* feature_generation_datetime_cols: list (default detected from X_train), column name list to generate new features as FeatureTools Datetime variables.\n",
    "* feature_generation_latlong_cols: list (default None), column name list to generate new features as FeatureTools LatLong variables.\n",
    "* feature_generation_text_cols: list (default None), column name list to generate new features as FeatureTools Text(NaturalLanguage) variables."
   ]
  },
  {
   "cell_type": "code",
   "execution_count": 12,
   "id": "ad9abe14",
   "metadata": {},
   "outputs": [],
   "source": [
    "experiment = make_experiment(train_data.copy(), target='traffic_volume',\n",
    "                             random_state=8888, max_trials=10,\n",
    "                             feature_generation=True,\n",
    "#                              feature_generation_datetime_cols=['date_time'],\n",
    "                            )\n",
    "estimator = experiment.run()"
   ]
  },
  {
   "cell_type": "code",
   "execution_count": 13,
   "id": "607270f5-c01e-4f4d-b314-8a39bd661eba",
   "metadata": {},
   "outputs": [
    {
     "data": {
      "text/plain": [
       "[('data_clean',\n",
       "  DataCleanStep(cv=True,\n",
       "                data_cleaner_args={'correct_object_dtype': True,\n",
       "                                   'drop_columns': None,\n",
       "                                   'drop_constant_columns': True,\n",
       "                                   'drop_duplicated_columns': False,\n",
       "                                   'drop_idness_columns': True,\n",
       "                                   'drop_label_nan_rows': True,\n",
       "                                   'int_convert_to': 'float', 'nan_chars': None,\n",
       "                                   'reduce_mem_usage': False,\n",
       "                                   'reserve_columns': ['date_time']},\n",
       "                name='data_clean')),\n",
       " ('feature_generation',\n",
       "  FeatureGenerationStep(datetime_cols=['date_time'], latlong_cols=[],\n",
       "                        name='feature_generation', text_cols=[])),\n",
       " ('estimator',\n",
       "  GreedyEnsemble(weight=[1.0, 0.0, 0.0, 0.0, 0.0, 0.0, 0.0, 0.0, 0.0, 0.0], scores=[-331.35453353661273, -331.35453353661273, -331.35453353661273, -331.35453353661273, -331.35453353661273, -331.35453353661273, -331.35453353661273, -331.35453353661273, -331.35453353661273, -331.35453353661273, -331.35453353661273, -331.35453353661273, -331.35453353661273, -331.35453353661273, -331.35453353661273, -331.35453353661273, -331.35453353661273, -331.3545335366128, -331.35453353661273, -331.35453353661273]))]"
      ]
     },
     "execution_count": 13,
     "metadata": {},
     "output_type": "execute_result"
    }
   ],
   "source": [
    "estimator.steps"
   ]
  },
  {
   "cell_type": "code",
   "execution_count": null,
   "id": "417cff52-391c-4905-b53f-683f5bbbebdc",
   "metadata": {},
   "outputs": [],
   "source": []
  },
  {
   "cell_type": "code",
   "execution_count": 14,
   "id": "215d35a4-927c-449f-9063-d8280a682ceb",
   "metadata": {},
   "outputs": [
    {
     "data": {
      "text/plain": [
       "316.9958244736899"
      ]
     },
     "execution_count": 14,
     "metadata": {},
     "output_type": "execute_result"
    }
   ],
   "source": [
    "scorer = metric_to_scoring('rmse')\n",
    "score = scorer(estimator, X_test, y_test)*scorer._sign\n",
    "score"
   ]
  },
  {
   "cell_type": "code",
   "execution_count": null,
   "id": "3a93fb0b",
   "metadata": {},
   "outputs": [],
   "source": []
  }
 ],
 "metadata": {
  "kernelspec": {
   "display_name": "Python 3 (ipykernel)",
   "language": "python",
   "name": "python3"
  },
  "language_info": {
   "codemirror_mode": {
    "name": "ipython",
    "version": 3
   },
   "file_extension": ".py",
   "mimetype": "text/x-python",
   "name": "python",
   "nbconvert_exporter": "python",
   "pygments_lexer": "ipython3",
   "version": "3.8.12"
  }
 },
 "nbformat": 4,
 "nbformat_minor": 5
}
