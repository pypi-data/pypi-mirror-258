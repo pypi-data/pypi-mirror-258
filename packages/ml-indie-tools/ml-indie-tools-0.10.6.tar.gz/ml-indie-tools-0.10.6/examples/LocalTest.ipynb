{
 "cells": [
  {
   "cell_type": "code",
   "execution_count": 2,
   "id": "d8570f4a-ae94-4c7d-8cfd-30397459d090",
   "metadata": {},
   "outputs": [],
   "source": [
    "%load_ext autoreload\n",
    "%autoreload 2"
   ]
  },
  {
   "cell_type": "code",
   "execution_count": 3,
   "id": "14a8e822-346d-4e6e-8885-d488055dc8c2",
   "metadata": {},
   "outputs": [],
   "source": [
    "import sys\n",
    "sys.path.append('../src/ml_indie_tools')  # Point to local module source"
   ]
  },
  {
   "cell_type": "code",
   "execution_count": 4,
   "id": "4ee64338-a79b-4bf2-9cb3-4777545a3890",
   "metadata": {},
   "outputs": [],
   "source": [
    "from env_tools import MLEnv"
   ]
  },
  {
   "cell_type": "code",
   "execution_count": 5,
   "id": "aee4ecf2-6c4c-4338-97dd-7512f85f7a56",
   "metadata": {},
   "outputs": [
    {
     "data": {
      "text/plain": [
       "'OS: Darwin, Python: 3.10.5 (Conda), Jupyter Notebook Tensorflow: 2.9.1, GPU: METAL'"
      ]
     },
     "execution_count": 5,
     "metadata": {},
     "output_type": "execute_result"
    }
   ],
   "source": [
    "ml=MLEnv(platform='tf', accelerator='gpu')\n",
    "ml.describe()"
   ]
  },
  {
   "cell_type": "code",
   "execution_count": 6,
   "id": "00a3323b-e3bc-44e2-a84e-287f0d63e6ca",
   "metadata": {},
   "outputs": [],
   "source": [
    "import logging\n",
    "logging.basicConfig(encoding='utf-8', level=logging.INFO)\n",
    "from Gutenberg_Dataset import Gutenberg_Dataset"
   ]
  },
  {
   "cell_type": "code",
   "execution_count": 7,
   "id": "eab38dc3-a202-4a20-aa56-1ddb68999d36",
   "metadata": {},
   "outputs": [],
   "source": [
    "# simply remove root_url parameter, if no local Gutenberg mirror is available, files are then downloaded on-demand\n",
    "gd=Gutenberg_Dataset()\n",
    "gd.load_index()"
   ]
  },
  {
   "cell_type": "code",
   "execution_count": 8,
   "id": "41c279fe-1fdd-4b1a-85c8-09c4e6b8fe78",
   "metadata": {},
   "outputs": [
    {
     "data": {
      "text/plain": [
       "\u001b[0;31mSignature:\u001b[0m \u001b[0mgd\u001b[0m\u001b[0;34m.\u001b[0m\u001b[0msearch\u001b[0m\u001b[0;34m(\u001b[0m\u001b[0msearch_dict\u001b[0m\u001b[0;34m)\u001b[0m\u001b[0;34m\u001b[0m\u001b[0;34m\u001b[0m\u001b[0m\n",
       "\u001b[0;31mDocstring:\u001b[0m\n",
       "Search for book record with key specific key values\n",
       "For a list of valid keys, use `get_record_keys()`\n",
       "Standard keys are: `ebook_id`, `author`, `language`, `title`\n",
       "\n",
       "*Note:* :func:`~Gutenberg_Dataset.Gutenberg_Dataset.load_index` needs to be called once before this function can be used.\n",
       "\n",
       "Example: `search({\"title\": [\"philosoph\",\"phenomen\",\"physic\",\"hermeneu\",\"logic\"], \"language\":\"english\"})`\n",
       "Find all books whose titles contain at least one of the keywords, language english. Search keys can either be\n",
       "search for a single keyword (e.g. english), or an array of keywords. \n",
       "\n",
       ":returns: list of records \n",
       "\u001b[0;31mFile:\u001b[0m      ~/gith/domschl/ml-indie-tools/src/ml_indie_tools/Gutenberg_Dataset.py\n",
       "\u001b[0;31mType:\u001b[0m      method\n"
      ]
     },
     "metadata": {},
     "output_type": "display_data"
    }
   ],
   "source": [
    "gd.search?"
   ]
  },
  {
   "cell_type": "code",
   "execution_count": 9,
   "id": "1e17f0c8-3e05-42f3-94c5-9fb3f485f220",
   "metadata": {},
   "outputs": [
    {
     "name": "stdout",
     "output_type": "stream",
     "text": [
      "8 books found.\n"
     ]
    }
   ],
   "source": [
    "sl=gd.search({'title': ['prole', 'hermen']})\n",
    "print(f\"{len(sl)} books found.\")"
   ]
  },
  {
   "cell_type": "code",
   "execution_count": 10,
   "id": "406c1e93-fc9c-4ea9-be6c-850ea7a53261",
   "metadata": {},
   "outputs": [],
   "source": [
    "sl2=gd.insert_book_texts(sl)"
   ]
  },
  {
   "cell_type": "code",
   "execution_count": 11,
   "id": "39af153d-6ea2-4ce1-9e0d-91923f04565e",
   "metadata": {},
   "outputs": [],
   "source": [
    "from Text_Dataset import *"
   ]
  },
  {
   "cell_type": "code",
   "execution_count": 12,
   "id": "27252f30-fbad-426c-a110-18b9cdd32456",
   "metadata": {},
   "outputs": [
    {
     "name": "stderr",
     "output_type": "stream",
     "text": [
      "INFO:Datasets:Loaded 8 texts\n"
     ]
    }
   ],
   "source": [
    "tl = Text_Dataset(sl2)"
   ]
  },
  {
   "cell_type": "code",
   "execution_count": 13,
   "id": "5a1e3c51-00ca-4a3c-a504-fbed2ada0ff8",
   "metadata": {},
   "outputs": [
    {
     "data": {
      "text/plain": [
       "8"
      ]
     },
     "execution_count": 13,
     "metadata": {},
     "output_type": "execute_result"
    }
   ],
   "source": [
    "len(tl.text_list)"
   ]
  },
  {
   "cell_type": "code",
   "execution_count": 14,
   "id": "69805c0b-3584-45e1-bd2c-0032822eb2cd",
   "metadata": {},
   "outputs": [
    {
     "name": "stdout",
     "output_type": "stream",
     "text": [
      "Legge Prolegomena\n",
      "hed scholar and officer, f the reign of Kwang-wu [2], the first emperor of the E\n",
      "\n",
      "Achter de schermen\n",
      "itmaal alles behalve vriendelijk.\n",
      "Bij zijn rit van de Gare du Nord door de Rue L\n",
      "\n",
      "Prolegomena to the Study of Hegel's Philosophy\n",
      "_: if each atom seems complete, they are subject to a\n",
      "necessity which forces the\n",
      "\n"
     ]
    }
   ],
   "source": [
    "for i in range(3):\n",
    "    idx, txt = tl.get_random_sample(80, weighted=False)\n",
    "    print(tl.text_list[idx]['title'])\n",
    "    print(txt)\n",
    "    print()"
   ]
  },
  {
   "cell_type": "code",
   "execution_count": 15,
   "id": "16c4f3d8-5e97-43ce-a791-d5f98d743d71",
   "metadata": {},
   "outputs": [
    {
     "data": {
      "text/plain": [
       "55518"
      ]
     },
     "execution_count": 15,
     "metadata": {},
     "output_type": "execute_result"
    }
   ],
   "source": [
    "len(gd.records)"
   ]
  },
  {
   "cell_type": "code",
   "execution_count": 16,
   "id": "a43d32e9-c2ca-4485-8d23-5d3b2a503c63",
   "metadata": {},
   "outputs": [],
   "source": [
    "lang={}\n",
    "for r in gd.records:\n",
    "    if 'language' in r:\n",
    "        l=r['language']\n",
    "    else:\n",
    "        l='<undefined>'\n",
    "    if l in lang:\n",
    "        lang[l]=lang[l]+1\n",
    "    else:\n",
    "        lang[l]=1"
   ]
  },
  {
   "cell_type": "code",
   "execution_count": 17,
   "id": "9c6a6814-0198-4fe4-966f-9c55db50488d",
   "metadata": {},
   "outputs": [
    {
     "data": {
      "text/plain": [
       "{'English': 44884,\n",
       " 'Dutch': 648,\n",
       " 'Finnish': 2122,\n",
       " 'French': 2599,\n",
       " 'Hungarian': 419,\n",
       " 'German': 1771,\n",
       " 'Spanish': 630,\n",
       " 'Portuguese': 414,\n",
       " 'Italian': 783,\n",
       " 'Chinese': 391,\n",
       " 'Welsh': 10,\n",
       " 'Swedish': 191,\n",
       " 'Latin': 77,\n",
       " 'Afrikaans': 10,\n",
       " 'Danish': 60,\n",
       " 'Esperanto': 89,\n",
       " 'Galician': 2,\n",
       " 'Romanian': 4,\n",
       " 'Englilsh': 1,\n",
       " 'Low German': 1,\n",
       " 'Catalan': 25,\n",
       " 'Frisian': 4,\n",
       " 'Hebrew': 5,\n",
       " 'Czech': 5,\n",
       " 'Slovenian': 2,\n",
       " 'Norwegian': 14,\n",
       " 'Greek': 193,\n",
       " 'English and French': 2,\n",
       " 'Pennsylvania Dutch': 1,\n",
       " 'Irish': 2,\n",
       " 'Telugu': 6,\n",
       " 'Scots': 1,\n",
       " 'Cebuano': 2,\n",
       " 'Tagalog': 39,\n",
       " 'Latin and English side by side': 1,\n",
       " 'Estonian': 1,\n",
       " 'Arabic': 1,\n",
       " 'Japanese': 19,\n",
       " 'Ojibwa': 1,\n",
       " 'Scots Gaelic': 1,\n",
       " 'Polish': 17,\n",
       " 'Russian': 5,\n",
       " 'Friulian': 6,\n",
       " 'Portuguese & French': 1,\n",
       " 'English English': 1,\n",
       " 'Arapaho': 1,\n",
       " 'Bagobo and Spanish': 1,\n",
       " 'Inuktitut': 1,\n",
       " 'English, Latin, Spanish, and Italian': 1,\n",
       " 'Zh (Chinese)': 2,\n",
       " 'Zh': 1,\n",
       " 'Czech and Esperanto': 1,\n",
       " 'Icelandic': 6,\n",
       " 'Venetian': 1,\n",
       " 'Kamilaroi and English': 1,\n",
       " 'Iloko, Spanish': 1,\n",
       " 'Spanish and English': 3,\n",
       " 'Interlingua': 1,\n",
       " 'Serbian': 2,\n",
       " 'French and English': 1,\n",
       " 'English, Spanish': 1,\n",
       " 'Iloko': 1,\n",
       " 'Latin and French': 1,\n",
       " 'Ilocano': 1,\n",
       " 'Spanish and Tagalog': 1,\n",
       " 'Quiche': 1,\n",
       " 'German and French': 1,\n",
       " 'Dutch and Flemish': 1,\n",
       " 'Nahuatl and English': 1,\n",
       " 'Latin with English and Greek (ancient)': 1,\n",
       " 'Latin and English': 3,\n",
       " 'English and Old English': 1,\n",
       " 'Slovak': 1,\n",
       " 'Yiddish': 1,\n",
       " 'English/Spanish': 1,\n",
       " 'Aleut': 1,\n",
       " 'Latin, French and English': 1,\n",
       " 'Sanskrit': 1,\n",
       " 'German, with English comments': 1,\n",
       " 'Swedish with English notes': 1,\n",
       " 'English and Latin': 2,\n",
       " 'Middle English and Latin': 1,\n",
       " 'Latin (with accompanying translation into English': 1,\n",
       " 'Latin, with notes in English': 1,\n",
       " 'English with some French': 1,\n",
       " 'Bulgarian': 5}"
      ]
     },
     "execution_count": 17,
     "metadata": {},
     "output_type": "execute_result"
    }
   ],
   "source": [
    "lang"
   ]
  },
  {
   "cell_type": "code",
   "execution_count": 18,
   "id": "3fbfee4b-4458-42a8-bc36-420dfbf14352",
   "metadata": {},
   "outputs": [
    {
     "name": "stdout",
     "output_type": "stream",
     "text": [
      "Prolegomena to the Study of Hegel's Philosophy\n",
      "_: if each atom seems complete, they are subject to a\n",
      "necessity which forces the\n"
     ]
    }
   ],
   "source": [
    "print(tl.text_list[idx]['title'])\n",
    "print(txt)\n",
    "    "
   ]
  },
  {
   "cell_type": "code",
   "execution_count": 19,
   "id": "48862f3c-1acd-4b6b-a999-342033d3ab3f",
   "metadata": {},
   "outputs": [
    {
     "data": {
      "text/plain": [
       "[0.08188722144927345,\n",
       " 0.31788877028439744,\n",
       " 0.3979209146719631,\n",
       " 0.4255873400904846,\n",
       " 0.45566459457643327,\n",
       " 0.508855955028702,\n",
       " 0.9110163376769016,\n",
       " 1.0]"
      ]
     },
     "execution_count": 19,
     "metadata": {},
     "output_type": "execute_result"
    }
   ],
   "source": [
    "tl.tcum[:10]"
   ]
  },
  {
   "cell_type": "code",
   "execution_count": 20,
   "id": "ef34dae3-87f8-4538-9ad4-37959016b784",
   "metadata": {},
   "outputs": [
    {
     "data": {
      "text/html": [
       "Wenn wir irgendwas schreiben, daß Teil aus der Source enthält, so wie: Das ist ihr Wahlspruch, dann erfolgt ein Highlight"
      ],
      "text/plain": [
       "<IPython.core.display.HTML object>"
      ]
     },
     "metadata": {},
     "output_type": "display_data"
    }
   ],
   "source": [
    "tl.source_highlight(\"Wenn wir irgendwas schreiben, daß Teil aus der Source enthält, so wie: Das ist ihr Wahlspruch, dann erfolgt ein Highlight\")"
   ]
  },
  {
   "cell_type": "code",
   "execution_count": 23,
   "id": "04839d8d-1499-46f8-96e7-d7a205df71cd",
   "metadata": {},
   "outputs": [
    {
     "data": {
      "text/html": [
       "If we writ<span style=\"background-color:#d4efdf;\">e anything t</span><sup>[7]</sup><span style=\"background-color:#ebdef0;\">hat contains </span><sup>[2]</sup><span style=\"background-color:#d4efdf;\">parts of the s</span><sup>[7]</sup>ources, like<span style=\"background-color:#ebdef0;\">: that is t</span><sup>[2]</sup><span style=\"background-color:#d4efdf;\">heir motto</span><sup>[7]</sup>, then a highligh<span style=\"background-color:#ebdef0;\">t will be a</span><sup>[2]</sup>pplied."
      ],
      "text/plain": [
       "<IPython.core.display.HTML object>"
      ]
     },
     "metadata": {},
     "output_type": "display_data"
    },
    {
     "data": {
      "text/html": [
       "<small><p style=\"text-align:right;\">Sources: <span style=\"background-color:#d4efdf;\">Julius Wellhausen: Prolegomena to the History of Israel</span><sup>[7]</sup>, <span style=\"background-color:#ebdef0;\">William Wallace and G. W. F. Hegel: Prolegomena to the Study of Hegel's Philosophy</span><sup>[2]</sup></p></small>"
      ],
      "text/plain": [
       "<IPython.core.display.HTML object>"
      ]
     },
     "metadata": {},
     "output_type": "display_data"
    }
   ],
   "source": [
    "tl.source_highlight(\"If we write anything that contains parts of the sources, like: that is their motto, then a highlight will be applied.\")"
   ]
  },
  {
   "cell_type": "code",
   "execution_count": 22,
   "id": "f3cb766b-1860-427d-bc72-1e9fcf784920",
   "metadata": {},
   "outputs": [
    {
     "name": "stdout",
     "output_type": "stream",
     "text": [
      "Text length 81, That would be a valid argument if we hadn't defeated it's assumptions way before.\n",
      "Token-count: 28, [1509, 3890, 1843, 1492, 1144, 2673, 2656, 1117, 3186, 2080, 3993, 2077, 1918, 46, 109, 2826, 1882, 2011, 1837, 47, 3078, 2299, 2370, 3327, 1608, 1988, 3363, 1898]\n"
     ]
    }
   ],
   "source": [
    "test_text=\"That would be a valid argument if we hadn't defeated it's assumptions way before.\"\n",
    "print(f\"Text length {len(test_text)}, {test_text}\")\n",
    "tokenizer='ngram'\n",
    "tl.init_tokenizer(tokenizer=tokenizer)\n",
    "st = tl.tokenize(test_text)\n",
    "print(f\"Token-count: {len(st)}, {st}\")"
   ]
  },
  {
   "cell_type": "code",
   "execution_count": 35,
   "id": "489412be-911f-48d8-84df-70e3949a69c1",
   "metadata": {},
   "outputs": [
    {
     "name": "stdout",
     "output_type": "stream",
     "text": [
      "Text length 84, ðƒ That would be a valid argument if we hadn't defeated it's assumptions way before.\n",
      "Token-count: 44, ['<unk>', '<unk>', '<wsep>', 1237, 1059, '<wsep>', 1919, '<wsep>', 1101, '<wsep>', 44, '<wsep>', 1765, 1215, '<wsep>', 4409, 2934, 1077, '<wsep>', 1298, '<wsep>', 1180, '<wsep>', 1420, 45, 108, 46, '<wsep>', 4360, 3065, 55, '<wsep>', 1064, 2275, '<wsep>', 1593, 1633, 2059, 57, '<wsep>', 1873, '<wsep>', 2081, 1409]\n"
     ]
    }
   ],
   "source": [
    "test2=\"ðƒ \"+test_text\n",
    "print(f\"Text length {len(test2)}, {test2}\")\n",
    "el=tl.encode(test2)\n",
    "print(f\"Token-count: {len(el)}, {el}\")"
   ]
  },
  {
   "cell_type": "code",
   "execution_count": null,
   "id": "5103e847-7019-4f3f-8b32-ae58b5c89dea",
   "metadata": {},
   "outputs": [],
   "source": []
  },
  {
   "cell_type": "code",
   "execution_count": 34,
   "id": "45249215-fba0-4643-a6e1-a9ab782ce899",
   "metadata": {},
   "outputs": [
    {
     "data": {
      "text/plain": [
       "\"<unk><unk> Th_at_ would_ be_ a_ val_id_ arg_ume_nt_ if_ we_ had_n_'_t_ def_eate_d_ it_'s_ ass_um_ption_s_ way_ befor_e._\""
      ]
     },
     "execution_count": 34,
     "metadata": {},
     "output_type": "execute_result"
    }
   ],
   "source": [
    "tl.decode(el, mark_separator=True)"
   ]
  },
  {
   "cell_type": "markdown",
   "id": "875bd979-7002-4118-9f37-9bcbf0f4b609",
   "metadata": {},
   "source": [
    "## Pandas and Huggingface datasets\n",
    "\n",
    "`!pip install transformer` or `conda install transformers`\n",
    "`!pip install datasets` or `conda install datasets`"
   ]
  },
  {
   "cell_type": "code",
   "execution_count": 32,
   "id": "6349ce59-dc19-41ff-a25f-0ca50a9e777a",
   "metadata": {},
   "outputs": [
    {
     "data": {
      "text/plain": [
       "dict_keys(['title', 'ebook_id', 'author', 'subtitle', 'language', 'text', 'index', 'probability_weight'])"
      ]
     },
     "execution_count": 32,
     "metadata": {},
     "output_type": "execute_result"
    }
   ],
   "source": [
    "sl2[1].keys()"
   ]
  },
  {
   "cell_type": "code",
   "execution_count": 22,
   "id": "4d89c3c7-e9dc-4bd7-90ed-afd08d3de692",
   "metadata": {},
   "outputs": [],
   "source": [
    "import pandas as pd"
   ]
  },
  {
   "cell_type": "code",
   "execution_count": 23,
   "id": "0ad67b7c-a814-4203-af16-50c871e44e4a",
   "metadata": {},
   "outputs": [],
   "source": [
    "df = pd.DataFrame(sl2)"
   ]
  },
  {
   "cell_type": "code",
   "execution_count": 24,
   "id": "11deaf3d-ebee-43ff-bc58-238d3d657234",
   "metadata": {},
   "outputs": [
    {
     "data": {
      "text/html": [
       "<div>\n",
       "<style scoped>\n",
       "    .dataframe tbody tr th:only-of-type {\n",
       "        vertical-align: middle;\n",
       "    }\n",
       "\n",
       "    .dataframe tbody tr th {\n",
       "        vertical-align: top;\n",
       "    }\n",
       "\n",
       "    .dataframe thead th {\n",
       "        text-align: right;\n",
       "    }\n",
       "</style>\n",
       "<table border=\"1\" class=\"dataframe\">\n",
       "  <thead>\n",
       "    <tr style=\"text-align: right;\">\n",
       "      <th></th>\n",
       "      <th>title</th>\n",
       "      <th>ebook_id</th>\n",
       "      <th>author</th>\n",
       "      <th>subtitle</th>\n",
       "      <th>language</th>\n",
       "      <th>text</th>\n",
       "      <th>index</th>\n",
       "      <th>probability_weight</th>\n",
       "      <th>illustrator</th>\n",
       "      <th>editor</th>\n",
       "      <th>translator</th>\n",
       "      <th>author a.k.a.</th>\n",
       "      <th>editors</th>\n",
       "    </tr>\n",
       "  </thead>\n",
       "  <tbody>\n",
       "    <tr>\n",
       "      <th>0</th>\n",
       "      <td>First notions of logic</td>\n",
       "      <td>67017</td>\n",
       "      <td>Augustus De Morgan</td>\n",
       "      <td>(preparatory to the study of geometry)</td>\n",
       "      <td>English</td>\n",
       "      <td>FIRST NOTIONS\\n  ...</td>\n",
       "      <td>1.0</td>\n",
       "      <td>0.000278</td>\n",
       "      <td>NaN</td>\n",
       "      <td>NaN</td>\n",
       "      <td>NaN</td>\n",
       "      <td>NaN</td>\n",
       "      <td>NaN</td>\n",
       "    </tr>\n",
       "    <tr>\n",
       "      <th>1</th>\n",
       "      <td>Researches Chemical and Philosophical</td>\n",
       "      <td>66955</td>\n",
       "      <td>Humphry Davy</td>\n",
       "      <td>Chiefly concerning nitrous oxide or dephlogist...</td>\n",
       "      <td>English</td>\n",
       "      <td>RESEARCHES,\\n           ...</td>\n",
       "      <td>2.0</td>\n",
       "      <td>0.002587</td>\n",
       "      <td>NaN</td>\n",
       "      <td>NaN</td>\n",
       "      <td>NaN</td>\n",
       "      <td>NaN</td>\n",
       "      <td>NaN</td>\n",
       "    </tr>\n",
       "    <tr>\n",
       "      <th>2</th>\n",
       "      <td>The origins of art, a psychological &amp; sociolog...</td>\n",
       "      <td>66869</td>\n",
       "      <td>Yrjö Hirn</td>\n",
       "      <td>NaN</td>\n",
       "      <td>English</td>\n",
       "      <td>THE ORIGINS OF ART\\n...</td>\n",
       "      <td>3.0</td>\n",
       "      <td>0.002853</td>\n",
       "      <td>NaN</td>\n",
       "      <td>NaN</td>\n",
       "      <td>NaN</td>\n",
       "      <td>NaN</td>\n",
       "      <td>NaN</td>\n",
       "    </tr>\n",
       "    <tr>\n",
       "      <th>3</th>\n",
       "      <td>The Story of a Boulder; or, Gleanings from the...</td>\n",
       "      <td>66703</td>\n",
       "      <td>Archibald Geikie</td>\n",
       "      <td>NaN</td>\n",
       "      <td>English</td>\n",
       "      <td>THE STORY OF A BOULDER....</td>\n",
       "      <td>4.0</td>\n",
       "      <td>0.002410</td>\n",
       "      <td>NaN</td>\n",
       "      <td>NaN</td>\n",
       "      <td>NaN</td>\n",
       "      <td>NaN</td>\n",
       "      <td>NaN</td>\n",
       "    </tr>\n",
       "    <tr>\n",
       "      <th>4</th>\n",
       "      <td>Astronomy and General Physics Considered with ...</td>\n",
       "      <td>66406</td>\n",
       "      <td>NaN</td>\n",
       "      <td>NaN</td>\n",
       "      <td>English</td>\n",
       "      <td>BRIDGEWATER TREATISES....</td>\n",
       "      <td>NaN</td>\n",
       "      <td>NaN</td>\n",
       "      <td>NaN</td>\n",
       "      <td>NaN</td>\n",
       "      <td>NaN</td>\n",
       "      <td>NaN</td>\n",
       "      <td>NaN</td>\n",
       "    </tr>\n",
       "    <tr>\n",
       "      <th>...</th>\n",
       "      <td>...</td>\n",
       "      <td>...</td>\n",
       "      <td>...</td>\n",
       "      <td>...</td>\n",
       "      <td>...</td>\n",
       "      <td>...</td>\n",
       "      <td>...</td>\n",
       "      <td>...</td>\n",
       "      <td>...</td>\n",
       "      <td>...</td>\n",
       "      <td>...</td>\n",
       "      <td>...</td>\n",
       "      <td>...</td>\n",
       "    </tr>\n",
       "    <tr>\n",
       "      <th>488</th>\n",
       "      <td>Philosophy 4, A Story of Harvard University</td>\n",
       "      <td>862</td>\n",
       "      <td>Owen Wister</td>\n",
       "      <td>NaN</td>\n",
       "      <td>English</td>\n",
       "      <td>PHILOSOPHY 4\\n\\nA STORY OF HARVARD UNIVERSITY\\...</td>\n",
       "      <td>471.0</td>\n",
       "      <td>0.000287</td>\n",
       "      <td>NaN</td>\n",
       "      <td>NaN</td>\n",
       "      <td>NaN</td>\n",
       "      <td>NaN</td>\n",
       "      <td>NaN</td>\n",
       "    </tr>\n",
       "    <tr>\n",
       "      <th>489</th>\n",
       "      <td>Philoktetes</td>\n",
       "      <td>806C</td>\n",
       "      <td>Sophocles</td>\n",
       "      <td>NaN</td>\n",
       "      <td>English</td>\n",
       "      <td>SOPHOKLES\\n\\nPHILOKTETES\\n\\nTranslated by Greg...</td>\n",
       "      <td>472.0</td>\n",
       "      <td>0.000318</td>\n",
       "      <td>NaN</td>\n",
       "      <td>NaN</td>\n",
       "      <td>NaN</td>\n",
       "      <td>NaN</td>\n",
       "      <td>NaN</td>\n",
       "    </tr>\n",
       "    <tr>\n",
       "      <th>490</th>\n",
       "      <td>Psychological Counter-current in Recent Fictio...</td>\n",
       "      <td>726</td>\n",
       "      <td>NaN</td>\n",
       "      <td>NaN</td>\n",
       "      <td>English</td>\n",
       "      <td>A PSYCHOLOGICAL COUNTER-CURRENT IN RECENT FICT...</td>\n",
       "      <td>NaN</td>\n",
       "      <td>NaN</td>\n",
       "      <td>NaN</td>\n",
       "      <td>NaN</td>\n",
       "      <td>NaN</td>\n",
       "      <td>NaN</td>\n",
       "      <td>NaN</td>\n",
       "    </tr>\n",
       "    <tr>\n",
       "      <th>491</th>\n",
       "      <td>The Philobiblon of Richard de Bury</td>\n",
       "      <td>626</td>\n",
       "      <td>Richard de Bury</td>\n",
       "      <td>NaN</td>\n",
       "      <td>English</td>\n",
       "      <td>THE LOVE OF BOOKS\\n\\nTHE PHILOBIBLON OF RICHAR...</td>\n",
       "      <td>473.0</td>\n",
       "      <td>0.000630</td>\n",
       "      <td>NaN</td>\n",
       "      <td>NaN</td>\n",
       "      <td>NaN</td>\n",
       "      <td>NaN</td>\n",
       "      <td>NaN</td>\n",
       "    </tr>\n",
       "    <tr>\n",
       "      <th>492</th>\n",
       "      <td>The Philosophy of Misery</td>\n",
       "      <td>444</td>\n",
       "      <td>P. J. Proudhon</td>\n",
       "      <td>NaN</td>\n",
       "      <td>English</td>\n",
       "      <td>Project Gutenberg Etext of The Philosophy of M...</td>\n",
       "      <td>474.0</td>\n",
       "      <td>0.003847</td>\n",
       "      <td>NaN</td>\n",
       "      <td>NaN</td>\n",
       "      <td>NaN</td>\n",
       "      <td>NaN</td>\n",
       "      <td>NaN</td>\n",
       "    </tr>\n",
       "  </tbody>\n",
       "</table>\n",
       "<p>493 rows × 13 columns</p>\n",
       "</div>"
      ],
      "text/plain": [
       "                                                 title ebook_id  \\\n",
       "0                               First notions of logic    67017   \n",
       "1                Researches Chemical and Philosophical    66955   \n",
       "2    The origins of art, a psychological & sociolog...    66869   \n",
       "3    The Story of a Boulder; or, Gleanings from the...    66703   \n",
       "4    Astronomy and General Physics Considered with ...    66406   \n",
       "..                                                 ...      ...   \n",
       "488        Philosophy 4, A Story of Harvard University      862   \n",
       "489                                        Philoktetes     806C   \n",
       "490  Psychological Counter-current in Recent Fictio...      726   \n",
       "491                 The Philobiblon of Richard de Bury      626   \n",
       "492                           The Philosophy of Misery      444   \n",
       "\n",
       "                 author                                           subtitle  \\\n",
       "0    Augustus De Morgan             (preparatory to the study of geometry)   \n",
       "1          Humphry Davy  Chiefly concerning nitrous oxide or dephlogist...   \n",
       "2             Yrjö Hirn                                                NaN   \n",
       "3      Archibald Geikie                                                NaN   \n",
       "4                   NaN                                                NaN   \n",
       "..                  ...                                                ...   \n",
       "488         Owen Wister                                                NaN   \n",
       "489           Sophocles                                                NaN   \n",
       "490                 NaN                                                NaN   \n",
       "491     Richard de Bury                                                NaN   \n",
       "492      P. J. Proudhon                                                NaN   \n",
       "\n",
       "    language                                               text  index  \\\n",
       "0    English                               FIRST NOTIONS\\n  ...    1.0   \n",
       "1    English                        RESEARCHES,\\n           ...    2.0   \n",
       "2    English                            THE ORIGINS OF ART\\n...    3.0   \n",
       "3    English                         THE STORY OF A BOULDER....    4.0   \n",
       "4    English                          BRIDGEWATER TREATISES....    NaN   \n",
       "..       ...                                                ...    ...   \n",
       "488  English  PHILOSOPHY 4\\n\\nA STORY OF HARVARD UNIVERSITY\\...  471.0   \n",
       "489  English  SOPHOKLES\\n\\nPHILOKTETES\\n\\nTranslated by Greg...  472.0   \n",
       "490  English  A PSYCHOLOGICAL COUNTER-CURRENT IN RECENT FICT...    NaN   \n",
       "491  English  THE LOVE OF BOOKS\\n\\nTHE PHILOBIBLON OF RICHAR...  473.0   \n",
       "492  English  Project Gutenberg Etext of The Philosophy of M...  474.0   \n",
       "\n",
       "     probability_weight illustrator editor translator author a.k.a. editors  \n",
       "0              0.000278         NaN    NaN        NaN           NaN     NaN  \n",
       "1              0.002587         NaN    NaN        NaN           NaN     NaN  \n",
       "2              0.002853         NaN    NaN        NaN           NaN     NaN  \n",
       "3              0.002410         NaN    NaN        NaN           NaN     NaN  \n",
       "4                   NaN         NaN    NaN        NaN           NaN     NaN  \n",
       "..                  ...         ...    ...        ...           ...     ...  \n",
       "488            0.000287         NaN    NaN        NaN           NaN     NaN  \n",
       "489            0.000318         NaN    NaN        NaN           NaN     NaN  \n",
       "490                 NaN         NaN    NaN        NaN           NaN     NaN  \n",
       "491            0.000630         NaN    NaN        NaN           NaN     NaN  \n",
       "492            0.003847         NaN    NaN        NaN           NaN     NaN  \n",
       "\n",
       "[493 rows x 13 columns]"
      ]
     },
     "execution_count": 24,
     "metadata": {},
     "output_type": "execute_result"
    }
   ],
   "source": [
    "df"
   ]
  },
  {
   "cell_type": "code",
   "execution_count": null,
   "id": "1c0a64c4-e566-45cb-8896-4e6605b5e41d",
   "metadata": {},
   "outputs": [],
   "source": []
  },
  {
   "cell_type": "code",
   "execution_count": null,
   "id": "d7bee7c3-ba98-467b-a8c7-cddd73654d8e",
   "metadata": {},
   "outputs": [],
   "source": []
  }
 ],
 "metadata": {
  "interpreter": {
   "hash": "65f4aab08c62330dab9a6da6865afb8d3706c114778798997f6b2f9c40d9bc3b"
  },
  "kernelspec": {
   "display_name": "Python 3 (ipykernel)",
   "language": "python",
   "name": "python3"
  },
  "language_info": {
   "codemirror_mode": {
    "name": "ipython",
    "version": 3
   },
   "file_extension": ".py",
   "mimetype": "text/x-python",
   "name": "python",
   "nbconvert_exporter": "python",
   "pygments_lexer": "ipython3",
   "version": "3.12.2"
  }
 },
 "nbformat": 4,
 "nbformat_minor": 5
}
