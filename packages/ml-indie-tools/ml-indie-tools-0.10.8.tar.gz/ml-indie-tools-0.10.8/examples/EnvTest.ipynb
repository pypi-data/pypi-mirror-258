{
 "cells": [
  {
   "cell_type": "code",
   "execution_count": 1,
   "id": "cc489cc0-22fb-4e45-89b2-4be4b360b6d0",
   "metadata": {},
   "outputs": [],
   "source": [
    "import tensorflow as tf"
   ]
  },
  {
   "cell_type": "code",
   "execution_count": 2,
   "id": "6d7b23cc-cceb-45c2-8fd2-b888f23e41c3",
   "metadata": {},
   "outputs": [],
   "source": [
    "import sys\n",
    "sys.path.append('../src/ml_indie_tools')  # point to source of module\n",
    "from env_tools import MLEnv"
   ]
  },
  {
   "cell_type": "code",
   "execution_count": 3,
   "id": "621acb6b-438f-4b51-89db-a4e5b42ea75b",
   "metadata": {},
   "outputs": [],
   "source": [
    "ml=MLEnv()"
   ]
  },
  {
   "cell_type": "code",
   "execution_count": 4,
   "id": "607fe819-d510-4a34-b8e3-9fe29248c9f7",
   "metadata": {},
   "outputs": [
    {
     "data": {
      "text/plain": [
       "'OS: Darwin, Python: 3.9.9 (Conda), Jupyter Notebook Tensorflow: 2.7.0, GPU: METAL'"
      ]
     },
     "execution_count": 4,
     "metadata": {},
     "output_type": "execute_result"
    }
   ],
   "source": [
    "ml.describe()"
   ]
  },
  {
   "cell_type": "code",
   "execution_count": 5,
   "id": "5504ed98-00bf-48d7-a75a-6aa212d3c761",
   "metadata": {},
   "outputs": [
    {
     "name": "stdout",
     "output_type": "stream",
     "text": [
      "Metal device set to: Apple M1\n"
     ]
    },
    {
     "name": "stderr",
     "output_type": "stream",
     "text": [
      "2021-12-27 09:05:58.251086: I tensorflow/core/common_runtime/pluggable_device/pluggable_device_factory.cc:305] Could not identify NUMA node of platform GPU ID 0, defaulting to 0. Your kernel may not have been built with NUMA support.\n",
      "2021-12-27 09:05:58.251296: I tensorflow/core/common_runtime/pluggable_device/pluggable_device_factory.cc:271] Created TensorFlow device (/job:localhost/replica:0/task:0/device:GPU:0 with 0 MB memory) -> physical PluggableDevice (device: 0, name: METAL, pci bus id: <undefined>)\n"
     ]
    },
    {
     "data": {
      "text/plain": [
       "{'current': 0, 'peak': 0}"
      ]
     },
     "execution_count": 5,
     "metadata": {},
     "output_type": "execute_result"
    }
   ],
   "source": [
    "tf.config.experimental.get_memory_info('GPU:0')"
   ]
  },
  {
   "cell_type": "code",
   "execution_count": 6,
   "id": "1728152a-3838-405c-b62e-8583ac8b9c62",
   "metadata": {},
   "outputs": [],
   "source": [
    "# details={'compute_capability': (3, 7), 'device_name': 'Tesla K80'}"
   ]
  },
  {
   "cell_type": "code",
   "execution_count": null,
   "id": "8bfe2ac9-c182-4854-afcd-f50c5b5b6b4c",
   "metadata": {},
   "outputs": [],
   "source": []
  }
 ],
 "metadata": {
  "kernelspec": {
   "display_name": "Python 3 (ipykernel)",
   "language": "python",
   "name": "python3"
  },
  "language_info": {
   "codemirror_mode": {
    "name": "ipython",
    "version": 3
   },
   "file_extension": ".py",
   "mimetype": "text/x-python",
   "name": "python",
   "nbconvert_exporter": "python",
   "pygments_lexer": "ipython3",
   "version": "3.12.2"
  }
 },
 "nbformat": 4,
 "nbformat_minor": 5
}
