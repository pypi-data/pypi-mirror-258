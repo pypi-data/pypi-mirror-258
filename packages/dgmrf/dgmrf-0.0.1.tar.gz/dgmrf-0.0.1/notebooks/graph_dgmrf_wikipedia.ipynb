{
 "cells": [
  {
   "cell_type": "code",
   "execution_count": 1,
   "id": "1cffee4e-b70c-4d5b-bd04-f816cf203860",
   "metadata": {},
   "outputs": [],
   "source": [
    "%load_ext autoreload\n",
    "%autoreload 2"
   ]
  },
  {
   "cell_type": "markdown",
   "id": "696a04df-71dc-475e-a88c-943b8c1f9ff4",
   "metadata": {},
   "source": [
    "# Deep Gaussian Markov Random Fields on graph (the Graph DGMRF model) on the Wikipedia example\n",
    "\n",
    "The original article is [here](https://proceedings.mlr.press/v162/oskarsson22a/oskarsson22a.pdf) and the code can be found [here](https://github.com/joeloskarsson/graph-dgmrf/blob/main/utils.py).\n",
    "\n",
    "**Note: we were able to reproduce the results from the article with results on the same order of magnitude. However, we were restricted to a smaller number of layers since convergence issues of the variational distributions and CG algorithm happened when $L>2$** More fine-tuning in the optimization process seems required."
   ]
  },
  {
   "cell_type": "code",
   "execution_count": 2,
   "id": "b41b3a12-1d28-458a-90f5-5bef317bdeb9",
   "metadata": {},
   "outputs": [],
   "source": [
    "# import os\n",
    "# os.environ[\"CUDA_VISIBLE_DEVICES\"]=\"\"\n",
    "\n",
    "from functools import partial\n",
    "from torch.distributions import MultivariateNormal\n",
    "import torch\n",
    "import jax\n",
    "import jax.numpy as jnp\n",
    "import matplotlib.pyplot as plt\n",
    "from mpl_toolkits.axes_grid1 import make_axes_locatable\n",
    "import optax\n",
    "from jax_tqdm import scan_tqdm\n",
    "import copy\n",
    "import equinox as eqx\n",
    "import numpy as np\n",
    "\n",
    "\n",
    "key = jax.random.PRNGKey(0)"
   ]
  },
  {
   "cell_type": "code",
   "execution_count": 3,
   "id": "3a046ac9-c405-4b4b-acaa-959488edbeaf",
   "metadata": {},
   "outputs": [
    {
     "name": "stdout",
     "output_type": "stream",
     "text": [
      "TFRT_CPU_0 cuda:0\n"
     ]
    }
   ],
   "source": [
    "try:\n",
    "    gpu_device = jax.devices('gpu')[0]\n",
    "    cpu_device = jax.devices('cpu')[0]\n",
    "    print(cpu_device, gpu_device)\n",
    "except:\n",
    "    cpu_device = jax.devices('cpu')[0]\n",
    "    print(cpu_device)"
   ]
  },
  {
   "cell_type": "markdown",
   "id": "47edc65f-08e1-4278-bb0b-47c35810d0c9",
   "metadata": {},
   "source": [
    "## Load the wikipedia graph data"
   ]
  },
  {
   "cell_type": "code",
   "execution_count": 4,
   "id": "c8d4688f-d74f-46d1-aab2-4e85949a831b",
   "metadata": {},
   "outputs": [],
   "source": [
    "edges_mat = np.genfromtxt(\"./chameleon_edges.csv\", delimiter=\",\", skip_header=1).astype(np.int32)\n",
    "y = np.log(np.genfromtxt(\"./chameleon_target.csv\", delimiter=\",\", skip_header=1) + 1e-6)[:, 1]\n",
    "\n",
    "N = y.shape[0]"
   ]
  },
  {
   "cell_type": "markdown",
   "id": "c8b7b26c-7750-4e75-90c5-c3b10c22cbc4",
   "metadata": {},
   "source": [
    "Convert the edge list to adjacency matrix"
   ]
  },
  {
   "cell_type": "code",
   "execution_count": 5,
   "id": "2a93f7cf-91b3-43c3-a7d5-be09bcd09235",
   "metadata": {},
   "outputs": [],
   "source": [
    "def update_adjacency_matrix(adjacency_matrix, edge):\n",
    "    i, j = edge\n",
    "    adjacency_matrix = adjacency_matrix.at[i, j].set(1)\n",
    "    adjacency_matrix = adjacency_matrix.at[j, i].set(1)\n",
    "    return adjacency_matrix, None\n",
    "\n",
    "def edge_list_to_adjacency_matrix(edge_list, num_nodes):\n",
    "    edge_array = jnp.array(edge_list)\n",
    "    adjacency_matrix = jnp.zeros((num_nodes, num_nodes), dtype=jnp.int8)\n",
    "    adjacency_matrix, _ = jax.lax.scan(update_adjacency_matrix, adjacency_matrix, edge_array)\n",
    "\n",
    "    return adjacency_matrix"
   ]
  },
  {
   "cell_type": "code",
   "execution_count": 6,
   "id": "7848bbe0-56ca-4901-b12d-0fd46fc06d16",
   "metadata": {},
   "outputs": [],
   "source": [
    "with jax.default_device(cpu_device):\n",
    "    A = edge_list_to_adjacency_matrix(edges_mat, y.shape[0])\n",
    "A = jax.device_put(A, gpu_device)"
   ]
  },
  {
   "cell_type": "markdown",
   "id": "a82a270b-a44d-4e3f-b039-85ca2b5d1a11",
   "metadata": {},
   "source": [
    "**Note that we skip the preprocesing step in this quick reproducting test** (see [original code](https://github.com/joeloskarsson/graph-dgmrf/blob/4c640b3eba025fdfdec8db977ca0f484748737d1/data_loading/wiki.py#L41))"
   ]
  },
  {
   "cell_type": "markdown",
   "id": "6d3022bc-38d5-4579-94d7-ec526358e998",
   "metadata": {},
   "source": [
    "Compute the diagonal of the degree matrix"
   ]
  },
  {
   "cell_type": "code",
   "execution_count": 7,
   "id": "8cb40ad5-290f-4cf1-8784-fe0724a65ef1",
   "metadata": {},
   "outputs": [],
   "source": [
    "D = jnp.sum(A, axis=1).astype(jnp.int32)"
   ]
  },
  {
   "cell_type": "markdown",
   "id": "e8f235a0-cbd3-4fb7-99da-eba702ed7fd1",
   "metadata": {},
   "source": [
    "As stated in the article, 50% of nodes will be unobserved, randomly and uniformly chosen"
   ]
  },
  {
   "cell_type": "code",
   "execution_count": 8,
   "id": "cbf07667-98a1-41a1-bf3b-722ab2b3d92a",
   "metadata": {},
   "outputs": [],
   "source": [
    "mask = jnp.zeros_like(y)\n",
    "key, subkey = jax.random.split(key, 2)\n",
    "idx_unobserved = jax.random.choice(subkey, jnp.arange(y.shape[0]), shape=(y.shape[0] // 2,), replace=False)\n",
    "mask = mask.at[idx_unobserved].set(1)\n",
    "y = jnp.where(mask == 0, y, 0)"
   ]
  },
  {
   "cell_type": "markdown",
   "id": "944b34ea-4f22-4f67-ad22-1bdba7be8b04",
   "metadata": {},
   "source": [
    "Optionally add noise"
   ]
  },
  {
   "cell_type": "code",
   "execution_count": 9,
   "id": "b320ad23-298a-4012-a310-acb1e8cc80ad",
   "metadata": {},
   "outputs": [],
   "source": [
    "true_sigma_noise = 0.0001\n",
    "key, subkey = jax.random.split(key, 2)\n",
    "y = y + jax.random.normal(subkey, y.shape) * true_sigma_noise"
   ]
  },
  {
   "cell_type": "markdown",
   "id": "df61c3ff-9ae6-4516-9e74-25f6ac120f8a",
   "metadata": {},
   "source": [
    "## Define the DGMRF components"
   ]
  },
  {
   "cell_type": "code",
   "execution_count": 10,
   "id": "7409d65b-5da3-488d-90e4-c449dd4701b8",
   "metadata": {},
   "outputs": [],
   "source": [
    "from dgmrf.models import DGMRF, MeanField, FactorizedS\n",
    "from dgmrf.utils import get_adjacency_matrix_lattice"
   ]
  },
  {
   "cell_type": "markdown",
   "id": "11427a85-170a-4431-bbd4-8128f5265350",
   "metadata": {},
   "source": [
    "**Similarly to the notebook presenting the graph DGMRF for a regular lattice, convergence problems happened for $L>2$**"
   ]
  },
  {
   "cell_type": "code",
   "execution_count": 11,
   "id": "a1fae14d-c4ae-4b9c-b05a-1acaf72a9ca9",
   "metadata": {},
   "outputs": [],
   "source": [
    "L = 2\n",
    "Nq = 10"
   ]
  },
  {
   "cell_type": "code",
   "execution_count": 12,
   "id": "da47b2b8-5c89-449e-86c2-8f030101f1ca",
   "metadata": {},
   "outputs": [],
   "source": [
    "y = y.flatten()\n",
    "mask = mask.flatten()"
   ]
  },
  {
   "cell_type": "code",
   "execution_count": 13,
   "id": "0ec6e87d-f2b7-4377-85f1-727a95f03197",
   "metadata": {},
   "outputs": [],
   "source": [
    "key, subkey = jax.random.split(key, 2)\n",
    "\n",
    "dgmrf = DGMRF(\n",
    "    subkey,\n",
    "    L,\n",
    "    A_D=(A, D),\n",
    "    log_det_method=\"eigenvalues\",\n",
    "    with_bias=True,\n",
    "    non_linear=False,\n",
    ")\n",
    "\n",
    "dgmrf_params, dgmrf_static = eqx.partition(dgmrf, lambda x:eqx.is_inexact_array(x)) # and not eqx.is_exact because the layer would consider self.key as a parameter!"
   ]
  },
  {
   "cell_type": "markdown",
   "id": "eb4ce87f-3aee-4137-9e82-d57df4bb9c2f",
   "metadata": {},
   "source": [
    "Instanciate the variational distribution"
   ]
  },
  {
   "cell_type": "code",
   "execution_count": 14,
   "id": "bf5c662a-63b0-4328-97b5-f668c6f87841",
   "metadata": {},
   "outputs": [],
   "source": [
    "key, subkey1, subkey2 = jax.random.split(key, 3)\n",
    "\n",
    "q_phi = MeanField(N=N, key=subkey1)\n",
    "# q_phi = FactorizedS(\n",
    "#     N=N,\n",
    "#     dgmrf_args=(subkey1, 1),\n",
    "#     dgmrf_kwargs= {\n",
    "#         \"A_D\":(A, D),\n",
    "#         \"log_det_method\":\"eigenvalues\"\n",
    "#     },\n",
    "#     key=subkey2\n",
    "# )\n",
    "q_phi_params, q_phi_static = eqx.partition(q_phi, lambda x:eqx.is_inexact_array(x)) # and not eqx.is_exact because the layer would consider self.key as a parameter!"
   ]
  },
  {
   "cell_type": "markdown",
   "id": "62adad39-9b78-4c4f-9979-3b3fdea99ca5",
   "metadata": {},
   "source": [
    "## Variational inference to compute model parameters"
   ]
  },
  {
   "cell_type": "code",
   "execution_count": 15,
   "id": "2c5efac7-2dbd-491d-9535-8fbe8c9f6858",
   "metadata": {},
   "outputs": [],
   "source": [
    "key, subkey1, subkey2 = jax.random.split(key, 3)\n",
    "params_init = {\n",
    "    \"dgmrf\":dgmrf_params,\n",
    "    \"q_phi\":q_phi_params,\n",
    "    \"log_sigma\":jnp.log(true_sigma_noise)\n",
    "}\n",
    "static = {\n",
    "    \"dgmrf\": dgmrf_static,\n",
    "    \"q_phi\": q_phi_static\n",
    "}\n"
   ]
  },
  {
   "cell_type": "code",
   "execution_count": 16,
   "id": "3edc61ef-91c2-4c10-8ead-1d95700e7dba",
   "metadata": {},
   "outputs": [],
   "source": [
    "n_iter = 2000\n",
    "lr_graph = 1e-2\n",
    "\n",
    "lr = lr_graph\n",
    "tx = optax.multi_transform(\n",
    "    {\n",
    "     'dgmrf': optax.adam(lr), 'log_sigma': optax.adam(0), 'q_phi': optax.adam(lr)},\n",
    "    {'dgmrf':\"dgmrf\", 'log_sigma':'log_sigma', 'q_phi':'q_phi'} # This what would be returned by the label_fn; i.e. this is the correct syntax when directly giving labels and when params is dict\n",
    ")\n",
    "opt_state = tx.init(params_init)"
   ]
  },
  {
   "cell_type": "code",
   "execution_count": 17,
   "id": "4dc2ea94-2e86-43fe-ba36-724dc1c90472",
   "metadata": {},
   "outputs": [],
   "source": [
    "dgmrf = eqx.combine(params_init[\"dgmrf\"], static[\"dgmrf\"])"
   ]
  },
  {
   "cell_type": "code",
   "execution_count": 18,
   "id": "83e0527d-e612-4026-bd36-a946921de085",
   "metadata": {},
   "outputs": [
    {
     "data": {
      "application/vnd.jupyter.widget-view+json": {
       "model_id": "2bb732e5dfb84b298ee0033ee80efa38",
       "version_major": 2,
       "version_minor": 0
      },
      "text/plain": [
       "  0%|          | 0/2000 [00:00<?, ?it/s]"
      ]
     },
     "metadata": {},
     "output_type": "display_data"
    }
   ],
   "source": [
    "from dgmrf.losses import dgmrf_elbo\n",
    "from dgmrf.train import train_loop\n",
    "\n",
    "key, subkey = jax.random.split(key, 2)\n",
    "params_final, loss_val = train_loop(dgmrf_elbo, y, n_iter, params_init, static, tx, opt_state, subkey, N, Nq, mask=mask)"
   ]
  },
  {
   "cell_type": "code",
   "execution_count": 19,
   "id": "c95ed3ac-9221-4fde-9ae8-52e34dea9f96",
   "metadata": {},
   "outputs": [
    {
     "data": {
      "image/png": "[encoded data removed]",
      "text/plain": [
       "<Figure size 640x480 with 1 Axes>"
      ]
     },
     "metadata": {},
     "output_type": "display_data"
    }
   ],
   "source": [
    "plt.plot(-loss_val)\n",
    "plt.show()"
   ]
  },
  {
   "cell_type": "markdown",
   "id": "14846385-30ec-4ec0-af38-2fdf88150e94",
   "metadata": {},
   "source": [
    "The means of the variational distribution will be the inferred values as a first approximation"
   ]
  },
  {
   "cell_type": "code",
   "execution_count": 20,
   "id": "04026de1-e05b-4a42-bb2f-1a0a977fdf44",
   "metadata": {},
   "outputs": [
    {
     "name": "stdout",
     "output_type": "stream",
     "text": [
      "RMSE with the means of the variational distribution 2.0239422\n"
     ]
    }
   ],
   "source": [
    "rmse_nu_phi = jnp.sqrt(jnp.mean((params_final[\"q_phi\"].params[\"nu\"] - y) ** 2))\n",
    "print(\"RMSE with the means of the variational distribution\", rmse_nu_phi)"
   ]
  }
 ],
 "metadata": {
  "kernelspec": {
   "display_name": "Python 3 (ipykernel)",
   "language": "python",
   "name": "python3"
  },
  "language_info": {
   "codemirror_mode": {
    "name": "ipython",
    "version": 3
   },
   "file_extension": ".py",
   "mimetype": "text/x-python",
   "name": "python",
   "nbconvert_exporter": "python",
   "pygments_lexer": "ipython3",
   "version": "3.10.13"
  }
 },
 "nbformat": 4,
 "nbformat_minor": 5
}
