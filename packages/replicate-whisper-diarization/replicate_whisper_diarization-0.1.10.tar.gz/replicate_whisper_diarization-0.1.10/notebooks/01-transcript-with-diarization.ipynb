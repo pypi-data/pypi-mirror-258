{
 "cells": [
  {
   "cell_type": "code",
   "execution_count": 2,
   "metadata": {},
   "outputs": [],
   "source": [
    "import os\n",
    "from getpass import getpass\n",
    "replicate_api_token = getpass(\"Enter your Replicate API token: \")\n",
    "os.environ[\"REPLICATE_API_TOKEN\"] = replicate_api_token\n",
    "\n",
    "from replicate_whisper_diarization import run_transcript_with_diarization"
   ]
  },
  {
   "cell_type": "code",
   "execution_count": 3,
   "metadata": {},
   "outputs": [],
   "source": [
    "URL = \"https://replicate.delivery/pbxt/IZjTvet2ZGiyiYaMEEPrzn0xY1UDNsh0NfcO9qeTlpwCo7ig/lex-levin-4min.mp3\""
   ]
  },
  {
   "cell_type": "code",
   "execution_count": 4,
   "metadata": {},
   "outputs": [
    {
     "data": {
      "text/html": [
       "<pre style=\"white-space:pre;overflow-x:auto;line-height:normal;font-family:Menlo,'DejaVu Sans Mono',consolas,'Courier New',monospace\"><span style=\"color: #7fbfbf; text-decoration-color: #7fbfbf\">[18:33:46] </span><span style=\"color: #000080; text-decoration-color: #000080\">INFO    </span> HTTP Request: <span style=\"color: #808000; text-decoration-color: #808000; font-weight: bold\">POST</span> <span style=\"color: #0000ff; text-decoration-color: #0000ff; text-decoration: underline\">https://api.replicate.com/v1/predictions</span> <span style=\"color: #008000; text-decoration-color: #008000\">\"HTTP/1.1 201 </span>      <a href=\"file:///home/rbarriga/.pyenv/versions/3.10.13/envs/whisper-diarization/lib/python3.10/site-packages/httpx/_client.py\" target=\"_blank\"><span style=\"color: #7f7f7f; text-decoration-color: #7f7f7f\">_client.py</span></a><span style=\"color: #7f7f7f; text-decoration-color: #7f7f7f\">:</span><a href=\"file:///home/rbarriga/.pyenv/versions/3.10.13/envs/whisper-diarization/lib/python3.10/site-packages/httpx/_client.py#1013\" target=\"_blank\"><span style=\"color: #7f7f7f; text-decoration-color: #7f7f7f\">1013</span></a>\n",
       "<span style=\"color: #7fbfbf; text-decoration-color: #7fbfbf\">           </span>         <span style=\"color: #008000; text-decoration-color: #008000\">Created\"</span>                                                                        <span style=\"color: #7f7f7f; text-decoration-color: #7f7f7f\">               </span>\n",
       "</pre>\n"
      ],
      "text/plain": [
       "\u001b[2;36m[18:33:46]\u001b[0m\u001b[2;36m \u001b[0m\u001b[34mINFO    \u001b[0m HTTP Request: \u001b[1;33mPOST\u001b[0m \u001b[4;94mhttps://api.replicate.com/v1/predictions\u001b[0m \u001b[32m\"HTTP/1.1 201 \u001b[0m      \u001b]8;id=656791;file:///home/rbarriga/.pyenv/versions/3.10.13/envs/whisper-diarization/lib/python3.10/site-packages/httpx/_client.py\u001b\\\u001b[2m_client.py\u001b[0m\u001b]8;;\u001b\\\u001b[2m:\u001b[0m\u001b]8;id=958855;file:///home/rbarriga/.pyenv/versions/3.10.13/envs/whisper-diarization/lib/python3.10/site-packages/httpx/_client.py#1013\u001b\\\u001b[2m1013\u001b[0m\u001b]8;;\u001b\\\n",
       "\u001b[2;36m           \u001b[0m         \u001b[32mCreated\"\u001b[0m                                                                        \u001b[2m               \u001b[0m\n"
      ]
     },
     "metadata": {},
     "output_type": "display_data"
    },
    {
     "data": {
      "text/html": [
       "<pre style=\"white-space:pre;overflow-x:auto;line-height:normal;font-family:Menlo,'DejaVu Sans Mono',consolas,'Courier New',monospace\"><span style=\"color: #7fbfbf; text-decoration-color: #7fbfbf\">[18:34:07] </span><span style=\"color: #000080; text-decoration-color: #000080\">INFO    </span> HTTP Request: <span style=\"color: #808000; text-decoration-color: #808000; font-weight: bold\">GET</span>                                                               <a href=\"file:///home/rbarriga/.pyenv/versions/3.10.13/envs/whisper-diarization/lib/python3.10/site-packages/httpx/_client.py\" target=\"_blank\"><span style=\"color: #7f7f7f; text-decoration-color: #7f7f7f\">_client.py</span></a><span style=\"color: #7f7f7f; text-decoration-color: #7f7f7f\">:</span><a href=\"file:///home/rbarriga/.pyenv/versions/3.10.13/envs/whisper-diarization/lib/python3.10/site-packages/httpx/_client.py#1013\" target=\"_blank\"><span style=\"color: #7f7f7f; text-decoration-color: #7f7f7f\">1013</span></a>\n",
       "<span style=\"color: #7fbfbf; text-decoration-color: #7fbfbf\">           </span>         <span style=\"color: #0000ff; text-decoration-color: #0000ff; text-decoration: underline\">https://api.replicate.com/v1/predictions/fcxkogbbi7czrgclceznztbdpe</span> <span style=\"color: #008000; text-decoration-color: #008000\">\"HTTP/1.1 </span>  <span style=\"color: #7f7f7f; text-decoration-color: #7f7f7f\">               </span>\n",
       "<span style=\"color: #7fbfbf; text-decoration-color: #7fbfbf\">           </span>         <span style=\"color: #008000; text-decoration-color: #008000\">200 OK\"</span>                                                                         <span style=\"color: #7f7f7f; text-decoration-color: #7f7f7f\">               </span>\n",
       "</pre>\n"
      ],
      "text/plain": [
       "\u001b[2;36m[18:34:07]\u001b[0m\u001b[2;36m \u001b[0m\u001b[34mINFO    \u001b[0m HTTP Request: \u001b[1;33mGET\u001b[0m                                                               \u001b]8;id=181861;file:///home/rbarriga/.pyenv/versions/3.10.13/envs/whisper-diarization/lib/python3.10/site-packages/httpx/_client.py\u001b\\\u001b[2m_client.py\u001b[0m\u001b]8;;\u001b\\\u001b[2m:\u001b[0m\u001b]8;id=22983;file:///home/rbarriga/.pyenv/versions/3.10.13/envs/whisper-diarization/lib/python3.10/site-packages/httpx/_client.py#1013\u001b\\\u001b[2m1013\u001b[0m\u001b]8;;\u001b\\\n",
       "\u001b[2;36m           \u001b[0m         \u001b[4;94mhttps://api.replicate.com/v1/predictions/fcxkogbbi7czrgclceznztbdpe\u001b[0m \u001b[32m\"HTTP/1.1 \u001b[0m  \u001b[2m               \u001b[0m\n",
       "\u001b[2;36m           \u001b[0m         \u001b[32m200 OK\"\u001b[0m                                                                         \u001b[2m               \u001b[0m\n"
      ]
     },
     "metadata": {},
     "output_type": "display_data"
    },
    {
     "data": {
      "text/html": [
       "<pre style=\"white-space:pre;overflow-x:auto;line-height:normal;font-family:Menlo,'DejaVu Sans Mono',consolas,'Courier New',monospace\"><span style=\"color: #7fbfbf; text-decoration-color: #7fbfbf\">[18:34:27] </span><span style=\"color: #000080; text-decoration-color: #000080\">INFO    </span> HTTP Request: <span style=\"color: #808000; text-decoration-color: #808000; font-weight: bold\">GET</span>                                                               <a href=\"file:///home/rbarriga/.pyenv/versions/3.10.13/envs/whisper-diarization/lib/python3.10/site-packages/httpx/_client.py\" target=\"_blank\"><span style=\"color: #7f7f7f; text-decoration-color: #7f7f7f\">_client.py</span></a><span style=\"color: #7f7f7f; text-decoration-color: #7f7f7f\">:</span><a href=\"file:///home/rbarriga/.pyenv/versions/3.10.13/envs/whisper-diarization/lib/python3.10/site-packages/httpx/_client.py#1013\" target=\"_blank\"><span style=\"color: #7f7f7f; text-decoration-color: #7f7f7f\">1013</span></a>\n",
       "<span style=\"color: #7fbfbf; text-decoration-color: #7fbfbf\">           </span>         <span style=\"color: #0000ff; text-decoration-color: #0000ff; text-decoration: underline\">https://api.replicate.com/v1/predictions/fcxkogbbi7czrgclceznztbdpe</span> <span style=\"color: #008000; text-decoration-color: #008000\">\"HTTP/1.1 </span>  <span style=\"color: #7f7f7f; text-decoration-color: #7f7f7f\">               </span>\n",
       "<span style=\"color: #7fbfbf; text-decoration-color: #7fbfbf\">           </span>         <span style=\"color: #008000; text-decoration-color: #008000\">200 OK\"</span>                                                                         <span style=\"color: #7f7f7f; text-decoration-color: #7f7f7f\">               </span>\n",
       "</pre>\n"
      ],
      "text/plain": [
       "\u001b[2;36m[18:34:27]\u001b[0m\u001b[2;36m \u001b[0m\u001b[34mINFO    \u001b[0m HTTP Request: \u001b[1;33mGET\u001b[0m                                                               \u001b]8;id=479053;file:///home/rbarriga/.pyenv/versions/3.10.13/envs/whisper-diarization/lib/python3.10/site-packages/httpx/_client.py\u001b\\\u001b[2m_client.py\u001b[0m\u001b]8;;\u001b\\\u001b[2m:\u001b[0m\u001b]8;id=585987;file:///home/rbarriga/.pyenv/versions/3.10.13/envs/whisper-diarization/lib/python3.10/site-packages/httpx/_client.py#1013\u001b\\\u001b[2m1013\u001b[0m\u001b]8;;\u001b\\\n",
       "\u001b[2;36m           \u001b[0m         \u001b[4;94mhttps://api.replicate.com/v1/predictions/fcxkogbbi7czrgclceznztbdpe\u001b[0m \u001b[32m\"HTTP/1.1 \u001b[0m  \u001b[2m               \u001b[0m\n",
       "\u001b[2;36m           \u001b[0m         \u001b[32m200 OK\"\u001b[0m                                                                         \u001b[2m               \u001b[0m\n"
      ]
     },
     "metadata": {},
     "output_type": "display_data"
    },
    {
     "data": {
      "text/html": [
       "<pre style=\"white-space:pre;overflow-x:auto;line-height:normal;font-family:Menlo,'DejaVu Sans Mono',consolas,'Courier New',monospace\"><span style=\"color: #7fbfbf; text-decoration-color: #7fbfbf\">[18:34:48] </span><span style=\"color: #000080; text-decoration-color: #000080\">INFO    </span> HTTP Request: <span style=\"color: #808000; text-decoration-color: #808000; font-weight: bold\">GET</span>                                                               <a href=\"file:///home/rbarriga/.pyenv/versions/3.10.13/envs/whisper-diarization/lib/python3.10/site-packages/httpx/_client.py\" target=\"_blank\"><span style=\"color: #7f7f7f; text-decoration-color: #7f7f7f\">_client.py</span></a><span style=\"color: #7f7f7f; text-decoration-color: #7f7f7f\">:</span><a href=\"file:///home/rbarriga/.pyenv/versions/3.10.13/envs/whisper-diarization/lib/python3.10/site-packages/httpx/_client.py#1013\" target=\"_blank\"><span style=\"color: #7f7f7f; text-decoration-color: #7f7f7f\">1013</span></a>\n",
       "<span style=\"color: #7fbfbf; text-decoration-color: #7fbfbf\">           </span>         <span style=\"color: #0000ff; text-decoration-color: #0000ff; text-decoration: underline\">https://api.replicate.com/v1/predictions/fcxkogbbi7czrgclceznztbdpe</span> <span style=\"color: #008000; text-decoration-color: #008000\">\"HTTP/1.1 </span>  <span style=\"color: #7f7f7f; text-decoration-color: #7f7f7f\">               </span>\n",
       "<span style=\"color: #7fbfbf; text-decoration-color: #7fbfbf\">           </span>         <span style=\"color: #008000; text-decoration-color: #008000\">200 OK\"</span>                                                                         <span style=\"color: #7f7f7f; text-decoration-color: #7f7f7f\">               </span>\n",
       "</pre>\n"
      ],
      "text/plain": [
       "\u001b[2;36m[18:34:48]\u001b[0m\u001b[2;36m \u001b[0m\u001b[34mINFO    \u001b[0m HTTP Request: \u001b[1;33mGET\u001b[0m                                                               \u001b]8;id=790284;file:///home/rbarriga/.pyenv/versions/3.10.13/envs/whisper-diarization/lib/python3.10/site-packages/httpx/_client.py\u001b\\\u001b[2m_client.py\u001b[0m\u001b]8;;\u001b\\\u001b[2m:\u001b[0m\u001b]8;id=86567;file:///home/rbarriga/.pyenv/versions/3.10.13/envs/whisper-diarization/lib/python3.10/site-packages/httpx/_client.py#1013\u001b\\\u001b[2m1013\u001b[0m\u001b]8;;\u001b\\\n",
       "\u001b[2;36m           \u001b[0m         \u001b[4;94mhttps://api.replicate.com/v1/predictions/fcxkogbbi7czrgclceznztbdpe\u001b[0m \u001b[32m\"HTTP/1.1 \u001b[0m  \u001b[2m               \u001b[0m\n",
       "\u001b[2;36m           \u001b[0m         \u001b[32m200 OK\"\u001b[0m                                                                         \u001b[2m               \u001b[0m\n"
      ]
     },
     "metadata": {},
     "output_type": "display_data"
    },
    {
     "data": {
      "text/html": [
       "<pre style=\"white-space:pre;overflow-x:auto;line-height:normal;font-family:Menlo,'DejaVu Sans Mono',consolas,'Courier New',monospace\"><span style=\"color: #7fbfbf; text-decoration-color: #7fbfbf\">[18:35:08] </span><span style=\"color: #000080; text-decoration-color: #000080\">INFO    </span> HTTP Request: <span style=\"color: #808000; text-decoration-color: #808000; font-weight: bold\">GET</span>                                                               <a href=\"file:///home/rbarriga/.pyenv/versions/3.10.13/envs/whisper-diarization/lib/python3.10/site-packages/httpx/_client.py\" target=\"_blank\"><span style=\"color: #7f7f7f; text-decoration-color: #7f7f7f\">_client.py</span></a><span style=\"color: #7f7f7f; text-decoration-color: #7f7f7f\">:</span><a href=\"file:///home/rbarriga/.pyenv/versions/3.10.13/envs/whisper-diarization/lib/python3.10/site-packages/httpx/_client.py#1013\" target=\"_blank\"><span style=\"color: #7f7f7f; text-decoration-color: #7f7f7f\">1013</span></a>\n",
       "<span style=\"color: #7fbfbf; text-decoration-color: #7fbfbf\">           </span>         <span style=\"color: #0000ff; text-decoration-color: #0000ff; text-decoration: underline\">https://api.replicate.com/v1/predictions/fcxkogbbi7czrgclceznztbdpe</span> <span style=\"color: #008000; text-decoration-color: #008000\">\"HTTP/1.1 </span>  <span style=\"color: #7f7f7f; text-decoration-color: #7f7f7f\">               </span>\n",
       "<span style=\"color: #7fbfbf; text-decoration-color: #7fbfbf\">           </span>         <span style=\"color: #008000; text-decoration-color: #008000\">200 OK\"</span>                                                                         <span style=\"color: #7f7f7f; text-decoration-color: #7f7f7f\">               </span>\n",
       "</pre>\n"
      ],
      "text/plain": [
       "\u001b[2;36m[18:35:08]\u001b[0m\u001b[2;36m \u001b[0m\u001b[34mINFO    \u001b[0m HTTP Request: \u001b[1;33mGET\u001b[0m                                                               \u001b]8;id=554936;file:///home/rbarriga/.pyenv/versions/3.10.13/envs/whisper-diarization/lib/python3.10/site-packages/httpx/_client.py\u001b\\\u001b[2m_client.py\u001b[0m\u001b]8;;\u001b\\\u001b[2m:\u001b[0m\u001b]8;id=566006;file:///home/rbarriga/.pyenv/versions/3.10.13/envs/whisper-diarization/lib/python3.10/site-packages/httpx/_client.py#1013\u001b\\\u001b[2m1013\u001b[0m\u001b]8;;\u001b\\\n",
       "\u001b[2;36m           \u001b[0m         \u001b[4;94mhttps://api.replicate.com/v1/predictions/fcxkogbbi7czrgclceznztbdpe\u001b[0m \u001b[32m\"HTTP/1.1 \u001b[0m  \u001b[2m               \u001b[0m\n",
       "\u001b[2;36m           \u001b[0m         \u001b[32m200 OK\"\u001b[0m                                                                         \u001b[2m               \u001b[0m\n"
      ]
     },
     "metadata": {},
     "output_type": "display_data"
    },
    {
     "data": {
      "text/html": [
       "<pre style=\"white-space:pre;overflow-x:auto;line-height:normal;font-family:Menlo,'DejaVu Sans Mono',consolas,'Courier New',monospace\"><span style=\"color: #7fbfbf; text-decoration-color: #7fbfbf\">[18:35:28] </span><span style=\"color: #000080; text-decoration-color: #000080\">INFO    </span> HTTP Request: <span style=\"color: #808000; text-decoration-color: #808000; font-weight: bold\">GET</span>                                                               <a href=\"file:///home/rbarriga/.pyenv/versions/3.10.13/envs/whisper-diarization/lib/python3.10/site-packages/httpx/_client.py\" target=\"_blank\"><span style=\"color: #7f7f7f; text-decoration-color: #7f7f7f\">_client.py</span></a><span style=\"color: #7f7f7f; text-decoration-color: #7f7f7f\">:</span><a href=\"file:///home/rbarriga/.pyenv/versions/3.10.13/envs/whisper-diarization/lib/python3.10/site-packages/httpx/_client.py#1013\" target=\"_blank\"><span style=\"color: #7f7f7f; text-decoration-color: #7f7f7f\">1013</span></a>\n",
       "<span style=\"color: #7fbfbf; text-decoration-color: #7fbfbf\">           </span>         <span style=\"color: #0000ff; text-decoration-color: #0000ff; text-decoration: underline\">https://api.replicate.com/v1/predictions/fcxkogbbi7czrgclceznztbdpe</span> <span style=\"color: #008000; text-decoration-color: #008000\">\"HTTP/1.1 </span>  <span style=\"color: #7f7f7f; text-decoration-color: #7f7f7f\">               </span>\n",
       "<span style=\"color: #7fbfbf; text-decoration-color: #7fbfbf\">           </span>         <span style=\"color: #008000; text-decoration-color: #008000\">200 OK\"</span>                                                                         <span style=\"color: #7f7f7f; text-decoration-color: #7f7f7f\">               </span>\n",
       "</pre>\n"
      ],
      "text/plain": [
       "\u001b[2;36m[18:35:28]\u001b[0m\u001b[2;36m \u001b[0m\u001b[34mINFO    \u001b[0m HTTP Request: \u001b[1;33mGET\u001b[0m                                                               \u001b]8;id=687868;file:///home/rbarriga/.pyenv/versions/3.10.13/envs/whisper-diarization/lib/python3.10/site-packages/httpx/_client.py\u001b\\\u001b[2m_client.py\u001b[0m\u001b]8;;\u001b\\\u001b[2m:\u001b[0m\u001b]8;id=291088;file:///home/rbarriga/.pyenv/versions/3.10.13/envs/whisper-diarization/lib/python3.10/site-packages/httpx/_client.py#1013\u001b\\\u001b[2m1013\u001b[0m\u001b]8;;\u001b\\\n",
       "\u001b[2;36m           \u001b[0m         \u001b[4;94mhttps://api.replicate.com/v1/predictions/fcxkogbbi7czrgclceznztbdpe\u001b[0m \u001b[32m\"HTTP/1.1 \u001b[0m  \u001b[2m               \u001b[0m\n",
       "\u001b[2;36m           \u001b[0m         \u001b[32m200 OK\"\u001b[0m                                                                         \u001b[2m               \u001b[0m\n"
      ]
     },
     "metadata": {},
     "output_type": "display_data"
    },
    {
     "data": {
      "text/html": [
       "<pre style=\"white-space:pre;overflow-x:auto;line-height:normal;font-family:Menlo,'DejaVu Sans Mono',consolas,'Courier New',monospace\"><span style=\"color: #7fbfbf; text-decoration-color: #7fbfbf\">[18:35:50] </span><span style=\"color: #000080; text-decoration-color: #000080\">INFO    </span> HTTP Request: <span style=\"color: #808000; text-decoration-color: #808000; font-weight: bold\">GET</span>                                                               <a href=\"file:///home/rbarriga/.pyenv/versions/3.10.13/envs/whisper-diarization/lib/python3.10/site-packages/httpx/_client.py\" target=\"_blank\"><span style=\"color: #7f7f7f; text-decoration-color: #7f7f7f\">_client.py</span></a><span style=\"color: #7f7f7f; text-decoration-color: #7f7f7f\">:</span><a href=\"file:///home/rbarriga/.pyenv/versions/3.10.13/envs/whisper-diarization/lib/python3.10/site-packages/httpx/_client.py#1013\" target=\"_blank\"><span style=\"color: #7f7f7f; text-decoration-color: #7f7f7f\">1013</span></a>\n",
       "<span style=\"color: #7fbfbf; text-decoration-color: #7fbfbf\">           </span>         <span style=\"color: #0000ff; text-decoration-color: #0000ff; text-decoration: underline\">https://api.replicate.com/v1/predictions/fcxkogbbi7czrgclceznztbdpe</span> <span style=\"color: #008000; text-decoration-color: #008000\">\"HTTP/1.1 </span>  <span style=\"color: #7f7f7f; text-decoration-color: #7f7f7f\">               </span>\n",
       "<span style=\"color: #7fbfbf; text-decoration-color: #7fbfbf\">           </span>         <span style=\"color: #008000; text-decoration-color: #008000\">200 OK\"</span>                                                                         <span style=\"color: #7f7f7f; text-decoration-color: #7f7f7f\">               </span>\n",
       "</pre>\n"
      ],
      "text/plain": [
       "\u001b[2;36m[18:35:50]\u001b[0m\u001b[2;36m \u001b[0m\u001b[34mINFO    \u001b[0m HTTP Request: \u001b[1;33mGET\u001b[0m                                                               \u001b]8;id=68216;file:///home/rbarriga/.pyenv/versions/3.10.13/envs/whisper-diarization/lib/python3.10/site-packages/httpx/_client.py\u001b\\\u001b[2m_client.py\u001b[0m\u001b]8;;\u001b\\\u001b[2m:\u001b[0m\u001b]8;id=520592;file:///home/rbarriga/.pyenv/versions/3.10.13/envs/whisper-diarization/lib/python3.10/site-packages/httpx/_client.py#1013\u001b\\\u001b[2m1013\u001b[0m\u001b]8;;\u001b\\\n",
       "\u001b[2;36m           \u001b[0m         \u001b[4;94mhttps://api.replicate.com/v1/predictions/fcxkogbbi7czrgclceznztbdpe\u001b[0m \u001b[32m\"HTTP/1.1 \u001b[0m  \u001b[2m               \u001b[0m\n",
       "\u001b[2;36m           \u001b[0m         \u001b[32m200 OK\"\u001b[0m                                                                         \u001b[2m               \u001b[0m\n"
      ]
     },
     "metadata": {},
     "output_type": "display_data"
    },
    {
     "data": {
      "text/html": [
       "<pre style=\"white-space:pre;overflow-x:auto;line-height:normal;font-family:Menlo,'DejaVu Sans Mono',consolas,'Courier New',monospace\"><span style=\"color: #7fbfbf; text-decoration-color: #7fbfbf\">[18:36:11] </span><span style=\"color: #000080; text-decoration-color: #000080\">INFO    </span> HTTP Request: <span style=\"color: #808000; text-decoration-color: #808000; font-weight: bold\">GET</span>                                                               <a href=\"file:///home/rbarriga/.pyenv/versions/3.10.13/envs/whisper-diarization/lib/python3.10/site-packages/httpx/_client.py\" target=\"_blank\"><span style=\"color: #7f7f7f; text-decoration-color: #7f7f7f\">_client.py</span></a><span style=\"color: #7f7f7f; text-decoration-color: #7f7f7f\">:</span><a href=\"file:///home/rbarriga/.pyenv/versions/3.10.13/envs/whisper-diarization/lib/python3.10/site-packages/httpx/_client.py#1013\" target=\"_blank\"><span style=\"color: #7f7f7f; text-decoration-color: #7f7f7f\">1013</span></a>\n",
       "<span style=\"color: #7fbfbf; text-decoration-color: #7fbfbf\">           </span>         <span style=\"color: #0000ff; text-decoration-color: #0000ff; text-decoration: underline\">https://api.replicate.com/v1/predictions/fcxkogbbi7czrgclceznztbdpe</span> <span style=\"color: #008000; text-decoration-color: #008000\">\"HTTP/1.1 </span>  <span style=\"color: #7f7f7f; text-decoration-color: #7f7f7f\">               </span>\n",
       "<span style=\"color: #7fbfbf; text-decoration-color: #7fbfbf\">           </span>         <span style=\"color: #008000; text-decoration-color: #008000\">200 OK\"</span>                                                                         <span style=\"color: #7f7f7f; text-decoration-color: #7f7f7f\">               </span>\n",
       "</pre>\n"
      ],
      "text/plain": [
       "\u001b[2;36m[18:36:11]\u001b[0m\u001b[2;36m \u001b[0m\u001b[34mINFO    \u001b[0m HTTP Request: \u001b[1;33mGET\u001b[0m                                                               \u001b]8;id=364742;file:///home/rbarriga/.pyenv/versions/3.10.13/envs/whisper-diarization/lib/python3.10/site-packages/httpx/_client.py\u001b\\\u001b[2m_client.py\u001b[0m\u001b]8;;\u001b\\\u001b[2m:\u001b[0m\u001b]8;id=174412;file:///home/rbarriga/.pyenv/versions/3.10.13/envs/whisper-diarization/lib/python3.10/site-packages/httpx/_client.py#1013\u001b\\\u001b[2m1013\u001b[0m\u001b]8;;\u001b\\\n",
       "\u001b[2;36m           \u001b[0m         \u001b[4;94mhttps://api.replicate.com/v1/predictions/fcxkogbbi7czrgclceznztbdpe\u001b[0m \u001b[32m\"HTTP/1.1 \u001b[0m  \u001b[2m               \u001b[0m\n",
       "\u001b[2;36m           \u001b[0m         \u001b[32m200 OK\"\u001b[0m                                                                         \u001b[2m               \u001b[0m\n"
      ]
     },
     "metadata": {},
     "output_type": "display_data"
    },
    {
     "data": {
      "text/html": [
       "<pre style=\"white-space:pre;overflow-x:auto;line-height:normal;font-family:Menlo,'DejaVu Sans Mono',consolas,'Courier New',monospace\"><span style=\"color: #7fbfbf; text-decoration-color: #7fbfbf\">[18:36:31] </span><span style=\"color: #000080; text-decoration-color: #000080\">INFO    </span> HTTP Request: <span style=\"color: #808000; text-decoration-color: #808000; font-weight: bold\">GET</span>                                                               <a href=\"file:///home/rbarriga/.pyenv/versions/3.10.13/envs/whisper-diarization/lib/python3.10/site-packages/httpx/_client.py\" target=\"_blank\"><span style=\"color: #7f7f7f; text-decoration-color: #7f7f7f\">_client.py</span></a><span style=\"color: #7f7f7f; text-decoration-color: #7f7f7f\">:</span><a href=\"file:///home/rbarriga/.pyenv/versions/3.10.13/envs/whisper-diarization/lib/python3.10/site-packages/httpx/_client.py#1013\" target=\"_blank\"><span style=\"color: #7f7f7f; text-decoration-color: #7f7f7f\">1013</span></a>\n",
       "<span style=\"color: #7fbfbf; text-decoration-color: #7fbfbf\">           </span>         <span style=\"color: #0000ff; text-decoration-color: #0000ff; text-decoration: underline\">https://api.replicate.com/v1/predictions/fcxkogbbi7czrgclceznztbdpe</span> <span style=\"color: #008000; text-decoration-color: #008000\">\"HTTP/1.1 </span>  <span style=\"color: #7f7f7f; text-decoration-color: #7f7f7f\">               </span>\n",
       "<span style=\"color: #7fbfbf; text-decoration-color: #7fbfbf\">           </span>         <span style=\"color: #008000; text-decoration-color: #008000\">200 OK\"</span>                                                                         <span style=\"color: #7f7f7f; text-decoration-color: #7f7f7f\">               </span>\n",
       "</pre>\n"
      ],
      "text/plain": [
       "\u001b[2;36m[18:36:31]\u001b[0m\u001b[2;36m \u001b[0m\u001b[34mINFO    \u001b[0m HTTP Request: \u001b[1;33mGET\u001b[0m                                                               \u001b]8;id=546402;file:///home/rbarriga/.pyenv/versions/3.10.13/envs/whisper-diarization/lib/python3.10/site-packages/httpx/_client.py\u001b\\\u001b[2m_client.py\u001b[0m\u001b]8;;\u001b\\\u001b[2m:\u001b[0m\u001b]8;id=74483;file:///home/rbarriga/.pyenv/versions/3.10.13/envs/whisper-diarization/lib/python3.10/site-packages/httpx/_client.py#1013\u001b\\\u001b[2m1013\u001b[0m\u001b]8;;\u001b\\\n",
       "\u001b[2;36m           \u001b[0m         \u001b[4;94mhttps://api.replicate.com/v1/predictions/fcxkogbbi7czrgclceznztbdpe\u001b[0m \u001b[32m\"HTTP/1.1 \u001b[0m  \u001b[2m               \u001b[0m\n",
       "\u001b[2;36m           \u001b[0m         \u001b[32m200 OK\"\u001b[0m                                                                         \u001b[2m               \u001b[0m\n"
      ]
     },
     "metadata": {},
     "output_type": "display_data"
    },
    {
     "data": {
      "text/html": [
       "<pre style=\"white-space:pre;overflow-x:auto;line-height:normal;font-family:Menlo,'DejaVu Sans Mono',consolas,'Courier New',monospace\"><span style=\"color: #7fbfbf; text-decoration-color: #7fbfbf\">[18:36:52] </span><span style=\"color: #000080; text-decoration-color: #000080\">INFO    </span> HTTP Request: <span style=\"color: #808000; text-decoration-color: #808000; font-weight: bold\">GET</span>                                                               <a href=\"file:///home/rbarriga/.pyenv/versions/3.10.13/envs/whisper-diarization/lib/python3.10/site-packages/httpx/_client.py\" target=\"_blank\"><span style=\"color: #7f7f7f; text-decoration-color: #7f7f7f\">_client.py</span></a><span style=\"color: #7f7f7f; text-decoration-color: #7f7f7f\">:</span><a href=\"file:///home/rbarriga/.pyenv/versions/3.10.13/envs/whisper-diarization/lib/python3.10/site-packages/httpx/_client.py#1013\" target=\"_blank\"><span style=\"color: #7f7f7f; text-decoration-color: #7f7f7f\">1013</span></a>\n",
       "<span style=\"color: #7fbfbf; text-decoration-color: #7fbfbf\">           </span>         <span style=\"color: #0000ff; text-decoration-color: #0000ff; text-decoration: underline\">https://api.replicate.com/v1/predictions/fcxkogbbi7czrgclceznztbdpe</span> <span style=\"color: #008000; text-decoration-color: #008000\">\"HTTP/1.1 </span>  <span style=\"color: #7f7f7f; text-decoration-color: #7f7f7f\">               </span>\n",
       "<span style=\"color: #7fbfbf; text-decoration-color: #7fbfbf\">           </span>         <span style=\"color: #008000; text-decoration-color: #008000\">200 OK\"</span>                                                                         <span style=\"color: #7f7f7f; text-decoration-color: #7f7f7f\">               </span>\n",
       "</pre>\n"
      ],
      "text/plain": [
       "\u001b[2;36m[18:36:52]\u001b[0m\u001b[2;36m \u001b[0m\u001b[34mINFO    \u001b[0m HTTP Request: \u001b[1;33mGET\u001b[0m                                                               \u001b]8;id=865329;file:///home/rbarriga/.pyenv/versions/3.10.13/envs/whisper-diarization/lib/python3.10/site-packages/httpx/_client.py\u001b\\\u001b[2m_client.py\u001b[0m\u001b]8;;\u001b\\\u001b[2m:\u001b[0m\u001b]8;id=802351;file:///home/rbarriga/.pyenv/versions/3.10.13/envs/whisper-diarization/lib/python3.10/site-packages/httpx/_client.py#1013\u001b\\\u001b[2m1013\u001b[0m\u001b]8;;\u001b\\\n",
       "\u001b[2;36m           \u001b[0m         \u001b[4;94mhttps://api.replicate.com/v1/predictions/fcxkogbbi7czrgclceznztbdpe\u001b[0m \u001b[32m\"HTTP/1.1 \u001b[0m  \u001b[2m               \u001b[0m\n",
       "\u001b[2;36m           \u001b[0m         \u001b[32m200 OK\"\u001b[0m                                                                         \u001b[2m               \u001b[0m\n"
      ]
     },
     "metadata": {},
     "output_type": "display_data"
    },
    {
     "data": {
      "text/html": [
       "<pre style=\"white-space:pre;overflow-x:auto;line-height:normal;font-family:Menlo,'DejaVu Sans Mono',consolas,'Courier New',monospace\"><span style=\"color: #7fbfbf; text-decoration-color: #7fbfbf\">[18:37:13] </span><span style=\"color: #000080; text-decoration-color: #000080\">INFO    </span> HTTP Request: <span style=\"color: #808000; text-decoration-color: #808000; font-weight: bold\">GET</span>                                                               <a href=\"file:///home/rbarriga/.pyenv/versions/3.10.13/envs/whisper-diarization/lib/python3.10/site-packages/httpx/_client.py\" target=\"_blank\"><span style=\"color: #7f7f7f; text-decoration-color: #7f7f7f\">_client.py</span></a><span style=\"color: #7f7f7f; text-decoration-color: #7f7f7f\">:</span><a href=\"file:///home/rbarriga/.pyenv/versions/3.10.13/envs/whisper-diarization/lib/python3.10/site-packages/httpx/_client.py#1013\" target=\"_blank\"><span style=\"color: #7f7f7f; text-decoration-color: #7f7f7f\">1013</span></a>\n",
       "<span style=\"color: #7fbfbf; text-decoration-color: #7fbfbf\">           </span>         <span style=\"color: #0000ff; text-decoration-color: #0000ff; text-decoration: underline\">https://api.replicate.com/v1/predictions/fcxkogbbi7czrgclceznztbdpe</span> <span style=\"color: #008000; text-decoration-color: #008000\">\"HTTP/1.1 </span>  <span style=\"color: #7f7f7f; text-decoration-color: #7f7f7f\">               </span>\n",
       "<span style=\"color: #7fbfbf; text-decoration-color: #7fbfbf\">           </span>         <span style=\"color: #008000; text-decoration-color: #008000\">200 OK\"</span>                                                                         <span style=\"color: #7f7f7f; text-decoration-color: #7f7f7f\">               </span>\n",
       "</pre>\n"
      ],
      "text/plain": [
       "\u001b[2;36m[18:37:13]\u001b[0m\u001b[2;36m \u001b[0m\u001b[34mINFO    \u001b[0m HTTP Request: \u001b[1;33mGET\u001b[0m                                                               \u001b]8;id=648657;file:///home/rbarriga/.pyenv/versions/3.10.13/envs/whisper-diarization/lib/python3.10/site-packages/httpx/_client.py\u001b\\\u001b[2m_client.py\u001b[0m\u001b]8;;\u001b\\\u001b[2m:\u001b[0m\u001b]8;id=70710;file:///home/rbarriga/.pyenv/versions/3.10.13/envs/whisper-diarization/lib/python3.10/site-packages/httpx/_client.py#1013\u001b\\\u001b[2m1013\u001b[0m\u001b]8;;\u001b\\\n",
       "\u001b[2;36m           \u001b[0m         \u001b[4;94mhttps://api.replicate.com/v1/predictions/fcxkogbbi7czrgclceznztbdpe\u001b[0m \u001b[32m\"HTTP/1.1 \u001b[0m  \u001b[2m               \u001b[0m\n",
       "\u001b[2;36m           \u001b[0m         \u001b[32m200 OK\"\u001b[0m                                                                         \u001b[2m               \u001b[0m\n"
      ]
     },
     "metadata": {},
     "output_type": "display_data"
    },
    {
     "data": {
      "text/html": [
       "<pre style=\"white-space:pre;overflow-x:auto;line-height:normal;font-family:Menlo,'DejaVu Sans Mono',consolas,'Courier New',monospace\"><span style=\"color: #7fbfbf; text-decoration-color: #7fbfbf\">[18:37:33] </span><span style=\"color: #000080; text-decoration-color: #000080\">INFO    </span> HTTP Request: <span style=\"color: #808000; text-decoration-color: #808000; font-weight: bold\">GET</span>                                                               <a href=\"file:///home/rbarriga/.pyenv/versions/3.10.13/envs/whisper-diarization/lib/python3.10/site-packages/httpx/_client.py\" target=\"_blank\"><span style=\"color: #7f7f7f; text-decoration-color: #7f7f7f\">_client.py</span></a><span style=\"color: #7f7f7f; text-decoration-color: #7f7f7f\">:</span><a href=\"file:///home/rbarriga/.pyenv/versions/3.10.13/envs/whisper-diarization/lib/python3.10/site-packages/httpx/_client.py#1013\" target=\"_blank\"><span style=\"color: #7f7f7f; text-decoration-color: #7f7f7f\">1013</span></a>\n",
       "<span style=\"color: #7fbfbf; text-decoration-color: #7fbfbf\">           </span>         <span style=\"color: #0000ff; text-decoration-color: #0000ff; text-decoration: underline\">https://api.replicate.com/v1/predictions/fcxkogbbi7czrgclceznztbdpe</span> <span style=\"color: #008000; text-decoration-color: #008000\">\"HTTP/1.1 </span>  <span style=\"color: #7f7f7f; text-decoration-color: #7f7f7f\">               </span>\n",
       "<span style=\"color: #7fbfbf; text-decoration-color: #7fbfbf\">           </span>         <span style=\"color: #008000; text-decoration-color: #008000\">200 OK\"</span>                                                                         <span style=\"color: #7f7f7f; text-decoration-color: #7f7f7f\">               </span>\n",
       "</pre>\n"
      ],
      "text/plain": [
       "\u001b[2;36m[18:37:33]\u001b[0m\u001b[2;36m \u001b[0m\u001b[34mINFO    \u001b[0m HTTP Request: \u001b[1;33mGET\u001b[0m                                                               \u001b]8;id=788580;file:///home/rbarriga/.pyenv/versions/3.10.13/envs/whisper-diarization/lib/python3.10/site-packages/httpx/_client.py\u001b\\\u001b[2m_client.py\u001b[0m\u001b]8;;\u001b\\\u001b[2m:\u001b[0m\u001b]8;id=172923;file:///home/rbarriga/.pyenv/versions/3.10.13/envs/whisper-diarization/lib/python3.10/site-packages/httpx/_client.py#1013\u001b\\\u001b[2m1013\u001b[0m\u001b]8;;\u001b\\\n",
       "\u001b[2;36m           \u001b[0m         \u001b[4;94mhttps://api.replicate.com/v1/predictions/fcxkogbbi7czrgclceznztbdpe\u001b[0m \u001b[32m\"HTTP/1.1 \u001b[0m  \u001b[2m               \u001b[0m\n",
       "\u001b[2;36m           \u001b[0m         \u001b[32m200 OK\"\u001b[0m                                                                         \u001b[2m               \u001b[0m\n"
      ]
     },
     "metadata": {},
     "output_type": "display_data"
    },
    {
     "data": {
      "text/html": [
       "<pre style=\"white-space:pre;overflow-x:auto;line-height:normal;font-family:Menlo,'DejaVu Sans Mono',consolas,'Courier New',monospace\"><span style=\"color: #7fbfbf; text-decoration-color: #7fbfbf\">[18:37:54] </span><span style=\"color: #000080; text-decoration-color: #000080\">INFO    </span> HTTP Request: <span style=\"color: #808000; text-decoration-color: #808000; font-weight: bold\">GET</span>                                                               <a href=\"file:///home/rbarriga/.pyenv/versions/3.10.13/envs/whisper-diarization/lib/python3.10/site-packages/httpx/_client.py\" target=\"_blank\"><span style=\"color: #7f7f7f; text-decoration-color: #7f7f7f\">_client.py</span></a><span style=\"color: #7f7f7f; text-decoration-color: #7f7f7f\">:</span><a href=\"file:///home/rbarriga/.pyenv/versions/3.10.13/envs/whisper-diarization/lib/python3.10/site-packages/httpx/_client.py#1013\" target=\"_blank\"><span style=\"color: #7f7f7f; text-decoration-color: #7f7f7f\">1013</span></a>\n",
       "<span style=\"color: #7fbfbf; text-decoration-color: #7fbfbf\">           </span>         <span style=\"color: #0000ff; text-decoration-color: #0000ff; text-decoration: underline\">https://api.replicate.com/v1/predictions/fcxkogbbi7czrgclceznztbdpe</span> <span style=\"color: #008000; text-decoration-color: #008000\">\"HTTP/1.1 </span>  <span style=\"color: #7f7f7f; text-decoration-color: #7f7f7f\">               </span>\n",
       "<span style=\"color: #7fbfbf; text-decoration-color: #7fbfbf\">           </span>         <span style=\"color: #008000; text-decoration-color: #008000\">200 OK\"</span>                                                                         <span style=\"color: #7f7f7f; text-decoration-color: #7f7f7f\">               </span>\n",
       "</pre>\n"
      ],
      "text/plain": [
       "\u001b[2;36m[18:37:54]\u001b[0m\u001b[2;36m \u001b[0m\u001b[34mINFO    \u001b[0m HTTP Request: \u001b[1;33mGET\u001b[0m                                                               \u001b]8;id=451647;file:///home/rbarriga/.pyenv/versions/3.10.13/envs/whisper-diarization/lib/python3.10/site-packages/httpx/_client.py\u001b\\\u001b[2m_client.py\u001b[0m\u001b]8;;\u001b\\\u001b[2m:\u001b[0m\u001b]8;id=485942;file:///home/rbarriga/.pyenv/versions/3.10.13/envs/whisper-diarization/lib/python3.10/site-packages/httpx/_client.py#1013\u001b\\\u001b[2m1013\u001b[0m\u001b]8;;\u001b\\\n",
       "\u001b[2;36m           \u001b[0m         \u001b[4;94mhttps://api.replicate.com/v1/predictions/fcxkogbbi7czrgclceznztbdpe\u001b[0m \u001b[32m\"HTTP/1.1 \u001b[0m  \u001b[2m               \u001b[0m\n",
       "\u001b[2;36m           \u001b[0m         \u001b[32m200 OK\"\u001b[0m                                                                         \u001b[2m               \u001b[0m\n"
      ]
     },
     "metadata": {},
     "output_type": "display_data"
    },
    {
     "data": {
      "text/html": [
       "<pre style=\"white-space:pre;overflow-x:auto;line-height:normal;font-family:Menlo,'DejaVu Sans Mono',consolas,'Courier New',monospace\"><span style=\"color: #7fbfbf; text-decoration-color: #7fbfbf\">[18:38:14] </span><span style=\"color: #000080; text-decoration-color: #000080\">INFO    </span> HTTP Request: <span style=\"color: #808000; text-decoration-color: #808000; font-weight: bold\">GET</span>                                                               <a href=\"file:///home/rbarriga/.pyenv/versions/3.10.13/envs/whisper-diarization/lib/python3.10/site-packages/httpx/_client.py\" target=\"_blank\"><span style=\"color: #7f7f7f; text-decoration-color: #7f7f7f\">_client.py</span></a><span style=\"color: #7f7f7f; text-decoration-color: #7f7f7f\">:</span><a href=\"file:///home/rbarriga/.pyenv/versions/3.10.13/envs/whisper-diarization/lib/python3.10/site-packages/httpx/_client.py#1013\" target=\"_blank\"><span style=\"color: #7f7f7f; text-decoration-color: #7f7f7f\">1013</span></a>\n",
       "<span style=\"color: #7fbfbf; text-decoration-color: #7fbfbf\">           </span>         <span style=\"color: #0000ff; text-decoration-color: #0000ff; text-decoration: underline\">https://api.replicate.com/v1/predictions/fcxkogbbi7czrgclceznztbdpe</span> <span style=\"color: #008000; text-decoration-color: #008000\">\"HTTP/1.1 </span>  <span style=\"color: #7f7f7f; text-decoration-color: #7f7f7f\">               </span>\n",
       "<span style=\"color: #7fbfbf; text-decoration-color: #7fbfbf\">           </span>         <span style=\"color: #008000; text-decoration-color: #008000\">200 OK\"</span>                                                                         <span style=\"color: #7f7f7f; text-decoration-color: #7f7f7f\">               </span>\n",
       "</pre>\n"
      ],
      "text/plain": [
       "\u001b[2;36m[18:38:14]\u001b[0m\u001b[2;36m \u001b[0m\u001b[34mINFO    \u001b[0m HTTP Request: \u001b[1;33mGET\u001b[0m                                                               \u001b]8;id=890108;file:///home/rbarriga/.pyenv/versions/3.10.13/envs/whisper-diarization/lib/python3.10/site-packages/httpx/_client.py\u001b\\\u001b[2m_client.py\u001b[0m\u001b]8;;\u001b\\\u001b[2m:\u001b[0m\u001b]8;id=595804;file:///home/rbarriga/.pyenv/versions/3.10.13/envs/whisper-diarization/lib/python3.10/site-packages/httpx/_client.py#1013\u001b\\\u001b[2m1013\u001b[0m\u001b]8;;\u001b\\\n",
       "\u001b[2;36m           \u001b[0m         \u001b[4;94mhttps://api.replicate.com/v1/predictions/fcxkogbbi7czrgclceznztbdpe\u001b[0m \u001b[32m\"HTTP/1.1 \u001b[0m  \u001b[2m               \u001b[0m\n",
       "\u001b[2;36m           \u001b[0m         \u001b[32m200 OK\"\u001b[0m                                                                         \u001b[2m               \u001b[0m\n"
      ]
     },
     "metadata": {},
     "output_type": "display_data"
    },
    {
     "data": {
      "text/html": [
       "<pre style=\"white-space:pre;overflow-x:auto;line-height:normal;font-family:Menlo,'DejaVu Sans Mono',consolas,'Courier New',monospace\"><span style=\"color: #7fbfbf; text-decoration-color: #7fbfbf\">[18:38:34] </span><span style=\"color: #000080; text-decoration-color: #000080\">INFO    </span> HTTP Request: <span style=\"color: #808000; text-decoration-color: #808000; font-weight: bold\">GET</span>                                                               <a href=\"file:///home/rbarriga/.pyenv/versions/3.10.13/envs/whisper-diarization/lib/python3.10/site-packages/httpx/_client.py\" target=\"_blank\"><span style=\"color: #7f7f7f; text-decoration-color: #7f7f7f\">_client.py</span></a><span style=\"color: #7f7f7f; text-decoration-color: #7f7f7f\">:</span><a href=\"file:///home/rbarriga/.pyenv/versions/3.10.13/envs/whisper-diarization/lib/python3.10/site-packages/httpx/_client.py#1013\" target=\"_blank\"><span style=\"color: #7f7f7f; text-decoration-color: #7f7f7f\">1013</span></a>\n",
       "<span style=\"color: #7fbfbf; text-decoration-color: #7fbfbf\">           </span>         <span style=\"color: #0000ff; text-decoration-color: #0000ff; text-decoration: underline\">https://api.replicate.com/v1/predictions/fcxkogbbi7czrgclceznztbdpe</span> <span style=\"color: #008000; text-decoration-color: #008000\">\"HTTP/1.1 </span>  <span style=\"color: #7f7f7f; text-decoration-color: #7f7f7f\">               </span>\n",
       "<span style=\"color: #7fbfbf; text-decoration-color: #7fbfbf\">           </span>         <span style=\"color: #008000; text-decoration-color: #008000\">200 OK\"</span>                                                                         <span style=\"color: #7f7f7f; text-decoration-color: #7f7f7f\">               </span>\n",
       "</pre>\n"
      ],
      "text/plain": [
       "\u001b[2;36m[18:38:34]\u001b[0m\u001b[2;36m \u001b[0m\u001b[34mINFO    \u001b[0m HTTP Request: \u001b[1;33mGET\u001b[0m                                                               \u001b]8;id=855200;file:///home/rbarriga/.pyenv/versions/3.10.13/envs/whisper-diarization/lib/python3.10/site-packages/httpx/_client.py\u001b\\\u001b[2m_client.py\u001b[0m\u001b]8;;\u001b\\\u001b[2m:\u001b[0m\u001b]8;id=997082;file:///home/rbarriga/.pyenv/versions/3.10.13/envs/whisper-diarization/lib/python3.10/site-packages/httpx/_client.py#1013\u001b\\\u001b[2m1013\u001b[0m\u001b]8;;\u001b\\\n",
       "\u001b[2;36m           \u001b[0m         \u001b[4;94mhttps://api.replicate.com/v1/predictions/fcxkogbbi7czrgclceznztbdpe\u001b[0m \u001b[32m\"HTTP/1.1 \u001b[0m  \u001b[2m               \u001b[0m\n",
       "\u001b[2;36m           \u001b[0m         \u001b[32m200 OK\"\u001b[0m                                                                         \u001b[2m               \u001b[0m\n"
      ]
     },
     "metadata": {},
     "output_type": "display_data"
    },
    {
     "data": {
      "text/html": [
       "<pre style=\"white-space:pre;overflow-x:auto;line-height:normal;font-family:Menlo,'DejaVu Sans Mono',consolas,'Courier New',monospace\"><span style=\"color: #7fbfbf; text-decoration-color: #7fbfbf\">[18:38:55] </span><span style=\"color: #000080; text-decoration-color: #000080\">INFO    </span> HTTP Request: <span style=\"color: #808000; text-decoration-color: #808000; font-weight: bold\">GET</span>                                                               <a href=\"file:///home/rbarriga/.pyenv/versions/3.10.13/envs/whisper-diarization/lib/python3.10/site-packages/httpx/_client.py\" target=\"_blank\"><span style=\"color: #7f7f7f; text-decoration-color: #7f7f7f\">_client.py</span></a><span style=\"color: #7f7f7f; text-decoration-color: #7f7f7f\">:</span><a href=\"file:///home/rbarriga/.pyenv/versions/3.10.13/envs/whisper-diarization/lib/python3.10/site-packages/httpx/_client.py#1013\" target=\"_blank\"><span style=\"color: #7f7f7f; text-decoration-color: #7f7f7f\">1013</span></a>\n",
       "<span style=\"color: #7fbfbf; text-decoration-color: #7fbfbf\">           </span>         <span style=\"color: #0000ff; text-decoration-color: #0000ff; text-decoration: underline\">https://api.replicate.com/v1/predictions/fcxkogbbi7czrgclceznztbdpe</span> <span style=\"color: #008000; text-decoration-color: #008000\">\"HTTP/1.1 </span>  <span style=\"color: #7f7f7f; text-decoration-color: #7f7f7f\">               </span>\n",
       "<span style=\"color: #7fbfbf; text-decoration-color: #7fbfbf\">           </span>         <span style=\"color: #008000; text-decoration-color: #008000\">200 OK\"</span>                                                                         <span style=\"color: #7f7f7f; text-decoration-color: #7f7f7f\">               </span>\n",
       "</pre>\n"
      ],
      "text/plain": [
       "\u001b[2;36m[18:38:55]\u001b[0m\u001b[2;36m \u001b[0m\u001b[34mINFO    \u001b[0m HTTP Request: \u001b[1;33mGET\u001b[0m                                                               \u001b]8;id=441920;file:///home/rbarriga/.pyenv/versions/3.10.13/envs/whisper-diarization/lib/python3.10/site-packages/httpx/_client.py\u001b\\\u001b[2m_client.py\u001b[0m\u001b]8;;\u001b\\\u001b[2m:\u001b[0m\u001b]8;id=499817;file:///home/rbarriga/.pyenv/versions/3.10.13/envs/whisper-diarization/lib/python3.10/site-packages/httpx/_client.py#1013\u001b\\\u001b[2m1013\u001b[0m\u001b]8;;\u001b\\\n",
       "\u001b[2;36m           \u001b[0m         \u001b[4;94mhttps://api.replicate.com/v1/predictions/fcxkogbbi7czrgclceznztbdpe\u001b[0m \u001b[32m\"HTTP/1.1 \u001b[0m  \u001b[2m               \u001b[0m\n",
       "\u001b[2;36m           \u001b[0m         \u001b[32m200 OK\"\u001b[0m                                                                         \u001b[2m               \u001b[0m\n"
      ]
     },
     "metadata": {},
     "output_type": "display_data"
    },
    {
     "data": {
      "text/html": [
       "<pre style=\"white-space:pre;overflow-x:auto;line-height:normal;font-family:Menlo,'DejaVu Sans Mono',consolas,'Courier New',monospace\"><span style=\"color: #7fbfbf; text-decoration-color: #7fbfbf\">           </span><span style=\"color: #000080; text-decoration-color: #000080\">INFO    </span> HTTP Request: <span style=\"color: #808000; text-decoration-color: #808000; font-weight: bold\">GET</span>                                                               <a href=\"file:///home/rbarriga/.pyenv/versions/3.10.13/envs/whisper-diarization/lib/python3.10/site-packages/httpx/_client.py\" target=\"_blank\"><span style=\"color: #7f7f7f; text-decoration-color: #7f7f7f\">_client.py</span></a><span style=\"color: #7f7f7f; text-decoration-color: #7f7f7f\">:</span><a href=\"file:///home/rbarriga/.pyenv/versions/3.10.13/envs/whisper-diarization/lib/python3.10/site-packages/httpx/_client.py#1013\" target=\"_blank\"><span style=\"color: #7f7f7f; text-decoration-color: #7f7f7f\">1013</span></a>\n",
       "<span style=\"color: #7fbfbf; text-decoration-color: #7fbfbf\">           </span>         <span style=\"color: #0000ff; text-decoration-color: #0000ff; text-decoration: underline\">https://api.replicate.com/v1/models/collectiveai-team/speaker-diarization-3</span>     <span style=\"color: #7f7f7f; text-decoration-color: #7f7f7f\">               </span>\n",
       "<span style=\"color: #7fbfbf; text-decoration-color: #7fbfbf\">           </span>         <span style=\"color: #008000; text-decoration-color: #008000\">\"HTTP/1.1 200 OK\"</span>                                                               <span style=\"color: #7f7f7f; text-decoration-color: #7f7f7f\">               </span>\n",
       "</pre>\n"
      ],
      "text/plain": [
       "\u001b[2;36m          \u001b[0m\u001b[2;36m \u001b[0m\u001b[34mINFO    \u001b[0m HTTP Request: \u001b[1;33mGET\u001b[0m                                                               \u001b]8;id=668298;file:///home/rbarriga/.pyenv/versions/3.10.13/envs/whisper-diarization/lib/python3.10/site-packages/httpx/_client.py\u001b\\\u001b[2m_client.py\u001b[0m\u001b]8;;\u001b\\\u001b[2m:\u001b[0m\u001b]8;id=632152;file:///home/rbarriga/.pyenv/versions/3.10.13/envs/whisper-diarization/lib/python3.10/site-packages/httpx/_client.py#1013\u001b\\\u001b[2m1013\u001b[0m\u001b]8;;\u001b\\\n",
       "\u001b[2;36m           \u001b[0m         \u001b[4;94mhttps://api.replicate.com/v1/models/collectiveai-team/speaker-diarization-3\u001b[0m     \u001b[2m               \u001b[0m\n",
       "\u001b[2;36m           \u001b[0m         \u001b[32m\"HTTP/1.1 200 OK\"\u001b[0m                                                               \u001b[2m               \u001b[0m\n"
      ]
     },
     "metadata": {},
     "output_type": "display_data"
    },
    {
     "data": {
      "text/html": [
       "<pre style=\"white-space:pre;overflow-x:auto;line-height:normal;font-family:Menlo,'DejaVu Sans Mono',consolas,'Courier New',monospace\"><span style=\"color: #7fbfbf; text-decoration-color: #7fbfbf\">[18:38:56] </span><span style=\"color: #000080; text-decoration-color: #000080\">INFO    </span> HTTP Request: <span style=\"color: #808000; text-decoration-color: #808000; font-weight: bold\">GET</span>                                                               <a href=\"file:///home/rbarriga/.pyenv/versions/3.10.13/envs/whisper-diarization/lib/python3.10/site-packages/httpx/_client.py\" target=\"_blank\"><span style=\"color: #7f7f7f; text-decoration-color: #7f7f7f\">_client.py</span></a><span style=\"color: #7f7f7f; text-decoration-color: #7f7f7f\">:</span><a href=\"file:///home/rbarriga/.pyenv/versions/3.10.13/envs/whisper-diarization/lib/python3.10/site-packages/httpx/_client.py#1013\" target=\"_blank\"><span style=\"color: #7f7f7f; text-decoration-color: #7f7f7f\">1013</span></a>\n",
       "<span style=\"color: #7fbfbf; text-decoration-color: #7fbfbf\">           </span>         <span style=\"color: #0000ff; text-decoration-color: #0000ff; text-decoration: underline\">https://api.replicate.com/v1/models/collectiveai-team/speaker-diarization-3/ver</span> <span style=\"color: #7f7f7f; text-decoration-color: #7f7f7f\">               </span>\n",
       "<span style=\"color: #7fbfbf; text-decoration-color: #7fbfbf\">           </span>         <span style=\"color: #0000ff; text-decoration-color: #0000ff; text-decoration: underline\">sions/bb2f332098caef385419a03ae879600115527b462e8b16df2d2d54aa58064a5a</span>          <span style=\"color: #7f7f7f; text-decoration-color: #7f7f7f\">               </span>\n",
       "<span style=\"color: #7fbfbf; text-decoration-color: #7fbfbf\">           </span>         <span style=\"color: #008000; text-decoration-color: #008000\">\"HTTP/1.1 200 OK\"</span>                                                               <span style=\"color: #7f7f7f; text-decoration-color: #7f7f7f\">               </span>\n",
       "</pre>\n"
      ],
      "text/plain": [
       "\u001b[2;36m[18:38:56]\u001b[0m\u001b[2;36m \u001b[0m\u001b[34mINFO    \u001b[0m HTTP Request: \u001b[1;33mGET\u001b[0m                                                               \u001b]8;id=903533;file:///home/rbarriga/.pyenv/versions/3.10.13/envs/whisper-diarization/lib/python3.10/site-packages/httpx/_client.py\u001b\\\u001b[2m_client.py\u001b[0m\u001b]8;;\u001b\\\u001b[2m:\u001b[0m\u001b]8;id=919173;file:///home/rbarriga/.pyenv/versions/3.10.13/envs/whisper-diarization/lib/python3.10/site-packages/httpx/_client.py#1013\u001b\\\u001b[2m1013\u001b[0m\u001b]8;;\u001b\\\n",
       "\u001b[2;36m           \u001b[0m         \u001b[4;94mhttps://api.replicate.com/v1/models/collectiveai-team/speaker-diarization-3/ver\u001b[0m \u001b[2m               \u001b[0m\n",
       "\u001b[2;36m           \u001b[0m         \u001b[4;94msions/bb2f332098caef385419a03ae879600115527b462e8b16df2d2d54aa58064a5a\u001b[0m          \u001b[2m               \u001b[0m\n",
       "\u001b[2;36m           \u001b[0m         \u001b[32m\"HTTP/1.1 200 OK\"\u001b[0m                                                               \u001b[2m               \u001b[0m\n"
      ]
     },
     "metadata": {},
     "output_type": "display_data"
    },
    {
     "data": {
      "text/html": [
       "<pre style=\"white-space:pre;overflow-x:auto;line-height:normal;font-family:Menlo,'DejaVu Sans Mono',consolas,'Courier New',monospace\"><span style=\"color: #7fbfbf; text-decoration-color: #7fbfbf\">           </span><span style=\"color: #000080; text-decoration-color: #000080\">INFO    </span> HTTP Request: <span style=\"color: #808000; text-decoration-color: #808000; font-weight: bold\">POST</span> <span style=\"color: #0000ff; text-decoration-color: #0000ff; text-decoration: underline\">https://api.replicate.com/v1/predictions</span> <span style=\"color: #008000; text-decoration-color: #008000\">\"HTTP/1.1 201 </span>      <a href=\"file:///home/rbarriga/.pyenv/versions/3.10.13/envs/whisper-diarization/lib/python3.10/site-packages/httpx/_client.py\" target=\"_blank\"><span style=\"color: #7f7f7f; text-decoration-color: #7f7f7f\">_client.py</span></a><span style=\"color: #7f7f7f; text-decoration-color: #7f7f7f\">:</span><a href=\"file:///home/rbarriga/.pyenv/versions/3.10.13/envs/whisper-diarization/lib/python3.10/site-packages/httpx/_client.py#1013\" target=\"_blank\"><span style=\"color: #7f7f7f; text-decoration-color: #7f7f7f\">1013</span></a>\n",
       "<span style=\"color: #7fbfbf; text-decoration-color: #7fbfbf\">           </span>         <span style=\"color: #008000; text-decoration-color: #008000\">Created\"</span>                                                                        <span style=\"color: #7f7f7f; text-decoration-color: #7f7f7f\">               </span>\n",
       "</pre>\n"
      ],
      "text/plain": [
       "\u001b[2;36m          \u001b[0m\u001b[2;36m \u001b[0m\u001b[34mINFO    \u001b[0m HTTP Request: \u001b[1;33mPOST\u001b[0m \u001b[4;94mhttps://api.replicate.com/v1/predictions\u001b[0m \u001b[32m\"HTTP/1.1 201 \u001b[0m      \u001b]8;id=175052;file:///home/rbarriga/.pyenv/versions/3.10.13/envs/whisper-diarization/lib/python3.10/site-packages/httpx/_client.py\u001b\\\u001b[2m_client.py\u001b[0m\u001b]8;;\u001b\\\u001b[2m:\u001b[0m\u001b]8;id=150796;file:///home/rbarriga/.pyenv/versions/3.10.13/envs/whisper-diarization/lib/python3.10/site-packages/httpx/_client.py#1013\u001b\\\u001b[2m1013\u001b[0m\u001b]8;;\u001b\\\n",
       "\u001b[2;36m           \u001b[0m         \u001b[32mCreated\"\u001b[0m                                                                        \u001b[2m               \u001b[0m\n"
      ]
     },
     "metadata": {},
     "output_type": "display_data"
    },
    {
     "data": {
      "text/html": [
       "<pre style=\"white-space:pre;overflow-x:auto;line-height:normal;font-family:Menlo,'DejaVu Sans Mono',consolas,'Courier New',monospace\"><span style=\"color: #7fbfbf; text-decoration-color: #7fbfbf\">[18:39:17] </span><span style=\"color: #000080; text-decoration-color: #000080\">INFO    </span> HTTP Request: <span style=\"color: #808000; text-decoration-color: #808000; font-weight: bold\">GET</span>                                                               <a href=\"file:///home/rbarriga/.pyenv/versions/3.10.13/envs/whisper-diarization/lib/python3.10/site-packages/httpx/_client.py\" target=\"_blank\"><span style=\"color: #7f7f7f; text-decoration-color: #7f7f7f\">_client.py</span></a><span style=\"color: #7f7f7f; text-decoration-color: #7f7f7f\">:</span><a href=\"file:///home/rbarriga/.pyenv/versions/3.10.13/envs/whisper-diarization/lib/python3.10/site-packages/httpx/_client.py#1013\" target=\"_blank\"><span style=\"color: #7f7f7f; text-decoration-color: #7f7f7f\">1013</span></a>\n",
       "<span style=\"color: #7fbfbf; text-decoration-color: #7fbfbf\">           </span>         <span style=\"color: #0000ff; text-decoration-color: #0000ff; text-decoration: underline\">https://api.replicate.com/v1/predictions/v76efjbbl2dmkh4rfoue6fxivm</span> <span style=\"color: #008000; text-decoration-color: #008000\">\"HTTP/1.1 </span>  <span style=\"color: #7f7f7f; text-decoration-color: #7f7f7f\">               </span>\n",
       "<span style=\"color: #7fbfbf; text-decoration-color: #7fbfbf\">           </span>         <span style=\"color: #008000; text-decoration-color: #008000\">200 OK\"</span>                                                                         <span style=\"color: #7f7f7f; text-decoration-color: #7f7f7f\">               </span>\n",
       "</pre>\n"
      ],
      "text/plain": [
       "\u001b[2;36m[18:39:17]\u001b[0m\u001b[2;36m \u001b[0m\u001b[34mINFO    \u001b[0m HTTP Request: \u001b[1;33mGET\u001b[0m                                                               \u001b]8;id=8803;file:///home/rbarriga/.pyenv/versions/3.10.13/envs/whisper-diarization/lib/python3.10/site-packages/httpx/_client.py\u001b\\\u001b[2m_client.py\u001b[0m\u001b]8;;\u001b\\\u001b[2m:\u001b[0m\u001b]8;id=518994;file:///home/rbarriga/.pyenv/versions/3.10.13/envs/whisper-diarization/lib/python3.10/site-packages/httpx/_client.py#1013\u001b\\\u001b[2m1013\u001b[0m\u001b]8;;\u001b\\\n",
       "\u001b[2;36m           \u001b[0m         \u001b[4;94mhttps://api.replicate.com/v1/predictions/v76efjbbl2dmkh4rfoue6fxivm\u001b[0m \u001b[32m\"HTTP/1.1 \u001b[0m  \u001b[2m               \u001b[0m\n",
       "\u001b[2;36m           \u001b[0m         \u001b[32m200 OK\"\u001b[0m                                                                         \u001b[2m               \u001b[0m\n"
      ]
     },
     "metadata": {},
     "output_type": "display_data"
    },
    {
     "data": {
      "text/html": [
       "<pre style=\"white-space:pre;overflow-x:auto;line-height:normal;font-family:Menlo,'DejaVu Sans Mono',consolas,'Courier New',monospace\"><span style=\"color: #7fbfbf; text-decoration-color: #7fbfbf\">[18:39:37] </span><span style=\"color: #000080; text-decoration-color: #000080\">INFO    </span> HTTP Request: <span style=\"color: #808000; text-decoration-color: #808000; font-weight: bold\">GET</span>                                                               <a href=\"file:///home/rbarriga/.pyenv/versions/3.10.13/envs/whisper-diarization/lib/python3.10/site-packages/httpx/_client.py\" target=\"_blank\"><span style=\"color: #7f7f7f; text-decoration-color: #7f7f7f\">_client.py</span></a><span style=\"color: #7f7f7f; text-decoration-color: #7f7f7f\">:</span><a href=\"file:///home/rbarriga/.pyenv/versions/3.10.13/envs/whisper-diarization/lib/python3.10/site-packages/httpx/_client.py#1013\" target=\"_blank\"><span style=\"color: #7f7f7f; text-decoration-color: #7f7f7f\">1013</span></a>\n",
       "<span style=\"color: #7fbfbf; text-decoration-color: #7fbfbf\">           </span>         <span style=\"color: #0000ff; text-decoration-color: #0000ff; text-decoration: underline\">https://api.replicate.com/v1/predictions/v76efjbbl2dmkh4rfoue6fxivm</span> <span style=\"color: #008000; text-decoration-color: #008000\">\"HTTP/1.1 </span>  <span style=\"color: #7f7f7f; text-decoration-color: #7f7f7f\">               </span>\n",
       "<span style=\"color: #7fbfbf; text-decoration-color: #7fbfbf\">           </span>         <span style=\"color: #008000; text-decoration-color: #008000\">200 OK\"</span>                                                                         <span style=\"color: #7f7f7f; text-decoration-color: #7f7f7f\">               </span>\n",
       "</pre>\n"
      ],
      "text/plain": [
       "\u001b[2;36m[18:39:37]\u001b[0m\u001b[2;36m \u001b[0m\u001b[34mINFO    \u001b[0m HTTP Request: \u001b[1;33mGET\u001b[0m                                                               \u001b]8;id=744142;file:///home/rbarriga/.pyenv/versions/3.10.13/envs/whisper-diarization/lib/python3.10/site-packages/httpx/_client.py\u001b\\\u001b[2m_client.py\u001b[0m\u001b]8;;\u001b\\\u001b[2m:\u001b[0m\u001b]8;id=122907;file:///home/rbarriga/.pyenv/versions/3.10.13/envs/whisper-diarization/lib/python3.10/site-packages/httpx/_client.py#1013\u001b\\\u001b[2m1013\u001b[0m\u001b]8;;\u001b\\\n",
       "\u001b[2;36m           \u001b[0m         \u001b[4;94mhttps://api.replicate.com/v1/predictions/v76efjbbl2dmkh4rfoue6fxivm\u001b[0m \u001b[32m\"HTTP/1.1 \u001b[0m  \u001b[2m               \u001b[0m\n",
       "\u001b[2;36m           \u001b[0m         \u001b[32m200 OK\"\u001b[0m                                                                         \u001b[2m               \u001b[0m\n"
      ]
     },
     "metadata": {},
     "output_type": "display_data"
    },
    {
     "data": {
      "text/html": [
       "<pre style=\"white-space:pre;overflow-x:auto;line-height:normal;font-family:Menlo,'DejaVu Sans Mono',consolas,'Courier New',monospace\"><span style=\"color: #7fbfbf; text-decoration-color: #7fbfbf\">[18:39:57] </span><span style=\"color: #000080; text-decoration-color: #000080\">INFO    </span> HTTP Request: <span style=\"color: #808000; text-decoration-color: #808000; font-weight: bold\">GET</span>                                                               <a href=\"file:///home/rbarriga/.pyenv/versions/3.10.13/envs/whisper-diarization/lib/python3.10/site-packages/httpx/_client.py\" target=\"_blank\"><span style=\"color: #7f7f7f; text-decoration-color: #7f7f7f\">_client.py</span></a><span style=\"color: #7f7f7f; text-decoration-color: #7f7f7f\">:</span><a href=\"file:///home/rbarriga/.pyenv/versions/3.10.13/envs/whisper-diarization/lib/python3.10/site-packages/httpx/_client.py#1013\" target=\"_blank\"><span style=\"color: #7f7f7f; text-decoration-color: #7f7f7f\">1013</span></a>\n",
       "<span style=\"color: #7fbfbf; text-decoration-color: #7fbfbf\">           </span>         <span style=\"color: #0000ff; text-decoration-color: #0000ff; text-decoration: underline\">https://api.replicate.com/v1/predictions/v76efjbbl2dmkh4rfoue6fxivm</span> <span style=\"color: #008000; text-decoration-color: #008000\">\"HTTP/1.1 </span>  <span style=\"color: #7f7f7f; text-decoration-color: #7f7f7f\">               </span>\n",
       "<span style=\"color: #7fbfbf; text-decoration-color: #7fbfbf\">           </span>         <span style=\"color: #008000; text-decoration-color: #008000\">200 OK\"</span>                                                                         <span style=\"color: #7f7f7f; text-decoration-color: #7f7f7f\">               </span>\n",
       "</pre>\n"
      ],
      "text/plain": [
       "\u001b[2;36m[18:39:57]\u001b[0m\u001b[2;36m \u001b[0m\u001b[34mINFO    \u001b[0m HTTP Request: \u001b[1;33mGET\u001b[0m                                                               \u001b]8;id=826871;file:///home/rbarriga/.pyenv/versions/3.10.13/envs/whisper-diarization/lib/python3.10/site-packages/httpx/_client.py\u001b\\\u001b[2m_client.py\u001b[0m\u001b]8;;\u001b\\\u001b[2m:\u001b[0m\u001b]8;id=310285;file:///home/rbarriga/.pyenv/versions/3.10.13/envs/whisper-diarization/lib/python3.10/site-packages/httpx/_client.py#1013\u001b\\\u001b[2m1013\u001b[0m\u001b]8;;\u001b\\\n",
       "\u001b[2;36m           \u001b[0m         \u001b[4;94mhttps://api.replicate.com/v1/predictions/v76efjbbl2dmkh4rfoue6fxivm\u001b[0m \u001b[32m\"HTTP/1.1 \u001b[0m  \u001b[2m               \u001b[0m\n",
       "\u001b[2;36m           \u001b[0m         \u001b[32m200 OK\"\u001b[0m                                                                         \u001b[2m               \u001b[0m\n"
      ]
     },
     "metadata": {},
     "output_type": "display_data"
    },
    {
     "data": {
      "text/html": [
       "<pre style=\"white-space:pre;overflow-x:auto;line-height:normal;font-family:Menlo,'DejaVu Sans Mono',consolas,'Courier New',monospace\"><span style=\"color: #7fbfbf; text-decoration-color: #7fbfbf\">[18:40:18] </span><span style=\"color: #000080; text-decoration-color: #000080\">INFO    </span> HTTP Request: <span style=\"color: #808000; text-decoration-color: #808000; font-weight: bold\">GET</span>                                                               <a href=\"file:///home/rbarriga/.pyenv/versions/3.10.13/envs/whisper-diarization/lib/python3.10/site-packages/httpx/_client.py\" target=\"_blank\"><span style=\"color: #7f7f7f; text-decoration-color: #7f7f7f\">_client.py</span></a><span style=\"color: #7f7f7f; text-decoration-color: #7f7f7f\">:</span><a href=\"file:///home/rbarriga/.pyenv/versions/3.10.13/envs/whisper-diarization/lib/python3.10/site-packages/httpx/_client.py#1013\" target=\"_blank\"><span style=\"color: #7f7f7f; text-decoration-color: #7f7f7f\">1013</span></a>\n",
       "<span style=\"color: #7fbfbf; text-decoration-color: #7fbfbf\">           </span>         <span style=\"color: #0000ff; text-decoration-color: #0000ff; text-decoration: underline\">https://api.replicate.com/v1/predictions/v76efjbbl2dmkh4rfoue6fxivm</span> <span style=\"color: #008000; text-decoration-color: #008000\">\"HTTP/1.1 </span>  <span style=\"color: #7f7f7f; text-decoration-color: #7f7f7f\">               </span>\n",
       "<span style=\"color: #7fbfbf; text-decoration-color: #7fbfbf\">           </span>         <span style=\"color: #008000; text-decoration-color: #008000\">200 OK\"</span>                                                                         <span style=\"color: #7f7f7f; text-decoration-color: #7f7f7f\">               </span>\n",
       "</pre>\n"
      ],
      "text/plain": [
       "\u001b[2;36m[18:40:18]\u001b[0m\u001b[2;36m \u001b[0m\u001b[34mINFO    \u001b[0m HTTP Request: \u001b[1;33mGET\u001b[0m                                                               \u001b]8;id=427720;file:///home/rbarriga/.pyenv/versions/3.10.13/envs/whisper-diarization/lib/python3.10/site-packages/httpx/_client.py\u001b\\\u001b[2m_client.py\u001b[0m\u001b]8;;\u001b\\\u001b[2m:\u001b[0m\u001b]8;id=63077;file:///home/rbarriga/.pyenv/versions/3.10.13/envs/whisper-diarization/lib/python3.10/site-packages/httpx/_client.py#1013\u001b\\\u001b[2m1013\u001b[0m\u001b]8;;\u001b\\\n",
       "\u001b[2;36m           \u001b[0m         \u001b[4;94mhttps://api.replicate.com/v1/predictions/v76efjbbl2dmkh4rfoue6fxivm\u001b[0m \u001b[32m\"HTTP/1.1 \u001b[0m  \u001b[2m               \u001b[0m\n",
       "\u001b[2;36m           \u001b[0m         \u001b[32m200 OK\"\u001b[0m                                                                         \u001b[2m               \u001b[0m\n"
      ]
     },
     "metadata": {},
     "output_type": "display_data"
    },
    {
     "data": {
      "text/html": [
       "<pre style=\"white-space:pre;overflow-x:auto;line-height:normal;font-family:Menlo,'DejaVu Sans Mono',consolas,'Courier New',monospace\"><span style=\"color: #7fbfbf; text-decoration-color: #7fbfbf\">[18:40:38] </span><span style=\"color: #000080; text-decoration-color: #000080\">INFO    </span> HTTP Request: <span style=\"color: #808000; text-decoration-color: #808000; font-weight: bold\">GET</span>                                                               <a href=\"file:///home/rbarriga/.pyenv/versions/3.10.13/envs/whisper-diarization/lib/python3.10/site-packages/httpx/_client.py\" target=\"_blank\"><span style=\"color: #7f7f7f; text-decoration-color: #7f7f7f\">_client.py</span></a><span style=\"color: #7f7f7f; text-decoration-color: #7f7f7f\">:</span><a href=\"file:///home/rbarriga/.pyenv/versions/3.10.13/envs/whisper-diarization/lib/python3.10/site-packages/httpx/_client.py#1013\" target=\"_blank\"><span style=\"color: #7f7f7f; text-decoration-color: #7f7f7f\">1013</span></a>\n",
       "<span style=\"color: #7fbfbf; text-decoration-color: #7fbfbf\">           </span>         <span style=\"color: #0000ff; text-decoration-color: #0000ff; text-decoration: underline\">https://api.replicate.com/v1/predictions/v76efjbbl2dmkh4rfoue6fxivm</span> <span style=\"color: #008000; text-decoration-color: #008000\">\"HTTP/1.1 </span>  <span style=\"color: #7f7f7f; text-decoration-color: #7f7f7f\">               </span>\n",
       "<span style=\"color: #7fbfbf; text-decoration-color: #7fbfbf\">           </span>         <span style=\"color: #008000; text-decoration-color: #008000\">200 OK\"</span>                                                                         <span style=\"color: #7f7f7f; text-decoration-color: #7f7f7f\">               </span>\n",
       "</pre>\n"
      ],
      "text/plain": [
       "\u001b[2;36m[18:40:38]\u001b[0m\u001b[2;36m \u001b[0m\u001b[34mINFO    \u001b[0m HTTP Request: \u001b[1;33mGET\u001b[0m                                                               \u001b]8;id=138076;file:///home/rbarriga/.pyenv/versions/3.10.13/envs/whisper-diarization/lib/python3.10/site-packages/httpx/_client.py\u001b\\\u001b[2m_client.py\u001b[0m\u001b]8;;\u001b\\\u001b[2m:\u001b[0m\u001b]8;id=427057;file:///home/rbarriga/.pyenv/versions/3.10.13/envs/whisper-diarization/lib/python3.10/site-packages/httpx/_client.py#1013\u001b\\\u001b[2m1013\u001b[0m\u001b]8;;\u001b\\\n",
       "\u001b[2;36m           \u001b[0m         \u001b[4;94mhttps://api.replicate.com/v1/predictions/v76efjbbl2dmkh4rfoue6fxivm\u001b[0m \u001b[32m\"HTTP/1.1 \u001b[0m  \u001b[2m               \u001b[0m\n",
       "\u001b[2;36m           \u001b[0m         \u001b[32m200 OK\"\u001b[0m                                                                         \u001b[2m               \u001b[0m\n"
      ]
     },
     "metadata": {},
     "output_type": "display_data"
    },
    {
     "data": {
      "text/html": [
       "<pre style=\"white-space:pre;overflow-x:auto;line-height:normal;font-family:Menlo,'DejaVu Sans Mono',consolas,'Courier New',monospace\"><span style=\"color: #7fbfbf; text-decoration-color: #7fbfbf\">[18:40:59] </span><span style=\"color: #000080; text-decoration-color: #000080\">INFO    </span> HTTP Request: <span style=\"color: #808000; text-decoration-color: #808000; font-weight: bold\">GET</span>                                                               <a href=\"file:///home/rbarriga/.pyenv/versions/3.10.13/envs/whisper-diarization/lib/python3.10/site-packages/httpx/_client.py\" target=\"_blank\"><span style=\"color: #7f7f7f; text-decoration-color: #7f7f7f\">_client.py</span></a><span style=\"color: #7f7f7f; text-decoration-color: #7f7f7f\">:</span><a href=\"file:///home/rbarriga/.pyenv/versions/3.10.13/envs/whisper-diarization/lib/python3.10/site-packages/httpx/_client.py#1013\" target=\"_blank\"><span style=\"color: #7f7f7f; text-decoration-color: #7f7f7f\">1013</span></a>\n",
       "<span style=\"color: #7fbfbf; text-decoration-color: #7fbfbf\">           </span>         <span style=\"color: #0000ff; text-decoration-color: #0000ff; text-decoration: underline\">https://api.replicate.com/v1/predictions/v76efjbbl2dmkh4rfoue6fxivm</span> <span style=\"color: #008000; text-decoration-color: #008000\">\"HTTP/1.1 </span>  <span style=\"color: #7f7f7f; text-decoration-color: #7f7f7f\">               </span>\n",
       "<span style=\"color: #7fbfbf; text-decoration-color: #7fbfbf\">           </span>         <span style=\"color: #008000; text-decoration-color: #008000\">200 OK\"</span>                                                                         <span style=\"color: #7f7f7f; text-decoration-color: #7f7f7f\">               </span>\n",
       "</pre>\n"
      ],
      "text/plain": [
       "\u001b[2;36m[18:40:59]\u001b[0m\u001b[2;36m \u001b[0m\u001b[34mINFO    \u001b[0m HTTP Request: \u001b[1;33mGET\u001b[0m                                                               \u001b]8;id=461131;file:///home/rbarriga/.pyenv/versions/3.10.13/envs/whisper-diarization/lib/python3.10/site-packages/httpx/_client.py\u001b\\\u001b[2m_client.py\u001b[0m\u001b]8;;\u001b\\\u001b[2m:\u001b[0m\u001b]8;id=29965;file:///home/rbarriga/.pyenv/versions/3.10.13/envs/whisper-diarization/lib/python3.10/site-packages/httpx/_client.py#1013\u001b\\\u001b[2m1013\u001b[0m\u001b]8;;\u001b\\\n",
       "\u001b[2;36m           \u001b[0m         \u001b[4;94mhttps://api.replicate.com/v1/predictions/v76efjbbl2dmkh4rfoue6fxivm\u001b[0m \u001b[32m\"HTTP/1.1 \u001b[0m  \u001b[2m               \u001b[0m\n",
       "\u001b[2;36m           \u001b[0m         \u001b[32m200 OK\"\u001b[0m                                                                         \u001b[2m               \u001b[0m\n"
      ]
     },
     "metadata": {},
     "output_type": "display_data"
    },
    {
     "data": {
      "text/html": [
       "<pre style=\"white-space:pre;overflow-x:auto;line-height:normal;font-family:Menlo,'DejaVu Sans Mono',consolas,'Courier New',monospace\"><span style=\"color: #7fbfbf; text-decoration-color: #7fbfbf\">[18:41:20] </span><span style=\"color: #000080; text-decoration-color: #000080\">INFO    </span> HTTP Request: <span style=\"color: #808000; text-decoration-color: #808000; font-weight: bold\">GET</span>                                                               <a href=\"file:///home/rbarriga/.pyenv/versions/3.10.13/envs/whisper-diarization/lib/python3.10/site-packages/httpx/_client.py\" target=\"_blank\"><span style=\"color: #7f7f7f; text-decoration-color: #7f7f7f\">_client.py</span></a><span style=\"color: #7f7f7f; text-decoration-color: #7f7f7f\">:</span><a href=\"file:///home/rbarriga/.pyenv/versions/3.10.13/envs/whisper-diarization/lib/python3.10/site-packages/httpx/_client.py#1013\" target=\"_blank\"><span style=\"color: #7f7f7f; text-decoration-color: #7f7f7f\">1013</span></a>\n",
       "<span style=\"color: #7fbfbf; text-decoration-color: #7fbfbf\">           </span>         <span style=\"color: #0000ff; text-decoration-color: #0000ff; text-decoration: underline\">https://api.replicate.com/v1/predictions/v76efjbbl2dmkh4rfoue6fxivm</span> <span style=\"color: #008000; text-decoration-color: #008000\">\"HTTP/1.1 </span>  <span style=\"color: #7f7f7f; text-decoration-color: #7f7f7f\">               </span>\n",
       "<span style=\"color: #7fbfbf; text-decoration-color: #7fbfbf\">           </span>         <span style=\"color: #008000; text-decoration-color: #008000\">200 OK\"</span>                                                                         <span style=\"color: #7f7f7f; text-decoration-color: #7f7f7f\">               </span>\n",
       "</pre>\n"
      ],
      "text/plain": [
       "\u001b[2;36m[18:41:20]\u001b[0m\u001b[2;36m \u001b[0m\u001b[34mINFO    \u001b[0m HTTP Request: \u001b[1;33mGET\u001b[0m                                                               \u001b]8;id=513972;file:///home/rbarriga/.pyenv/versions/3.10.13/envs/whisper-diarization/lib/python3.10/site-packages/httpx/_client.py\u001b\\\u001b[2m_client.py\u001b[0m\u001b]8;;\u001b\\\u001b[2m:\u001b[0m\u001b]8;id=201913;file:///home/rbarriga/.pyenv/versions/3.10.13/envs/whisper-diarization/lib/python3.10/site-packages/httpx/_client.py#1013\u001b\\\u001b[2m1013\u001b[0m\u001b]8;;\u001b\\\n",
       "\u001b[2;36m           \u001b[0m         \u001b[4;94mhttps://api.replicate.com/v1/predictions/v76efjbbl2dmkh4rfoue6fxivm\u001b[0m \u001b[32m\"HTTP/1.1 \u001b[0m  \u001b[2m               \u001b[0m\n",
       "\u001b[2;36m           \u001b[0m         \u001b[32m200 OK\"\u001b[0m                                                                         \u001b[2m               \u001b[0m\n"
      ]
     },
     "metadata": {},
     "output_type": "display_data"
    },
    {
     "data": {
      "text/html": [
       "<pre style=\"white-space:pre;overflow-x:auto;line-height:normal;font-family:Menlo,'DejaVu Sans Mono',consolas,'Courier New',monospace\"><span style=\"color: #7fbfbf; text-decoration-color: #7fbfbf\">[18:41:40] </span><span style=\"color: #000080; text-decoration-color: #000080\">INFO    </span> HTTP Request: <span style=\"color: #808000; text-decoration-color: #808000; font-weight: bold\">GET</span>                                                               <a href=\"file:///home/rbarriga/.pyenv/versions/3.10.13/envs/whisper-diarization/lib/python3.10/site-packages/httpx/_client.py\" target=\"_blank\"><span style=\"color: #7f7f7f; text-decoration-color: #7f7f7f\">_client.py</span></a><span style=\"color: #7f7f7f; text-decoration-color: #7f7f7f\">:</span><a href=\"file:///home/rbarriga/.pyenv/versions/3.10.13/envs/whisper-diarization/lib/python3.10/site-packages/httpx/_client.py#1013\" target=\"_blank\"><span style=\"color: #7f7f7f; text-decoration-color: #7f7f7f\">1013</span></a>\n",
       "<span style=\"color: #7fbfbf; text-decoration-color: #7fbfbf\">           </span>         <span style=\"color: #0000ff; text-decoration-color: #0000ff; text-decoration: underline\">https://api.replicate.com/v1/predictions/v76efjbbl2dmkh4rfoue6fxivm</span> <span style=\"color: #008000; text-decoration-color: #008000\">\"HTTP/1.1 </span>  <span style=\"color: #7f7f7f; text-decoration-color: #7f7f7f\">               </span>\n",
       "<span style=\"color: #7fbfbf; text-decoration-color: #7fbfbf\">           </span>         <span style=\"color: #008000; text-decoration-color: #008000\">200 OK\"</span>                                                                         <span style=\"color: #7f7f7f; text-decoration-color: #7f7f7f\">               </span>\n",
       "</pre>\n"
      ],
      "text/plain": [
       "\u001b[2;36m[18:41:40]\u001b[0m\u001b[2;36m \u001b[0m\u001b[34mINFO    \u001b[0m HTTP Request: \u001b[1;33mGET\u001b[0m                                                               \u001b]8;id=111055;file:///home/rbarriga/.pyenv/versions/3.10.13/envs/whisper-diarization/lib/python3.10/site-packages/httpx/_client.py\u001b\\\u001b[2m_client.py\u001b[0m\u001b]8;;\u001b\\\u001b[2m:\u001b[0m\u001b]8;id=786463;file:///home/rbarriga/.pyenv/versions/3.10.13/envs/whisper-diarization/lib/python3.10/site-packages/httpx/_client.py#1013\u001b\\\u001b[2m1013\u001b[0m\u001b]8;;\u001b\\\n",
       "\u001b[2;36m           \u001b[0m         \u001b[4;94mhttps://api.replicate.com/v1/predictions/v76efjbbl2dmkh4rfoue6fxivm\u001b[0m \u001b[32m\"HTTP/1.1 \u001b[0m  \u001b[2m               \u001b[0m\n",
       "\u001b[2;36m           \u001b[0m         \u001b[32m200 OK\"\u001b[0m                                                                         \u001b[2m               \u001b[0m\n"
      ]
     },
     "metadata": {},
     "output_type": "display_data"
    },
    {
     "data": {
      "text/html": [
       "<pre style=\"white-space:pre;overflow-x:auto;line-height:normal;font-family:Menlo,'DejaVu Sans Mono',consolas,'Courier New',monospace\"><span style=\"color: #7fbfbf; text-decoration-color: #7fbfbf\">[18:42:00] </span><span style=\"color: #000080; text-decoration-color: #000080\">INFO    </span> HTTP Request: <span style=\"color: #808000; text-decoration-color: #808000; font-weight: bold\">GET</span>                                                               <a href=\"file:///home/rbarriga/.pyenv/versions/3.10.13/envs/whisper-diarization/lib/python3.10/site-packages/httpx/_client.py\" target=\"_blank\"><span style=\"color: #7f7f7f; text-decoration-color: #7f7f7f\">_client.py</span></a><span style=\"color: #7f7f7f; text-decoration-color: #7f7f7f\">:</span><a href=\"file:///home/rbarriga/.pyenv/versions/3.10.13/envs/whisper-diarization/lib/python3.10/site-packages/httpx/_client.py#1013\" target=\"_blank\"><span style=\"color: #7f7f7f; text-decoration-color: #7f7f7f\">1013</span></a>\n",
       "<span style=\"color: #7fbfbf; text-decoration-color: #7fbfbf\">           </span>         <span style=\"color: #0000ff; text-decoration-color: #0000ff; text-decoration: underline\">https://api.replicate.com/v1/predictions/v76efjbbl2dmkh4rfoue6fxivm</span> <span style=\"color: #008000; text-decoration-color: #008000\">\"HTTP/1.1 </span>  <span style=\"color: #7f7f7f; text-decoration-color: #7f7f7f\">               </span>\n",
       "<span style=\"color: #7fbfbf; text-decoration-color: #7fbfbf\">           </span>         <span style=\"color: #008000; text-decoration-color: #008000\">200 OK\"</span>                                                                         <span style=\"color: #7f7f7f; text-decoration-color: #7f7f7f\">               </span>\n",
       "</pre>\n"
      ],
      "text/plain": [
       "\u001b[2;36m[18:42:00]\u001b[0m\u001b[2;36m \u001b[0m\u001b[34mINFO    \u001b[0m HTTP Request: \u001b[1;33mGET\u001b[0m                                                               \u001b]8;id=285510;file:///home/rbarriga/.pyenv/versions/3.10.13/envs/whisper-diarization/lib/python3.10/site-packages/httpx/_client.py\u001b\\\u001b[2m_client.py\u001b[0m\u001b]8;;\u001b\\\u001b[2m:\u001b[0m\u001b]8;id=295566;file:///home/rbarriga/.pyenv/versions/3.10.13/envs/whisper-diarization/lib/python3.10/site-packages/httpx/_client.py#1013\u001b\\\u001b[2m1013\u001b[0m\u001b]8;;\u001b\\\n",
       "\u001b[2;36m           \u001b[0m         \u001b[4;94mhttps://api.replicate.com/v1/predictions/v76efjbbl2dmkh4rfoue6fxivm\u001b[0m \u001b[32m\"HTTP/1.1 \u001b[0m  \u001b[2m               \u001b[0m\n",
       "\u001b[2;36m           \u001b[0m         \u001b[32m200 OK\"\u001b[0m                                                                         \u001b[2m               \u001b[0m\n"
      ]
     },
     "metadata": {},
     "output_type": "display_data"
    },
    {
     "data": {
      "text/html": [
       "<pre style=\"white-space:pre;overflow-x:auto;line-height:normal;font-family:Menlo,'DejaVu Sans Mono',consolas,'Courier New',monospace\"><span style=\"color: #7fbfbf; text-decoration-color: #7fbfbf\">[18:42:21] </span><span style=\"color: #000080; text-decoration-color: #000080\">INFO    </span> HTTP Request: <span style=\"color: #808000; text-decoration-color: #808000; font-weight: bold\">GET</span>                                                               <a href=\"file:///home/rbarriga/.pyenv/versions/3.10.13/envs/whisper-diarization/lib/python3.10/site-packages/httpx/_client.py\" target=\"_blank\"><span style=\"color: #7f7f7f; text-decoration-color: #7f7f7f\">_client.py</span></a><span style=\"color: #7f7f7f; text-decoration-color: #7f7f7f\">:</span><a href=\"file:///home/rbarriga/.pyenv/versions/3.10.13/envs/whisper-diarization/lib/python3.10/site-packages/httpx/_client.py#1013\" target=\"_blank\"><span style=\"color: #7f7f7f; text-decoration-color: #7f7f7f\">1013</span></a>\n",
       "<span style=\"color: #7fbfbf; text-decoration-color: #7fbfbf\">           </span>         <span style=\"color: #0000ff; text-decoration-color: #0000ff; text-decoration: underline\">https://api.replicate.com/v1/predictions/v76efjbbl2dmkh4rfoue6fxivm</span> <span style=\"color: #008000; text-decoration-color: #008000\">\"HTTP/1.1 </span>  <span style=\"color: #7f7f7f; text-decoration-color: #7f7f7f\">               </span>\n",
       "<span style=\"color: #7fbfbf; text-decoration-color: #7fbfbf\">           </span>         <span style=\"color: #008000; text-decoration-color: #008000\">200 OK\"</span>                                                                         <span style=\"color: #7f7f7f; text-decoration-color: #7f7f7f\">               </span>\n",
       "</pre>\n"
      ],
      "text/plain": [
       "\u001b[2;36m[18:42:21]\u001b[0m\u001b[2;36m \u001b[0m\u001b[34mINFO    \u001b[0m HTTP Request: \u001b[1;33mGET\u001b[0m                                                               \u001b]8;id=217607;file:///home/rbarriga/.pyenv/versions/3.10.13/envs/whisper-diarization/lib/python3.10/site-packages/httpx/_client.py\u001b\\\u001b[2m_client.py\u001b[0m\u001b]8;;\u001b\\\u001b[2m:\u001b[0m\u001b]8;id=347839;file:///home/rbarriga/.pyenv/versions/3.10.13/envs/whisper-diarization/lib/python3.10/site-packages/httpx/_client.py#1013\u001b\\\u001b[2m1013\u001b[0m\u001b]8;;\u001b\\\n",
       "\u001b[2;36m           \u001b[0m         \u001b[4;94mhttps://api.replicate.com/v1/predictions/v76efjbbl2dmkh4rfoue6fxivm\u001b[0m \u001b[32m\"HTTP/1.1 \u001b[0m  \u001b[2m               \u001b[0m\n",
       "\u001b[2;36m           \u001b[0m         \u001b[32m200 OK\"\u001b[0m                                                                         \u001b[2m               \u001b[0m\n"
      ]
     },
     "metadata": {},
     "output_type": "display_data"
    },
    {
     "data": {
      "text/html": [
       "<pre style=\"white-space:pre;overflow-x:auto;line-height:normal;font-family:Menlo,'DejaVu Sans Mono',consolas,'Courier New',monospace\"><span style=\"color: #7fbfbf; text-decoration-color: #7fbfbf\">[18:42:41] </span><span style=\"color: #000080; text-decoration-color: #000080\">INFO    </span> HTTP Request: <span style=\"color: #808000; text-decoration-color: #808000; font-weight: bold\">GET</span>                                                               <a href=\"file:///home/rbarriga/.pyenv/versions/3.10.13/envs/whisper-diarization/lib/python3.10/site-packages/httpx/_client.py\" target=\"_blank\"><span style=\"color: #7f7f7f; text-decoration-color: #7f7f7f\">_client.py</span></a><span style=\"color: #7f7f7f; text-decoration-color: #7f7f7f\">:</span><a href=\"file:///home/rbarriga/.pyenv/versions/3.10.13/envs/whisper-diarization/lib/python3.10/site-packages/httpx/_client.py#1013\" target=\"_blank\"><span style=\"color: #7f7f7f; text-decoration-color: #7f7f7f\">1013</span></a>\n",
       "<span style=\"color: #7fbfbf; text-decoration-color: #7fbfbf\">           </span>         <span style=\"color: #0000ff; text-decoration-color: #0000ff; text-decoration: underline\">https://api.replicate.com/v1/predictions/v76efjbbl2dmkh4rfoue6fxivm</span> <span style=\"color: #008000; text-decoration-color: #008000\">\"HTTP/1.1 </span>  <span style=\"color: #7f7f7f; text-decoration-color: #7f7f7f\">               </span>\n",
       "<span style=\"color: #7fbfbf; text-decoration-color: #7fbfbf\">           </span>         <span style=\"color: #008000; text-decoration-color: #008000\">200 OK\"</span>                                                                         <span style=\"color: #7f7f7f; text-decoration-color: #7f7f7f\">               </span>\n",
       "</pre>\n"
      ],
      "text/plain": [
       "\u001b[2;36m[18:42:41]\u001b[0m\u001b[2;36m \u001b[0m\u001b[34mINFO    \u001b[0m HTTP Request: \u001b[1;33mGET\u001b[0m                                                               \u001b]8;id=715984;file:///home/rbarriga/.pyenv/versions/3.10.13/envs/whisper-diarization/lib/python3.10/site-packages/httpx/_client.py\u001b\\\u001b[2m_client.py\u001b[0m\u001b]8;;\u001b\\\u001b[2m:\u001b[0m\u001b]8;id=279747;file:///home/rbarriga/.pyenv/versions/3.10.13/envs/whisper-diarization/lib/python3.10/site-packages/httpx/_client.py#1013\u001b\\\u001b[2m1013\u001b[0m\u001b]8;;\u001b\\\n",
       "\u001b[2;36m           \u001b[0m         \u001b[4;94mhttps://api.replicate.com/v1/predictions/v76efjbbl2dmkh4rfoue6fxivm\u001b[0m \u001b[32m\"HTTP/1.1 \u001b[0m  \u001b[2m               \u001b[0m\n",
       "\u001b[2;36m           \u001b[0m         \u001b[32m200 OK\"\u001b[0m                                                                         \u001b[2m               \u001b[0m\n"
      ]
     },
     "metadata": {},
     "output_type": "display_data"
    },
    {
     "data": {
      "text/html": [
       "<pre style=\"white-space:pre;overflow-x:auto;line-height:normal;font-family:Menlo,'DejaVu Sans Mono',consolas,'Courier New',monospace\"><span style=\"color: #7fbfbf; text-decoration-color: #7fbfbf\">[18:43:01] </span><span style=\"color: #000080; text-decoration-color: #000080\">INFO    </span> HTTP Request: <span style=\"color: #808000; text-decoration-color: #808000; font-weight: bold\">GET</span>                                                               <a href=\"file:///home/rbarriga/.pyenv/versions/3.10.13/envs/whisper-diarization/lib/python3.10/site-packages/httpx/_client.py\" target=\"_blank\"><span style=\"color: #7f7f7f; text-decoration-color: #7f7f7f\">_client.py</span></a><span style=\"color: #7f7f7f; text-decoration-color: #7f7f7f\">:</span><a href=\"file:///home/rbarriga/.pyenv/versions/3.10.13/envs/whisper-diarization/lib/python3.10/site-packages/httpx/_client.py#1013\" target=\"_blank\"><span style=\"color: #7f7f7f; text-decoration-color: #7f7f7f\">1013</span></a>\n",
       "<span style=\"color: #7fbfbf; text-decoration-color: #7fbfbf\">           </span>         <span style=\"color: #0000ff; text-decoration-color: #0000ff; text-decoration: underline\">https://api.replicate.com/v1/predictions/v76efjbbl2dmkh4rfoue6fxivm</span> <span style=\"color: #008000; text-decoration-color: #008000\">\"HTTP/1.1 </span>  <span style=\"color: #7f7f7f; text-decoration-color: #7f7f7f\">               </span>\n",
       "<span style=\"color: #7fbfbf; text-decoration-color: #7fbfbf\">           </span>         <span style=\"color: #008000; text-decoration-color: #008000\">200 OK\"</span>                                                                         <span style=\"color: #7f7f7f; text-decoration-color: #7f7f7f\">               </span>\n",
       "</pre>\n"
      ],
      "text/plain": [
       "\u001b[2;36m[18:43:01]\u001b[0m\u001b[2;36m \u001b[0m\u001b[34mINFO    \u001b[0m HTTP Request: \u001b[1;33mGET\u001b[0m                                                               \u001b]8;id=153974;file:///home/rbarriga/.pyenv/versions/3.10.13/envs/whisper-diarization/lib/python3.10/site-packages/httpx/_client.py\u001b\\\u001b[2m_client.py\u001b[0m\u001b]8;;\u001b\\\u001b[2m:\u001b[0m\u001b]8;id=864430;file:///home/rbarriga/.pyenv/versions/3.10.13/envs/whisper-diarization/lib/python3.10/site-packages/httpx/_client.py#1013\u001b\\\u001b[2m1013\u001b[0m\u001b]8;;\u001b\\\n",
       "\u001b[2;36m           \u001b[0m         \u001b[4;94mhttps://api.replicate.com/v1/predictions/v76efjbbl2dmkh4rfoue6fxivm\u001b[0m \u001b[32m\"HTTP/1.1 \u001b[0m  \u001b[2m               \u001b[0m\n",
       "\u001b[2;36m           \u001b[0m         \u001b[32m200 OK\"\u001b[0m                                                                         \u001b[2m               \u001b[0m\n"
      ]
     },
     "metadata": {},
     "output_type": "display_data"
    },
    {
     "data": {
      "text/html": [
       "<pre style=\"white-space:pre;overflow-x:auto;line-height:normal;font-family:Menlo,'DejaVu Sans Mono',consolas,'Courier New',monospace\"><span style=\"color: #7fbfbf; text-decoration-color: #7fbfbf\">[18:43:22] </span><span style=\"color: #000080; text-decoration-color: #000080\">INFO    </span> HTTP Request: <span style=\"color: #808000; text-decoration-color: #808000; font-weight: bold\">GET</span>                                                               <a href=\"file:///home/rbarriga/.pyenv/versions/3.10.13/envs/whisper-diarization/lib/python3.10/site-packages/httpx/_client.py\" target=\"_blank\"><span style=\"color: #7f7f7f; text-decoration-color: #7f7f7f\">_client.py</span></a><span style=\"color: #7f7f7f; text-decoration-color: #7f7f7f\">:</span><a href=\"file:///home/rbarriga/.pyenv/versions/3.10.13/envs/whisper-diarization/lib/python3.10/site-packages/httpx/_client.py#1013\" target=\"_blank\"><span style=\"color: #7f7f7f; text-decoration-color: #7f7f7f\">1013</span></a>\n",
       "<span style=\"color: #7fbfbf; text-decoration-color: #7fbfbf\">           </span>         <span style=\"color: #0000ff; text-decoration-color: #0000ff; text-decoration: underline\">https://api.replicate.com/v1/predictions/v76efjbbl2dmkh4rfoue6fxivm</span> <span style=\"color: #008000; text-decoration-color: #008000\">\"HTTP/1.1 </span>  <span style=\"color: #7f7f7f; text-decoration-color: #7f7f7f\">               </span>\n",
       "<span style=\"color: #7fbfbf; text-decoration-color: #7fbfbf\">           </span>         <span style=\"color: #008000; text-decoration-color: #008000\">200 OK\"</span>                                                                         <span style=\"color: #7f7f7f; text-decoration-color: #7f7f7f\">               </span>\n",
       "</pre>\n"
      ],
      "text/plain": [
       "\u001b[2;36m[18:43:22]\u001b[0m\u001b[2;36m \u001b[0m\u001b[34mINFO    \u001b[0m HTTP Request: \u001b[1;33mGET\u001b[0m                                                               \u001b]8;id=608170;file:///home/rbarriga/.pyenv/versions/3.10.13/envs/whisper-diarization/lib/python3.10/site-packages/httpx/_client.py\u001b\\\u001b[2m_client.py\u001b[0m\u001b]8;;\u001b\\\u001b[2m:\u001b[0m\u001b]8;id=767555;file:///home/rbarriga/.pyenv/versions/3.10.13/envs/whisper-diarization/lib/python3.10/site-packages/httpx/_client.py#1013\u001b\\\u001b[2m1013\u001b[0m\u001b]8;;\u001b\\\n",
       "\u001b[2;36m           \u001b[0m         \u001b[4;94mhttps://api.replicate.com/v1/predictions/v76efjbbl2dmkh4rfoue6fxivm\u001b[0m \u001b[32m\"HTTP/1.1 \u001b[0m  \u001b[2m               \u001b[0m\n",
       "\u001b[2;36m           \u001b[0m         \u001b[32m200 OK\"\u001b[0m                                                                         \u001b[2m               \u001b[0m\n"
      ]
     },
     "metadata": {},
     "output_type": "display_data"
    },
    {
     "data": {
      "text/html": [
       "<pre style=\"white-space:pre;overflow-x:auto;line-height:normal;font-family:Menlo,'DejaVu Sans Mono',consolas,'Courier New',monospace\"><span style=\"color: #7fbfbf; text-decoration-color: #7fbfbf\">[18:43:42] </span><span style=\"color: #000080; text-decoration-color: #000080\">INFO    </span> HTTP Request: <span style=\"color: #808000; text-decoration-color: #808000; font-weight: bold\">GET</span>                                                               <a href=\"file:///home/rbarriga/.pyenv/versions/3.10.13/envs/whisper-diarization/lib/python3.10/site-packages/httpx/_client.py\" target=\"_blank\"><span style=\"color: #7f7f7f; text-decoration-color: #7f7f7f\">_client.py</span></a><span style=\"color: #7f7f7f; text-decoration-color: #7f7f7f\">:</span><a href=\"file:///home/rbarriga/.pyenv/versions/3.10.13/envs/whisper-diarization/lib/python3.10/site-packages/httpx/_client.py#1013\" target=\"_blank\"><span style=\"color: #7f7f7f; text-decoration-color: #7f7f7f\">1013</span></a>\n",
       "<span style=\"color: #7fbfbf; text-decoration-color: #7fbfbf\">           </span>         <span style=\"color: #0000ff; text-decoration-color: #0000ff; text-decoration: underline\">https://api.replicate.com/v1/predictions/v76efjbbl2dmkh4rfoue6fxivm</span> <span style=\"color: #008000; text-decoration-color: #008000\">\"HTTP/1.1 </span>  <span style=\"color: #7f7f7f; text-decoration-color: #7f7f7f\">               </span>\n",
       "<span style=\"color: #7fbfbf; text-decoration-color: #7fbfbf\">           </span>         <span style=\"color: #008000; text-decoration-color: #008000\">200 OK\"</span>                                                                         <span style=\"color: #7f7f7f; text-decoration-color: #7f7f7f\">               </span>\n",
       "</pre>\n"
      ],
      "text/plain": [
       "\u001b[2;36m[18:43:42]\u001b[0m\u001b[2;36m \u001b[0m\u001b[34mINFO    \u001b[0m HTTP Request: \u001b[1;33mGET\u001b[0m                                                               \u001b]8;id=805259;file:///home/rbarriga/.pyenv/versions/3.10.13/envs/whisper-diarization/lib/python3.10/site-packages/httpx/_client.py\u001b\\\u001b[2m_client.py\u001b[0m\u001b]8;;\u001b\\\u001b[2m:\u001b[0m\u001b]8;id=836689;file:///home/rbarriga/.pyenv/versions/3.10.13/envs/whisper-diarization/lib/python3.10/site-packages/httpx/_client.py#1013\u001b\\\u001b[2m1013\u001b[0m\u001b]8;;\u001b\\\n",
       "\u001b[2;36m           \u001b[0m         \u001b[4;94mhttps://api.replicate.com/v1/predictions/v76efjbbl2dmkh4rfoue6fxivm\u001b[0m \u001b[32m\"HTTP/1.1 \u001b[0m  \u001b[2m               \u001b[0m\n",
       "\u001b[2;36m           \u001b[0m         \u001b[32m200 OK\"\u001b[0m                                                                         \u001b[2m               \u001b[0m\n"
      ]
     },
     "metadata": {},
     "output_type": "display_data"
    },
    {
     "data": {
      "text/html": [
       "<pre style=\"white-space:pre;overflow-x:auto;line-height:normal;font-family:Menlo,'DejaVu Sans Mono',consolas,'Courier New',monospace\"><span style=\"color: #7fbfbf; text-decoration-color: #7fbfbf\">[18:44:02] </span><span style=\"color: #000080; text-decoration-color: #000080\">INFO    </span> HTTP Request: <span style=\"color: #808000; text-decoration-color: #808000; font-weight: bold\">GET</span>                                                               <a href=\"file:///home/rbarriga/.pyenv/versions/3.10.13/envs/whisper-diarization/lib/python3.10/site-packages/httpx/_client.py\" target=\"_blank\"><span style=\"color: #7f7f7f; text-decoration-color: #7f7f7f\">_client.py</span></a><span style=\"color: #7f7f7f; text-decoration-color: #7f7f7f\">:</span><a href=\"file:///home/rbarriga/.pyenv/versions/3.10.13/envs/whisper-diarization/lib/python3.10/site-packages/httpx/_client.py#1013\" target=\"_blank\"><span style=\"color: #7f7f7f; text-decoration-color: #7f7f7f\">1013</span></a>\n",
       "<span style=\"color: #7fbfbf; text-decoration-color: #7fbfbf\">           </span>         <span style=\"color: #0000ff; text-decoration-color: #0000ff; text-decoration: underline\">https://api.replicate.com/v1/predictions/v76efjbbl2dmkh4rfoue6fxivm</span> <span style=\"color: #008000; text-decoration-color: #008000\">\"HTTP/1.1 </span>  <span style=\"color: #7f7f7f; text-decoration-color: #7f7f7f\">               </span>\n",
       "<span style=\"color: #7fbfbf; text-decoration-color: #7fbfbf\">           </span>         <span style=\"color: #008000; text-decoration-color: #008000\">200 OK\"</span>                                                                         <span style=\"color: #7f7f7f; text-decoration-color: #7f7f7f\">               </span>\n",
       "</pre>\n"
      ],
      "text/plain": [
       "\u001b[2;36m[18:44:02]\u001b[0m\u001b[2;36m \u001b[0m\u001b[34mINFO    \u001b[0m HTTP Request: \u001b[1;33mGET\u001b[0m                                                               \u001b]8;id=113296;file:///home/rbarriga/.pyenv/versions/3.10.13/envs/whisper-diarization/lib/python3.10/site-packages/httpx/_client.py\u001b\\\u001b[2m_client.py\u001b[0m\u001b]8;;\u001b\\\u001b[2m:\u001b[0m\u001b]8;id=966864;file:///home/rbarriga/.pyenv/versions/3.10.13/envs/whisper-diarization/lib/python3.10/site-packages/httpx/_client.py#1013\u001b\\\u001b[2m1013\u001b[0m\u001b]8;;\u001b\\\n",
       "\u001b[2;36m           \u001b[0m         \u001b[4;94mhttps://api.replicate.com/v1/predictions/v76efjbbl2dmkh4rfoue6fxivm\u001b[0m \u001b[32m\"HTTP/1.1 \u001b[0m  \u001b[2m               \u001b[0m\n",
       "\u001b[2;36m           \u001b[0m         \u001b[32m200 OK\"\u001b[0m                                                                         \u001b[2m               \u001b[0m\n"
      ]
     },
     "metadata": {},
     "output_type": "display_data"
    },
    {
     "data": {
      "text/html": [
       "<pre style=\"white-space:pre;overflow-x:auto;line-height:normal;font-family:Menlo,'DejaVu Sans Mono',consolas,'Courier New',monospace\"><span style=\"color: #7fbfbf; text-decoration-color: #7fbfbf\">[18:44:22] </span><span style=\"color: #000080; text-decoration-color: #000080\">INFO    </span> HTTP Request: <span style=\"color: #808000; text-decoration-color: #808000; font-weight: bold\">GET</span>                                                               <a href=\"file:///home/rbarriga/.pyenv/versions/3.10.13/envs/whisper-diarization/lib/python3.10/site-packages/httpx/_client.py\" target=\"_blank\"><span style=\"color: #7f7f7f; text-decoration-color: #7f7f7f\">_client.py</span></a><span style=\"color: #7f7f7f; text-decoration-color: #7f7f7f\">:</span><a href=\"file:///home/rbarriga/.pyenv/versions/3.10.13/envs/whisper-diarization/lib/python3.10/site-packages/httpx/_client.py#1013\" target=\"_blank\"><span style=\"color: #7f7f7f; text-decoration-color: #7f7f7f\">1013</span></a>\n",
       "<span style=\"color: #7fbfbf; text-decoration-color: #7fbfbf\">           </span>         <span style=\"color: #0000ff; text-decoration-color: #0000ff; text-decoration: underline\">https://api.replicate.com/v1/predictions/v76efjbbl2dmkh4rfoue6fxivm</span> <span style=\"color: #008000; text-decoration-color: #008000\">\"HTTP/1.1 </span>  <span style=\"color: #7f7f7f; text-decoration-color: #7f7f7f\">               </span>\n",
       "<span style=\"color: #7fbfbf; text-decoration-color: #7fbfbf\">           </span>         <span style=\"color: #008000; text-decoration-color: #008000\">200 OK\"</span>                                                                         <span style=\"color: #7f7f7f; text-decoration-color: #7f7f7f\">               </span>\n",
       "</pre>\n"
      ],
      "text/plain": [
       "\u001b[2;36m[18:44:22]\u001b[0m\u001b[2;36m \u001b[0m\u001b[34mINFO    \u001b[0m HTTP Request: \u001b[1;33mGET\u001b[0m                                                               \u001b]8;id=46274;file:///home/rbarriga/.pyenv/versions/3.10.13/envs/whisper-diarization/lib/python3.10/site-packages/httpx/_client.py\u001b\\\u001b[2m_client.py\u001b[0m\u001b]8;;\u001b\\\u001b[2m:\u001b[0m\u001b]8;id=11528;file:///home/rbarriga/.pyenv/versions/3.10.13/envs/whisper-diarization/lib/python3.10/site-packages/httpx/_client.py#1013\u001b\\\u001b[2m1013\u001b[0m\u001b]8;;\u001b\\\n",
       "\u001b[2;36m           \u001b[0m         \u001b[4;94mhttps://api.replicate.com/v1/predictions/v76efjbbl2dmkh4rfoue6fxivm\u001b[0m \u001b[32m\"HTTP/1.1 \u001b[0m  \u001b[2m               \u001b[0m\n",
       "\u001b[2;36m           \u001b[0m         \u001b[32m200 OK\"\u001b[0m                                                                         \u001b[2m               \u001b[0m\n"
      ]
     },
     "metadata": {},
     "output_type": "display_data"
    },
    {
     "data": {
      "text/html": [
       "<pre style=\"white-space:pre;overflow-x:auto;line-height:normal;font-family:Menlo,'DejaVu Sans Mono',consolas,'Courier New',monospace\"><span style=\"color: #7fbfbf; text-decoration-color: #7fbfbf\">[18:44:43] </span><span style=\"color: #000080; text-decoration-color: #000080\">INFO    </span> HTTP Request: <span style=\"color: #808000; text-decoration-color: #808000; font-weight: bold\">GET</span>                                                               <a href=\"file:///home/rbarriga/.pyenv/versions/3.10.13/envs/whisper-diarization/lib/python3.10/site-packages/httpx/_client.py\" target=\"_blank\"><span style=\"color: #7f7f7f; text-decoration-color: #7f7f7f\">_client.py</span></a><span style=\"color: #7f7f7f; text-decoration-color: #7f7f7f\">:</span><a href=\"file:///home/rbarriga/.pyenv/versions/3.10.13/envs/whisper-diarization/lib/python3.10/site-packages/httpx/_client.py#1013\" target=\"_blank\"><span style=\"color: #7f7f7f; text-decoration-color: #7f7f7f\">1013</span></a>\n",
       "<span style=\"color: #7fbfbf; text-decoration-color: #7fbfbf\">           </span>         <span style=\"color: #0000ff; text-decoration-color: #0000ff; text-decoration: underline\">https://api.replicate.com/v1/predictions/v76efjbbl2dmkh4rfoue6fxivm</span> <span style=\"color: #008000; text-decoration-color: #008000\">\"HTTP/1.1 </span>  <span style=\"color: #7f7f7f; text-decoration-color: #7f7f7f\">               </span>\n",
       "<span style=\"color: #7fbfbf; text-decoration-color: #7fbfbf\">           </span>         <span style=\"color: #008000; text-decoration-color: #008000\">200 OK\"</span>                                                                         <span style=\"color: #7f7f7f; text-decoration-color: #7f7f7f\">               </span>\n",
       "</pre>\n"
      ],
      "text/plain": [
       "\u001b[2;36m[18:44:43]\u001b[0m\u001b[2;36m \u001b[0m\u001b[34mINFO    \u001b[0m HTTP Request: \u001b[1;33mGET\u001b[0m                                                               \u001b]8;id=528238;file:///home/rbarriga/.pyenv/versions/3.10.13/envs/whisper-diarization/lib/python3.10/site-packages/httpx/_client.py\u001b\\\u001b[2m_client.py\u001b[0m\u001b]8;;\u001b\\\u001b[2m:\u001b[0m\u001b]8;id=745667;file:///home/rbarriga/.pyenv/versions/3.10.13/envs/whisper-diarization/lib/python3.10/site-packages/httpx/_client.py#1013\u001b\\\u001b[2m1013\u001b[0m\u001b]8;;\u001b\\\n",
       "\u001b[2;36m           \u001b[0m         \u001b[4;94mhttps://api.replicate.com/v1/predictions/v76efjbbl2dmkh4rfoue6fxivm\u001b[0m \u001b[32m\"HTTP/1.1 \u001b[0m  \u001b[2m               \u001b[0m\n",
       "\u001b[2;36m           \u001b[0m         \u001b[32m200 OK\"\u001b[0m                                                                         \u001b[2m               \u001b[0m\n"
      ]
     },
     "metadata": {},
     "output_type": "display_data"
    },
    {
     "data": {
      "text/html": [
       "<pre style=\"white-space:pre;overflow-x:auto;line-height:normal;font-family:Menlo,'DejaVu Sans Mono',consolas,'Courier New',monospace\"><span style=\"color: #7fbfbf; text-decoration-color: #7fbfbf\">[18:45:03] </span><span style=\"color: #000080; text-decoration-color: #000080\">INFO    </span> HTTP Request: <span style=\"color: #808000; text-decoration-color: #808000; font-weight: bold\">GET</span>                                                               <a href=\"file:///home/rbarriga/.pyenv/versions/3.10.13/envs/whisper-diarization/lib/python3.10/site-packages/httpx/_client.py\" target=\"_blank\"><span style=\"color: #7f7f7f; text-decoration-color: #7f7f7f\">_client.py</span></a><span style=\"color: #7f7f7f; text-decoration-color: #7f7f7f\">:</span><a href=\"file:///home/rbarriga/.pyenv/versions/3.10.13/envs/whisper-diarization/lib/python3.10/site-packages/httpx/_client.py#1013\" target=\"_blank\"><span style=\"color: #7f7f7f; text-decoration-color: #7f7f7f\">1013</span></a>\n",
       "<span style=\"color: #7fbfbf; text-decoration-color: #7fbfbf\">           </span>         <span style=\"color: #0000ff; text-decoration-color: #0000ff; text-decoration: underline\">https://api.replicate.com/v1/predictions/v76efjbbl2dmkh4rfoue6fxivm</span> <span style=\"color: #008000; text-decoration-color: #008000\">\"HTTP/1.1 </span>  <span style=\"color: #7f7f7f; text-decoration-color: #7f7f7f\">               </span>\n",
       "<span style=\"color: #7fbfbf; text-decoration-color: #7fbfbf\">           </span>         <span style=\"color: #008000; text-decoration-color: #008000\">200 OK\"</span>                                                                         <span style=\"color: #7f7f7f; text-decoration-color: #7f7f7f\">               </span>\n",
       "</pre>\n"
      ],
      "text/plain": [
       "\u001b[2;36m[18:45:03]\u001b[0m\u001b[2;36m \u001b[0m\u001b[34mINFO    \u001b[0m HTTP Request: \u001b[1;33mGET\u001b[0m                                                               \u001b]8;id=587943;file:///home/rbarriga/.pyenv/versions/3.10.13/envs/whisper-diarization/lib/python3.10/site-packages/httpx/_client.py\u001b\\\u001b[2m_client.py\u001b[0m\u001b]8;;\u001b\\\u001b[2m:\u001b[0m\u001b]8;id=340574;file:///home/rbarriga/.pyenv/versions/3.10.13/envs/whisper-diarization/lib/python3.10/site-packages/httpx/_client.py#1013\u001b\\\u001b[2m1013\u001b[0m\u001b]8;;\u001b\\\n",
       "\u001b[2;36m           \u001b[0m         \u001b[4;94mhttps://api.replicate.com/v1/predictions/v76efjbbl2dmkh4rfoue6fxivm\u001b[0m \u001b[32m\"HTTP/1.1 \u001b[0m  \u001b[2m               \u001b[0m\n",
       "\u001b[2;36m           \u001b[0m         \u001b[32m200 OK\"\u001b[0m                                                                         \u001b[2m               \u001b[0m\n"
      ]
     },
     "metadata": {},
     "output_type": "display_data"
    },
    {
     "data": {
      "text/html": [
       "<pre style=\"white-space:pre;overflow-x:auto;line-height:normal;font-family:Menlo,'DejaVu Sans Mono',consolas,'Courier New',monospace\"><span style=\"color: #7fbfbf; text-decoration-color: #7fbfbf\">[18:45:23] </span><span style=\"color: #000080; text-decoration-color: #000080\">INFO    </span> HTTP Request: <span style=\"color: #808000; text-decoration-color: #808000; font-weight: bold\">GET</span>                                                               <a href=\"file:///home/rbarriga/.pyenv/versions/3.10.13/envs/whisper-diarization/lib/python3.10/site-packages/httpx/_client.py\" target=\"_blank\"><span style=\"color: #7f7f7f; text-decoration-color: #7f7f7f\">_client.py</span></a><span style=\"color: #7f7f7f; text-decoration-color: #7f7f7f\">:</span><a href=\"file:///home/rbarriga/.pyenv/versions/3.10.13/envs/whisper-diarization/lib/python3.10/site-packages/httpx/_client.py#1013\" target=\"_blank\"><span style=\"color: #7f7f7f; text-decoration-color: #7f7f7f\">1013</span></a>\n",
       "<span style=\"color: #7fbfbf; text-decoration-color: #7fbfbf\">           </span>         <span style=\"color: #0000ff; text-decoration-color: #0000ff; text-decoration: underline\">https://api.replicate.com/v1/predictions/v76efjbbl2dmkh4rfoue6fxivm</span> <span style=\"color: #008000; text-decoration-color: #008000\">\"HTTP/1.1 </span>  <span style=\"color: #7f7f7f; text-decoration-color: #7f7f7f\">               </span>\n",
       "<span style=\"color: #7fbfbf; text-decoration-color: #7fbfbf\">           </span>         <span style=\"color: #008000; text-decoration-color: #008000\">200 OK\"</span>                                                                         <span style=\"color: #7f7f7f; text-decoration-color: #7f7f7f\">               </span>\n",
       "</pre>\n"
      ],
      "text/plain": [
       "\u001b[2;36m[18:45:23]\u001b[0m\u001b[2;36m \u001b[0m\u001b[34mINFO    \u001b[0m HTTP Request: \u001b[1;33mGET\u001b[0m                                                               \u001b]8;id=958901;file:///home/rbarriga/.pyenv/versions/3.10.13/envs/whisper-diarization/lib/python3.10/site-packages/httpx/_client.py\u001b\\\u001b[2m_client.py\u001b[0m\u001b]8;;\u001b\\\u001b[2m:\u001b[0m\u001b]8;id=584208;file:///home/rbarriga/.pyenv/versions/3.10.13/envs/whisper-diarization/lib/python3.10/site-packages/httpx/_client.py#1013\u001b\\\u001b[2m1013\u001b[0m\u001b]8;;\u001b\\\n",
       "\u001b[2;36m           \u001b[0m         \u001b[4;94mhttps://api.replicate.com/v1/predictions/v76efjbbl2dmkh4rfoue6fxivm\u001b[0m \u001b[32m\"HTTP/1.1 \u001b[0m  \u001b[2m               \u001b[0m\n",
       "\u001b[2;36m           \u001b[0m         \u001b[32m200 OK\"\u001b[0m                                                                         \u001b[2m               \u001b[0m\n"
      ]
     },
     "metadata": {},
     "output_type": "display_data"
    },
    {
     "data": {
      "text/html": [
       "<pre style=\"white-space:pre;overflow-x:auto;line-height:normal;font-family:Menlo,'DejaVu Sans Mono',consolas,'Courier New',monospace\"><span style=\"color: #7fbfbf; text-decoration-color: #7fbfbf\">[18:45:44] </span><span style=\"color: #000080; text-decoration-color: #000080\">INFO    </span> HTTP Request: <span style=\"color: #808000; text-decoration-color: #808000; font-weight: bold\">GET</span>                                                               <a href=\"file:///home/rbarriga/.pyenv/versions/3.10.13/envs/whisper-diarization/lib/python3.10/site-packages/httpx/_client.py\" target=\"_blank\"><span style=\"color: #7f7f7f; text-decoration-color: #7f7f7f\">_client.py</span></a><span style=\"color: #7f7f7f; text-decoration-color: #7f7f7f\">:</span><a href=\"file:///home/rbarriga/.pyenv/versions/3.10.13/envs/whisper-diarization/lib/python3.10/site-packages/httpx/_client.py#1013\" target=\"_blank\"><span style=\"color: #7f7f7f; text-decoration-color: #7f7f7f\">1013</span></a>\n",
       "<span style=\"color: #7fbfbf; text-decoration-color: #7fbfbf\">           </span>         <span style=\"color: #0000ff; text-decoration-color: #0000ff; text-decoration: underline\">https://api.replicate.com/v1/predictions/v76efjbbl2dmkh4rfoue6fxivm</span> <span style=\"color: #008000; text-decoration-color: #008000\">\"HTTP/1.1 </span>  <span style=\"color: #7f7f7f; text-decoration-color: #7f7f7f\">               </span>\n",
       "<span style=\"color: #7fbfbf; text-decoration-color: #7fbfbf\">           </span>         <span style=\"color: #008000; text-decoration-color: #008000\">200 OK\"</span>                                                                         <span style=\"color: #7f7f7f; text-decoration-color: #7f7f7f\">               </span>\n",
       "</pre>\n"
      ],
      "text/plain": [
       "\u001b[2;36m[18:45:44]\u001b[0m\u001b[2;36m \u001b[0m\u001b[34mINFO    \u001b[0m HTTP Request: \u001b[1;33mGET\u001b[0m                                                               \u001b]8;id=279239;file:///home/rbarriga/.pyenv/versions/3.10.13/envs/whisper-diarization/lib/python3.10/site-packages/httpx/_client.py\u001b\\\u001b[2m_client.py\u001b[0m\u001b]8;;\u001b\\\u001b[2m:\u001b[0m\u001b]8;id=911075;file:///home/rbarriga/.pyenv/versions/3.10.13/envs/whisper-diarization/lib/python3.10/site-packages/httpx/_client.py#1013\u001b\\\u001b[2m1013\u001b[0m\u001b]8;;\u001b\\\n",
       "\u001b[2;36m           \u001b[0m         \u001b[4;94mhttps://api.replicate.com/v1/predictions/v76efjbbl2dmkh4rfoue6fxivm\u001b[0m \u001b[32m\"HTTP/1.1 \u001b[0m  \u001b[2m               \u001b[0m\n",
       "\u001b[2;36m           \u001b[0m         \u001b[32m200 OK\"\u001b[0m                                                                         \u001b[2m               \u001b[0m\n"
      ]
     },
     "metadata": {},
     "output_type": "display_data"
    },
    {
     "data": {
      "text/html": [
       "<pre style=\"white-space:pre;overflow-x:auto;line-height:normal;font-family:Menlo,'DejaVu Sans Mono',consolas,'Courier New',monospace\"><span style=\"color: #7fbfbf; text-decoration-color: #7fbfbf\">[18:46:04] </span><span style=\"color: #000080; text-decoration-color: #000080\">INFO    </span> HTTP Request: <span style=\"color: #808000; text-decoration-color: #808000; font-weight: bold\">GET</span>                                                               <a href=\"file:///home/rbarriga/.pyenv/versions/3.10.13/envs/whisper-diarization/lib/python3.10/site-packages/httpx/_client.py\" target=\"_blank\"><span style=\"color: #7f7f7f; text-decoration-color: #7f7f7f\">_client.py</span></a><span style=\"color: #7f7f7f; text-decoration-color: #7f7f7f\">:</span><a href=\"file:///home/rbarriga/.pyenv/versions/3.10.13/envs/whisper-diarization/lib/python3.10/site-packages/httpx/_client.py#1013\" target=\"_blank\"><span style=\"color: #7f7f7f; text-decoration-color: #7f7f7f\">1013</span></a>\n",
       "<span style=\"color: #7fbfbf; text-decoration-color: #7fbfbf\">           </span>         <span style=\"color: #0000ff; text-decoration-color: #0000ff; text-decoration: underline\">https://api.replicate.com/v1/predictions/v76efjbbl2dmkh4rfoue6fxivm</span> <span style=\"color: #008000; text-decoration-color: #008000\">\"HTTP/1.1 </span>  <span style=\"color: #7f7f7f; text-decoration-color: #7f7f7f\">               </span>\n",
       "<span style=\"color: #7fbfbf; text-decoration-color: #7fbfbf\">           </span>         <span style=\"color: #008000; text-decoration-color: #008000\">200 OK\"</span>                                                                         <span style=\"color: #7f7f7f; text-decoration-color: #7f7f7f\">               </span>\n",
       "</pre>\n"
      ],
      "text/plain": [
       "\u001b[2;36m[18:46:04]\u001b[0m\u001b[2;36m \u001b[0m\u001b[34mINFO    \u001b[0m HTTP Request: \u001b[1;33mGET\u001b[0m                                                               \u001b]8;id=754819;file:///home/rbarriga/.pyenv/versions/3.10.13/envs/whisper-diarization/lib/python3.10/site-packages/httpx/_client.py\u001b\\\u001b[2m_client.py\u001b[0m\u001b]8;;\u001b\\\u001b[2m:\u001b[0m\u001b]8;id=670165;file:///home/rbarriga/.pyenv/versions/3.10.13/envs/whisper-diarization/lib/python3.10/site-packages/httpx/_client.py#1013\u001b\\\u001b[2m1013\u001b[0m\u001b]8;;\u001b\\\n",
       "\u001b[2;36m           \u001b[0m         \u001b[4;94mhttps://api.replicate.com/v1/predictions/v76efjbbl2dmkh4rfoue6fxivm\u001b[0m \u001b[32m\"HTTP/1.1 \u001b[0m  \u001b[2m               \u001b[0m\n",
       "\u001b[2;36m           \u001b[0m         \u001b[32m200 OK\"\u001b[0m                                                                         \u001b[2m               \u001b[0m\n"
      ]
     },
     "metadata": {},
     "output_type": "display_data"
    }
   ],
   "source": [
    "speakers_transcript = run_transcript_with_diarization(audio_url=URL)"
   ]
  },
  {
   "cell_type": "code",
   "execution_count": 6,
   "metadata": {},
   "outputs": [
    {
     "data": {
      "text/plain": [
       "[{'speaker': 'Speaker A',\n",
       "  'start_time': 8,\n",
       "  'end_time': 214620,\n",
       "  'text': \" What  are  some  cool  synthetic  organisms  that  you  think  about  you  dream  about  when  you  think  about  embodied  mind  What  do  you  imagine  what  do  you  hope  to  build  yeah  on  a  practical  level  what  I  really  hope  to  do  is  To  gain  enough  of  an  understanding  of  the  embodied  intelligence  of  organs  and  tissues  such  that  we  can  achieve  a  radically  different  regenerative  medicine  so  that  we  can  say  Basically  and  I  think  about  it  as  um,  you  know  in  terms  of  like  okay,  can  you  what's  the  what's  the?  What's  the  goal  kind  of  and  end  end  game  for  this  whole  thing  to  me?  The  end  game  is  something  that  you  would  call  an  anatomical  compiler  So  the  idea  is  you  would  sit  down  in  front  of  the  computer  and  you  would  draw  the  The  body  or  the  organ  that  you  wanted  not  not  molecular  details,  but  like  you  this  is  what  I  want  I  want  a  six -legged  you  know  frog  with  a  propeller  on  top  or  I  want  I  want  a  heart  that  looks  like  this  or  I  want  a  leg  that  looks  Like  this  and  what  it  would  do  if  we  knew  what  we  were  doing  is  Put  out  a  convert  that  anatomical  description  into  a  set  of  stimuli  that  would  have  to  be  given  to  cells  to  convince  them  to  build  exactly  that  thing  Right,  I  probably  won't  live  to  see  it,  but  I  think  it's  achievable  and  I  think  what  that  if  If  we  can  have  that  then  that  is  basically  the  solution  to  all  of  medicine  except  for  infectious  disease  So  birth  defects  right  traumatic  injury  cancer  aging  degenerative  disease  if  we  knew  how  to  tell  cells  what  to  build  all  of  those  things  go  away  so  those  things  go  away  and  the  positive  feedback  spiral  of  economic  costs  where  all  of  the  advances  are  increasingly  more  heroic  and  expensive  interventions  of  a  synchic  ship  when  you're  like  90  and  then  and  so  on  right  all  of  that  goes  away  because  basically  instead  of  trying  to  fix  you  up  as  you  as  you  degrade  you  You  progressively  regenerate  you  apply  the  regenerative  medicine  early  before  things  degrade  so  I  think  that  that'll  have  massive  economic  impacts  over  what  we're  trying  to  do  now  which  is  not  at  all  sustainable  and  and  that's  what  I  hope  I  hope  that  I  hope  that  we  get  it  so  to  me  yes  The  xenobots  will  be  doing  useful  things  cleaning  up  the  environment  cleaning  out  you  know  your  or  you  know  your  joints  and  all  that  kind  of  stuff  but  more  important  than  that  I  think  we  can  use  these  synthetic  systems  to  try  to  understand  to  to  develop  a  science  of  detecting  and  manipulating  the  goals  of  collective  intelligence  is  of  cells  specifically  for  regenerative  medicine  and  then  sort  of  beyond  that  if  we  You  know  sort  of  think  further  beyond  that  what  I  hope  is  that  kind  of  like  what  you  said  all  of  this  drives  a  reconsideration  of  how  we  formulate  Ethical  norms  because  this  old  school  so  so  so  in  the  olden  days  what  you  could  do  is  I  just  see  you  were  confronted  with  something  you  used  to  you  could  tap  on  it  right  and  if  you  heard  a  metallic  clanging  sound  You'd  said  ah  fine  right  so  you  could  conclude  it  was  made  in  a  factory  I  can  take  it  apart  I  can  do  whatever  right  if  you  did  that  and  you  got  in  you  sort  of  a  squishy  kind  of  warm  Sensation  you'd  say  I  need  to  be  you  know  more  or  less  nice  to  it  and  whatever  that's  not  gonna  be  feasible  It  was  never  really  feasible,  but  it  was  good  enough  because  we  didn't  have  any  we  we  didn't  know  any  better  That  needs  to  go  and  I  think  that  By  by  breaking  down  those  artificial  barriers  Someday  we  can  try  to  build  a  a  system  of  of  ethical  norms  that  does  not  rely  on  these  completely  contingent  Facts  of  of  our  earthly  history,  but  on  something  much  much  deeper  that  you  know  really  takes  takes  agency  and  and  The  capacity  to  suffer  and  all  that  takes  that  seriously \"}]"
      ]
     },
     "execution_count": 6,
     "metadata": {},
     "output_type": "execute_result"
    }
   ],
   "source": [
    "speakers_transcript"
   ]
  },
  {
   "cell_type": "code",
   "execution_count": null,
   "metadata": {},
   "outputs": [],
   "source": []
  }
 ],
 "metadata": {
  "kernelspec": {
   "display_name": "Python 3",
   "language": "python",
   "name": "python3"
  },
  "language_info": {
   "codemirror_mode": {
    "name": "ipython",
    "version": 3
   },
   "file_extension": ".py",
   "mimetype": "text/x-python",
   "name": "python",
   "nbconvert_exporter": "python",
   "pygments_lexer": "ipython3",
   "version": "3.10.13"
  },
  "orig_nbformat": 4
 },
 "nbformat": 4,
 "nbformat_minor": 2
}
