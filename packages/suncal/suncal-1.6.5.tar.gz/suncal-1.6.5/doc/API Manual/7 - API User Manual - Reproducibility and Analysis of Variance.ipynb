{
 "cells": [
  {
   "cell_type": "markdown",
   "id": "c5c7aa2b",
   "metadata": {},
   "source": [
    "# Suncal API User Manual: Reproducibility and Analysis of Variance\n",
    "\n",
    "Suncal's `datasets` module provides methods for computing repeatability, reproducibility, and analysis of variance on \"2-dimensional\" sets of measurement data.\n",
    "For example, when a device is measured 10 times, every day for 5 days, the repeatability metric describes the variation within one day, while the reproducibility describes variation between days.\n",
    "Analysis of variance helps determine whether the reproducibility is significant.\n",
    "\n",
    "Note when using suncal's uncertainty propagation calculation `suncal.Model`, the `measure()` method can be given a 2D array and will take care of these calculations automatically to determine the Type A uncertainty in a variable.\n",
    "The `datasets` module provides access to these functions for other calculations.\n"
   ]
  },
  {
   "cell_type": "code",
   "execution_count": 1,
   "id": "9ecb0520",
   "metadata": {},
   "outputs": [],
   "source": [
    "import numpy as np\n",
    "import matplotlib.pyplot as plt\n",
    "plt.rcParams['figure.figsize'] = (4,3)\n",
    "\n",
    "from suncal import datasets"
   ]
  },
  {
   "cell_type": "markdown",
   "id": "8c8bf73d",
   "metadata": {},
   "source": [
    "## Repeatability and Reproducibility\n",
    "\n",
    "Here, we start by making up some fake data. The \"groups\", or days, in this instance are the first dimension of the array, while the repeats each day are the second axis/dimension."
   ]
  },
  {
   "cell_type": "code",
   "execution_count": 2,
   "id": "6166c2a4",
   "metadata": {},
   "outputs": [],
   "source": [
    "data = np.random.normal(loc=10, scale=.5, size=(5, 10))"
   ]
  },
  {
   "cell_type": "markdown",
   "id": "aee44904",
   "metadata": {},
   "source": [
    "The `datasets.group_stats` method provides statistics for each group. It simply finds the mean, variance, and standard error of each column independently, and provides a namedtuple with this information."
   ]
  },
  {
   "cell_type": "code",
   "execution_count": 3,
   "id": "3daae989",
   "metadata": {},
   "outputs": [
    {
     "data": {
      "text/plain": [
       "GroupSummary(means=array([10.07970767, 10.30608837,  9.8209617 , 10.03537224, 10.0748206 ]), counts=array([10, 10, 10, 10, 10], dtype=int64), variances=array([0.13667512, 0.27579795, 0.02692877, 0.1163515 , 0.11675739]), std_devs=array([0.36969598, 0.52516469, 0.16409987, 0.34110336, 0.34169781]), std_errs=array([0.11690813, 0.16607166, 0.05189293, 0.10786635, 0.10805433]), degfs=array([9, 9, 9, 9, 9], dtype=int64))"
      ]
     },
     "execution_count": 3,
     "metadata": {},
     "output_type": "execute_result"
    }
   ],
   "source": [
    "datasets.group_stats(data)"
   ]
  },
  {
   "cell_type": "markdown",
   "id": "951a529f",
   "metadata": {},
   "source": [
    "The `datasets.pooled_stats` method computes repeatability and reproducibility. Refer to Appendix H.5 of JCGM 100 for mathematical details of the calculation."
   ]
  },
  {
   "cell_type": "code",
   "execution_count": 4,
   "id": "9ca8d1a5",
   "metadata": {},
   "outputs": [
    {
     "data": {
      "text/plain": [
       "PooledResult(mean=10.063390114800674, reproducibility=0.17237741955899258, repeatability=0.36674534189047936, reprod_degf=4, repeat_degf=45)"
      ]
     },
     "execution_count": 4,
     "metadata": {},
     "output_type": "execute_result"
    }
   ],
   "source": [
    "datasets.pooled_stats(data)"
   ]
  },
  {
   "cell_type": "markdown",
   "id": "000984e0",
   "metadata": {},
   "source": [
    "Analysis of variance is computed using `datasets.anova`. It determines whether reproducibility is significant using an F-test and p-test.\n",
    "The tuple returned includes the F and P metrics, the critical F value, and sum-of-squares between groups (days in our example) and within groups.\n",
    "The boolean `reprod_significant` indicates whether reproducibility is statistically significant in the data."
   ]
  },
  {
   "cell_type": "code",
   "execution_count": 5,
   "id": "38edc666",
   "metadata": {},
   "outputs": [
    {
     "data": {
      "text/plain": [
       "AnovaResult(f=2.2091822102497822, fcrit=2.5787391843115586, p=0.08307585597857478, sumsq_between=1.1885589909526781, sumsq_within=6.052596560926406, mean_sumsq_between=0.29713974773816954, mean_sumsq_within=0.1345021457983646, degf_msbet=4, degf_mswit=45)"
      ]
     },
     "execution_count": 5,
     "metadata": {},
     "output_type": "execute_result"
    }
   ],
   "source": [
    "datasets.anova(data)"
   ]
  },
  {
   "cell_type": "markdown",
   "id": "1952a60c",
   "metadata": {},
   "source": [
    "Typically in metrology, the ANOVA is used to determine an estimate of standard error to use in an uncertainty evaluation. The `datasets.standarderror` combines the above calculations by calculating repeatability, reproducibility, and anova, then computes the best estimate of uncertainty (standard error of the mean) of that set of data.\n",
    "This is the method used by the `measure` method of `suncal.Model` when given a 2D array."
   ]
  },
  {
   "cell_type": "code",
   "execution_count": 6,
   "id": "3f3bd437",
   "metadata": {},
   "outputs": [
    {
     "data": {
      "text/plain": [
       "StandardErrorResult(stderr=0.0543651882609131, stdev=0.38441993279774944, stderr_degf=49, reprod_significant=False)"
      ]
     },
     "execution_count": 6,
     "metadata": {},
     "output_type": "execute_result"
    }
   ],
   "source": [
    "datasets.standarderror(data)"
   ]
  },
  {
   "cell_type": "markdown",
   "id": "de108a97",
   "metadata": {},
   "source": [
    "## Autocorrelation\n",
    "\n",
    "When multiple samples are measured over a short period of time, the values may be correlated with each other in time. This is known as autocorrelation.\n",
    "This autocorrelation may affect the standard deviation of the values.\n",
    "\n",
    "As an example, we load the 'flicker.dat' example data used by the NIST handbook: https://www.itl.nist.gov/div898/handbook/eda/section3/eda35c.htm\n",
    "\n",
    "A histogram of this data looks relatively normal, and taking the standard error of the mean produces one estimate of the Type A uncertainty."
   ]
  },
  {
   "cell_type": "code",
   "execution_count": 7,
   "id": "fb723ee4",
   "metadata": {},
   "outputs": [
    {
     "data": {
      "image/png": "[encoded data removed]",
      "text/plain": [
       "<Figure size 640x480 with 1 Axes>"
      ]
     },
     "metadata": {
      "needs_background": "light"
     },
     "output_type": "display_data"
    }
   ],
   "source": [
    "data = np.genfromtxt('../Examples/Data/flicker.dat', skip_header=25)\n",
    "plt.hist(data, bins=40);"
   ]
  },
  {
   "cell_type": "code",
   "execution_count": 8,
   "id": "c0593d2d",
   "metadata": {},
   "outputs": [
    {
     "data": {
      "text/plain": [
       "0.00018909621121798552"
      ]
     },
     "execution_count": 8,
     "metadata": {},
     "output_type": "execute_result"
    }
   ],
   "source": [
    "data.std(ddof=1) / np.sqrt(len(data))  # Typical Type A uncertainty evaluation"
   ]
  },
  {
   "cell_type": "markdown",
   "id": "b0829865",
   "metadata": {},
   "source": [
    "However, the data points in this array are correlated in time.\n",
    "The `datasets.autocorrelation` method computes the autocorrelation versus lag array, which can be used to generate the autocorrelaion plot."
   ]
  },
  {
   "cell_type": "code",
   "execution_count": 9,
   "id": "b0262a04",
   "metadata": {},
   "outputs": [
    {
     "data": {
      "image/png": "[encoded data removed]",
      "text/plain": [
       "<Figure size 640x480 with 1 Axes>"
      ]
     },
     "metadata": {
      "needs_background": "light"
     },
     "output_type": "display_data"
    }
   ],
   "source": [
    "autocor = datasets.autocorrelation(data)\n",
    "plt.plot(autocor)\n",
    "plt.xlabel('Lag')\n",
    "plt.ylabel('Autocorrelation');"
   ]
  },
  {
   "cell_type": "markdown",
   "id": "4001ae27",
   "metadata": {},
   "source": [
    "Accounting for this autocorrelation, the estimate of uncertainty may be computed using `datasets.uncert_autocorrelated`.\n",
    "This results in a much larger estimate of uncertainty.\n",
    "In the resulting tuple, the `uncert` parameter is the uncertainty estimate, while `r` is the multiplier used to expand the computed variance, and `r_unc` the multiplier to expand the computed uncertainty, to account for autocorrelation.\n",
    "In this example, the uncertainty is 7.2 times higher than the typical Type A evaluation done above. `nc` is the cut-off lag, the lag at which autocorrelation becomes insignificant."
   ]
  },
  {
   "cell_type": "code",
   "execution_count": 10,
   "id": "602680bb",
   "metadata": {},
   "outputs": [
    {
     "data": {
      "text/plain": [
       "AutoCorrelationResult(rho=array([ 1.00000000e+00,  7.54390287e-01,  7.17001619e-01,  6.71882555e-01,\n",
       "        6.47759414e-01,  6.15819107e-01,  5.94612346e-01,  5.98952131e-01,\n",
       "        5.84441806e-01,  5.53246079e-01,  5.56283437e-01,  5.20484420e-01,\n",
       "        5.16767272e-01,  5.00485055e-01,  4.96297654e-01,  4.86136023e-01,\n",
       "        4.82882201e-01,  4.76915011e-01,  4.65305704e-01,  4.60532185e-01,\n",
       "        4.59938375e-01,  4.43402884e-01,  4.51572612e-01,  4.41803096e-01,\n",
       "        4.44570141e-01,  4.38687302e-01,  4.30129982e-01,  4.34942621e-01,\n",
       "        4.24478117e-01,  4.30111045e-01,  4.28490837e-01,  4.22212367e-01,\n",
       "        4.23531538e-01,  4.24830075e-01,  4.20600233e-01,  4.31144985e-01,\n",
       "        4.19350742e-01,  4.23384794e-01,  4.03773490e-01,  4.08782244e-01,\n",
       "        3.79123968e-01,  3.82487459e-01,  3.65237452e-01,  3.81648883e-01,\n",
       "        3.76251874e-01,  3.85687177e-01,  3.79375214e-01,  3.83085618e-01,\n",
       "        3.68847470e-01,  3.84459234e-01,  3.61586705e-01,  3.56333548e-01,\n",
       "        3.49469890e-01,  3.52906885e-01,  3.52436916e-01,  3.41143629e-01,\n",
       "        3.20854942e-01,  3.15527808e-01,  3.00984735e-01,  2.94666693e-01,\n",
       "        2.91967029e-01,  2.99595430e-01,  2.82403319e-01,  3.03526090e-01,\n",
       "        2.74449415e-01,  2.73048023e-01,  2.70722909e-01,  2.62357981e-01,\n",
       "        2.65873875e-01,  2.66880316e-01,  2.63546090e-01,  2.67564456e-01,\n",
       "        2.61053465e-01,  2.49869652e-01,  2.45828715e-01,  2.54350934e-01,\n",
       "        2.61491689e-01,  2.49187342e-01,  2.47060289e-01,  2.54508343e-01,\n",
       "        2.51735262e-01,  2.60663865e-01,  2.55748008e-01,  2.36226553e-01,\n",
       "        2.40333088e-01,  2.49936251e-01,  2.36693557e-01,  2.27168375e-01,\n",
       "        2.43655770e-01,  2.30618646e-01,  2.41672062e-01,  2.47611318e-01,\n",
       "        2.53508782e-01,  2.49769631e-01,  2.54392018e-01,  2.69665377e-01,\n",
       "        2.64742141e-01,  2.79997231e-01,  2.70364559e-01,  2.54599900e-01,\n",
       "        2.61702969e-01,  2.71913140e-01,  2.61827400e-01,  2.53945924e-01,\n",
       "        2.65878112e-01,  2.62724303e-01,  2.58251772e-01,  2.48691700e-01,\n",
       "        2.42843468e-01,  2.27423043e-01,  2.03018633e-01,  1.96852961e-01,\n",
       "        1.99115855e-01,  1.88682137e-01,  1.97666244e-01,  1.90255691e-01,\n",
       "        1.93862682e-01,  1.93181822e-01,  1.94252635e-01,  1.92623676e-01,\n",
       "        2.09222163e-01,  1.99612952e-01,  1.99185424e-01,  2.03606740e-01,\n",
       "        2.00729172e-01,  2.06194423e-01,  2.18550094e-01,  2.10368552e-01,\n",
       "        2.14108764e-01,  2.27059663e-01,  2.37333220e-01,  2.30224070e-01,\n",
       "        2.26853891e-01,  2.22587501e-01,  2.23826415e-01,  2.15354458e-01,\n",
       "        2.26487073e-01,  2.24816658e-01,  2.20300504e-01,  2.26589667e-01,\n",
       "        2.22613234e-01,  2.15758239e-01,  2.23761360e-01,  2.07820834e-01,\n",
       "        2.28674444e-01,  2.18108187e-01,  2.19136478e-01,  2.07944677e-01,\n",
       "        1.96948826e-01,  1.98788647e-01,  1.85847212e-01,  1.98206491e-01,\n",
       "        1.97436502e-01,  1.98142940e-01,  1.83699427e-01,  1.95026520e-01,\n",
       "        1.87433385e-01,  1.97599969e-01,  1.84566969e-01,  1.84987042e-01,\n",
       "        1.97960811e-01,  2.04863275e-01,  1.96227630e-01,  1.99379738e-01,\n",
       "        1.95227638e-01,  2.11795374e-01,  1.90031113e-01,  2.16283999e-01,\n",
       "        2.21619979e-01,  2.28186063e-01,  2.26563817e-01,  2.19757990e-01,\n",
       "        2.33177248e-01,  2.23796891e-01,  2.25378684e-01,  2.37777165e-01,\n",
       "        2.37692513e-01,  2.29189850e-01,  2.18668386e-01,  2.32219426e-01,\n",
       "        2.33371994e-01,  2.23444045e-01,  2.16047222e-01,  2.23648562e-01,\n",
       "        2.01002226e-01,  2.04740381e-01,  1.96586988e-01,  2.02195819e-01,\n",
       "        2.02674749e-01,  2.08199521e-01,  2.00392705e-01,  1.93236035e-01,\n",
       "        1.95150838e-01,  1.91344450e-01,  1.90939747e-01,  2.03025299e-01,\n",
       "        2.08825550e-01,  2.02500441e-01,  2.11934793e-01,  2.19993459e-01,\n",
       "        2.14823199e-01,  2.11945301e-01,  2.23157794e-01,  2.12273585e-01,\n",
       "        2.23152646e-01,  2.27312964e-01,  2.33418984e-01,  2.38412654e-01,\n",
       "        2.31430290e-01,  2.35313460e-01,  2.12644887e-01,  2.08692404e-01,\n",
       "        1.95981627e-01,  1.83769976e-01,  1.85669779e-01,  1.86372651e-01,\n",
       "        1.84858195e-01,  1.73818369e-01,  1.73789850e-01,  1.61916612e-01,\n",
       "        1.58139431e-01,  1.69055067e-01,  1.83461778e-01,  1.73039770e-01,\n",
       "        1.74562516e-01,  1.68778709e-01,  1.66962707e-01,  1.44060270e-01,\n",
       "        1.48654028e-01,  1.41667162e-01,  1.39469156e-01,  1.31701004e-01,\n",
       "        1.29185325e-01,  1.28604120e-01,  1.21322861e-01,  1.27028390e-01,\n",
       "        1.24860775e-01,  1.20890944e-01,  1.17290770e-01,  1.05650058e-01,\n",
       "        1.03150050e-01,  1.14141605e-01,  1.15272567e-01,  1.09315518e-01,\n",
       "        9.57348075e-02,  9.37325359e-02,  8.34135831e-02,  7.22170008e-02,\n",
       "        7.02960683e-02,  7.51741780e-02,  7.49976785e-02,  7.41659380e-02,\n",
       "        7.59243796e-02,  8.50252587e-02,  7.85463240e-02,  6.78748293e-02,\n",
       "        6.09713489e-02,  4.69784918e-02,  5.61984756e-02,  5.06828902e-02,\n",
       "        5.56513384e-02,  4.91265948e-02,  4.82880038e-02,  4.33274106e-02,\n",
       "        3.50074482e-02,  4.58682180e-02,  4.88371934e-02,  5.88906800e-02,\n",
       "        4.31657702e-02,  4.89156991e-02,  4.43363384e-02,  5.48598556e-02,\n",
       "        4.39031212e-02,  4.19222678e-02,  4.43887272e-02,  5.88722553e-02,\n",
       "        5.91028621e-02,  4.35496001e-02,  3.79530388e-02,  1.65711218e-02,\n",
       "        2.50455902e-02,  1.81117204e-02,  1.94440487e-02,  9.42164616e-03,\n",
       "        7.05516369e-03,  4.34105964e-03,  4.41527642e-03, -2.07355693e-04,\n",
       "       -3.27857090e-03, -6.74141820e-03, -3.74095629e-03, -9.26248636e-03,\n",
       "       -1.33868551e-02, -1.04974577e-02, -1.59311959e-02, -2.12174101e-02,\n",
       "       -1.60998181e-02, -9.83719474e-03, -1.50759842e-02, -1.66665634e-03,\n",
       "       -1.51585683e-02, -8.55378412e-03, -5.15001389e-03, -1.82663750e-02,\n",
       "       -1.50657999e-02, -2.13044672e-02, -3.41516949e-02, -4.29173972e-02,\n",
       "       -6.15980822e-02, -6.02528805e-02, -5.95798220e-02, -5.69817820e-02,\n",
       "       -5.56682912e-02, -5.67470708e-02, -4.40692560e-02, -6.55641695e-02,\n",
       "       -5.68352198e-02, -5.98321257e-02, -6.08206197e-02, -6.32396477e-02,\n",
       "       -7.37171488e-02, -7.70142000e-02, -8.55523861e-02, -7.99915944e-02,\n",
       "       -8.78547802e-02, -8.53251833e-02, -9.04791164e-02, -9.03619997e-02,\n",
       "       -8.76880272e-02, -8.80256247e-02, -8.98266368e-02, -1.09148377e-01,\n",
       "       -1.13292634e-01, -1.32720799e-01, -1.34525762e-01, -1.39016911e-01,\n",
       "       -1.24331645e-01, -1.15440856e-01, -1.14208914e-01, -1.16798035e-01,\n",
       "       -1.26350420e-01, -1.39322575e-01, -1.38219564e-01, -1.43008832e-01,\n",
       "       -1.28803271e-01, -1.28377016e-01, -1.18457971e-01, -1.13828387e-01,\n",
       "       -1.11210413e-01, -1.06882598e-01, -1.06463846e-01, -9.88845506e-02,\n",
       "       -1.12127248e-01, -1.14361532e-01, -1.16150036e-01, -1.13960162e-01,\n",
       "       -1.04884454e-01, -1.01942259e-01, -1.14555775e-01, -1.12417034e-01,\n",
       "       -1.24053327e-01, -1.29484386e-01, -1.27413795e-01, -1.36239276e-01,\n",
       "       -1.36339763e-01, -1.56959648e-01, -1.59455638e-01, -1.43377629e-01,\n",
       "       -1.55380482e-01, -1.65609408e-01, -1.79659212e-01, -1.78751705e-01,\n",
       "       -1.75127940e-01, -1.84312038e-01, -1.68060057e-01, -1.72053086e-01,\n",
       "       -1.75833343e-01, -1.66833727e-01, -1.79943545e-01, -1.70939288e-01,\n",
       "       -1.68217664e-01, -1.68342768e-01, -1.73629277e-01, -1.74896238e-01,\n",
       "       -1.67552379e-01, -1.72473460e-01, -1.68232282e-01, -1.66927909e-01,\n",
       "       -1.73295988e-01, -1.73797992e-01, -1.70213769e-01, -1.55844383e-01,\n",
       "       -1.49446345e-01, -1.47369271e-01, -1.40175245e-01, -1.50581243e-01,\n",
       "       -1.46125601e-01, -1.45043318e-01, -1.23531797e-01, -1.43003539e-01,\n",
       "       -1.45804658e-01, -1.58471197e-01, -1.54994304e-01, -1.54531876e-01,\n",
       "       -1.45665830e-01, -1.25804518e-01, -1.31722757e-01, -1.25707426e-01,\n",
       "       -1.24407169e-01, -1.40750537e-01, -1.36721106e-01, -1.34973773e-01,\n",
       "       -1.29741142e-01, -1.28906163e-01, -1.42765687e-01, -1.37963425e-01,\n",
       "       -1.44531317e-01, -1.34681497e-01, -1.39845022e-01, -1.50124502e-01,\n",
       "       -1.34299865e-01, -1.43471712e-01, -1.47907854e-01, -1.51328188e-01,\n",
       "       -1.54810771e-01, -1.54037242e-01, -1.76190282e-01, -1.43721800e-01,\n",
       "       -1.52648302e-01, -1.53991524e-01, -1.44191695e-01, -1.41002696e-01,\n",
       "       -1.47401665e-01, -1.50721341e-01, -1.53337918e-01, -1.55562201e-01,\n",
       "       -1.70487383e-01, -1.55164816e-01, -1.76866959e-01, -1.73382705e-01,\n",
       "       -1.85381700e-01, -1.53455553e-01, -1.58099817e-01, -1.46213005e-01,\n",
       "       -1.48322335e-01, -1.42629293e-01, -1.44566791e-01, -1.41345111e-01,\n",
       "       -1.47334163e-01, -1.42332972e-01, -1.39133909e-01, -1.33679958e-01,\n",
       "       -1.41120427e-01, -1.33654095e-01, -1.31751206e-01, -1.40703584e-01,\n",
       "       -1.41496882e-01, -1.50498407e-01, -1.40647834e-01, -1.37478627e-01,\n",
       "       -1.50389152e-01, -1.44815738e-01, -1.39242874e-01, -1.45042222e-01,\n",
       "       -1.47871915e-01, -1.61867757e-01, -1.62946196e-01, -1.82387808e-01,\n",
       "       -1.82553492e-01, -1.82339304e-01, -1.89713493e-01, -1.99110680e-01,\n",
       "       -2.03022170e-01, -2.04151496e-01, -1.94573422e-01, -2.10673357e-01,\n",
       "       -1.99788311e-01, -2.19567993e-01, -2.13134355e-01, -2.24818935e-01,\n",
       "       -2.14944014e-01, -2.20578048e-01, -2.11249217e-01, -2.09983843e-01,\n",
       "       -2.11177800e-01, -2.14504600e-01, -2.06254193e-01, -2.21187384e-01,\n",
       "       -2.08069535e-01, -2.20588067e-01, -2.05439261e-01, -2.09630509e-01,\n",
       "       -2.20040718e-01, -2.11438768e-01, -2.26014993e-01, -2.16818228e-01,\n",
       "       -2.15381590e-01, -2.08249485e-01, -2.05429682e-01, -2.13277657e-01,\n",
       "       -2.00791127e-01, -2.05371937e-01, -2.07145479e-01, -2.03515640e-01,\n",
       "       -2.04237824e-01, -2.09965051e-01, -2.00179424e-01, -2.03641826e-01,\n",
       "       -1.88000933e-01, -1.97000477e-01, -1.98124054e-01, -1.93369307e-01,\n",
       "       -1.87209355e-01, -1.85750539e-01, -1.98390958e-01, -2.02253726e-01,\n",
       "       -2.11611568e-01, -2.16036853e-01, -2.01969710e-01, -2.00497890e-01,\n",
       "       -2.01546757e-01, -1.98830997e-01, -1.96580598e-01, -1.90809294e-01,\n",
       "       -1.89200361e-01, -1.85881788e-01, -1.99310622e-01, -1.88910895e-01,\n",
       "       -1.88618345e-01, -1.88781172e-01, -1.92280897e-01, -1.94825113e-01,\n",
       "       -1.96929101e-01, -1.94521136e-01, -1.90068841e-01, -1.65854140e-01,\n",
       "       -1.74039520e-01, -1.71857710e-01, -1.70118589e-01, -1.80212052e-01,\n",
       "       -1.82744171e-01, -1.89696019e-01, -1.92814554e-01, -1.76216576e-01,\n",
       "       -1.80011431e-01, -1.75005332e-01, -1.87660426e-01, -1.83363709e-01,\n",
       "       -1.91117254e-01, -1.82712795e-01, -1.82382925e-01, -1.82180181e-01,\n",
       "       -1.74257090e-01, -1.68089168e-01, -1.59521757e-01, -1.56032270e-01,\n",
       "       -1.58417533e-01, -1.57854868e-01, -1.60390648e-01, -1.41332585e-01,\n",
       "       -1.47116214e-01, -1.50688212e-01, -1.48377632e-01, -1.50219451e-01,\n",
       "       -1.56886737e-01, -1.65018431e-01, -1.63476481e-01, -1.55660517e-01,\n",
       "       -1.60680593e-01, -1.63055562e-01, -1.59663904e-01, -1.75245814e-01,\n",
       "       -1.71838029e-01, -1.69680231e-01, -1.77812121e-01, -1.88419211e-01,\n",
       "       -1.91184425e-01, -1.96744372e-01, -1.97032134e-01, -1.97824481e-01,\n",
       "       -1.90747390e-01, -1.86192595e-01, -1.85223374e-01, -1.74636275e-01,\n",
       "       -1.85842472e-01, -1.77712472e-01, -1.88645989e-01, -1.82558960e-01,\n",
       "       -1.77738247e-01, -1.76384253e-01, -1.74206067e-01, -1.87852599e-01,\n",
       "       -1.69144498e-01, -1.79980623e-01, -1.84307555e-01, -1.90219167e-01,\n",
       "       -1.94095059e-01, -1.95799610e-01, -1.80951711e-01, -1.85639894e-01,\n",
       "       -1.78625684e-01, -1.91388875e-01, -1.89869907e-01, -1.88894275e-01,\n",
       "       -1.94870424e-01, -2.02441323e-01, -2.00003295e-01, -2.04274267e-01,\n",
       "       -2.12272867e-01, -2.12659940e-01, -2.19737514e-01, -2.18365677e-01,\n",
       "       -2.18924555e-01, -2.20489232e-01, -2.22840335e-01, -2.10993508e-01,\n",
       "       -2.06319912e-01, -2.12062828e-01, -2.10844635e-01, -2.03235542e-01,\n",
       "       -1.95877625e-01, -1.96860827e-01, -1.91770059e-01, -1.97584443e-01,\n",
       "       -1.98979952e-01, -1.99765228e-01, -1.93253920e-01, -1.88084826e-01,\n",
       "       -1.88890165e-01, -1.84914104e-01, -1.74253769e-01, -1.64108393e-01,\n",
       "       -1.74064067e-01, -1.62266690e-01, -1.56077164e-01, -1.57594287e-01,\n",
       "       -1.63726917e-01, -1.60861958e-01, -1.56190116e-01, -1.52152665e-01,\n",
       "       -1.61745166e-01, -1.52540406e-01, -1.55165882e-01, -1.55268355e-01,\n",
       "       -1.56348494e-01, -1.58909841e-01, -1.63319699e-01, -1.71509357e-01,\n",
       "       -1.66192215e-01, -1.60200162e-01, -1.58404935e-01, -1.59519986e-01,\n",
       "       -1.56205672e-01, -1.54531841e-01, -1.65261537e-01, -1.53098607e-01,\n",
       "       -1.62004891e-01, -1.53608746e-01, -1.47575367e-01, -1.55574678e-01,\n",
       "       -1.58825109e-01, -1.53082868e-01, -1.64284391e-01, -1.53313169e-01,\n",
       "       -1.59985293e-01, -1.45719510e-01, -1.44381550e-01, -1.41209337e-01,\n",
       "       -1.44514201e-01, -1.40715679e-01, -1.48805073e-01, -1.40398982e-01,\n",
       "       -1.53843386e-01, -1.36361476e-01, -1.35445366e-01, -1.33252470e-01,\n",
       "       -1.36856864e-01, -1.40217302e-01, -1.27008772e-01, -1.24572434e-01,\n",
       "       -1.19001354e-01, -1.21370912e-01, -1.14620869e-01, -1.05226607e-01,\n",
       "       -1.09243725e-01, -1.05037864e-01, -1.07769331e-01, -9.96881201e-02,\n",
       "       -9.39396467e-02, -1.04374505e-01, -1.01745061e-01, -1.07068639e-01,\n",
       "       -1.08236787e-01, -1.16309512e-01, -1.12595861e-01, -1.11556259e-01,\n",
       "       -1.10397287e-01, -1.06092549e-01, -1.00228840e-01, -1.06182228e-01,\n",
       "       -1.01625964e-01, -1.18899975e-01, -1.04754640e-01, -1.02865607e-01,\n",
       "       -1.02026893e-01, -1.05742795e-01, -1.07042847e-01, -1.06393089e-01,\n",
       "       -1.03310718e-01, -1.04415687e-01, -1.01884840e-01, -1.13126956e-01,\n",
       "       -9.61545512e-02, -9.55861060e-02, -9.82512039e-02, -9.21712204e-02,\n",
       "       -8.21547423e-02, -7.66102944e-02, -7.49578610e-02, -6.89722040e-02,\n",
       "       -6.51027542e-02, -6.23112658e-02, -6.12843825e-02, -5.56946534e-02,\n",
       "       -4.56723798e-02, -5.53519446e-02, -5.46364437e-02, -5.54483539e-02,\n",
       "       -5.36944202e-02, -5.76754167e-02, -4.98053239e-02, -5.12914558e-02,\n",
       "       -5.25048276e-02, -5.58138769e-02, -4.52733029e-02, -3.98670325e-02,\n",
       "       -3.88051482e-02, -3.71691660e-02, -3.33802301e-02, -3.36873587e-02,\n",
       "       -4.56272060e-02, -4.31463243e-02, -4.47676706e-02, -3.97240018e-02,\n",
       "       -4.30892698e-02, -3.86328474e-02, -3.90385378e-02, -4.65809581e-02,\n",
       "       -4.99550873e-02, -4.17959434e-02, -4.30845434e-02, -4.59121531e-02,\n",
       "       -4.54231416e-02, -4.58290715e-02, -4.71537288e-02, -4.75577346e-02,\n",
       "       -5.42227083e-02, -4.79027210e-02, -5.03534026e-02, -4.71193472e-02,\n",
       "       -4.20137248e-02, -3.51270943e-02, -3.72493132e-02, -3.21912353e-02,\n",
       "       -3.42610592e-02, -3.84738838e-02, -3.78660377e-02, -3.02847615e-02,\n",
       "       -3.44910666e-02, -3.65904602e-02, -3.25889066e-02, -3.12752976e-02,\n",
       "       -3.87278403e-02, -3.88496782e-02, -4.57852029e-02, -3.93473280e-02,\n",
       "       -5.12612362e-02, -5.03024949e-02, -3.99007651e-02, -3.45412106e-02,\n",
       "       -3.77536883e-02, -4.11934352e-02, -4.58597115e-02, -4.49310860e-02,\n",
       "       -4.53602308e-02, -4.62364763e-02, -5.67979307e-02, -5.21092512e-02,\n",
       "       -5.03512321e-02, -5.76725942e-02, -6.35506489e-02, -7.01947958e-02,\n",
       "       -7.64161943e-02, -8.58463857e-02, -8.22147801e-02, -8.13382409e-02,\n",
       "       -8.19961199e-02, -7.96557370e-02, -7.57631454e-02, -7.38180663e-02,\n",
       "       -7.28840178e-02, -7.44490143e-02, -7.07737977e-02, -7.25794664e-02,\n",
       "       -6.26338451e-02, -6.28822211e-02, -6.39076878e-02, -6.47653016e-02,\n",
       "       -6.42074677e-02, -5.96751004e-02, -5.25751283e-02, -4.93133375e-02,\n",
       "       -5.71582894e-02, -5.77885250e-02, -5.55917813e-02, -5.37330684e-02,\n",
       "       -6.12388102e-02, -6.05632685e-02, -5.17520566e-02, -6.20169720e-02,\n",
       "       -5.17282493e-02, -5.29937528e-02, -4.71898802e-02, -5.85898711e-02,\n",
       "       -5.59536722e-02, -4.29268331e-02, -4.10311054e-02, -4.23533108e-02,\n",
       "       -4.16405092e-02, -4.43471062e-02, -4.24549141e-02, -5.33242661e-02,\n",
       "       -4.87711867e-02, -4.28567022e-02, -3.89399563e-02, -3.42727672e-02,\n",
       "       -3.24939025e-02, -3.45679242e-02, -3.02931691e-02, -2.84725877e-02,\n",
       "       -2.65897171e-02, -2.23663701e-02, -1.48861724e-02, -1.61714042e-02,\n",
       "       -1.38389514e-02, -1.26935885e-02, -1.16778243e-02, -5.81793711e-03,\n",
       "       -3.08115227e-03,  4.29870026e-03,  1.53944622e-02,  1.38955768e-02,\n",
       "        1.86312856e-02,  5.97482160e-03,  1.59521756e-02,  1.89649922e-02,\n",
       "        1.78765949e-02,  2.45398697e-02,  3.01672006e-02,  3.76287575e-02,\n",
       "        3.68789103e-02,  3.82415316e-02,  3.49589748e-02,  3.43286573e-02,\n",
       "        4.26173225e-02,  4.29769778e-02,  4.09636471e-02,  4.19564322e-02,\n",
       "        3.78175159e-02,  3.15908057e-02,  2.41489228e-02,  2.06018995e-02,\n",
       "        2.23281725e-02,  2.09636827e-02,  2.46939600e-02,  2.06945935e-02,\n",
       "        1.56047404e-02,  1.12772980e-02,  8.13624669e-03,  9.94929841e-03,\n",
       "        1.51700484e-02,  1.98229269e-02,  1.97399262e-02,  1.72864885e-02,\n",
       "        1.57625546e-02,  1.60114733e-02,  1.29057723e-02,  2.26220545e-02,\n",
       "        1.98465662e-02,  2.17042181e-02,  1.74588215e-02,  1.82719591e-02,\n",
       "        1.41088886e-02,  9.37433021e-03,  8.17311467e-03,  7.58112550e-03,\n",
       "        7.77777541e-03,  1.08458934e-02,  9.70528899e-03,  8.93048407e-03,\n",
       "        7.00203510e-03,  9.87027745e-03,  1.24996045e-02,  1.17398096e-02,\n",
       "        1.18326449e-02,  1.57539302e-02,  1.26981552e-02,  1.45332482e-02,\n",
       "        1.16682467e-02,  1.28332364e-02,  1.58174948e-02,  1.94708109e-02,\n",
       "        1.54916551e-02,  1.19966627e-02,  7.84304892e-03,  1.37394343e-02,\n",
       "        1.28284255e-02,  2.12645931e-02,  2.12373654e-02,  2.12101134e-02,\n",
       "        1.86956161e-02,  1.84432229e-02,  1.95232986e-02,  1.35918846e-02,\n",
       "        1.70761386e-02,  1.38158968e-02,  1.73356007e-02,  1.57368536e-02,\n",
       "        7.72198036e-03,  5.44226940e-03,  7.44075874e-03,  5.77930618e-03,\n",
       "        6.61322610e-03,  1.63504731e-03,  4.64130120e-03,  4.25973554e-03,\n",
       "        4.93805018e-03,  4.50434956e-03,  4.00658929e-03,  6.52039211e-03,\n",
       "        1.21339249e-02,  1.18847009e-02,  1.29354038e-02,  9.73949508e-03,\n",
       "        1.06749232e-02,  1.28450195e-02,  1.46884097e-02,  1.73828555e-02,\n",
       "        1.60480490e-02,  2.07070190e-02,  2.31715552e-02,  2.29746462e-02,\n",
       "        2.43386148e-02,  2.17997306e-02,  1.96786738e-02,  1.98896416e-02,\n",
       "        2.11172875e-02,  2.04541223e-02,  1.69068733e-02,  1.89558189e-02,\n",
       "        1.73159143e-02,  1.37659506e-02,  1.27842201e-02,  1.03008349e-02,\n",
       "        1.11818259e-02,  1.35808814e-02,  1.48943373e-02,  1.45938916e-02,\n",
       "        1.18468172e-02,  1.48584438e-02,  1.46563181e-02,  1.48705170e-02,\n",
       "        1.73701068e-02,  2.00495994e-02,  1.88420694e-02,  1.89394685e-02,\n",
       "        1.69959060e-02,  1.65097247e-02,  1.61425939e-02,  2.04114298e-02,\n",
       "        2.06772723e-02,  1.87901114e-02,  1.71118050e-02,  1.45345334e-02,\n",
       "        1.34403826e-02,  1.29920248e-02,  1.55182565e-02,  1.58229019e-02,\n",
       "        1.73544465e-02,  1.69904476e-02,  1.75353862e-02,  1.27323049e-02,\n",
       "        1.06494151e-02,  8.74455417e-03,  9.82131445e-03,  8.55642723e-03,\n",
       "        8.38678217e-03,  6.94931607e-03,  5.45315554e-03,  2.70603308e-03]), uncert=0.0013550704920251779, r=51.352089762522546, r_unc=7.16603724261342, nc=57)"
      ]
     },
     "execution_count": 10,
     "metadata": {},
     "output_type": "execute_result"
    }
   ],
   "source": [
    "datasets.uncert_autocorrelated(data)"
   ]
  },
  {
   "cell_type": "markdown",
   "id": "5ee44834",
   "metadata": {},
   "source": [
    "Refer to the paper by Nien Fan Zhang in Metrologia 43 (2006) for mathematical details of the calculation."
   ]
  },
  {
   "cell_type": "code",
   "execution_count": null,
   "id": "d17d66c2",
   "metadata": {},
   "outputs": [],
   "source": []
  }
 ],
 "metadata": {
  "kernelspec": {
   "display_name": "Python 3 (ipykernel)",
   "language": "python",
   "name": "python3"
  },
  "language_info": {
   "codemirror_mode": {
    "name": "ipython",
    "version": 3
   },
   "file_extension": ".py",
   "mimetype": "text/x-python",
   "name": "python",
   "nbconvert_exporter": "python",
   "pygments_lexer": "ipython3",
   "version": "3.12.0"
  }
 },
 "nbformat": 4,
 "nbformat_minor": 5
}
