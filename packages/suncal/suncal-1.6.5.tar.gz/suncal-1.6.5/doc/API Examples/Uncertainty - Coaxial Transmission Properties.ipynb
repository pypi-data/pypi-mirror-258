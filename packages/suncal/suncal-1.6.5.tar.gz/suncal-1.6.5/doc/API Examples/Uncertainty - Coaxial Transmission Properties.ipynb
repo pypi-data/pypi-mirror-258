{
 "cells": [
  {
   "cell_type": "markdown",
   "metadata": {},
   "source": [
    "## Coaxial Line Properties\n",
    "\n",
    "Electrical properties of a coaxial transmission line are calculated in the `coax` function. It returns multiple values in a namedtuple so suncal can detect the names of all the output parameters and provide uncertainties simultaneously.\n",
    "\n",
    "To use units (via the Pint Python package), suncal's unit registry must be used (only a single UnitRegistry instance is allowed per application). The UnitRegistry is imported from suncal with `from suncal import ureg`. In this example, units are needed for the constants such as $\\epsilon_0$ and $\\mu_0$ in the `coax` function."
   ]
  },
  {
   "cell_type": "code",
   "execution_count": 1,
   "metadata": {},
   "outputs": [],
   "source": [
    "import numpy as np\n",
    "from collections import namedtuple\n",
    "\n",
    "import suncal\n",
    "from suncal import ureg"
   ]
  },
  {
   "cell_type": "code",
   "execution_count": 2,
   "metadata": {},
   "outputs": [],
   "source": [
    "mu0 = 1.25663706212E-6 * ureg.henry / ureg.meter  # H/m\n",
    "eps0 = 8.8541878128E-12 * ureg.farad / ureg.meter # F/m\n",
    "c = 299792458 * ureg.meter/ureg.second            # m/s\n",
    "\n",
    "def coax(a, b, freq, rho, mu_r, eps_r, TL):\n",
    "    ''' Calculate properties of coaxial line '''\n",
    "    omega = 2 * np.pi * freq\n",
    "    L = mu0 * mu_r / 2 / np.pi * np.log(b/a)   # H/m\n",
    "    C = 2 * np.pi * eps0 * eps_r / np.log(b/a) # F/m\n",
    "    R = np.sqrt(rho * freq * mu0 * mu_r / np.pi) * (1/a + 1/b) / 2   # ohm/m\n",
    "    G = TL * np.pi * 2 * freq * C   # S/m\n",
    "    Rdc = rho / np.pi / a**2        # DC resistance, ohm/m\n",
    "    propvel = 1/np.sqrt(L*C)/c      # propagation velocity as fraction of c\n",
    "    Z0 = abs(np.sqrt((R + 1j*omega*L)/(G + 1j*omega*C)))      # ohm\n",
    "    atten = np.sqrt((R + 1j*omega*L)*(G + 1j*omega*C)).real   # Np/m\n",
    "\n",
    "    coaxresult = namedtuple('Coax', ['L', 'C', 'R', 'G', 'Rdc', 'velocity', 'Z0', 'gamma'])\n",
    "    return coaxresult(L, C, R, G, Rdc, propvel, Z0, atten)"
   ]
  },
  {
   "cell_type": "code",
   "execution_count": 3,
   "metadata": {},
   "outputs": [
    {
     "data": {
      "text/markdown": [
       "|Function   | Nominal   | Std. Uncertainty  |\n",
       "|----------|---------|------------------|\n",
       "|$L$   | 0.2328 µH/m  | 0.0028 µH/m          |\n",
       "|$C$   | 30.81 pF/ft  | 0.48 pF/ft          |\n",
       "|$R$   | 0.5458 Ω/m  | 0.0051 Ω/m          |\n",
       "|$G$   | 0.00001270 1/m/Ω  | 2.4e-07 1/m/Ω          |\n",
       "|$Rdc$   | 0.1678 Ω/hft  | 0.0038 Ω/hft          |\n",
       "|$velocity$   | 0.6876  | 0.0034          |\n",
       "|$Z_{0}$   | 47.98 Ω | 0.63 Ω         |\n",
       "|$\\gamma$   | 0.1826 1/hft | 0.0023 1/hft         |"
      ],
      "text/plain": [
       "<suncal.uncertainty.results.gum.GumResults at 0x141069738c0>"
      ]
     },
     "execution_count": 3,
     "metadata": {},
     "output_type": "execute_result"
    }
   ],
   "source": [
    "uc = suncal.ModelCallable(coax)\n",
    "uc.var('a').measure(0.089/2, units='inch').typeb(unc='1%', units='inch')            # inner radius\n",
    "uc.var('b').measure(0.285/2, units='inch').typeb(unc='1%', units='inch')            # outer radius\n",
    "uc.var('freq').measure(100, units='MHz')                        # frequency\n",
    "uc.var('rho').measure(2.21E-8, units='ohm*m').typeb(unc='1%', units='ohm*m')         # effective resistivity of center conductor (copper)\n",
    "uc.var('mu_r').measure(1, units='dimensionless')                # permeability\n",
    "uc.var('eps_r').measure(2.115, units='dimensionless').typeb(unc='1%', units='dimensionless') # permittivity of PE that results in 30.8 pF/ft\n",
    "uc.var('TL').measure(.0002, units='dimensionless').typeb(unc='1%', units='dimensionless')    # Loss tangent of PE (depends on frequency - this value is for 100 MHz)\n",
    "result = uc.calculate_gum().units(L ='uH/m', C='pF/ft', R='ohm/m', G='1/ohm/m', Rdc='ohm/hectofeet',\n",
    "                             velocity='dimensionless', Z0='ohm', gamma='1/hectofoot')\n",
    "result"
   ]
  },
  {
   "cell_type": "code",
   "execution_count": 4,
   "metadata": {},
   "outputs": [
    {
     "data": {
      "text/markdown": [
       "## $L$\n",
       "\n",
       "\n",
       "|Variable   | Sensitivity   | Proportion  |\n",
       "|----------|-------------|------------|\n",
       "|$TL$   | 0.0 H/m      | 0.00%       |\n",
       "|$a$   | -4.5e-06 H/in/m      | 50.00%      |\n",
       "|$b$   | 1.4e-06 H/in/m      | 50.00%      |\n",
       "|$eps_{r}$   | 0.0 H/m      | 0.00%       |\n",
       "|$freq$   | 0.0 H/MHz/m      | 0.00%       |\n",
       "|$\\mu_{r}$   | 2.3e-07 H/m      | 0.00%       |\n",
       "|$\\rho$   | 0.0 H/m²/Ω      | 0.00%       |\n",
       "\n",
       "\n",
       "## $C$\n",
       "\n",
       "\n",
       "|Variable   | Sensitivity   | Proportion  |\n",
       "|----------|-------------|------------|\n",
       "|$TL$   | 0.0 F/m      | 0.00%       |\n",
       "|$a$  | 2.0e-09 F/in/m      | 29.81%      |\n",
       "|$b$  | -6.1e-10 F/in/m      | 29.81%      |\n",
       "|$eps_{r}$  | 4.8e-11 F/m     | 40.38%      |\n",
       "|$freq$  | 0.0 F/MHz/m     | 0.00%       |\n",
       "|$\\mu_{r}$  | 0.0 F/m     | 0.00%       |\n",
       "|$\\rho$  | 0.0 F/m²/Ω     | 0.00%       |\n",
       "\n",
       "\n",
       "## $R$\n",
       "\n",
       "\n",
       "|Variable   | Sensitivity   | Proportion  |\n",
       "|----------|-------------|------------|\n",
       "|$TL$  | 0.0 H⁰⋅⁵·MHz⁰⋅⁵·Ω⁰⋅⁵/in     | 0.00%       |\n",
       "|$a$  | -0.00024 H⁰⋅⁵·MHz⁰⋅⁵·Ω⁰⋅⁵/in²     | 65.44%      |\n",
       "|$b$  | -0.000023 H⁰⋅⁵·MHz⁰⋅⁵·Ω⁰⋅⁵/in²     | 6.38%       |\n",
       "|$eps_{r}$  | 0.0 H⁰⋅⁵·MHz⁰⋅⁵·Ω⁰⋅⁵/in     | 0.00%       |\n",
       "|$freq$  | 6.9e-08 H⁰⋅⁵·Ω⁰⋅⁵/MHz⁰⋅⁵/in     | 0.00%       |\n",
       "|$\\mu_{r}$  | 6.9e-06 H⁰⋅⁵·MHz⁰⋅⁵·Ω⁰⋅⁵/in     | 0.00%       |\n",
       "|$\\rho$  | 313.6 H⁰⋅⁵·MHz⁰⋅⁵/in/m/Ω⁰⋅⁵     | 28.17%      |\n",
       "\n",
       "\n",
       "## $G$\n",
       "\n",
       "\n",
       "|Variable   | Sensitivity   | Proportion  |\n",
       "|----------|-------------|------------|\n",
       "|$TL$  | 6.4e-08 F·MHz/m     | 28.76%      |\n",
       "|$a$  | 2.5e-10 F·MHz/in/m     | 21.24%      |\n",
       "|$b$  | -7.7e-11 F·MHz/in/m     | 21.24%      |\n",
       "|$eps_{r}$  | 6.0e-12 F·MHz/m     | 28.76%      |\n",
       "|$freq$  | 1.3e-13 F/m     | 0.00%       |\n",
       "|$\\mu_{r}$  | 0.0 F·MHz/m     | 0.00%       |\n",
       "|$\\rho$  | 0.0 F·MHz/m²/Ω     | 0.00%       |\n",
       "\n",
       "\n",
       "## $Rdc$\n",
       "\n",
       "\n",
       "|Variable   | Sensitivity   | Proportion  |\n",
       "|----------|-------------|------------|\n",
       "|$TL$  | 0.0 m·Ω/in²     | 0.00%       |\n",
       "|$a$  | -0.00016 m·Ω/in³     | 80.00%      |\n",
       "|$b$  | 0.0 m·Ω/in³     | 0.00%       |\n",
       "|$eps_{r}$  | 0.0 m·Ω/in²     | 0.00%       |\n",
       "|$freq$  | 0.0 m·Ω/MHz/in²     | 0.00%       |\n",
       "|$\\mu_{r}$  | 0.0 m·Ω/in²     | 0.00%       |\n",
       "|$\\rho$  | 160.7 1/in²     | 20.00%      |\n",
       "\n",
       "\n",
       "## $velocity$\n",
       "\n",
       "\n",
       "|Variable   | Sensitivity   | Proportion  |\n",
       "|----------|-------------|------------|\n",
       "|$TL$  | 0.0 s/F⁰⋅⁵/H⁰⋅⁵     | 0.00%       |\n",
       "|$a$  | -2.5e-07 s/F⁰⋅⁵/H⁰⋅⁵/in     | 0.00%       |\n",
       "|$b$  | 0.0 s/F⁰⋅⁵/H⁰⋅⁵/in     | 0.00%       |\n",
       "|$eps_{r}$  | -0.16 s/F⁰⋅⁵/H⁰⋅⁵     | 100.00%     |\n",
       "|$freq$  | 0.0 s/F⁰⋅⁵/H⁰⋅⁵/MHz     | 0.00%       |\n",
       "|$\\mu_{r}$  | -0.34 s/F⁰⋅⁵/H⁰⋅⁵     | 0.00%       |\n",
       "|$\\rho$  | 0.0 s/F⁰⋅⁵/H⁰⋅⁵/m/Ω     | 0.00%       |\n",
       "\n",
       "\n",
       "## $Z_{0}$\n",
       "\n",
       "\n",
       "|Variable   | Sensitivity   | Proportion  |\n",
       "|----------|-------------|------------|\n",
       "|$TL$  | -0.014 H⁰⋅²⁵·m⁰⋅⁵·Ω⁰⋅²⁵/F⁰⋅⁵/MHz⁰⋅²⁵/in⁰⋅⁵     | 0.00%       |\n",
       "|$a$  | -4669.3 H⁰⋅²⁵·m⁰⋅⁵·Ω⁰⋅²⁵/F⁰⋅⁵/MHz⁰⋅²⁵/in¹⋅⁵     | 42.76%      |\n",
       "|$b$  | 1458.1 H⁰⋅²⁵·m⁰⋅⁵·Ω⁰⋅²⁵/F⁰⋅⁵/MHz⁰⋅²⁵/in¹⋅⁵     | 42.76%      |\n",
       "|$eps_{r}$  | -57.2 H⁰⋅²⁵·m⁰⋅⁵·Ω⁰⋅²⁵/F⁰⋅⁵/MHz⁰⋅²⁵/in⁰⋅⁵     | 14.48%      |\n",
       "|$freq$  | -8.4e-06 H⁰⋅²⁵·m⁰⋅⁵·Ω⁰⋅²⁵/F⁰⋅⁵/MHz¹⋅²⁵/in⁰⋅⁵     | 0.00%       |\n",
       "|$\\mu_{r}$  | 120.9 H⁰⋅²⁵·m⁰⋅⁵·Ω⁰⋅²⁵/F⁰⋅⁵/MHz⁰⋅²⁵/in⁰⋅⁵     | 0.00%       |\n",
       "|$\\rho$  | 38131.4 H⁰⋅²⁵/F⁰⋅⁵/MHz⁰⋅²⁵/in⁰⋅⁵/m⁰⋅⁵/Ω⁰⋅⁷⁵     | 0.00%       |\n",
       "\n",
       "\n",
       "## $\\gamma$\n",
       "\n",
       "\n",
       "|Variable   | Sensitivity   | Proportion  |\n",
       "|----------|-------------|------------|\n",
       "|$TL$  | 7.7e-06 F⁰⋅⁵·H⁰⋅²⁵·MHz⁰⋅⁷⁵·Ω⁰⋅²⁵/in⁰⋅⁵/m⁰⋅⁵     | 0.16%       |\n",
       "|$a$  | 6.3e-08 F⁰⋅⁵·H⁰⋅²⁵·MHz⁰⋅⁷⁵·Ω⁰⋅²⁵/in¹⋅⁵/m⁰⋅⁵     | 0.54%       |\n",
       "|$b$  | -2.2e-07 F⁰⋅⁵·H⁰⋅²⁵·MHz⁰⋅⁷⁵·Ω⁰⋅²⁵/in¹⋅⁵/m⁰⋅⁵     | 69.04%      |\n",
       "|$eps_{r}$  | 7.1e-09 F⁰⋅⁵·H⁰⋅²⁵·MHz⁰⋅⁷⁵·Ω⁰⋅²⁵/in⁰⋅⁵/m⁰⋅⁵     | 15.92%      |\n",
       "|$freq$  | 1.6e-10 F⁰⋅⁵·H⁰⋅²⁵·Ω⁰⋅²⁵/MHz⁰⋅²⁵/in⁰⋅⁵/m⁰⋅⁵     | 0.00%       |\n",
       "|$\\mu_{r}$  | 7.7e-10 F⁰⋅⁵·H⁰⋅²⁵·MHz⁰⋅⁷⁵·Ω⁰⋅²⁵/in⁰⋅⁵/m⁰⋅⁵     | 0.00%       |\n",
       "|$\\rho$  | 0.65 F⁰⋅⁵·H⁰⋅²⁵·MHz⁰⋅⁷⁵/in⁰⋅⁵/m¹⋅⁵/Ω⁰⋅⁷⁵     | 14.34%      |"
      ],
      "text/plain": [
       "<suncal.common.report.Report at 0x141067fc770>"
      ]
     },
     "execution_count": 4,
     "metadata": {},
     "output_type": "execute_result"
    }
   ],
   "source": [
    "result.report.sensitivity()"
   ]
  },
  {
   "cell_type": "code",
   "execution_count": null,
   "metadata": {},
   "outputs": [],
   "source": []
  },
  {
   "cell_type": "code",
   "execution_count": null,
   "metadata": {},
   "outputs": [],
   "source": []
  }
 ],
 "metadata": {
  "kernelspec": {
   "display_name": "Python 3 (ipykernel)",
   "language": "python",
   "name": "python3"
  },
  "language_info": {
   "codemirror_mode": {
    "name": "ipython",
    "version": 3
   },
   "file_extension": ".py",
   "mimetype": "text/x-python",
   "name": "python",
   "nbconvert_exporter": "python",
   "pygments_lexer": "ipython3",
   "version": "3.12.0"
  }
 },
 "nbformat": 4,
 "nbformat_minor": 4
}
