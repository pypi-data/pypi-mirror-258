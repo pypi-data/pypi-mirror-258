{
 "cells": [
  {
   "cell_type": "markdown",
   "metadata": {},
   "source": [
    "## Inductance of cylindrical air-core inductor\n",
    "\n",
    "Uses Nagaoka's Formula (Reference: H. Nagaoka, \"The Inductance Coeficients of Solenoids,\" Journal of the College of Science, Imperial University, vol. 27, no. 6, 1909).\n",
    "\n",
    "Because the model cannot be written in a simple string expression, `suncal.ModelCallable` is used to determine the uncertainty in the `inductance_nagaoka` function.\n",
    "\n",
    "The formula uses scipy.special.ellipk and scipy.special.ellipe, integrals, which crash when passed Pint Quantities (values with units). So the `unitsin` and `unitsout` parameters are passed to `ModelCallable` to define the \"natural\" units of the function - specifying that when the function recieves input arguments with units meter, meter, dimensionless, and Henry/meter, the output of the function will be Henry.\n",
    "\n",
    "Because of the 2019 SI redefinition, vacuum permeability, $\\mu_0$, has some uncertainty. To account for the uncertianty, mu0 is included as an input parameter rather than being hardcoded."
   ]
  },
  {
   "cell_type": "code",
   "execution_count": 1,
   "metadata": {},
   "outputs": [],
   "source": [
    "import numpy as np\n",
    "from scipy.special import ellipk, ellipe\n",
    "import suncal\n",
    "\n",
    "def inductance_nagaoka(radius, length, N, mu0):\n",
    "    ''' Calculate inductance using Nagaoka formula\n",
    "    \n",
    "        Parameters\n",
    "        ----------\n",
    "        radius: float\n",
    "            Radius of coil\n",
    "        length: float\n",
    "            Length of coil\n",
    "        N: float\n",
    "            Total number of turns\n",
    "        mu0: float\n",
    "            Vacuum Permeability\n",
    "    '''\n",
    "    k = np.sqrt(4*radius**2 / (4*radius**2 + length**2))\n",
    "    kprime = np.sqrt(1 - k**2)\n",
    "    Kk = ellipk(k**2)\n",
    "    Ek = ellipe(k**2)\n",
    "    kL = 4/3/np.pi/kprime * ((kprime/k)**2 * (Kk - Ek) + Ek - k)\n",
    "    return mu0 * np.pi * N**2 * radius**2 / length * kL"
   ]
  },
  {
   "cell_type": "code",
   "execution_count": 2,
   "metadata": {},
   "outputs": [
    {
     "data": {
      "text/markdown": [
       "|Function   | Method       | Nominal   | Std. Uncertainty   | 95% Coverage   | k         | Deg. Freedom  |\n",
       "|----------|------------|---------|------------------|--------------|---------|--------------|\n",
       "|$L$   | GUM          | 25.22 µH  | 0.100 µH           | ± 0.20 µH     | 1.960     | inf           |\n",
       "|$L$   | Monte Carlo  | 25.22 µH  | 0.100 µH           | (25.02 µH, 25.41 µH) | 1.960     | &nbsp;        |"
      ],
      "text/plain": [
       "UncertaintyResults(gum=<suncal.uncertainty.results.gum.GumResults object at 0x00000165D5A77B00>, montecarlo=<suncal.uncertainty.results.monte.McResults object at 0x00000165D5AA2300>)"
      ]
     },
     "execution_count": 2,
     "metadata": {},
     "output_type": "execute_result"
    }
   ],
   "source": [
    "uc = suncal.ModelCallable(inductance_nagaoka,\n",
    "                          names=['L'],\n",
    "                          unitsin=['m', 'm', '', 'H/m'],\n",
    "                          unitsout=['H'])\n",
    "\n",
    "uc.var('radius').measure(2.7, units='mm').typeb(unc=.005, k=1, units='mm')\n",
    "uc.var('length').measure(9, units='mm').typeb(unc=.01, k=1, units='mm')\n",
    "uc.var('N').measure(100, units='dimensionless').typeb(unc=.1, k=1, units='dimensionless')\n",
    "uc.var('mu0').measure(1.25663706212E-6, units='H/m').typeb(unc=0.00000000019E-6, k=2, units='H/m')\n",
    "\n",
    "result = uc.calculate().units(L='uH')\n",
    "result"
   ]
  },
  {
   "cell_type": "markdown",
   "metadata": {},
   "source": [
    "A sensitivity coefficient report, shown below, indicates that we probably didn't need to bother with accounting for the uncertainty in $\\mu_0$."
   ]
  },
  {
   "cell_type": "code",
   "execution_count": 3,
   "metadata": {},
   "outputs": [
    {
     "data": {
      "text/markdown": [
       "|Variable   | GUM Sensitivity   | GUM Proportion   | MC Sensitivity   | MC Proportion  |\n",
       "|----------|-----------------|----------------|----------------|---------------|\n",
       "|$N$   | 5.0e-07 H          | 25.56%           | 5.0e-07 H         | 25.59%         |\n",
       "|$length$   | -2.2e-06 H/mm          | 4.83%            | 2.2e-06 H/mm         | 4.83%          |\n",
       "|$\\mu_{0}$   | 0.0 m          | 0.00%            | 20.1 m         | 0.00%          |\n",
       "|$radius$   | 0.000017 H/mm          | 69.61%           | 0.000017 H/mm         | 69.61%         |"
      ],
      "text/plain": [
       "<suncal.common.report.Report at 0x165b4534470>"
      ]
     },
     "execution_count": 3,
     "metadata": {},
     "output_type": "execute_result"
    }
   ],
   "source": [
    "result.report.sensitivity()"
   ]
  },
  {
   "cell_type": "code",
   "execution_count": null,
   "metadata": {},
   "outputs": [],
   "source": []
  }
 ],
 "metadata": {
  "kernelspec": {
   "display_name": "Python 3 (ipykernel)",
   "language": "python",
   "name": "python3"
  },
  "language_info": {
   "codemirror_mode": {
    "name": "ipython",
    "version": 3
   },
   "file_extension": ".py",
   "mimetype": "text/x-python",
   "name": "python",
   "nbconvert_exporter": "python",
   "pygments_lexer": "ipython3",
   "version": "3.12.0"
  }
 },
 "nbformat": 4,
 "nbformat_minor": 4
}
