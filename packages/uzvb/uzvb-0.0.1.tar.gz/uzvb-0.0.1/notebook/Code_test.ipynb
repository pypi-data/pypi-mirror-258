{
  "nbformat": 4,
  "nbformat_minor": 0,
  "metadata": {
    "colab": {
      "provenance": []
    },
    "kernelspec": {
      "name": "python3",
      "display_name": "Python 3"
    },
    "language_info": {
      "name": "python"
    }
  },
  "cells": [
    {
      "cell_type": "markdown",
      "source": [
        "[![Open In Colab](https://colab.research.google.com/assets/colab-badge.svg)](https://colab.research.google.com/github/Younguz/uzvb/blob/main/notebook/Code_test.ipynb)\n"
      ],
      "metadata": {
        "id": "uLHPgKvS4ipG"
      }
    },
    {
      "cell_type": "markdown",
      "source": [
        "How to print the characters"
      ],
      "metadata": {
        "id": "n8yxjllD1Q6W"
      }
    },
    {
      "cell_type": "code",
      "source": [
        "print(\"Yuze Li\")"
      ],
      "metadata": {
        "colab": {
          "base_uri": "https://localhost:8080/"
        },
        "id": "tZezGEFN2V2c",
        "outputId": "9dd11776-131c-4ef4-fb66-218c3009e957"
      },
      "execution_count": null,
      "outputs": [
        {
          "output_type": "stream",
          "name": "stdout",
          "text": [
            "Yuze Li\n"
          ]
        }
      ]
    }
  ]
}