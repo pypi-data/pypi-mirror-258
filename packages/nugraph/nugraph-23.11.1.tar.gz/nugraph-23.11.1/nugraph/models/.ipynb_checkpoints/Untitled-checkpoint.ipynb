{
 "cells": [
  {
   "cell_type": "code",
   "execution_count": 2,
   "id": "dbafc861-02d0-4c37-aa6a-94b345cb08ed",
   "metadata": {},
   "outputs": [],
   "source": [
    "%load_ext autoreload\n",
    "%autoreload 2\n",
    "import nugraph as ng"
   ]
  },
  {
   "cell_type": "code",
   "execution_count": 4,
   "id": "540f4b4c-d649-487f-b925-0a176faf21ae",
   "metadata": {},
   "outputs": [
    {
     "ename": "NameError",
     "evalue": "name 'train' is not defined",
     "output_type": "error",
     "traceback": [
      "\u001b[0;31m---------------------------------------------------------------------------\u001b[0m",
      "\u001b[0;31mNameError\u001b[0m                                 Traceback (most recent call last)",
      "Cell \u001b[0;32mIn[4], line 1\u001b[0m\n\u001b[0;32m----> 1\u001b[0m \u001b[43mng\u001b[49m\u001b[38;5;241;43m.\u001b[39;49m\u001b[43mdata\u001b[49m\u001b[38;5;241;43m.\u001b[39;49m\u001b[43mH5DataModule\u001b[49m\u001b[38;5;241;43m.\u001b[39;49m\u001b[43mgenerate_samples\u001b[49m\u001b[43m(\u001b[49m\u001b[38;5;124;43m'\u001b[39;49m\u001b[38;5;124;43m/raid/uboone/CHEP2023/enhanced-vertex.gnn.h5\u001b[39;49m\u001b[38;5;124;43m'\u001b[39;49m\u001b[43m)\u001b[49m\n",
      "File \u001b[0;32m~/NuGraph/nugraph/data/H5DataModule.py:109\u001b[0m, in \u001b[0;36mH5DataModule.generate_samples\u001b[0;34m(data_path)\u001b[0m\n\u001b[1;32m    107\u001b[0m     sys\u001b[38;5;241m.\u001b[39mexit()\n\u001b[1;32m    108\u001b[0m transform \u001b[38;5;241m=\u001b[39m PositionFeatures(planes)\n\u001b[0;32m--> 109\u001b[0m dataset \u001b[38;5;241m=\u001b[39m H5Dataset(data_path, \u001b[43mtrain\u001b[49m, transform)\n\u001b[1;32m    110\u001b[0m \u001b[38;5;28;01mdef\u001b[39;00m \u001b[38;5;21mdatasize\u001b[39m(data):\n\u001b[1;32m    111\u001b[0m     ret \u001b[38;5;241m=\u001b[39m \u001b[38;5;241m0\u001b[39m\n",
      "\u001b[0;31mNameError\u001b[0m: name 'train' is not defined"
     ]
    }
   ],
   "source": [
    "ng.data.H5DataModule.generate_samples('/raid/uboone/CHEP2023/enhanced-vertex.gnn.h5')"
   ]
  },
  {
   "cell_type": "code",
   "execution_count": null,
   "id": "4e4eae22-55f6-4c94-8264-9780cbdd968c",
   "metadata": {},
   "outputs": [],
   "source": []
  }
 ],
 "metadata": {
  "kernelspec": {
   "display_name": "Python 3 (ipykernel)",
   "language": "python",
   "name": "python3"
  },
  "language_info": {
   "codemirror_mode": {
    "name": "ipython",
    "version": 3
   },
   "file_extension": ".py",
   "mimetype": "text/x-python",
   "name": "python",
   "nbconvert_exporter": "python",
   "pygments_lexer": "ipython3",
   "version": "3.10.10"
  }
 },
 "nbformat": 4,
 "nbformat_minor": 5
}
