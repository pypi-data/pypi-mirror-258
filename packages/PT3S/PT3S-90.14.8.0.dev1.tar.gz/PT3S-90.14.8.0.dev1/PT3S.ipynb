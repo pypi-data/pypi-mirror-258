{
 "cells": [
  {
   "cell_type": "markdown",
   "metadata": {},
   "source": [
    "# PT3S\n",
    "Use SIR 3S Modeldata and SIR 3S Results in pure Python.\n",
    "\n",
    "With pandas, geopandas, matplotlib and others.\n",
    "\n",
    "For documentation, test, verification, analysis, reporting, prototyping, play."
   ]
  },
  {
   "cell_type": "markdown",
   "metadata": {},
   "source": [
    "# For Developers"
   ]
  },
  {
   "cell_type": "markdown",
   "metadata": {},
   "source": [
    "## Deploy"
   ]
  },
  {
   "cell_type": "markdown",
   "metadata": {},
   "source": [
    "### Build Version"
   ]
  },
  {
   "cell_type": "code",
   "execution_count": 1,
   "metadata": {
    "tags": []
   },
   "outputs": [
    {
     "name": "stdout",
     "output_type": "stream",
     "text": [
      "running clean\n",
      "running sdist\n",
      "running egg_info\n",
      "writing PT3S.egg-info\\PKG-INFO\n",
      "writing dependency_links to PT3S.egg-info\\dependency_links.txt\n",
      "writing requirements to PT3S.egg-info\\requires.txt\n",
      "writing top-level names to PT3S.egg-info\\top_level.txt\n",
      "reading manifest file 'PT3S.egg-info\\SOURCES.txt'\n",
      "writing manifest file 'PT3S.egg-info\\SOURCES.txt'\n",
      "running check\n",
      "creating PT3S-90.14.2.0.dev1\n",
      "creating PT3S-90.14.2.0.dev1\\testdata\n",
      "creating PT3S-90.14.2.0.dev1\\testdata09\n",
      "creating PT3S-90.14.2.0.dev1\\testdata09\\WDGPipe\n",
      "creating PT3S-90.14.2.0.dev1\\testdata09\\WDGPipe\\B1\n",
      "creating PT3S-90.14.2.0.dev1\\testdata09\\WDGPipe\\B1\\V0\n",
      "creating PT3S-90.14.2.0.dev1\\testdata09\\WDGPipe\\B1\\V0\\BZ1\n",
      "creating PT3S-90.14.2.0.dev1\\testdata09\\WDLocalHeatingNetwork\n",
      "creating PT3S-90.14.2.0.dev1\\testdata09\\WDLocalHeatingNetwork\\B1\n",
      "creating PT3S-90.14.2.0.dev1\\testdata09\\WDLocalHeatingNetwork\\B1\\V0\n",
      "creating PT3S-90.14.2.0.dev1\\testdata09\\WDLocalHeatingNetwork\\B1\\V0\\BZ1\n",
      "creating PT3S-90.14.2.0.dev1\\testdata09\\WDOneLPipe\n",
      "creating PT3S-90.14.2.0.dev1\\testdata09\\WDOneLPipe\\B1\n",
      "creating PT3S-90.14.2.0.dev1\\testdata09\\WDOneLPipe\\B1\\V0\n",
      "creating PT3S-90.14.2.0.dev1\\testdata09\\WDOneLPipe\\B1\\V0\\BZ1\n",
      "creating PT3S-90.14.2.0.dev1\\testdata09\\WDTinyWDN\n",
      "creating PT3S-90.14.2.0.dev1\\testdata09\\WDTinyWDN\\B1\n",
      "creating PT3S-90.14.2.0.dev1\\testdata09\\WDTinyWDN\\B1\\V0\n",
      "creating PT3S-90.14.2.0.dev1\\testdata09\\WDTinyWDN\\B1\\V0\\BZ1\n",
      "creating PT3S-90.14.2.0.dev1\\testdata10\n",
      "creating PT3S-90.14.2.0.dev1\\testdata10\\WDGPipe\n",
      "creating PT3S-90.14.2.0.dev1\\testdata10\\WDGPipe\\B1\n",
      "creating PT3S-90.14.2.0.dev1\\testdata10\\WDGPipe\\B1\\V0\n",
      "creating PT3S-90.14.2.0.dev1\\testdata10\\WDGPipe\\B1\\V0\\BZ1\n",
      "creating PT3S-90.14.2.0.dev1\\testdata10\\WDLocalHeatingNetwork\n",
      "creating PT3S-90.14.2.0.dev1\\testdata10\\WDLocalHeatingNetwork\\B1\n",
      "creating PT3S-90.14.2.0.dev1\\testdata10\\WDLocalHeatingNetwork\\B1\\V0\n",
      "creating PT3S-90.14.2.0.dev1\\testdata10\\WDLocalHeatingNetwork\\B1\\V0\\BZ1\n",
      "creating PT3S-90.14.2.0.dev1\\testdata10\\WDOneLPipe\n",
      "creating PT3S-90.14.2.0.dev1\\testdata10\\WDOneLPipe\\B1\n",
      "creating PT3S-90.14.2.0.dev1\\testdata10\\WDOneLPipe\\B1\\V0\n",
      "creating PT3S-90.14.2.0.dev1\\testdata10\\WDOneLPipe\\B1\\V0\\BZ1\n",
      "creating PT3S-90.14.2.0.dev1\\testdata10\\WDTinyWDN\n",
      "creating PT3S-90.14.2.0.dev1\\testdata10\\WDTinyWDN\\B1\n",
      "creating PT3S-90.14.2.0.dev1\\testdata10\\WDTinyWDN\\B1\\V0\n",
      "creating PT3S-90.14.2.0.dev1\\testdata10\\WDTinyWDN\\B1\\V0\\BZ1\n",
      "creating PT3S-90.14.2.0.dev1\\testdata11\n",
      "creating PT3S-90.14.2.0.dev1\\testdata11\\WDDHNetwork\n",
      "creating PT3S-90.14.2.0.dev1\\testdata11\\WDDHNetwork\\B1\n",
      "creating PT3S-90.14.2.0.dev1\\testdata11\\WDDHNetwork\\B1\\V0\n",
      "creating PT3S-90.14.2.0.dev1\\testdata11\\WDDHNetwork\\B1\\V0\\BZ1\n",
      "creating PT3S-90.14.2.0.dev1\\testdata11\\WDGPipe\n",
      "creating PT3S-90.14.2.0.dev1\\testdata11\\WDGPipe\\B1\n",
      "creating PT3S-90.14.2.0.dev1\\testdata11\\WDGPipe\\B1\\V0\n",
      "creating PT3S-90.14.2.0.dev1\\testdata11\\WDGPipe\\B1\\V0\\BZ1\n",
      "creating PT3S-90.14.2.0.dev1\\testdata11\\WDGPipes\n",
      "creating PT3S-90.14.2.0.dev1\\testdata11\\WDGPipes\\B1\n",
      "creating PT3S-90.14.2.0.dev1\\testdata11\\WDGPipes\\B1\\V0\n",
      "creating PT3S-90.14.2.0.dev1\\testdata11\\WDGPipes\\B1\\V0\\BZ1\n",
      "creating PT3S-90.14.2.0.dev1\\testdata11\\WDLocalHeatingNetwork\n",
      "creating PT3S-90.14.2.0.dev1\\testdata11\\WDLocalHeatingNetwork\\B1\n",
      "creating PT3S-90.14.2.0.dev1\\testdata11\\WDLocalHeatingNetwork\\B1\\V0\n",
      "creating PT3S-90.14.2.0.dev1\\testdata11\\WDLocalHeatingNetwork\\B1\\V0\\BZ1\n",
      "creating PT3S-90.14.2.0.dev1\\testdata11\\WDOneLPipe\n",
      "creating PT3S-90.14.2.0.dev1\\testdata11\\WDOneLPipe\\B1\n",
      "creating PT3S-90.14.2.0.dev1\\testdata11\\WDOneLPipe\\B1\\V0\n",
      "creating PT3S-90.14.2.0.dev1\\testdata11\\WDOneLPipe\\B1\\V0\\BZ1\n",
      "creating PT3S-90.14.2.0.dev1\\testdata11\\WDTinyWDN\n",
      "creating PT3S-90.14.2.0.dev1\\testdata11\\WDTinyWDN\\B1\n",
      "creating PT3S-90.14.2.0.dev1\\testdata11\\WDTinyWDN\\B1\\V0\n",
      "creating PT3S-90.14.2.0.dev1\\testdata11\\WDTinyWDN\\B1\\V0\\BZ1\n",
      "creating PT3S-90.14.2.0.dev1\\testdata\\WDDHNetwork\n",
      "creating PT3S-90.14.2.0.dev1\\testdata\\WDDHNetwork\\B1\n",
      "creating PT3S-90.14.2.0.dev1\\testdata\\WDDHNetwork\\B1\\V0\n",
      "creating PT3S-90.14.2.0.dev1\\testdata\\WDDHNetwork\\B1\\V0\\BZ1\n",
      "creating PT3S-90.14.2.0.dev1\\testdata\\WDGPipe\n",
      "creating PT3S-90.14.2.0.dev1\\testdata\\WDGPipe\\B1\n",
      "creating PT3S-90.14.2.0.dev1\\testdata\\WDGPipe\\B1\\V0\n",
      "creating PT3S-90.14.2.0.dev1\\testdata\\WDGPipe\\B1\\V0\\BZ1\n",
      "creating PT3S-90.14.2.0.dev1\\testdata\\WDGPipes\n",
      "creating PT3S-90.14.2.0.dev1\\testdata\\WDGPipes\\B1\n",
      "creating PT3S-90.14.2.0.dev1\\testdata\\WDGPipes\\B1\\V0\n",
      "creating PT3S-90.14.2.0.dev1\\testdata\\WDGPipes\\B1\\V0\\BZ1\n",
      "creating PT3S-90.14.2.0.dev1\\testdata\\WDLocalHeatingNetwork\n",
      "creating PT3S-90.14.2.0.dev1\\testdata\\WDLocalHeatingNetwork\\B1\n",
      "creating PT3S-90.14.2.0.dev1\\testdata\\WDLocalHeatingNetwork\\B1\\V0\n",
      "creating PT3S-90.14.2.0.dev1\\testdata\\WDLocalHeatingNetwork\\B1\\V0\\BZ1\n",
      "creating PT3S-90.14.2.0.dev1\\testdata\\WDOneLPipe\n",
      "creating PT3S-90.14.2.0.dev1\\testdata\\WDOneLPipe\\B1\n",
      "creating PT3S-90.14.2.0.dev1\\testdata\\WDOneLPipe\\B1\\V0\n",
      "creating PT3S-90.14.2.0.dev1\\testdata\\WDOneLPipe\\B1\\V0\\BZ1\n",
      "creating PT3S-90.14.2.0.dev1\\testdata\\WDTinyWDN\n",
      "creating PT3S-90.14.2.0.dev1\\testdata\\WDTinyWDN\\B1\n",
      "creating PT3S-90.14.2.0.dev1\\testdata\\WDTinyWDN\\B1\\V0\n",
      "creating PT3S-90.14.2.0.dev1\\testdata\\WDTinyWDN\\B1\\V0\\BZ1\n",
      "creating PT3S-90.14.2.0.dev1\\PT3S.egg-info\n",
      "creating PT3S-90.14.2.0.dev1\\UTILS\n",
      "creating PT3S-90.14.2.0.dev1\\lds\n",
      "copying files to PT3S-90.14.2.0.dev1...\n",
      "copying Am.py -> PT3S-90.14.2.0.dev1\n",
      "copying Dm.py -> PT3S-90.14.2.0.dev1\n",
      "copying Dx.py -> PT3S-90.14.2.0.dev1\n",
      "copying Lx.py -> PT3S-90.14.2.0.dev1\n",
      "copying Mx.py -> PT3S-90.14.2.0.dev1\n",
      "copying NFD.py -> PT3S-90.14.2.0.dev1\n",
      "copying PT3S.ipynb -> PT3S-90.14.2.0.dev1\n",
      "copying README.rst -> PT3S-90.14.2.0.dev1\n",
      "copying Rm.py -> PT3S-90.14.2.0.dev1\n",
      "copying Xm.py -> PT3S-90.14.2.0.dev1\n",
      "copying __init__.py -> PT3S-90.14.2.0.dev1\n",
      "copying conf.py -> PT3S-90.14.2.0.dev1\n",
      "copying pNFD.py -> PT3S-90.14.2.0.dev1\n",
      "copying setup.py -> PT3S-90.14.2.0.dev1\n",
      "copying .\\testdata\\DHNetwork.XML -> PT3S-90.14.2.0.dev1\\.\\testdata\n",
      "copying .\\testdata\\DHNetwork.mdb -> PT3S-90.14.2.0.dev1\\.\\testdata\n",
      "copying .\\testdata\\DHNetwork_LINKS.dbf -> PT3S-90.14.2.0.dev1\\.\\testdata\n",
      "copying .\\testdata\\DHNetwork_LINKS.shp -> PT3S-90.14.2.0.dev1\\.\\testdata\n",
      "copying .\\testdata\\DHNetwork_LINKS.shx -> PT3S-90.14.2.0.dev1\\.\\testdata\n",
      "copying .\\testdata\\GPipe.XML -> PT3S-90.14.2.0.dev1\\.\\testdata\n",
      "copying .\\testdata\\GPipes.XML -> PT3S-90.14.2.0.dev1\\.\\testdata\n",
      "copying .\\testdata\\LocalHeatingNetwork.XML -> PT3S-90.14.2.0.dev1\\.\\testdata\n",
      "copying .\\testdata\\OneLPipe.XML -> PT3S-90.14.2.0.dev1\\.\\testdata\n",
      "copying .\\testdata\\TinyWDN.XML -> PT3S-90.14.2.0.dev1\\.\\testdata\n",
      "copying .\\testdata09\\GPipe.XML -> PT3S-90.14.2.0.dev1\\.\\testdata09\n",
      "copying .\\testdata09\\GPipe.mdb -> PT3S-90.14.2.0.dev1\\.\\testdata09\n",
      "copying .\\testdata09\\LocalHeatingNetwork.XML -> PT3S-90.14.2.0.dev1\\.\\testdata09\n",
      "copying .\\testdata09\\LocalHeatingNetwork.mdb -> PT3S-90.14.2.0.dev1\\.\\testdata09\n",
      "copying .\\testdata09\\OneLPipe.XML -> PT3S-90.14.2.0.dev1\\.\\testdata09\n",
      "copying .\\testdata09\\OneLPipe.mdb -> PT3S-90.14.2.0.dev1\\.\\testdata09\n",
      "copying .\\testdata09\\TinyWDN.XML -> PT3S-90.14.2.0.dev1\\.\\testdata09\n",
      "copying .\\testdata09\\TinyWDN.mdb -> PT3S-90.14.2.0.dev1\\.\\testdata09\n",
      "copying .\\testdata09\\WDGPipe\\B1\\V0\\BZ1\\M-1-0-1.MX1 -> PT3S-90.14.2.0.dev1\\.\\testdata09\\WDGPipe\\B1\\V0\\BZ1\n",
      "copying .\\testdata09\\WDGPipe\\B1\\V0\\BZ1\\M-1-0-1.MX2 -> PT3S-90.14.2.0.dev1\\.\\testdata09\\WDGPipe\\B1\\V0\\BZ1\n",
      "copying .\\testdata09\\WDGPipe\\B1\\V0\\BZ1\\M-1-0-1.MXS -> PT3S-90.14.2.0.dev1\\.\\testdata09\\WDGPipe\\B1\\V0\\BZ1\n",
      "copying .\\testdata09\\WDLocalHeatingNetwork\\B1\\V0\\BZ1\\M-1-0-1.MX1 -> PT3S-90.14.2.0.dev1\\.\\testdata09\\WDLocalHeatingNetwork\\B1\\V0\\BZ1\n",
      "copying .\\testdata09\\WDLocalHeatingNetwork\\B1\\V0\\BZ1\\M-1-0-1.MX2 -> PT3S-90.14.2.0.dev1\\.\\testdata09\\WDLocalHeatingNetwork\\B1\\V0\\BZ1\n",
      "copying .\\testdata09\\WDLocalHeatingNetwork\\B1\\V0\\BZ1\\M-1-0-1.MXS -> PT3S-90.14.2.0.dev1\\.\\testdata09\\WDLocalHeatingNetwork\\B1\\V0\\BZ1\n",
      "copying .\\testdata09\\WDOneLPipe\\B1\\V0\\BZ1\\M-1-0-1.MX1 -> PT3S-90.14.2.0.dev1\\.\\testdata09\\WDOneLPipe\\B1\\V0\\BZ1\n",
      "copying .\\testdata09\\WDOneLPipe\\B1\\V0\\BZ1\\M-1-0-1.MX2 -> PT3S-90.14.2.0.dev1\\.\\testdata09\\WDOneLPipe\\B1\\V0\\BZ1\n",
      "copying .\\testdata09\\WDOneLPipe\\B1\\V0\\BZ1\\M-1-0-1.MXS -> PT3S-90.14.2.0.dev1\\.\\testdata09\\WDOneLPipe\\B1\\V0\\BZ1\n",
      "copying .\\testdata09\\WDTinyWDN\\B1\\V0\\BZ1\\M-1-0-1.MX1 -> PT3S-90.14.2.0.dev1\\.\\testdata09\\WDTinyWDN\\B1\\V0\\BZ1\n",
      "copying .\\testdata09\\WDTinyWDN\\B1\\V0\\BZ1\\M-1-0-1.MX2 -> PT3S-90.14.2.0.dev1\\.\\testdata09\\WDTinyWDN\\B1\\V0\\BZ1\n",
      "copying .\\testdata09\\WDTinyWDN\\B1\\V0\\BZ1\\M-1-0-1.MXS -> PT3S-90.14.2.0.dev1\\.\\testdata09\\WDTinyWDN\\B1\\V0\\BZ1\n",
      "copying .\\testdata10\\GPipe.XML -> PT3S-90.14.2.0.dev1\\.\\testdata10\n",
      "copying .\\testdata10\\GPipe.mdb -> PT3S-90.14.2.0.dev1\\.\\testdata10\n",
      "copying .\\testdata10\\LocalHeatingNetwork.XML -> PT3S-90.14.2.0.dev1\\.\\testdata10\n",
      "copying .\\testdata10\\LocalHeatingNetwork.mdb -> PT3S-90.14.2.0.dev1\\.\\testdata10\n",
      "copying .\\testdata10\\OneLPipe.XML -> PT3S-90.14.2.0.dev1\\.\\testdata10\n",
      "copying .\\testdata10\\OneLPipe.mdb -> PT3S-90.14.2.0.dev1\\.\\testdata10\n",
      "copying .\\testdata10\\TinyWDN.XML -> PT3S-90.14.2.0.dev1\\.\\testdata10\n",
      "copying .\\testdata10\\TinyWDN.mdb -> PT3S-90.14.2.0.dev1\\.\\testdata10\n",
      "copying .\\testdata10\\WDGPipe\\B1\\V0\\BZ1\\M-1-0-1.1.MX1 -> PT3S-90.14.2.0.dev1\\.\\testdata10\\WDGPipe\\B1\\V0\\BZ1\n",
      "copying .\\testdata10\\WDGPipe\\B1\\V0\\BZ1\\M-1-0-1.1.MXS -> PT3S-90.14.2.0.dev1\\.\\testdata10\\WDGPipe\\B1\\V0\\BZ1\n",
      "copying .\\testdata10\\WDGPipe\\B1\\V0\\BZ1\\M-1-0-1.MX2 -> PT3S-90.14.2.0.dev1\\.\\testdata10\\WDGPipe\\B1\\V0\\BZ1\n",
      "copying .\\testdata10\\WDLocalHeatingNetwork\\B1\\V0\\BZ1\\M-1-0-1.1.MX1 -> PT3S-90.14.2.0.dev1\\.\\testdata10\\WDLocalHeatingNetwork\\B1\\V0\\BZ1\n",
      "copying .\\testdata10\\WDLocalHeatingNetwork\\B1\\V0\\BZ1\\M-1-0-1.1.MXS -> PT3S-90.14.2.0.dev1\\.\\testdata10\\WDLocalHeatingNetwork\\B1\\V0\\BZ1\n",
      "copying .\\testdata10\\WDLocalHeatingNetwork\\B1\\V0\\BZ1\\M-1-0-1.MX2 -> PT3S-90.14.2.0.dev1\\.\\testdata10\\WDLocalHeatingNetwork\\B1\\V0\\BZ1\n",
      "copying .\\testdata10\\WDOneLPipe\\B1\\V0\\BZ1\\M-1-0-1.1.MX1 -> PT3S-90.14.2.0.dev1\\.\\testdata10\\WDOneLPipe\\B1\\V0\\BZ1\n",
      "copying .\\testdata10\\WDOneLPipe\\B1\\V0\\BZ1\\M-1-0-1.1.MXS -> PT3S-90.14.2.0.dev1\\.\\testdata10\\WDOneLPipe\\B1\\V0\\BZ1\n",
      "copying .\\testdata10\\WDOneLPipe\\B1\\V0\\BZ1\\M-1-0-1.MX2 -> PT3S-90.14.2.0.dev1\\.\\testdata10\\WDOneLPipe\\B1\\V0\\BZ1\n",
      "copying .\\testdata10\\WDTinyWDN\\B1\\V0\\BZ1\\M-1-0-1.1.MX1 -> PT3S-90.14.2.0.dev1\\.\\testdata10\\WDTinyWDN\\B1\\V0\\BZ1\n",
      "copying .\\testdata10\\WDTinyWDN\\B1\\V0\\BZ1\\M-1-0-1.1.MXS -> PT3S-90.14.2.0.dev1\\.\\testdata10\\WDTinyWDN\\B1\\V0\\BZ1\n",
      "copying .\\testdata10\\WDTinyWDN\\B1\\V0\\BZ1\\M-1-0-1.MX2 -> PT3S-90.14.2.0.dev1\\.\\testdata10\\WDTinyWDN\\B1\\V0\\BZ1\n",
      "copying .\\testdata11\\DHNetwork.XML -> PT3S-90.14.2.0.dev1\\.\\testdata11\n",
      "copying .\\testdata11\\DHNetwork.mdb -> PT3S-90.14.2.0.dev1\\.\\testdata11\n",
      "copying .\\testdata11\\GPipe.XML -> PT3S-90.14.2.0.dev1\\.\\testdata11\n",
      "copying .\\testdata11\\GPipe.mdb -> PT3S-90.14.2.0.dev1\\.\\testdata11\n",
      "copying .\\testdata11\\GPipes.XML -> PT3S-90.14.2.0.dev1\\.\\testdata11\n",
      "copying .\\testdata11\\LocalHeatingNetwork.XML -> PT3S-90.14.2.0.dev1\\.\\testdata11\n",
      "copying .\\testdata11\\LocalHeatingNetwork.mdb -> PT3S-90.14.2.0.dev1\\.\\testdata11\n",
      "copying .\\testdata11\\OneLPipe.XML -> PT3S-90.14.2.0.dev1\\.\\testdata11\n",
      "copying .\\testdata11\\OneLPipe.mdb -> PT3S-90.14.2.0.dev1\\.\\testdata11\n",
      "copying .\\testdata11\\TinyWDN.XML -> PT3S-90.14.2.0.dev1\\.\\testdata11\n",
      "copying .\\testdata11\\TinyWDN.mdb -> PT3S-90.14.2.0.dev1\\.\\testdata11\n",
      "copying .\\testdata11\\WDDHNetwork\\B1\\V0\\BZ1\\M-1-0-1.1.MX1 -> PT3S-90.14.2.0.dev1\\.\\testdata11\\WDDHNetwork\\B1\\V0\\BZ1\n",
      "copying .\\testdata11\\WDDHNetwork\\B1\\V0\\BZ1\\M-1-0-1.MX2 -> PT3S-90.14.2.0.dev1\\.\\testdata11\\WDDHNetwork\\B1\\V0\\BZ1\n",
      "copying .\\testdata11\\WDGPipe\\B1\\V0\\BZ1\\M-1-0-1.1.MX1 -> PT3S-90.14.2.0.dev1\\.\\testdata11\\WDGPipe\\B1\\V0\\BZ1\n",
      "copying .\\testdata11\\WDGPipe\\B1\\V0\\BZ1\\M-1-0-1.1.MXS -> PT3S-90.14.2.0.dev1\\.\\testdata11\\WDGPipe\\B1\\V0\\BZ1\n",
      "copying .\\testdata11\\WDGPipe\\B1\\V0\\BZ1\\M-1-0-1.MX2 -> PT3S-90.14.2.0.dev1\\.\\testdata11\\WDGPipe\\B1\\V0\\BZ1\n",
      "copying .\\testdata11\\WDGPipes\\B1\\V0\\BZ1\\M-1-0-1.1.MX1 -> PT3S-90.14.2.0.dev1\\.\\testdata11\\WDGPipes\\B1\\V0\\BZ1\n",
      "copying .\\testdata11\\WDGPipes\\B1\\V0\\BZ1\\M-1-0-1.1.MXS -> PT3S-90.14.2.0.dev1\\.\\testdata11\\WDGPipes\\B1\\V0\\BZ1\n",
      "copying .\\testdata11\\WDGPipes\\B1\\V0\\BZ1\\M-1-0-1.MX2 -> PT3S-90.14.2.0.dev1\\.\\testdata11\\WDGPipes\\B1\\V0\\BZ1\n",
      "copying .\\testdata11\\WDLocalHeatingNetwork\\B1\\V0\\BZ1\\M-1-0-1.1.MX1 -> PT3S-90.14.2.0.dev1\\.\\testdata11\\WDLocalHeatingNetwork\\B1\\V0\\BZ1\n",
      "copying .\\testdata11\\WDLocalHeatingNetwork\\B1\\V0\\BZ1\\M-1-0-1.1.MXS -> PT3S-90.14.2.0.dev1\\.\\testdata11\\WDLocalHeatingNetwork\\B1\\V0\\BZ1\n",
      "copying .\\testdata11\\WDLocalHeatingNetwork\\B1\\V0\\BZ1\\M-1-0-1.MX2 -> PT3S-90.14.2.0.dev1\\.\\testdata11\\WDLocalHeatingNetwork\\B1\\V0\\BZ1\n",
      "copying .\\testdata11\\WDOneLPipe\\B1\\V0\\BZ1\\M-1-0-1.1.MX1 -> PT3S-90.14.2.0.dev1\\.\\testdata11\\WDOneLPipe\\B1\\V0\\BZ1\n",
      "copying .\\testdata11\\WDOneLPipe\\B1\\V0\\BZ1\\M-1-0-1.1.MXS -> PT3S-90.14.2.0.dev1\\.\\testdata11\\WDOneLPipe\\B1\\V0\\BZ1\n",
      "copying .\\testdata11\\WDOneLPipe\\B1\\V0\\BZ1\\M-1-0-1.MX2 -> PT3S-90.14.2.0.dev1\\.\\testdata11\\WDOneLPipe\\B1\\V0\\BZ1\n",
      "copying .\\testdata11\\WDTinyWDN\\B1\\V0\\BZ1\\M-1-0-1.1.MX1 -> PT3S-90.14.2.0.dev1\\.\\testdata11\\WDTinyWDN\\B1\\V0\\BZ1\n",
      "copying .\\testdata11\\WDTinyWDN\\B1\\V0\\BZ1\\M-1-0-1.1.MXS -> PT3S-90.14.2.0.dev1\\.\\testdata11\\WDTinyWDN\\B1\\V0\\BZ1\n",
      "copying .\\testdata11\\WDTinyWDN\\B1\\V0\\BZ1\\M-1-0-1.MX2 -> PT3S-90.14.2.0.dev1\\.\\testdata11\\WDTinyWDN\\B1\\V0\\BZ1\n",
      "copying .\\testdata\\WDDHNetwork\\B1\\V0\\BZ1\\GraphDecomp.log -> PT3S-90.14.2.0.dev1\\.\\testdata\\WDDHNetwork\\B1\\V0\\BZ1\n",
      "copying .\\testdata\\WDDHNetwork\\B1\\V0\\BZ1\\M-1-0-1.1.MX1 -> PT3S-90.14.2.0.dev1\\.\\testdata\\WDDHNetwork\\B1\\V0\\BZ1\n",
      "copying .\\testdata\\WDDHNetwork\\B1\\V0\\BZ1\\M-1-0-1.1.MXS -> PT3S-90.14.2.0.dev1\\.\\testdata\\WDDHNetwork\\B1\\V0\\BZ1\n",
      "copying .\\testdata\\WDDHNetwork\\B1\\V0\\BZ1\\M-1-0-1.MX2 -> PT3S-90.14.2.0.dev1\\.\\testdata\\WDDHNetwork\\B1\\V0\\BZ1\n",
      "copying .\\testdata\\WDGPipe\\B1\\V0\\BZ1\\M-1-0-1.1.MX1 -> PT3S-90.14.2.0.dev1\\.\\testdata\\WDGPipe\\B1\\V0\\BZ1\n",
      "copying .\\testdata\\WDGPipe\\B1\\V0\\BZ1\\M-1-0-1.1.MXS -> PT3S-90.14.2.0.dev1\\.\\testdata\\WDGPipe\\B1\\V0\\BZ1\n",
      "copying .\\testdata\\WDGPipe\\B1\\V0\\BZ1\\M-1-0-1.MX2 -> PT3S-90.14.2.0.dev1\\.\\testdata\\WDGPipe\\B1\\V0\\BZ1\n",
      "copying .\\testdata\\WDGPipes\\B1\\V0\\BZ1\\M-1-0-1.1.MX1 -> PT3S-90.14.2.0.dev1\\.\\testdata\\WDGPipes\\B1\\V0\\BZ1\n",
      "copying .\\testdata\\WDGPipes\\B1\\V0\\BZ1\\M-1-0-1.1.MXS -> PT3S-90.14.2.0.dev1\\.\\testdata\\WDGPipes\\B1\\V0\\BZ1\n",
      "copying .\\testdata\\WDGPipes\\B1\\V0\\BZ1\\M-1-0-1.MX2 -> PT3S-90.14.2.0.dev1\\.\\testdata\\WDGPipes\\B1\\V0\\BZ1\n",
      "copying .\\testdata\\WDLocalHeatingNetwork\\B1\\V0\\BZ1\\M-1-0-1.1.MX1 -> PT3S-90.14.2.0.dev1\\.\\testdata\\WDLocalHeatingNetwork\\B1\\V0\\BZ1\n",
      "copying .\\testdata\\WDLocalHeatingNetwork\\B1\\V0\\BZ1\\M-1-0-1.1.MXS -> PT3S-90.14.2.0.dev1\\.\\testdata\\WDLocalHeatingNetwork\\B1\\V0\\BZ1\n",
      "copying .\\testdata\\WDLocalHeatingNetwork\\B1\\V0\\BZ1\\M-1-0-1.MX2 -> PT3S-90.14.2.0.dev1\\.\\testdata\\WDLocalHeatingNetwork\\B1\\V0\\BZ1\n",
      "copying .\\testdata\\WDOneLPipe\\B1\\V0\\BZ1\\M-1-0-1.1.MX1 -> PT3S-90.14.2.0.dev1\\.\\testdata\\WDOneLPipe\\B1\\V0\\BZ1\n",
      "copying .\\testdata\\WDOneLPipe\\B1\\V0\\BZ1\\M-1-0-1.1.MXS -> PT3S-90.14.2.0.dev1\\.\\testdata\\WDOneLPipe\\B1\\V0\\BZ1\n",
      "copying .\\testdata\\WDOneLPipe\\B1\\V0\\BZ1\\M-1-0-1.MX2 -> PT3S-90.14.2.0.dev1\\.\\testdata\\WDOneLPipe\\B1\\V0\\BZ1\n",
      "copying .\\testdata\\WDTinyWDN\\B1\\V0\\BZ1\\M-1-0-1.1.MX1 -> PT3S-90.14.2.0.dev1\\.\\testdata\\WDTinyWDN\\B1\\V0\\BZ1\n",
      "copying .\\testdata\\WDTinyWDN\\B1\\V0\\BZ1\\M-1-0-1.1.MXS -> PT3S-90.14.2.0.dev1\\.\\testdata\\WDTinyWDN\\B1\\V0\\BZ1\n",
      "copying .\\testdata\\WDTinyWDN\\B1\\V0\\BZ1\\M-1-0-1.MX2 -> PT3S-90.14.2.0.dev1\\.\\testdata\\WDTinyWDN\\B1\\V0\\BZ1\n",
      "copying PT3S.egg-info\\PKG-INFO -> PT3S-90.14.2.0.dev1\\PT3S.egg-info\n",
      "copying PT3S.egg-info\\SOURCES.txt -> PT3S-90.14.2.0.dev1\\PT3S.egg-info\n",
      "copying PT3S.egg-info\\dependency_links.txt -> PT3S-90.14.2.0.dev1\\PT3S.egg-info\n",
      "copying PT3S.egg-info\\requires.txt -> PT3S-90.14.2.0.dev1\\PT3S.egg-info\n",
      "copying PT3S.egg-info\\top_level.txt -> PT3S-90.14.2.0.dev1\\PT3S.egg-info\n",
      "copying UTILS\\Db.py -> PT3S-90.14.2.0.dev1\\UTILS\n",
      "copying UTILS\\Xml.py -> PT3S-90.14.2.0.dev1\\UTILS\n",
      "copying UTILS\\__init__.py -> PT3S-90.14.2.0.dev1\\UTILS\n",
      "copying lds\\__init__.py -> PT3S-90.14.2.0.dev1\\lds\n",
      "copying lds\\rpts.py -> PT3S-90.14.2.0.dev1\\lds\n",
      "Writing PT3S-90.14.2.0.dev1\\setup.cfg\n",
      "Creating tar archive\n",
      "removing 'PT3S-90.14.2.0.dev1' (and everything under it)\n"
     ]
    }
   ],
   "source": [
    "!python setup.py clean sdist"
   ]
  },
  {
   "cell_type": "markdown",
   "metadata": {},
   "source": [
    "### Upload Version"
   ]
  },
  {
   "cell_type": "code",
   "execution_count": 17,
   "metadata": {
    "tags": []
   },
   "outputs": [
    {
     "name": "stdout",
     "output_type": "stream",
     "text": [
      "Uploading distributions to https://upload.pypi.org/legacy/\n",
      "INFO     dist\\PT3S-90.14.2.0.dev1.tar.gz (11.9 MB)                             \n",
      "INFO     username set by command options                                       \n",
      "INFO     password set by command options                                       \n",
      "INFO     username: PT3S                                                        \n",
      "INFO     password: <hidden>                                                    \n",
      "Uploading PT3S-90.14.2.0.dev1.tar.gz\n",
      "\n",
      "  0% ---------------------------------------- 0.0/12.5 MB • --:-- • ?\n",
      "  0% ---------------------------------------- 0.0/12.5 MB • --:-- • ?\n",
      "  0% ---------------------------------------- 0.0/12.5 MB • --:-- • ?\n",
      "  0% ---------------------------------------- 0.0/12.5 MB • --:-- • ?\n",
      "  0% ---------------------------------------- 0.0/12.5 MB • --:-- • ?\n",
      "  0% ---------------------------------------- 0.0/12.5 MB • --:-- • ?\n",
      "  0% ---------------------------------------- 0.0/12.5 MB • --:-- • ?\n",
      "  0% ---------------------------------------- 0.0/12.5 MB • --:-- • ?\n",
      "  0% ---------------------------------------- 0.0/12.5 MB • --:-- • ?\n",
      "  1% ---------------------------------------- 0.1/12.5 MB • --:-- • ?\n",
      "  1% ---------------------------------------- 0.1/12.5 MB • 00:22 • 577.6 kB/s\n",
      "  1% ---------------------------------------- 0.1/12.5 MB • 00:33 • 386.2 kB/s\n",
      "  1% ---------------------------------------- 0.1/12.5 MB • 00:35 • 357.2 kB/s\n",
      "  2%  --------------------------------------- 0.2/12.5 MB • 00:28 • 439.2 kB/s\n",
      "  3% - -------------------------------------- 0.4/12.5 MB • 00:19 • 664.6 kB/s\n",
      "  6% -- ------------------------------------- 0.8/12.5 MB • 00:12 • 1.0 MB/s\n",
      "  7% -- ------------------------------------- 0.9/12.5 MB • 00:11 • 1.1 MB/s\n",
      " 14% ----- ---------------------------------- 1.7/12.5 MB • 00:07 • 1.8 MB/s\n",
      " 24% --------- ------------------------------ 3.0/12.5 MB • 00:04 • 2.7 MB/s\n",
      " 27% ---------- ----------------------------- 3.4/12.5 MB • 00:04 • 2.8 MB/s\n",
      " 30% ------------ --------------------------- 3.8/12.5 MB • 00:04 • 2.9 MB/s\n",
      " 33% ------------- -------------------------- 4.2/12.5 MB • 00:03 • 2.9 MB/s\n",
      " 36% -------------- ------------------------- 4.5/12.5 MB • 00:03 • 3.0 MB/s\n",
      " 39% --------------- ------------------------ 4.9/12.5 MB • 00:03 • 3.0 MB/s\n",
      " 40% --------------- ------------------------ 5.0/12.5 MB • 00:03 • 3.0 MB/s\n",
      " 40% --------------- ------------------------ 5.0/12.5 MB • 00:03 • 3.0 MB/s\n",
      " 40% --------------- ------------------------ 5.0/12.5 MB • 00:03 • 3.0 MB/s\n",
      " 40% --------------- ------------------------ 5.0/12.5 MB • 00:03 • 3.0 MB/s\n",
      " 40% --------------- ------------------------ 5.0/12.5 MB • 00:03 • 3.0 MB/s\n",
      " 47% ------------------ --------------------- 5.8/12.5 MB • 00:03 • 2.6 MB/s\n",
      " 57% ---------------------- ----------------- 7.1/12.5 MB • 00:02 • 3.0 MB/s\n",
      " 58% ----------------------- ---------------- 7.3/12.5 MB • 00:02 • 2.9 MB/s\n",
      " 61% ------------------------ --------------- 7.6/12.5 MB • 00:02 • 2.9 MB/s\n",
      " 64% ------------------------- -------------- 8.0/12.5 MB • 00:02 • 2.9 MB/s\n",
      " 67% -------------------------- ------------- 8.4/12.5 MB • 00:02 • 3.7 MB/s\n",
      " 70% ---------------------------- ----------- 8.8/12.5 MB • 00:01 • 3.7 MB/s\n",
      " 73% ----------------------------- ---------- 9.2/12.5 MB • 00:01 • 3.8 MB/s\n",
      " 75% ----------------------------- ---------- 9.3/12.5 MB • 00:01 • 3.7 MB/s\n",
      " 75% ----------------------------- ---------- 9.3/12.5 MB • 00:01 • 3.7 MB/s\n",
      " 75% ----------------------------- ---------- 9.3/12.5 MB • 00:01 • 3.7 MB/s\n",
      " 81% -------------------------------- ------- 10.1/12.5 MB • 00:01 • 3.4 MB/s\n",
      " 85% --------------------------------- ------ 10.6/12.5 MB • 00:01 • 3.3 MB/s\n",
      " 89% ----------------------------------- ---- 11.2/12.5 MB • 00:01 • 3.1 MB/s\n",
      " 92% ------------------------------------ --- 11.5/12.5 MB • 00:01 • 3.1 MB/s\n",
      " 95% -------------------------------------- - 11.9/12.5 MB • 00:01 • 3.1 MB/s\n",
      " 99% ---------------------------------------  12.3/12.5 MB • 00:01 • 3.1 MB/s\n",
      "100% ---------------------------------------- 12.5/12.5 MB • 00:04 • 3.1 MB/s\n",
      "100% ---------------------------------------- 12.5/12.5 MB • 00:04 • 3.1 MB/s\n",
      "100% ---------------------------------------- 12.5/12.5 MB • 00:04 • 3.1 MB/s\n",
      "100% ---------------------------------------- 12.5/12.5 MB • 00:04 • 3.1 MB/s\n",
      "100% ---------------------------------------- 12.5/12.5 MB • 00:04 • 3.1 MB/s\n",
      "100% ---------------------------------------- 12.5/12.5 MB • 00:04 • 3.1 MB/s\n",
      "100% ---------------------------------------- 12.5/12.5 MB • 00:04 • 3.1 MB/s\n",
      "100% ---------------------------------------- 12.5/12.5 MB • 00:04 • 3.1 MB/s\n",
      "100% ---------------------------------------- 12.5/12.5 MB • 00:04 • 3.1 MB/s\n",
      "INFO     Response from https://upload.pypi.org/legacy/:                        \n",
      "         403 Username/Password authentication is no longer supported. Migrate  \n",
      "         to API Tokens or Trusted Publishers instead. See                      \n",
      "         https://pypi.org/help/#apitoken and                                   \n",
      "         https://pypi.org/help/#trusted-publishers                             \n",
      "INFO     <html>                                                                \n",
      "          <head>                                                               \n",
      "           <title>403 Username/Password authentication is no longer supported. \n",
      "         Migrate to API Tokens or Trusted Publishers instead. See              \n",
      "         https://pypi.org/help/#apitoken and                                   \n",
      "         https://pypi.org/help/#trusted-publishers</title>                     \n",
      "          </head>                                                              \n",
      "          <body>                                                               \n",
      "           <h1>403 Username/Password authentication is no longer supported.    \n",
      "         Migrate to API Tokens or Trusted Publishers instead. See              \n",
      "         https://pypi.org/help/#apitoken and                                   \n",
      "         https://pypi.org/help/#trusted-publishers</h1>                        \n",
      "           Access was denied to this resource.<br/><br/>                       \n",
      "                                                                               \n",
      "                                                                               \n",
      "                                                                               \n",
      "          </body>                                                              \n",
      "         </html>                                                               \n",
      "ERROR    HTTPError: 403 Forbidden from https://upload.pypi.org/legacy/         \n",
      "         Username/Password authentication is no longer supported. Migrate to   \n",
      "         API Tokens or Trusted Publishers instead. See                         \n",
      "         https://pypi.org/help/#apitoken and                                   \n",
      "         https://pypi.org/help/#trusted-publishers                             \n"
     ]
    }
   ],
   "source": [
    "twine upload -u __token__ -p pypi-Amd dist/* --verbose"
   ]
  },
  {
   "cell_type": "markdown",
   "metadata": {},
   "source": [
    "### Develop again (use local PT3S under Development)"
   ]
  },
  {
   "cell_type": "code",
   "execution_count": 1,
   "metadata": {
    "tags": []
   },
   "outputs": [
    {
     "name": "stdout",
     "output_type": "stream",
     "text": [
      "Obtaining file:///C:/Users/wolters/3S/PT3S\n",
      "  Preparing metadata (setup.py): started\n",
      "  Preparing metadata (setup.py): finished with status 'done'\n",
      "Requirement already satisfied: tables in c:\\users\\wolters\\appdata\\local\\anaconda3\\lib\\site-packages (from PT3S==90.14.7.0.dev1) (3.8.0)\n",
      "Requirement already satisfied: pandas in c:\\users\\wolters\\appdata\\local\\anaconda3\\lib\\site-packages (from PT3S==90.14.7.0.dev1) (2.0.3)\n",
      "Requirement already satisfied: numpy in c:\\users\\wolters\\appdata\\local\\anaconda3\\lib\\site-packages (from PT3S==90.14.7.0.dev1) (1.24.3)\n",
      "Requirement already satisfied: h5py in c:\\users\\wolters\\appdata\\local\\anaconda3\\lib\\site-packages (from PT3S==90.14.7.0.dev1) (3.9.0)\n",
      "Requirement already satisfied: pyodbc in c:\\users\\wolters\\appdata\\local\\anaconda3\\lib\\site-packages (from PT3S==90.14.7.0.dev1) (5.0.1)\n",
      "Requirement already satisfied: geopandas in c:\\users\\wolters\\appdata\\local\\anaconda3\\lib\\site-packages (from PT3S==90.14.7.0.dev1) (0.14.0)\n",
      "Requirement already satisfied: networkx in c:\\users\\wolters\\appdata\\local\\anaconda3\\lib\\site-packages (from PT3S==90.14.7.0.dev1) (3.1)\n",
      "Requirement already satisfied: shapely in c:\\users\\wolters\\appdata\\local\\anaconda3\\lib\\site-packages (from PT3S==90.14.7.0.dev1) (2.0.2)\n",
      "Requirement already satisfied: contextily in c:\\users\\wolters\\appdata\\local\\anaconda3\\lib\\site-packages (from PT3S==90.14.7.0.dev1) (1.4.0)\n",
      "Requirement already satisfied: py7zr in c:\\users\\wolters\\appdata\\local\\anaconda3\\lib\\site-packages (from PT3S==90.14.7.0.dev1) (0.20.6)\n",
      "Requirement already satisfied: folium in c:\\users\\wolters\\appdata\\local\\anaconda3\\lib\\site-packages (from PT3S==90.14.7.0.dev1) (0.14.0)\n",
      "Requirement already satisfied: mapclassify in c:\\users\\wolters\\appdata\\local\\anaconda3\\lib\\site-packages (from PT3S==90.14.7.0.dev1) (2.6.1)\n",
      "Requirement already satisfied: geopy in c:\\users\\wolters\\appdata\\local\\anaconda3\\lib\\site-packages (from contextily->PT3S==90.14.7.0.dev1) (2.4.0)\n",
      "Requirement already satisfied: matplotlib in c:\\users\\wolters\\appdata\\local\\anaconda3\\lib\\site-packages (from contextily->PT3S==90.14.7.0.dev1) (3.7.2)\n",
      "Requirement already satisfied: mercantile in c:\\users\\wolters\\appdata\\local\\anaconda3\\lib\\site-packages (from contextily->PT3S==90.14.7.0.dev1) (1.2.1)\n",
      "Requirement already satisfied: pillow in c:\\users\\wolters\\appdata\\local\\anaconda3\\lib\\site-packages (from contextily->PT3S==90.14.7.0.dev1) (10.2.0)\n",
      "Requirement already satisfied: rasterio in c:\\users\\wolters\\appdata\\local\\anaconda3\\lib\\site-packages (from contextily->PT3S==90.14.7.0.dev1) (1.3.9)\n",
      "Requirement already satisfied: requests in c:\\users\\wolters\\appdata\\local\\anaconda3\\lib\\site-packages (from contextily->PT3S==90.14.7.0.dev1) (2.31.0)\n",
      "Requirement already satisfied: joblib in c:\\users\\wolters\\appdata\\local\\anaconda3\\lib\\site-packages (from contextily->PT3S==90.14.7.0.dev1) (1.2.0)\n",
      "Requirement already satisfied: xyzservices in c:\\users\\wolters\\appdata\\local\\anaconda3\\lib\\site-packages (from contextily->PT3S==90.14.7.0.dev1) (2023.10.1)\n",
      "Requirement already satisfied: branca>=0.6.0 in c:\\users\\wolters\\appdata\\local\\anaconda3\\lib\\site-packages (from folium->PT3S==90.14.7.0.dev1) (0.6.0)\n",
      "Requirement already satisfied: jinja2>=2.9 in c:\\users\\wolters\\appdata\\local\\anaconda3\\lib\\site-packages (from folium->PT3S==90.14.7.0.dev1) (3.1.2)\n",
      "Requirement already satisfied: fiona>=1.8.21 in c:\\users\\wolters\\appdata\\local\\anaconda3\\lib\\site-packages (from geopandas->PT3S==90.14.7.0.dev1) (1.9.5)\n",
      "Requirement already satisfied: packaging in c:\\users\\wolters\\appdata\\local\\anaconda3\\lib\\site-packages (from geopandas->PT3S==90.14.7.0.dev1) (23.1)\n",
      "Requirement already satisfied: pyproj>=3.3.0 in c:\\users\\wolters\\appdata\\local\\anaconda3\\lib\\site-packages (from geopandas->PT3S==90.14.7.0.dev1) (3.6.1)\n",
      "Requirement already satisfied: python-dateutil>=2.8.2 in c:\\users\\wolters\\appdata\\local\\anaconda3\\lib\\site-packages (from pandas->PT3S==90.14.7.0.dev1) (2.8.2)\n",
      "Requirement already satisfied: pytz>=2020.1 in c:\\users\\wolters\\appdata\\local\\anaconda3\\lib\\site-packages (from pandas->PT3S==90.14.7.0.dev1) (2023.3.post1)\n",
      "Requirement already satisfied: tzdata>=2022.1 in c:\\users\\wolters\\appdata\\local\\anaconda3\\lib\\site-packages (from pandas->PT3S==90.14.7.0.dev1) (2023.4)\n",
      "Requirement already satisfied: scikit-learn>=1.0 in c:\\users\\wolters\\appdata\\local\\anaconda3\\lib\\site-packages (from mapclassify->PT3S==90.14.7.0.dev1) (1.3.0)\n",
      "Requirement already satisfied: scipy>=1.8 in c:\\users\\wolters\\appdata\\local\\anaconda3\\lib\\site-packages (from mapclassify->PT3S==90.14.7.0.dev1) (1.11.1)\n",
      "Requirement already satisfied: texttable in c:\\users\\wolters\\appdata\\local\\anaconda3\\lib\\site-packages (from py7zr->PT3S==90.14.7.0.dev1) (1.7.0)\n",
      "Requirement already satisfied: pycryptodomex>=3.6.6 in c:\\users\\wolters\\appdata\\local\\anaconda3\\lib\\site-packages (from py7zr->PT3S==90.14.7.0.dev1) (3.20.0)\n",
      "Requirement already satisfied: pyzstd>=0.14.4 in c:\\users\\wolters\\appdata\\local\\anaconda3\\lib\\site-packages (from py7zr->PT3S==90.14.7.0.dev1) (0.15.9)\n",
      "Requirement already satisfied: pyppmd<1.1.0,>=0.18.1 in c:\\users\\wolters\\appdata\\local\\anaconda3\\lib\\site-packages (from py7zr->PT3S==90.14.7.0.dev1) (1.0.0)\n",
      "Requirement already satisfied: pybcj>=0.6.0 in c:\\users\\wolters\\appdata\\local\\anaconda3\\lib\\site-packages (from py7zr->PT3S==90.14.7.0.dev1) (1.0.2)\n",
      "Requirement already satisfied: multivolumefile>=0.2.3 in c:\\users\\wolters\\appdata\\local\\anaconda3\\lib\\site-packages (from py7zr->PT3S==90.14.7.0.dev1) (0.2.3)\n",
      "Requirement already satisfied: brotli>=1.0.9 in c:\\users\\wolters\\appdata\\local\\anaconda3\\lib\\site-packages (from py7zr->PT3S==90.14.7.0.dev1) (1.1.0)\n",
      "Requirement already satisfied: inflate64>=0.3.1 in c:\\users\\wolters\\appdata\\local\\anaconda3\\lib\\site-packages (from py7zr->PT3S==90.14.7.0.dev1) (0.3.1)\n",
      "Requirement already satisfied: psutil in c:\\users\\wolters\\appdata\\local\\anaconda3\\lib\\site-packages (from py7zr->PT3S==90.14.7.0.dev1) (5.9.7)\n",
      "Requirement already satisfied: cython>=0.29.21 in c:\\users\\wolters\\appdata\\local\\anaconda3\\lib\\site-packages (from tables->PT3S==90.14.7.0.dev1) (3.0.4)\n",
      "Requirement already satisfied: numexpr>=2.6.2 in c:\\users\\wolters\\appdata\\local\\anaconda3\\lib\\site-packages (from tables->PT3S==90.14.7.0.dev1) (2.8.4)\n",
      "Requirement already satisfied: blosc2~=2.0.0 in c:\\users\\wolters\\appdata\\local\\anaconda3\\lib\\site-packages (from tables->PT3S==90.14.7.0.dev1) (2.0.0)\n",
      "Requirement already satisfied: py-cpuinfo in c:\\users\\wolters\\appdata\\local\\anaconda3\\lib\\site-packages (from tables->PT3S==90.14.7.0.dev1) (9.0.0)\n",
      "Requirement already satisfied: msgpack in c:\\users\\wolters\\appdata\\local\\anaconda3\\lib\\site-packages (from blosc2~=2.0.0->tables->PT3S==90.14.7.0.dev1) (1.0.3)\n",
      "Requirement already satisfied: attrs>=19.2.0 in c:\\users\\wolters\\appdata\\local\\anaconda3\\lib\\site-packages (from fiona>=1.8.21->geopandas->PT3S==90.14.7.0.dev1) (22.1.0)\n",
      "Requirement already satisfied: certifi in c:\\users\\wolters\\appdata\\local\\anaconda3\\lib\\site-packages (from fiona>=1.8.21->geopandas->PT3S==90.14.7.0.dev1) (2023.7.22)\n",
      "Requirement already satisfied: click~=8.0 in c:\\users\\wolters\\appdata\\local\\anaconda3\\lib\\site-packages (from fiona>=1.8.21->geopandas->PT3S==90.14.7.0.dev1) (8.0.4)\n",
      "Requirement already satisfied: click-plugins>=1.0 in c:\\users\\wolters\\appdata\\local\\anaconda3\\lib\\site-packages (from fiona>=1.8.21->geopandas->PT3S==90.14.7.0.dev1) (1.1.1)\n",
      "Requirement already satisfied: cligj>=0.5 in c:\\users\\wolters\\appdata\\local\\anaconda3\\lib\\site-packages (from fiona>=1.8.21->geopandas->PT3S==90.14.7.0.dev1) (0.7.2)\n",
      "Requirement already satisfied: six in c:\\users\\wolters\\appdata\\local\\anaconda3\\lib\\site-packages (from fiona>=1.8.21->geopandas->PT3S==90.14.7.0.dev1) (1.16.0)\n",
      "Requirement already satisfied: setuptools in c:\\users\\wolters\\appdata\\local\\anaconda3\\lib\\site-packages (from fiona>=1.8.21->geopandas->PT3S==90.14.7.0.dev1) (69.0.3)\n",
      "Requirement already satisfied: MarkupSafe>=2.0 in c:\\users\\wolters\\appdata\\local\\anaconda3\\lib\\site-packages (from jinja2>=2.9->folium->PT3S==90.14.7.0.dev1) (2.1.1)\n",
      "Requirement already satisfied: threadpoolctl>=2.0.0 in c:\\users\\wolters\\appdata\\local\\anaconda3\\lib\\site-packages (from scikit-learn>=1.0->mapclassify->PT3S==90.14.7.0.dev1) (3.2.0)\n",
      "Requirement already satisfied: geographiclib<3,>=1.52 in c:\\users\\wolters\\appdata\\local\\anaconda3\\lib\\site-packages (from geopy->contextily->PT3S==90.14.7.0.dev1) (2.0)\n",
      "Requirement already satisfied: contourpy>=1.0.1 in c:\\users\\wolters\\appdata\\local\\anaconda3\\lib\\site-packages (from matplotlib->contextily->PT3S==90.14.7.0.dev1) (1.0.5)\n",
      "Requirement already satisfied: cycler>=0.10 in c:\\users\\wolters\\appdata\\local\\anaconda3\\lib\\site-packages (from matplotlib->contextily->PT3S==90.14.7.0.dev1) (0.11.0)\n",
      "Requirement already satisfied: fonttools>=4.22.0 in c:\\users\\wolters\\appdata\\local\\anaconda3\\lib\\site-packages (from matplotlib->contextily->PT3S==90.14.7.0.dev1) (4.25.0)\n",
      "Requirement already satisfied: kiwisolver>=1.0.1 in c:\\users\\wolters\\appdata\\local\\anaconda3\\lib\\site-packages (from matplotlib->contextily->PT3S==90.14.7.0.dev1) (1.4.4)\n",
      "Requirement already satisfied: pyparsing<3.1,>=2.3.1 in c:\\users\\wolters\\appdata\\local\\anaconda3\\lib\\site-packages (from matplotlib->contextily->PT3S==90.14.7.0.dev1) (3.0.9)\n",
      "Requirement already satisfied: affine in c:\\users\\wolters\\appdata\\local\\anaconda3\\lib\\site-packages (from rasterio->contextily->PT3S==90.14.7.0.dev1) (2.4.0)\n",
      "Requirement already satisfied: snuggs>=1.4.1 in c:\\users\\wolters\\appdata\\local\\anaconda3\\lib\\site-packages (from rasterio->contextily->PT3S==90.14.7.0.dev1) (1.4.7)\n",
      "Requirement already satisfied: charset-normalizer<4,>=2 in c:\\users\\wolters\\appdata\\local\\anaconda3\\lib\\site-packages (from requests->contextily->PT3S==90.14.7.0.dev1) (2.0.4)\n",
      "Requirement already satisfied: idna<4,>=2.5 in c:\\users\\wolters\\appdata\\local\\anaconda3\\lib\\site-packages (from requests->contextily->PT3S==90.14.7.0.dev1) (3.4)\n",
      "Requirement already satisfied: urllib3<3,>=1.21.1 in c:\\users\\wolters\\appdata\\local\\anaconda3\\lib\\site-packages (from requests->contextily->PT3S==90.14.7.0.dev1) (2.1.0)\n",
      "Requirement already satisfied: colorama in c:\\users\\wolters\\appdata\\local\\anaconda3\\lib\\site-packages (from click~=8.0->fiona>=1.8.21->geopandas->PT3S==90.14.7.0.dev1) (0.4.6)\n",
      "Installing collected packages: PT3S\n",
      "  Attempting uninstall: PT3S\n",
      "    Found existing installation: PT3S 90.14.5.0.dev1\n",
      "    Uninstalling PT3S-90.14.5.0.dev1:\n",
      "      Successfully uninstalled PT3S-90.14.5.0.dev1\n",
      "  Running setup.py develop for PT3S\n",
      "Successfully installed PT3S-90.14.7.0.dev1\n"
     ]
    }
   ],
   "source": [
    "!pip install -e ."
   ]
  },
  {
   "cell_type": "markdown",
   "metadata": {},
   "source": [
    "## Repository: https://github.com/aw3s/PT3S.git"
   ]
  },
  {
   "cell_type": "code",
   "execution_count": null,
   "metadata": {},
   "outputs": [],
   "source": [
    "1/0"
   ]
  },
  {
   "cell_type": "markdown",
   "metadata": {},
   "source": [
    "### Git Download"
   ]
  },
  {
   "cell_type": "code",
   "execution_count": null,
   "metadata": {},
   "outputs": [],
   "source": [
    "# https://git-scm.com/downloads"
   ]
  },
  {
   "cell_type": "markdown",
   "metadata": {},
   "source": [
    "### Git User"
   ]
  },
  {
   "cell_type": "code",
   "execution_count": null,
   "metadata": {},
   "outputs": [],
   "source": [
    "!git config --global user.name \"Username\""
   ]
  },
  {
   "cell_type": "code",
   "execution_count": null,
   "metadata": {},
   "outputs": [],
   "source": [
    "!git config --global user.email \"E-Mail“"
   ]
  },
  {
   "cell_type": "markdown",
   "metadata": {},
   "source": [
    "### Git clone"
   ]
  },
  {
   "cell_type": "code",
   "execution_count": null,
   "metadata": {},
   "outputs": [],
   "source": [
    "!git clone https://github.com/aw3s/PT3S"
   ]
  },
  {
   "cell_type": "markdown",
   "metadata": {},
   "source": [
    "### Git 2 local "
   ]
  },
  {
   "cell_type": "code",
   "execution_count": null,
   "metadata": {},
   "outputs": [],
   "source": [
    "!git fetch origin"
   ]
  },
  {
   "cell_type": "code",
   "execution_count": null,
   "metadata": {},
   "outputs": [],
   "source": [
    "!git merge origin/master"
   ]
  },
  {
   "cell_type": "markdown",
   "metadata": {},
   "source": [
    "### local 2 Git"
   ]
  },
  {
   "cell_type": "code",
   "execution_count": null,
   "metadata": {},
   "outputs": [],
   "source": [
    "!git add ."
   ]
  },
  {
   "cell_type": "code",
   "execution_count": null,
   "metadata": {},
   "outputs": [],
   "source": [
    "!git commit -m \"Commitname\""
   ]
  },
  {
   "cell_type": "code",
   "execution_count": null,
   "metadata": {},
   "outputs": [],
   "source": [
    "!git push origin master"
   ]
  }
 ],
 "metadata": {
  "anaconda-cloud": {},
  "kernelspec": {
   "display_name": "Python 3 (ipykernel)",
   "language": "python",
   "name": "python3"
  },
  "language_info": {
   "codemirror_mode": {
    "name": "ipython",
    "version": 3
   },
   "file_extension": ".py",
   "mimetype": "text/x-python",
   "name": "python",
   "nbconvert_exporter": "python",
   "pygments_lexer": "ipython3",
   "version": "3.11.5"
  },
  "toc-autonumbering": true,
  "toc-showcode": false,
  "toc-showmarkdowntxt": false
 },
 "nbformat": 4,
 "nbformat_minor": 4
}
