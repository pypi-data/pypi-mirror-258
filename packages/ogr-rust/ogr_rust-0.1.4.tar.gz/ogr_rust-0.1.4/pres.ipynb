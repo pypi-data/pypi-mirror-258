{
 "cells": [
  {
   "cell_type": "code",
   "execution_count": 1,
   "metadata": {},
   "outputs": [],
   "source": [
    "import ogr_rust as ogr"
   ]
  },
  {
   "cell_type": "code",
   "execution_count": 7,
   "metadata": {},
   "outputs": [
    {
     "name": "stdout",
     "output_type": "stream",
     "text": [
      "[[0, 2], [0, 3], [0, 4], [0, 5], [0, 6], [0, 7], [0, 8], [0, 9], [0, 10]]\n",
      "<class 'builtins.GolombRuler'>\n"
     ]
    }
   ],
   "source": [
    "rulers = ogr.enumerate_golomb_rulers(2, 10);\n",
    "print(rulers)\n",
    "print(type(rulers[0]))"
   ]
  },
  {
   "cell_type": "code",
   "execution_count": 20,
   "metadata": {},
   "outputs": [
    {
     "name": "stdout",
     "output_type": "stream",
     "text": [
      "[1292] [0, 3, 4, 9, 11]\n",
      "[False, False, True, True, False, False, False, False, True, False]\n",
      "[1602] [0, 2, 7, 10, 11]\n",
      "[False, True, False, False, False, False, True, False, False, True]\n",
      "[1218] [0, 2, 7, 8, 11]\n",
      "[False, True, False, False, False, False, True, True, False, False]\n",
      "[1289] [0, 1, 4, 9, 11]\n",
      "[True, False, False, True, False, False, False, False, True, False]\n"
     ]
    }
   ],
   "source": [
    "rulers = ogr.enumerate_golomb_rulers(5, 11);\n",
    "for r in rulers:\n",
    "    print(f\"[{r.to_id():03}] {r}\")\n",
    "    print(r.to_state())"
   ]
  }
 ],
 "metadata": {
  "kernelspec": {
   "display_name": "ogr",
   "language": "python",
   "name": "python3"
  },
  "language_info": {
   "codemirror_mode": {
    "name": "ipython",
    "version": 3
   },
   "file_extension": ".py",
   "mimetype": "text/x-python",
   "name": "python",
   "nbconvert_exporter": "python",
   "pygments_lexer": "ipython3",
   "version": "3.11.7"
  }
 },
 "nbformat": 4,
 "nbformat_minor": 2
}
