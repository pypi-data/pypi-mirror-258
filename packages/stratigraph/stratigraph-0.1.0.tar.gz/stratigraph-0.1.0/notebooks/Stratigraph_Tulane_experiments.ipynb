{
 "cells": [
  {
   "cell_type": "code",
   "execution_count": 3,
   "id": "e6b20616",
   "metadata": {},
   "outputs": [],
   "source": [
    "import stratigraph as sg\n",
    "from mayavi import mlab\n",
    "import matplotlib.pyplot as plt\n",
    "import numpy as np\n",
    "import h5py\n",
    "from tqdm import trange\n",
    "import scipy.io as sio\n",
    "from PIL import ImageFont\n",
    "from PIL import ImageDraw \n",
    "import matplotlib as mpl\n",
    "from matplotlib.colors import ListedColormap\n",
    "from matplotlib import gridspec\n",
    "\n",
    "# set up graphics:\n",
    "%matplotlib qt\n",
    "plt.rcParams['svg.fonttype'] = 'none'"
   ]
  },
  {
   "cell_type": "markdown",
   "id": "9b5be47c",
   "metadata": {},
   "source": [
    "## TDWB-17-1\n",
    "### Load data\n",
    "\n",
    "The TDWB-17-1 data are available from [this Zenodo repository](https://zenodo.org/records/10583965). The original data, including many other items in addition to the surfaces, can be found here:\n",
    "\n",
    "[Straub, K.M., 2019, TDWB_17_1, SEAD, DOI: 10.26009/S0FCQNQR](http://sead-published.ncsa.illinois.edu/seadrepository/api/researchobjects/urn:uuid:5d628abfe4b011c83f66a7af)."
   ]
  },
  {
   "cell_type": "code",
   "execution_count": 5,
   "id": "8aa5c9eb",
   "metadata": {},
   "outputs": [
    {
     "data": {
      "text/plain": [
       "dict_keys(['__header__', '__version__', '__globals__', 'Zdata'])"
      ]
     },
     "execution_count": 5,
     "metadata": {},
     "output_type": "execute_result"
    }
   ],
   "source": [
    "# tdwb_17 = sio.loadmat('Zdata_TDWB_17_1.mat')\n",
    "tdwb_17 = sio.loadmat('/Users/zoltan/Dropbox/Chronostratigraphy/Tulane/Zdata_TDWB_17_1.mat')\n",
    "tdwb_17.keys()"
   ]
  },
  {
   "cell_type": "code",
   "execution_count": 8,
   "id": "0a039cf0",
   "metadata": {},
   "outputs": [
    {
     "data": {
      "text/html": [
       "<div>\n",
       "<style scoped>\n",
       "    .dataframe tbody tr th:only-of-type {\n",
       "        vertical-align: middle;\n",
       "    }\n",
       "\n",
       "    .dataframe tbody tr th {\n",
       "        vertical-align: top;\n",
       "    }\n",
       "\n",
       "    .dataframe thead th {\n",
       "        text-align: right;\n",
       "    }\n",
       "</style>\n",
       "<table border=\"1\" class=\"dataframe\">\n",
       "  <thead>\n",
       "    <tr style=\"text-align: right;\">\n",
       "      <th></th>\n",
       "      <th>Date</th>\n",
       "      <th>Time</th>\n",
       "      <th>RunTime (days)</th>\n",
       "      <th>Run/Paused</th>\n",
       "      <th>OcnZ</th>\n",
       "      <th>TargetOcnZ</th>\n",
       "      <th>WeirZ</th>\n",
       "      <th>Qsed</th>\n",
       "      <th>Qin</th>\n",
       "      <th>Qin On/Off</th>\n",
       "      <th>Qaux On/Off</th>\n",
       "      <th>Unnamed: 11</th>\n",
       "      <th>Unnamed: 12</th>\n",
       "    </tr>\n",
       "  </thead>\n",
       "  <tbody>\n",
       "    <tr>\n",
       "      <th>0</th>\n",
       "      <td>7/6/17</td>\n",
       "      <td>9:02:56</td>\n",
       "      <td>0.00000</td>\n",
       "      <td>R</td>\n",
       "      <td>-1157.1</td>\n",
       "      <td>-1160.0</td>\n",
       "      <td>-1.0</td>\n",
       "      <td>166.797</td>\n",
       "      <td>2.818</td>\n",
       "      <td>24</td>\n",
       "      <td>ON</td>\n",
       "      <td>OFF</td>\n",
       "      <td>NaN</td>\n",
       "    </tr>\n",
       "    <tr>\n",
       "      <th>1</th>\n",
       "      <td>7/6/17</td>\n",
       "      <td>9:03:57</td>\n",
       "      <td>0.00071</td>\n",
       "      <td>R</td>\n",
       "      <td>-1156.8</td>\n",
       "      <td>-1160.0</td>\n",
       "      <td>-1.0</td>\n",
       "      <td>265.494</td>\n",
       "      <td>2.818</td>\n",
       "      <td>24</td>\n",
       "      <td>ON</td>\n",
       "      <td>OFF</td>\n",
       "      <td>NaN</td>\n",
       "    </tr>\n",
       "    <tr>\n",
       "      <th>2</th>\n",
       "      <td>7/6/17</td>\n",
       "      <td>9:04:49</td>\n",
       "      <td>0.00131</td>\n",
       "      <td>P</td>\n",
       "      <td>-1156.1</td>\n",
       "      <td>-1160.0</td>\n",
       "      <td>-1.0</td>\n",
       "      <td>256.590</td>\n",
       "      <td>2.818</td>\n",
       "      <td>24</td>\n",
       "      <td>OFF</td>\n",
       "      <td>OFF</td>\n",
       "      <td>NaN</td>\n",
       "    </tr>\n",
       "    <tr>\n",
       "      <th>3</th>\n",
       "      <td>7/6/17</td>\n",
       "      <td>9:06:37</td>\n",
       "      <td>0.00133</td>\n",
       "      <td>P</td>\n",
       "      <td>-1156.9</td>\n",
       "      <td>-1160.0</td>\n",
       "      <td>-1.0</td>\n",
       "      <td>147.897</td>\n",
       "      <td>2.818</td>\n",
       "      <td>24</td>\n",
       "      <td>OFF</td>\n",
       "      <td>OFF</td>\n",
       "      <td>NaN</td>\n",
       "    </tr>\n",
       "    <tr>\n",
       "      <th>4</th>\n",
       "      <td>7/6/17</td>\n",
       "      <td>9:06:42</td>\n",
       "      <td>0.00133</td>\n",
       "      <td>P</td>\n",
       "      <td>-1156.9</td>\n",
       "      <td>-1160.0</td>\n",
       "      <td>-1.0</td>\n",
       "      <td>151.500</td>\n",
       "      <td>2.818</td>\n",
       "      <td>24</td>\n",
       "      <td>OFF</td>\n",
       "      <td>OFF</td>\n",
       "      <td>NaN</td>\n",
       "    </tr>\n",
       "  </tbody>\n",
       "</table>\n",
       "</div>"
      ],
      "text/plain": [
       "     Date     Time  RunTime (days) Run/Paused    OcnZ  TargetOcnZ  WeirZ  \\\n",
       "0  7/6/17  9:02:56         0.00000          R -1157.1     -1160.0   -1.0   \n",
       "1  7/6/17  9:03:57         0.00071          R -1156.8     -1160.0   -1.0   \n",
       "2  7/6/17  9:04:49         0.00131          P -1156.1     -1160.0   -1.0   \n",
       "3  7/6/17  9:06:37         0.00133          P -1156.9     -1160.0   -1.0   \n",
       "4  7/6/17  9:06:42         0.00133          P -1156.9     -1160.0   -1.0   \n",
       "\n",
       "      Qsed    Qin Qin On/Off Qaux On/Off Unnamed: 11 Unnamed: 12  \n",
       "0  166.797  2.818         24          ON         OFF         NaN  \n",
       "1  265.494  2.818         24          ON         OFF         NaN  \n",
       "2  256.590  2.818         24         OFF         OFF         NaN  \n",
       "3  147.897  2.818         24         OFF         OFF         NaN  \n",
       "4  151.500  2.818         24         OFF         OFF         NaN  "
      ]
     },
     "execution_count": 8,
     "metadata": {},
     "output_type": "execute_result"
    }
   ],
   "source": [
    "import pandas as pd\n",
    "df = pd.read_csv('../data/TDWB_17_1_Subside.csv')\n",
    "df.head()"
   ]
  },
  {
   "cell_type": "markdown",
   "id": "2b0ba8e4",
   "metadata": {},
   "source": [
    "### Preprocess data"
   ]
  },
  {
   "cell_type": "code",
   "execution_count": 9,
   "id": "477c9cbe",
   "metadata": {},
   "outputs": [],
   "source": [
    "topo = tdwb_17['Zdata'].copy()\n",
    "topo[topo > -1050] = -1050\n",
    "topo[np.isnan(topo) == 1] = -1050\n",
    "\n",
    "# adjust topographic and subsidence surfaces in the proximal corners (for aestethic reasons only)\n",
    "inds = np.indices(np.shape(topo[:,:,0]))\n",
    "inds2 = np.argwhere(inds[0] < -0.65*inds[1] + 148)\n",
    "inds3 = np.argwhere(inds[0] > 0.58*inds[1] + 360)\n",
    "for i in range(np.shape(topo)[2]):\n",
    "    topo[:, :, i][inds2[:,0], inds2[:,1]] = -1075\n",
    "    topo[:, :, i][inds3[:,0], inds3[:,1]] = -1075\n",
    "    \n",
    "# smooth the topographic surfaces a bit\n",
    "for i in range(topo.shape[2]):\n",
    "    topo[:,:,i] = sg.sgolay2d(topo[:,:,i], 5, 3)"
   ]
  },
  {
   "cell_type": "code",
   "execution_count": 10,
   "id": "0b61d10b",
   "metadata": {},
   "outputs": [
    {
     "data": {
      "text/plain": [
       "[<matplotlib.lines.Line2D at 0x2ce6fda50>]"
      ]
     },
     "execution_count": 10,
     "metadata": {},
     "output_type": "execute_result"
    }
   ],
   "source": [
    "scan_times  = np.arange(0, np.max(df['RunTime (days)'])+0.1, 0.125) # scan times in days\n",
    "\n",
    "days = df['RunTime (days)'].values\n",
    "sl = df['TargetOcnZ'].values\n",
    "\n",
    "inds = np.hstack((0, np.where(np.diff(days) > 0)[0]+1))\n",
    "\n",
    "days = days[inds]\n",
    "sl = sl[inds]\n",
    "\n",
    "from scipy.interpolate import interp1d\n",
    "\n",
    "# Create an interp1d object\n",
    "f = interp1d(days, sl, kind='cubic')\n",
    "\n",
    "# Get the y values at some new values of x\n",
    "sea_level = f(scan_times)\n",
    "\n",
    "# Plot the data and the interpolated function\n",
    "plt.figure()\n",
    "plt.plot(df['RunTime (days)'], df['TargetOcnZ'])\n",
    "plt.plot(scan_times, sea_level, 'o');"
   ]
  },
  {
   "cell_type": "markdown",
   "id": "acaee1bd",
   "metadata": {},
   "source": [
    "### Figure 1: Time-elevation (Barrell) plot example"
   ]
  },
  {
   "cell_type": "code",
   "execution_count": 11,
   "id": "bc4be979",
   "metadata": {},
   "outputs": [],
   "source": [
    "row = 251\n",
    "col = 47\n",
    "res = 0.5\n",
    "elevation = topo[row, col, :].copy()\n",
    "fig, dve_data, duration_thickness_data, ts_labels, strat_tops, strat_top_inds, bound_inds, interval_labels \\\n",
    "      = sg.plot_strat_diagram(elevation, 'mm', scan_times, 'days', res, \n",
    "            np.max(elevation), np.max(scan_times), plotting=True, plot_raw_data=True)"
   ]
  },
  {
   "cell_type": "code",
   "execution_count": 128,
   "id": "ff3c09a0",
   "metadata": {},
   "outputs": [],
   "source": [
    "# create animation\n",
    "for i in range(2, len(elevation)+1):\n",
    "    fig, dve_data, duration_thickness_data, ts_labels, strat_tops, strat_top_inds, bound_inds, interval_labels \\\n",
    "            = sg.plot_strat_diagram(elevation[:i], 'mm', scan_times[:i], 'days', res, np.max(elevation), \n",
    "                            np.max(scan_times), plotting=True, plot_raw_data=True)\n",
    "    fname = '/Users/zoltan/Dropbox/Chronostratigraphy/movie_frames/TDWB_17_Barrell_plot_1_' + '%03d.png'%(i-1)\n",
    "    fig.savefig(fname, dpi=300)\n",
    "    plt.close('all')"
   ]
  },
  {
   "cell_type": "code",
   "execution_count": 162,
   "id": "fc84c062",
   "metadata": {},
   "outputs": [],
   "source": [
    "# create animation\n",
    "for i in range(10, 923, 10):\n",
    "    elevation = topo[row, i, :].copy()\n",
    "    fig, dve_data, duration_thickness_data, ts_labels, strat_tops, strat_top_inds, bound_inds, interval_labels \\\n",
    "            = sg.plot_strat_diagram(elevation, 'mm', scan_times, 'days', res, np.min(elevation), np.min(elevation)+200, \n",
    "                            np.max(scan_times), plotting=True, plot_raw_data=True)\n",
    "    fname = '/Users/zoltan/Dropbox/Chronostratigraphy/movie_frames/TDWB_17_Barrell_plot_step_through_' + '%03d.png'%(i//10)\n",
    "    fig.savefig(fname, dpi=300)\n",
    "    plt.close('all')"
   ]
  },
  {
   "cell_type": "code",
   "execution_count": 178,
   "id": "863718e4",
   "metadata": {},
   "outputs": [],
   "source": [
    "for i in range(10, 923, 10):\n",
    "    fig = plt.figure()\n",
    "    plt.imshow(topo[:,:,-1], cmap = cmocean.cm.deep_r)\n",
    "    plt.contour(topo[:,:,-1], colors='k', levels=100, linestyles='solid', linewidths=0.5)\n",
    "    plt.xticks([])\n",
    "    plt.yticks([])\n",
    "    plt.plot(i, row, 'ro', markersize=10)\n",
    "    fname = '/Users/zoltan/Dropbox/Chronostratigraphy/movie_frames/TDWB_17_Barrell_plot_step_through_map_' + '%03d.png'%(i//10)\n",
    "    fig.savefig(fname, dpi=300)\n",
    "    plt.close('all')"
   ]
  },
  {
   "cell_type": "markdown",
   "id": "9b679969",
   "metadata": {},
   "source": [
    "### Create Wheeler diagram"
   ]
  },
  {
   "cell_type": "code",
   "execution_count": 12,
   "id": "fa6e83e2",
   "metadata": {},
   "outputs": [],
   "source": [
    "strat, wheeler, wheeler_strat, vacuity = sg.create_wheeler_diagram(topo, 0.5)"
   ]
  },
  {
   "cell_type": "markdown",
   "id": "49ff7350",
   "metadata": {},
   "source": [
    "### Create 3D facies array"
   ]
  },
  {
   "cell_type": "code",
   "execution_count": 13,
   "id": "089f3593",
   "metadata": {},
   "outputs": [],
   "source": [
    "# create 3D facies array (as a function of water depth in this case)\n",
    "ny, nx, nz = np.shape(strat)\n",
    "facies = np.zeros((ny, nx, nz))\n",
    "for i in range(facies.shape[2]):\n",
    "    topo_sl = topo[:, :, i] - sea_level[i]\n",
    "    facies_sl = np.zeros(np.shape(topo_sl))\n",
    "    facies_sl[topo_sl >= 0] = 0\n",
    "    facies_sl[(topo_sl < 0) & (topo_sl >= -100)] = 1\n",
    "    facies_sl[topo_sl < -100] = 2\n",
    "    facies[:, :, i] = facies_sl"
   ]
  },
  {
   "cell_type": "code",
   "execution_count": 14,
   "id": "9b1fb685",
   "metadata": {},
   "outputs": [
    {
     "name": "stderr",
     "output_type": "stream",
     "text": [
      "100%|█████████████████████████████████████████| 100/100 [00:14<00:00,  7.05it/s]\n"
     ]
    }
   ],
   "source": [
    "# plot cross section colored by water depth (= facies in this case)\n",
    "fig = sg.plot_model_cross_section_EW(strat, facies, facies, dx = 5, xsec = 265, \n",
    "                                     color_mode = 'facies', \n",
    "                                     map_aspect = 1,\n",
    "                                     line_freq = 1,\n",
    "                                     flattening_ind = False, units = 'mm')\n",
    "plt.plot([0, strat.shape[1]*5], [sea_level[-1], sea_level[-1]]);"
   ]
  },
  {
   "cell_type": "markdown",
   "id": "1400f3f3",
   "metadata": {},
   "source": [
    "### Figure 22: Exploded view, colored by bathymetry\n",
    "\n",
    "The photos used here (and in the next code cell) are available from: https://www.dropbox.com/scl/fo/8nv6jp5c8bzpt6lz117iy/h?rlkey=riey19hmu46dly8vgpikm3i82&dl=0"
   ]
  },
  {
   "cell_type": "code",
   "execution_count": 60,
   "id": "71b9139d-a99c-4c87-bea8-c7345429ae64",
   "metadata": {},
   "outputs": [
    {
     "data": {
      "text/plain": [
       "<module 'stratigraph' from '/Users/zoltan/Dropbox/Chronostratigraphy/stratigraph/stratigraph/stratigraph.py'>"
      ]
     },
     "execution_count": 60,
     "metadata": {},
     "output_type": "execute_result"
    }
   ],
   "source": [
    "from importlib import reload\n",
    "reload(sg)"
   ]
  },
  {
   "cell_type": "code",
   "execution_count": 61,
   "id": "350d8f0c",
   "metadata": {},
   "outputs": [
    {
     "data": {
      "text/plain": [
       "(-49.0, 53.0, 4600, array([ 1320.76344,  1485.     , -1326.12752]))"
      ]
     },
     "execution_count": 61,
     "metadata": {},
     "output_type": "execute_result"
    }
   ],
   "source": [
    "from skimage.transform import resize\n",
    "\n",
    "end_time = 86\n",
    "dx = 5.0\n",
    "dip1 = 10\n",
    "dip2 = 505\n",
    "strike1 = 0\n",
    "strike2 = 400\n",
    "\n",
    "strat, wheeler, wheeler_strat, vacuity = sg.create_wheeler_diagram(topo[dip1:dip2, strike1:strike2, :end_time], 0.5)\n",
    "bottom = np.min(strat) - 20\n",
    "\n",
    "ts = end_time-1 \n",
    "if ts*3 < 100:\n",
    "    fno = '0'+str(ts*3)\n",
    "else:\n",
    "    fno = str(ts*3)\n",
    "im = plt.imread('/Users/zoltan/Dropbox/Chronostratigraphy/Tulane/HighRes/TDWB_17_' + fno +'.jpg')\n",
    "temp = np.zeros((5245-245+113, 3112-184+17, 3)).astype('uint8')\n",
    "temp[:-113, :-17, :] = im[245:, 184:, :]\n",
    "temp = resize(temp, (923, 531))*255\n",
    "im = temp.astype('uint8')\n",
    "im = np.swapaxes(im,0,1)\n",
    "inds = np.indices(np.shape(topo[:,:,0]))\n",
    "inds2 = np.argwhere(inds[0] < -0.65*inds[1] + 148)\n",
    "inds3 = np.argwhere(inds[0] > 0.58*inds[1] + 360)\n",
    "im[inds2[:,0], inds2[:,1], :] = 0\n",
    "im[inds3[:,0], inds3[:,1], :] = 0\n",
    "im = im[dip1:dip2, strike1:strike2, :]\n",
    "model, kmeans_colors = sg.pick_colors(im, 256)\n",
    "im_pred = model.predict(im.reshape(-1, 3))\n",
    "im_pred = im_pred.reshape(im.shape[0], im.shape[1])\n",
    "\n",
    "mlab.figure(bgcolor=(1,1,1))\n",
    "# mlab.clf()\n",
    "\n",
    "sg.create_exploded_view(topo[dip1:dip2, strike1:strike2, :end_time], strat, nx=3, ny=3, gap=50, dx=dx, ve=2, \n",
    "    color_mode='bathymetry', linewidth=2, bottom=bottom, opacity=1.0, x0=0, y0=0, texture=im_pred, \n",
    "    sea_level=sea_level, scale=1, plot_sides=True, plot_water=True, plot_surf=True, \n",
    "    surf_cmap='Blues', kmeans_colors=kmeans_colors, line_freq=1)\n",
    "\n",
    "mlab.view(azimuth=-49, elevation=53, distance=4600, focalpoint=np.array([ 1025,  1175, -2710]))"
   ]
  },
  {
   "cell_type": "markdown",
   "id": "5d7f9631",
   "metadata": {},
   "source": [
    "### Figure 21: Block diagram with arbitrarily oriented sections"
   ]
  },
  {
   "cell_type": "code",
   "execution_count": 62,
   "id": "342e1b62",
   "metadata": {},
   "outputs": [
    {
     "name": "stderr",
     "output_type": "stream",
     "text": [
      "100%|█████████████████████████████████████████| 100/100 [00:02<00:00, 40.25it/s]\n",
      "100%|█████████████████████████████████████████| 100/100 [00:03<00:00, 32.90it/s]\n",
      "100%|█████████████████████████████████████████| 100/100 [00:02<00:00, 38.86it/s]\n",
      "100%|█████████████████████████████████████████| 100/100 [00:02<00:00, 46.11it/s]\n",
      "100%|█████████████████████████████████████████| 100/100 [00:02<00:00, 48.37it/s]\n",
      "100%|█████████████████████████████████████████| 100/100 [00:04<00:00, 23.07it/s]\n"
     ]
    },
    {
     "data": {
      "text/plain": [
       "(-148.0, 47.0, 4000, array([  997.5  ,  1235.   , -3502.878]))"
      ]
     },
     "execution_count": 62,
     "metadata": {},
     "output_type": "execute_result"
    }
   ],
   "source": [
    "from matplotlib import colors\n",
    "# mlab.figure(bgcolor=(1,1,1))\n",
    "mlab.clf()\n",
    "ve = 3\n",
    "dip1 = 10\n",
    "dip2 = 505\n",
    "strike1 = 0\n",
    "strike2 = 400\n",
    "end_time = 101\n",
    "\n",
    "strat, wheeler, wheeler_strat, vacuity = sg.create_wheeler_diagram(topo[dip1:dip2, strike1:strike2, :end_time], 0.5)\n",
    "bottom = np.min(strat) - 20\n",
    "\n",
    "x1 = 0\n",
    "y1 = 142\n",
    "x2 = 225\n",
    "y2 = 0\n",
    "s1 = 0\n",
    "sg.plot_random_section_2_points(topo[dip1:dip2, strike1:strike2, :end_time], strat, dx, x1, x2, y1, y2, s1, ve, \n",
    "    bottom = bottom, xoffset=0, yoffset=0, sea_level=sea_level, \n",
    "    linewidth=0.5, line_freq=1, color_mode='bathymetry', plot_type='3D', plot_basement=True)\n",
    "\n",
    "x1 = 0\n",
    "y1 = 348\n",
    "x2 = 265\n",
    "y2 = 494\n",
    "s1 = 0\n",
    "sg.plot_random_section_2_points(topo[dip1:dip2, strike1:strike2, :end_time], strat, dx, x1, x2, y1, y2, s1, ve, \n",
    "    bottom = bottom, xoffset=0, yoffset=0, sea_level=sea_level, \n",
    "    linewidth=0.5, line_freq=1, color_mode='bathymetry', plot_type='3D', plot_basement=True)\n",
    "\n",
    "x1 = 0\n",
    "y1 = 142\n",
    "x2 = 0\n",
    "y2 = 348\n",
    "s1 = 0\n",
    "sg.plot_random_section_2_points(topo[dip1:dip2, strike1:strike2, :end_time], strat, dx, x1, x2, y1, y2, s1, ve, \n",
    "    bottom = bottom, xoffset=0, yoffset=0, sea_level=sea_level, \n",
    "    linewidth=0.5, line_freq=1, color_mode='bathymetry', plot_type='3D', plot_basement=True)\n",
    "\n",
    "x1 = 225\n",
    "y1 = 0\n",
    "x2 = 399\n",
    "y2 = 0\n",
    "s1 = 0\n",
    "sg.plot_random_section_2_points(topo[dip1:dip2, strike1:strike2, :end_time], strat, dx, x1, x2, y1, y2, s1, ve, \n",
    "    bottom = bottom, xoffset=0, yoffset=0, sea_level=sea_level, \n",
    "    linewidth=0.5, line_freq=1, color_mode='bathymetry', plot_type='3D', plot_basement=True)\n",
    "\n",
    "x1 = 265\n",
    "y1 = 494\n",
    "x2 = 399\n",
    "y2 = 494\n",
    "s1 = 0\n",
    "sg.plot_random_section_2_points(topo[dip1:dip2, strike1:strike2, :end_time], strat, dx, x1, x2, y1, y2, s1, ve, \n",
    "    bottom = bottom, xoffset=0, yoffset=0, sea_level=sea_level, \n",
    "    linewidth=0.5, line_freq=1, color_mode='bathymetry', plot_type='3D', plot_basement=True)\n",
    "\n",
    "x1 = 399\n",
    "y1 = 0\n",
    "x2 = 399\n",
    "y2 = 494\n",
    "s1 = 0\n",
    "sg.plot_random_section_2_points(topo[dip1:dip2, strike1:strike2, :end_time], strat, dx, x1, x2, y1, y2, s1, ve, \n",
    "    bottom = bottom, xoffset=0, yoffset=0, sea_level=sea_level, \n",
    "    linewidth=0.5, line_freq=1, color_mode='bathymetry', plot_type='3D', plot_basement=True)\n",
    "\n",
    "ts = end_time-1 \n",
    "if ts*3 < 100:\n",
    "    fno = '0'+str(ts*3)\n",
    "else:\n",
    "    fno = str(ts*3)\n",
    "im = plt.imread('/Users/zoltan/Dropbox/Chronostratigraphy/Tulane/HighRes/TDWB_17_' + fno +'.jpg')\n",
    "temp = np.zeros((5245-245+113, 3112-184+17, 3)).astype('uint8')\n",
    "temp[:-113, :-17, :] = im[245:, 184:, :]\n",
    "temp = resize(temp, (923, 531))*255\n",
    "im = temp.astype('uint8')\n",
    "im = np.swapaxes(im,0,1)\n",
    "inds = np.indices(np.shape(topo[:,:,0]))\n",
    "inds2 = np.argwhere(inds[0] < -0.65*inds[1] + 148)\n",
    "inds3 = np.argwhere(inds[0] > 0.58*inds[1] + 360)\n",
    "im[inds2[:,0], inds2[:,1], :] = 0\n",
    "im[inds3[:,0], inds3[:,1], :] = 0\n",
    "im = im[dip1:dip2, strike1:strike2, :]\n",
    "model, kmeans_colors = sg.pick_colors(im, 256)\n",
    "im_pred = model.predict(im.reshape(-1, 3))\n",
    "im_pred = im_pred.reshape(im.shape[0], im.shape[1])\n",
    "\n",
    "temp = np.zeros(np.shape(topo[dip1:dip2, strike1:strike2, end_time-1]))\n",
    "inds = np.indices(np.shape(topo[dip1:dip2, strike1:strike2, end_time-1]))\n",
    "x1 = 0\n",
    "y1 = 348\n",
    "x2 = 265\n",
    "y2 = 494\n",
    "slope, y_intercept = sg.line_coefficients(x1, y1, x2, y2)\n",
    "inds2 = np.argwhere(inds[0] > slope*inds[1] + y_intercept)\n",
    "x1 = 0\n",
    "y1 = 142\n",
    "x2 = 225\n",
    "y2 = 0\n",
    "slope, y_intercept = sg.line_coefficients(x1, y1, x2, y2)\n",
    "inds3 = np.argwhere(inds[0] < slope*inds[1] + y_intercept)\n",
    "temp[inds2[:,0], inds2[:,1]] = 1\n",
    "temp[inds3[:,0], inds3[:,1]] = 1\n",
    "\n",
    "sg.plot_surf_w_texture(strat, 1, dx, ve, im_pred.astype('float'), opacity=1.0, cmap='Blues', \n",
    "          mask = temp.astype('bool'), kmeans_colors=kmeans_colors)\n",
    "\n",
    "# plot bottom face of block:\n",
    "r,c,ts = np.shape(strat)\n",
    "z = bottom*np.ones(np.shape(strat[:,:,0]))\n",
    "z[temp==1] = np.nan\n",
    "scale = 1\n",
    "X1 = scale*(np.linspace(0,c-1,c)*dx) # x goes with c and y with r\n",
    "Y1 = scale*(np.linspace(0,r-1,r)*dx)\n",
    "X1_grid , Y1_grid = np.meshgrid(X1, Y1)\n",
    "surf = mlab.mesh(X1_grid, Y1_grid, z*ve, scalars = z, mask = temp.astype('bool'), colormap='Blues', vmin=0, vmax=255)\n",
    "lut = surf.module_manager.scalar_lut_manager.lut.table.to_array()\n",
    "gray = np.expand_dims(colors.to_rgba('lightgray')[:3], axis=0)\n",
    "lut[:,:3] = 255*np.repeat(gray, 256, axis=0)\n",
    "surf.module_manager.scalar_lut_manager.lut.table = lut\n",
    "\n",
    "# plot water surface:\n",
    "# sl = sea_level[end_time-1]\n",
    "# z = sl*np.ones(np.shape(strat[:,:,0]))\n",
    "# z[z < strat[:, :, -1]] = np.nan\n",
    "# z[temp==1] = np.nan\n",
    "# X1 = scale*(np.linspace(0,c-1,c)*dx) # x goes with c and y with r\n",
    "# Y1 = scale*(np.linspace(0,r-1,r)*dx)\n",
    "# X1_grid , Y1_grid = np.meshgrid(X1, Y1)\n",
    "# surf = mlab.mesh(X1_grid, Y1_grid, z*ve, scalars = np.zeros(np.shape(z)), mask = np.isnan(z), \n",
    "#                  colormap='Blues', vmin=0, vmax=255)\n",
    "# lut = surf.module_manager.scalar_lut_manager.lut.table.to_array()\n",
    "# blue = np.expand_dims(np.array([0.255, 0.412, 0.882]), axis=0)\n",
    "# lut[:,:3] = 255*np.repeat(blue, 256, axis=0)\n",
    "# lut[:,-1] = 255*0.3\n",
    "# surf.module_manager.scalar_lut_manager.lut.table = lut\n",
    "\n",
    "mlab.view(azimuth=-148, elevation=47, distance=4000, \n",
    "  focalpoint=np.array([ 950,  1020, -3762]))"
   ]
  },
  {
   "cell_type": "markdown",
   "id": "043324ee",
   "metadata": {},
   "source": [
    "### Strike and dip sections, colored by rate of sea level change"
   ]
  },
  {
   "cell_type": "code",
   "execution_count": 17,
   "id": "9897ba27",
   "metadata": {},
   "outputs": [],
   "source": [
    "# you have to use 'sea_level_rel' instaed of 'sea_level'\n",
    "sea_level_rel = sea_level - (sea_level[0]+np.cumsum(0.75*np.ones(np.shape(sea_level)))-0.75)\n",
    "sg.plot_strike_section(topo[dip1:dip2, :500, :], sg.topostrat(topo[dip1:dip2, :500, :]), \n",
    "                    dx, 150, ve=ve, sea_level = sea_level_rel, \n",
    "                    linewidth=0.5, line_freq=1, \n",
    "                    color_mode='sea_level_change', plot_type='2D', \n",
    "                    plot_erosion=False, plot_water=True, plot_basement=True)\n",
    "sg.plot_dip_section(topo[dip1:dip2, :500, :], sg.topostrat(topo[dip1:dip2, :500, :]), \n",
    "                    dx, 150, ve=ve, sea_level = sea_level_rel, \n",
    "                    linewidth=0.5, line_freq=1, \n",
    "                    color_mode='sea_level_change', plot_type='2D', \n",
    "                    plot_erosion=False, plot_water=True, plot_basement=True)"
   ]
  },
  {
   "cell_type": "markdown",
   "id": "6c608118",
   "metadata": {},
   "source": [
    "### Strike and dip sections, colored by age"
   ]
  },
  {
   "cell_type": "code",
   "execution_count": 19,
   "id": "18c8dd71",
   "metadata": {},
   "outputs": [],
   "source": [
    "sg.plot_strike_section(topo[dip1:dip2, :500, :], sg.topostrat(topo[dip1:dip2, :500, :]), \n",
    "                    dx, 150, ve=ve, sea_level = sea_level, \n",
    "                    linewidth=0.5, line_freq=1, \n",
    "                    color_mode='age', plot_type='2D', \n",
    "                    plot_erosion=False, plot_water=True, plot_basement=True)\n",
    "sg.plot_dip_section(topo[dip1:dip2, :500, :], sg.topostrat(topo[dip1:dip2, :500, :]), \n",
    "                    dx, 150, ve=ve, sea_level = sea_level, \n",
    "                    linewidth=0.5, line_freq=1, \n",
    "                    color_mode='age', plot_type='2D', \n",
    "                    plot_erosion=False, plot_water=True, plot_basement=True)"
   ]
  },
  {
   "cell_type": "markdown",
   "id": "c0142c33",
   "metadata": {},
   "source": [
    "### Strike and dip sections, colored by bathymetry"
   ]
  },
  {
   "cell_type": "code",
   "execution_count": 17,
   "id": "b6233812",
   "metadata": {},
   "outputs": [],
   "source": [
    "ve = 3\n",
    "dip1 = 10\n",
    "dip2 = 505\n",
    "dx = 5.0\n",
    "\n",
    "sg.plot_strike_section(topo[dip1:dip2, :500, :], sg.topostrat(topo[dip1:dip2, :500, :]), \n",
    "                    dx, 150, ve=ve, sea_level = sea_level, \n",
    "                    linewidth=0.5, line_freq=1, \n",
    "                    color_mode='bathymetry', plot_type='2D', \n",
    "                    plot_erosion=False, plot_water=True, plot_basement=True)\n",
    "sg.plot_dip_section(topo[dip1:dip2, :500, :], sg.topostrat(topo[dip1:dip2, :500, :]), \n",
    "                    dx, 150, ve=ve, sea_level = sea_level, \n",
    "                    linewidth=0.5, line_freq=1, \n",
    "                    color_mode='bathymetry', plot_type='2D', \n",
    "                    plot_erosion=False, plot_water=True, plot_basement=True)"
   ]
  },
  {
   "cell_type": "code",
   "execution_count": 23,
   "id": "9a23e6ac-8fc6-4019-9c35-510283a96e3e",
   "metadata": {},
   "outputs": [],
   "source": [
    "sg.plot_dip_section(topo[dip1:dip2, :500, :], sg.topostrat(topo[dip1:dip2, :500, :]), \n",
    "                    dx, 150, ve=ve, sea_level = sea_level, \n",
    "                    linewidth=0.5, line_freq=1, \n",
    "                    color_mode='property', prop=facies, prop_cmap='viridis', prop_vmin=0, prop_vmax=2, plot_type='2D', \n",
    "                    plot_erosion=False, plot_water=True, plot_basement=True)"
   ]
  },
  {
   "cell_type": "markdown",
   "id": "1310b84d",
   "metadata": {},
   "source": [
    "### Fence diagram"
   ]
  },
  {
   "cell_type": "code",
   "execution_count": 23,
   "id": "7ebdaab8",
   "metadata": {},
   "outputs": [
    {
     "name": "stderr",
     "output_type": "stream",
     "text": [
      "100%|█████████████████████████████████████████████| 5/5 [00:16<00:00,  3.30s/it]\n",
      "100%|█████████████████████████████████████████████| 5/5 [00:14<00:00,  2.84s/it]\n"
     ]
    },
    {
     "data": {
      "text/plain": [
       "(array([  0, 100, 200, 300, 399]), array([  0, 123, 246, 369, 494]))"
      ]
     },
     "execution_count": 23,
     "metadata": {},
     "output_type": "execute_result"
    }
   ],
   "source": [
    "mlab.clf()\n",
    "end_time = 86\n",
    "strat, wheeler, wheeler_strat, vacuity = sg.create_wheeler_diagram(topo[dip1:dip2, \\\n",
    "                                                        strike1:strike2, :end_time], 0.5)\n",
    "\n",
    "ts = end_time-1 \n",
    "if ts*3 < 100:\n",
    "    fno = '0'+str(ts*3)\n",
    "else:\n",
    "    fno = str(ts*3)\n",
    "im = plt.imread('/Users/zoltan/Dropbox/Chronostratigraphy/Tulane/HighRes/TDWB_17_' + fno +'.jpg')\n",
    "temp = np.zeros((5245-245+113, 3112-184+17, 3)).astype('uint8')\n",
    "temp[:-113, :-17, :] = im[245:, 184:, :]\n",
    "temp = resize(temp, (923, 531))*255\n",
    "im = temp.astype('uint8')\n",
    "im = np.swapaxes(im,0,1)\n",
    "inds = np.indices(np.shape(topo[:,:,0]))\n",
    "inds2 = np.argwhere(inds[0] < -0.65*inds[1] + 148)\n",
    "inds3 = np.argwhere(inds[0] > 0.58*inds[1] + 360)\n",
    "im[inds2[:,0], inds2[:,1], :] = 0\n",
    "im[inds3[:,0], inds3[:,1], :] = 0\n",
    "im = im[dip1:dip2, strike1:strike2, :]\n",
    "model, kmeans_colors = sg.pick_colors(im, 256)\n",
    "im_pred = model.predict(im.reshape(-1, 3))\n",
    "im_pred = im_pred.reshape(im.shape[0], im.shape[1])\n",
    "\n",
    "sg.create_fence_diagram(topo, strat, nx=3, ny=3, dx=dx, ve=2, \n",
    "    color_mode='bathymetry', sea_level=sea_level, linewidth=0.5, bottom=bottom, opacity=0.7, \n",
    "    scale=1, plot_sides=True, plot_water=False, plot_surf=True,\n",
    "    surf_cmap='Blues', texture=im_pred, kmeans_colors=kmeans_colors, line_freq=1)"
   ]
  },
  {
   "cell_type": "markdown",
   "id": "5e4f19af",
   "metadata": {},
   "source": [
    "### Exploded view, 4 dip-oriented blocks"
   ]
  },
  {
   "cell_type": "code",
   "execution_count": 24,
   "id": "c0e44484",
   "metadata": {},
   "outputs": [
    {
     "data": {
      "text/plain": [
       "(-50.0, 50.0, 6000, array([ 2023.48026,     2.5    , -2031.2049 ]))"
      ]
     },
     "execution_count": 24,
     "metadata": {},
     "output_type": "execute_result"
    }
   ],
   "source": [
    "mlab.clf()\n",
    "dx = 5.0\n",
    "dip1 = 10+70\n",
    "dip2 = 505-70\n",
    "strike1 = 0\n",
    "strike2 = 450\n",
    "end_time = 101\n",
    "\n",
    "strat, wheeler, wheeler_strat, vacuity = sg.create_wheeler_diagram(topo[dip1:dip2, \\\n",
    "                                                    strike1:strike2, :end_time], 0.5)\n",
    "bottom = np.min(strat) - 20\n",
    "ts = end_time-1\n",
    "if ts*3 < 10:\n",
    "    fno = '00'+str(ts*3)\n",
    "elif 10 <= ts*3 < 100:\n",
    "    fno = '0'+str(ts*3)\n",
    "else:\n",
    "    fno = str(ts*3)\n",
    "im = plt.imread('/Users/zoltan/Dropbox/Chronostratigraphy/Tulane/HighRes/TDWB_17_' + fno +'.jpg')\n",
    "temp = np.zeros((5245-245+113, 3112-184+17, 3)).astype('uint8')\n",
    "temp[:-113, :-17, :] = im[245:, 184:, :]\n",
    "temp = resize(temp, (923, 531))*255\n",
    "im = temp.astype('uint8')\n",
    "im = np.swapaxes(im,0,1)\n",
    "inds = np.indices(np.shape(topo[:,:,0]))\n",
    "inds2 = np.argwhere(inds[0] < -0.65*inds[1] + 148)\n",
    "inds3 = np.argwhere(inds[0] > 0.58*inds[1] + 360)\n",
    "im[inds2[:,0], inds2[:,1], :] = 0\n",
    "im[inds3[:,0], inds3[:,1], :] = 0\n",
    "im = im[dip1:dip2, strike1:strike2, :]\n",
    "model, kmeans_colors = sg.pick_colors(im, 256)\n",
    "im_pred = model.predict(im.reshape(-1, 3))\n",
    "im_pred = im_pred.reshape(im.shape[0], im.shape[1])\n",
    "gap = 50\n",
    "sg.create_exploded_view(topo[dip1:dip2, strike1:strike2, :end_time], strat, nx=1, ny=4, gap=gap, dx=dx, ve=3, \n",
    "    color_mode='bathymetry', linewidth=2, bottom=bottom, opacity=1.0, x0=0, y0=-5*gap*dx, texture=im_pred, \n",
    "    sea_level=sea_level, scale=1, plot_sides=True, plot_water=True, plot_surf=True, \n",
    "    surf_cmap='Blues', kmeans_colors=kmeans_colors, line_freq=1, water_depth=50)\n",
    "\n",
    "mlab.view(azimuth=-50, elevation=50, distance=6000, \n",
    "  focalpoint=np.array([ 993,  41.4, -4067]))"
   ]
  },
  {
   "cell_type": "markdown",
   "id": "6208fe6a",
   "metadata": {},
   "source": [
    "### Figures 25, 26: Plot strike section and Wheeler diagram"
   ]
  },
  {
   "cell_type": "code",
   "execution_count": 26,
   "id": "53627539",
   "metadata": {},
   "outputs": [
    {
     "data": {
      "text/plain": [
       "<module 'stratigraph' from '/Users/zoltan/Dropbox/Chronostratigraphy/stratigraph/stratigraph/stratigraph.py'>"
      ]
     },
     "execution_count": 26,
     "metadata": {},
     "output_type": "execute_result"
    }
   ],
   "source": [
    "from importlib import reload\n",
    "reload(sg)"
   ]
  },
  {
   "cell_type": "code",
   "execution_count": 32,
   "id": "484755b1",
   "metadata": {},
   "outputs": [],
   "source": [
    "# need to recompute Wheeler diagram and stratigraphy:\n",
    "strat, wheeler, wheeler_strat, vacuity = sg.create_wheeler_diagram(topo, 0.5)"
   ]
  },
  {
   "cell_type": "code",
   "execution_count": 131,
   "id": "b254e0e0",
   "metadata": {},
   "outputs": [
    {
     "name": "stderr",
     "output_type": "stream",
     "text": [
      "100%|█████████████████████████████████████████| 531/531 [02:04<00:00,  4.28it/s]\n"
     ]
    }
   ],
   "source": [
    "# compute erosional surface attributes\n",
    "time = scan_times\n",
    "erosional_surfs_age_below, erosional_surfs_age_above, erosional_surfs_time, erosional_surfs_thickness =\\\n",
    "        sg.compute_erosional_surf_attributes(strat, time, topo, erosion_threshold=0.1)"
   ]
  },
  {
   "cell_type": "code",
   "execution_count": 34,
   "id": "9b5e0531",
   "metadata": {},
   "outputs": [],
   "source": [
    "# strike section\n",
    "reload(sg)\n",
    "\n",
    "rdbu = mpl.colormaps['RdBu'].resampled(256)\n",
    "newcolors = rdbu(np.linspace(0, 1, 256))\n",
    "newcolors[126:131, :] = np.array([1, 1, 1, 1])\n",
    "newcmp = ListedColormap(newcolors)\n",
    "\n",
    "# loc = 100 # Figure 25\n",
    "loc = 200 # Figure 26\n",
    "dx = 5.0\n",
    "fig = plt.figure(figsize=(15,15))\n",
    "spec = gridspec.GridSpec(ncols=3, nrows=2,\n",
    "                         width_ratios=[1, 6, 0.2], wspace=0.04,\n",
    "                         hspace=0.05, height_ratios=[3, 2])\n",
    "ax0 = fig.add_subplot(spec[1,0])\n",
    "ax1 = fig.add_subplot(spec[1,1], sharey = ax0)\n",
    "ax2 = fig.add_subplot(spec[0,1], sharex = ax1)\n",
    "ax3 = fig.add_subplot(spec[1,2])\n",
    "im = ax1.imshow(wheeler[:, loc, :].T, cmap=newcmp, vmin = -10, vmax = 10, extent = [0, dx*strat.shape[0], \n",
    "        scan_times[-1], 0], interpolation='none', aspect='auto')\n",
    "ax1.invert_yaxis()\n",
    "ax1.set_xlabel('distance (mm)', fontsize = 14)\n",
    "ax0.set_ylabel('time (days)', fontsize = 14)\n",
    "plt.setp(ax1.get_yticklabels(), visible=False)\n",
    "plt.setp(ax2.get_xticklabels(), visible=False)\n",
    "\n",
    "plt.colorbar(im, cax=ax3);\n",
    "# ax0.plot(sea_level, scan_times, 'k', linewidth=3)\n",
    "cmap = mpl.colormaps['viridis']\n",
    "norm = mpl.colors.Normalize(vmin=0, vmax=len(scan_times)-1)\n",
    "for i in range(len(scan_times)-1):\n",
    "    ax0.plot([sea_level[i], sea_level[i+1]], [scan_times[i], scan_times[i+1]], \n",
    "             color=cmap(norm(i))[:3], linewidth=3)\n",
    "\n",
    "ax1.set_xlim(0, 2500)\n",
    "ax2.set_xlim(0, 2465)\n",
    "ax2.set_ylim(-1225, -1050)\n",
    "\n",
    "sg.plot_strike_section(topo[:,:,:end_time], sg.topostrat(topo[:,:,:end_time]), \n",
    "                    dx, loc, ve, ax=ax2, sea_level = sea_level[:end_time], \n",
    "                    linewidth=0.5, line_freq=1, \n",
    "                    color_mode='bathymetry', plot_type='2D', \n",
    "                    plot_erosion=True, erosional_surfs_thickness=erosional_surfs_thickness,\n",
    "                    plot_water=True, plot_basement=True)"
   ]
  },
  {
   "cell_type": "markdown",
   "id": "62566a8d",
   "metadata": {},
   "source": [
    "### Figures 23, 24: Plot dip section and Wheeler diagram"
   ]
  },
  {
   "cell_type": "code",
   "execution_count": 134,
   "id": "aeecb23f",
   "metadata": {},
   "outputs": [],
   "source": [
    "# dip section\n",
    "rdbu = mpl.colormaps['RdBu'].resampled(256)\n",
    "newcolors = rdbu(np.linspace(0, 1, 256))\n",
    "newcolors[126:131, :] = np.array([1, 1, 1, 1])\n",
    "newcmp = ListedColormap(newcolors)\n",
    "reload(sg)\n",
    "from matplotlib import gridspec\n",
    "\n",
    "loc = 251 # Figure 24\n",
    "# loc = 220 # Figure 23\n",
    "dx = 5.0\n",
    "\n",
    "fig = plt.figure(figsize=(15,15))\n",
    "spec = gridspec.GridSpec(ncols=3, nrows=2,\n",
    "                         width_ratios=[1, 6, 0.2], wspace=0.04,\n",
    "                         hspace=0.05, height_ratios=[3, 2])\n",
    "ax0 = fig.add_subplot(spec[1,0])\n",
    "ax1 = fig.add_subplot(spec[1,1], sharey = ax0)\n",
    "ax2 = fig.add_subplot(spec[0,1], sharex = ax1)\n",
    "ax3 = fig.add_subplot(spec[1,2])\n",
    "im = ax1.imshow(wheeler[loc, :, :].T, cmap=newcmp, vmin = -10, vmax = 10, extent = [0, dx*strat.shape[1], \n",
    "        scan_times[-1], 0], interpolation='none', aspect='auto')\n",
    "ax1.invert_yaxis()\n",
    "ax1.set_xlabel('distance (mm)', fontsize = 14)\n",
    "ax0.set_ylabel('time (days)', fontsize = 14)\n",
    "plt.setp(ax1.get_yticklabels(), visible=False)\n",
    "plt.setp(ax2.get_xticklabels(), visible=False)\n",
    "\n",
    "plt.colorbar(im, cax=ax3);\n",
    "# ax0.plot(sea_level, scan_times, 'k', linewidth=3)\n",
    "cmap = mpl.colormaps['viridis']\n",
    "norm = mpl.colors.Normalize(vmin=0, vmax=len(scan_times)-1)\n",
    "for i in range(len(scan_times)-1):\n",
    "    ax0.plot([sea_level[i], sea_level[i+1]], [scan_times[i], scan_times[i+1]], \n",
    "             color=cmap(norm(i))[:3], linewidth=3)\n",
    "\n",
    "ax1.set_xlim(0, 2500)\n",
    "ax2.set_ylim(-1380, -1050)\n",
    "sg.plot_dip_section(topo[:,:,:end_time], sg.topostrat(topo[:,:,:end_time]), \n",
    "                    dx, loc, ve, ax=ax2, sea_level = sea_level[:end_time], \n",
    "                    linewidth=0.5, line_freq=1, \n",
    "                    color_mode='bathymetry', plot_type='2D', \n",
    "                    plot_erosion=True, erosional_surfs_thickness=erosional_surfs_thickness,\n",
    "                    plot_water=True, plot_basement=True)"
   ]
  },
  {
   "cell_type": "code",
   "execution_count": 155,
   "id": "3f52d3ec",
   "metadata": {},
   "outputs": [],
   "source": [
    "loc = 251 # Figure 24\n",
    "# loc = 220 # Figure 23\n",
    "dx = 5.0\n",
    "\n",
    "for end_time in range(101, 102): #, 2):\n",
    "    strat_temp, wheeler_temp, wheeler_strat_temp, vacuity_temp = sg.create_wheeler_diagram(topo[:,:,:end_time], 0.5)\n",
    "    erosional_surfs_age_below, erosional_surfs_age_above, erosional_surfs_time, erosional_surfs_thickness =\\\n",
    "        sg.compute_erosional_surf_attributes(strat_temp, scan_times[:end_time], topo[:,:,:end_time])\n",
    "    \n",
    "    fig = plt.figure(figsize=(15,15))\n",
    "    spec = gridspec.GridSpec(ncols=3, nrows=2,\n",
    "                             width_ratios=[1, 6, 0.2], wspace=0.04,\n",
    "                             hspace=0.05, height_ratios=[3, 2])\n",
    "    ax0 = fig.add_subplot(spec[1,0])\n",
    "    ax0.set_xlim(-1162, -1080)\n",
    "    ax1 = fig.add_subplot(spec[1,1], sharey = ax0)\n",
    "    ax2 = fig.add_subplot(spec[0,1], sharex = ax1)\n",
    "    ax3 = fig.add_subplot(spec[1,2])\n",
    "    im = ax1.imshow(wheeler_temp[loc, :, :].T, cmap=newcmp, vmin = -10, vmax = 10, \n",
    "                    extent = [0, dx*strat.shape[1], scan_times[:end_time][-1], 0], interpolation='none', aspect='auto')\n",
    "    ax1.invert_yaxis()\n",
    "    ax1.set_ylim(0, scan_times[-1])\n",
    "    ax1.set_xlabel('distance (mm)', fontsize = 14)\n",
    "    ax0.set_ylabel('time (days)', fontsize = 14)\n",
    "    plt.setp(ax1.get_yticklabels(), visible=False)\n",
    "    plt.setp(ax2.get_xticklabels(), visible=False)\n",
    "\n",
    "    plt.colorbar(im, cax=ax3);\n",
    "    # ax0.plot(sea_level, scan_times, 'k', linewidth=3)\n",
    "    cmap = mpl.colormaps['viridis']\n",
    "    norm = mpl.colors.Normalize(vmin=0, vmax=len(scan_times)-1)\n",
    "    for i in range(len(scan_times[:end_time])-1):\n",
    "        ax0.plot([sea_level[i], sea_level[i+1]], [scan_times[i], scan_times[i+1]], \n",
    "                 color=cmap(norm(i))[:3], linewidth=3)\n",
    "\n",
    "    ax1.set_xlim(0, 2500)\n",
    "    ax2.set_ylim(-1380, -1050)\n",
    "    sg.plot_dip_section(topo[:,:,:end_time], strat_temp, \n",
    "                        dx, loc, ve, ax=ax2, sea_level = sea_level[:end_time], \n",
    "                        linewidth=0.5, line_freq=1, \n",
    "                        color_mode='bathymetry', plot_type='2D', \n",
    "                        plot_erosion=True, erosional_surfs_thickness=erosional_surfs_thickness,\n",
    "                        plot_water=True, plot_basement=True)\n",
    "    \n",
    "    fname = '/Users/zoltan/Dropbox/Chronostratigraphy/movie_frames/TDWB_17_dip_section_251_'+'%03d.png'%(51)\n",
    "    fig.savefig(fname, dpi=300)\n",
    "    plt.close('all')"
   ]
  },
  {
   "cell_type": "markdown",
   "id": "27aea2ce",
   "metadata": {},
   "source": [
    "### Arbitrary section between two points"
   ]
  },
  {
   "cell_type": "code",
   "execution_count": 37,
   "id": "49fb0553",
   "metadata": {},
   "outputs": [
    {
     "name": "stderr",
     "output_type": "stream",
     "text": [
      "100%|████████████████████████████████████████| 100/100 [00:00<00:00, 101.83it/s]\n",
      "100%|█████████████████████████████████████████| 100/100 [00:07<00:00, 14.19it/s]\n"
     ]
    }
   ],
   "source": [
    "from scipy.ndimage import map_coordinates\n",
    "\n",
    "x1 = 40\n",
    "y1 = 245\n",
    "x2 = 356\n",
    "y2 = 27\n",
    "\n",
    "# x1 = 100\n",
    "# y1 = 174\n",
    "# x2 = 122\n",
    "# y2 = 215\n",
    "\n",
    "# x1 = 28\n",
    "# y1 = 307\n",
    "# x2 = 300\n",
    "# y2 = 177\n",
    "\n",
    "# x1 = 15\n",
    "# y1 = 258\n",
    "# x2 = 423\n",
    "# y2 = 247\n",
    "\n",
    "# x1 = 150\n",
    "# y1 = 380\n",
    "# x2 = 451\n",
    "# y2 = 355\n",
    "\n",
    "s1 = 0\n",
    "\n",
    "end_time = 101\n",
    "strat, wheeler, wheeler_strat, vacuity = sg.create_wheeler_diagram(topo[:,:,:end_time], 0.5)\n",
    "\n",
    "rdbu = mpl.colormaps['RdBu'].resampled(256)\n",
    "newcolors = rdbu(np.linspace(0, 1, 256))\n",
    "newcolors[126:131, :] = np.array([1, 1, 1, 1])\n",
    "newcmp = ListedColormap(newcolors)\n",
    "reload(sg)\n",
    "from matplotlib import gridspec\n",
    "\n",
    "fig = plt.figure(figsize=(15,15))\n",
    "spec = gridspec.GridSpec(ncols=3, nrows=2,\n",
    "                         width_ratios=[1, 6, 0.5], wspace=0.0,\n",
    "                         hspace=0.0, height_ratios=[1, 1])\n",
    "ax0 = fig.add_subplot(spec[1,0])\n",
    "ax1 = fig.add_subplot(spec[1,1], sharey = ax0)\n",
    "ax2 = fig.add_subplot(spec[0,1], sharex = ax1)\n",
    "ax3 = fig.add_subplot(spec[1,2])\n",
    "\n",
    "dist = dx*((x2-x1)**2 + (y2-y1)**2)**0.5\n",
    "s2 = s1*dx+dist\n",
    "num = int(dist/float(dx))\n",
    "Xrand, Yrand, Srand = np.linspace(x1,x2,num), np.linspace(y1,y2,num), np.linspace(s1*dx,s2,num)\n",
    "\n",
    "wheeler_section = np.zeros((len(Srand), wheeler.shape[2]))\n",
    "for layer_n in trange(0, wheeler.shape[2]):\n",
    "    wheeler_section[:, layer_n] = map_coordinates(wheeler[:,:,layer_n], np.vstack((Yrand,Xrand)))\n",
    "\n",
    "im = ax1.imshow(wheeler_section.T, cmap=newcmp, vmin = -10, vmax = 10, extent = [0, Srand[-1], \n",
    "        scan_times[end_time-1], 0], interpolation='none', aspect='auto')\n",
    "ax1.invert_yaxis()\n",
    "ax1.set_xlabel('distance (mm)', fontsize = 14)\n",
    "ax1.set_ylabel('time (days)', fontsize = 14)\n",
    "plt.setp(ax1.get_yticklabels(), visible=False)\n",
    "plt.setp(ax2.get_xticklabels(), visible=False)\n",
    "ax3.set_axis_off()\n",
    "\n",
    "plt.colorbar(im, ax=ax3);\n",
    "ax0.plot(sea_level[:end_time], scan_times[:end_time], 'k', linewidth=3)\n",
    "\n",
    "sg.plot_random_section_2_points(topo[:, :, :end_time], strat, dx, x1, x2, y1, y2, s1, ve, ax=ax2,\n",
    "    bottom = -1350, xoffset=0, yoffset=0, sea_level=sea_level[:end_time], \n",
    "    linewidth=0.5, line_freq=1, color_mode='bathymetry', plot_type='2D', plot_basement=True, plot_erosion=True,\n",
    "                               erosional_surfs_thickness = erosional_surfs_thickness)"
   ]
  },
  {
   "cell_type": "markdown",
   "id": "3ba8352a",
   "metadata": {},
   "source": [
    "### Figure 27: Time-slice through Wheeler diagram"
   ]
  },
  {
   "cell_type": "code",
   "execution_count": 47,
   "id": "aefa08a6",
   "metadata": {},
   "outputs": [],
   "source": [
    "def plot_time_step(strat, wheeler, topo, dx, sea_level, ts, cmap, fig, ax, shrink):\n",
    "    im = ax.imshow(wheeler[::-1, :, ts-1], cmap=cmap, vmin = -10, vmax = 10, \n",
    "               extent = [0, dx*strat.shape[1], 0, dx*strat.shape[0]], interpolation='none')\n",
    "    x, y = np.meshgrid(np.arange(0, dx*strat.shape[1], dx), np.arange(0, dx*strat.shape[0], dx))\n",
    "    temp = sg.sgolay2d(topo[:, :, ts], 5, 3)\n",
    "    ax.contour(x, y, temp, colors='k', linewidths=0.2, linestyles ='solid', levels=np.arange(-1600,-960,5))\n",
    "    ax.contour(x, y, temp, colors='k', linewidths=2, linestyles ='dashed', \n",
    "                levels=[sea_level[ts]])\n",
    "    ax.set_xlim(0, 2500)\n",
    "    ax.set_ylim(0, 2560)\n",
    "    fig.colorbar(im, ax=ax, shrink=shrink, pad = 0.02)\n",
    "    \n",
    "rdbu = mpl.colormaps['RdBu'].resampled(256)\n",
    "newcolors = rdbu(np.linspace(0, 1, 256))\n",
    "newcolors[126:131, :] = np.array([1, 1, 1, 1])\n",
    "rdbucmp = ListedColormap(newcolors)\n",
    "\n",
    "fig, axes = plt.subplots(3, 2, figsize=(8, 10))\n",
    "count = 0\n",
    "for ts in [81, 85, 89, 93, 97, 100]: #range(85, 85+3*6, 3):\n",
    "    plot_time_step(strat, wheeler, topo, dx, sea_level, ts, rdbucmp, fig, axes[count//2, count%2], shrink=0.97)\n",
    "    if ts == 85:\n",
    "        axes[count//2, count%2].plot(50*dx, 244*dx, 'ro')\n",
    "        axes[count//2, count%2].plot(145*dx, 251*dx, 'ro')\n",
    "        axes[count//2, count%2].plot(215*dx, 129*dx, 'ro')\n",
    "        axes[count//2, count%2].plot(324*dx, 249*dx, 'ro')\n",
    "    count += 1"
   ]
  },
  {
   "cell_type": "markdown",
   "id": "718154ee",
   "metadata": {},
   "source": [
    "### 3D visualiztion with plane widgets"
   ]
  },
  {
   "cell_type": "code",
   "execution_count": 40,
   "id": "8105a186",
   "metadata": {},
   "outputs": [],
   "source": [
    "mlab.clf()\n",
    "source = mlab.pipeline.scalar_field(np.swapaxes(wheeler, 0, 1))\n",
    "source.spacing = [1,1,3]\n",
    "for axis in ['x', 'y', 'z']:\n",
    "    plane = mlab.pipeline.image_plane_widget(source, plane_orientation = '{}_axes'.format(axis),\n",
    "                                           slice_index=i, colormap='RdBu', vmin = -6, vmax = 6);"
   ]
  },
  {
   "cell_type": "markdown",
   "id": "0b7f8f9c",
   "metadata": {},
   "source": [
    "### Figure 28: Maps of stratigraphic attributes"
   ]
  },
  {
   "cell_type": "code",
   "execution_count": 41,
   "id": "f4ee91e2",
   "metadata": {},
   "outputs": [],
   "source": [
    "deposition_time, erosion_time, stasis_time, vacuity_time, deposition_thickness, erosion_thickness =\\\n",
    "        sg.compute_strat_maps(strat, wheeler, wheeler_strat, vacuity)"
   ]
  },
  {
   "cell_type": "code",
   "execution_count": 42,
   "id": "693080d1",
   "metadata": {},
   "outputs": [],
   "source": [
    "# set 'uninteresting' areas to NaN:\n",
    "deposition_time[stasis_time > 0.98] = np.nan\n",
    "erosion_time[stasis_time > 0.98] = np.nan\n",
    "vacuity_time[stasis_time > 0.98] = np.nan\n",
    "deposition_thickness[stasis_time > 0.98] = np.nan\n",
    "erosion_thickness[stasis_time > 0.98] = np.nan\n",
    "stasis_time[stasis_time > 0.98] = np.nan\n",
    "\n",
    "# smooth maps:\n",
    "deposition_time = sg.smooth_strat_attribute(deposition_time, 11)\n",
    "erosion_time = sg.smooth_strat_attribute(erosion_time, 21)\n",
    "stasis_time = sg.smooth_strat_attribute(stasis_time, 11)\n",
    "vacuity_time = sg.smooth_strat_attribute(vacuity_time, 21)\n",
    "deposition_thickness = sg.smooth_strat_attribute(deposition_thickness, 11)\n",
    "erosion_thickness = sg.smooth_strat_attribute(erosion_thickness, 21)"
   ]
  },
  {
   "cell_type": "code",
   "execution_count": 43,
   "id": "18845487",
   "metadata": {},
   "outputs": [],
   "source": [
    "# clip colormap (so that colors are not too dark at the lower end)\n",
    "import cmocean\n",
    "cmap = cmocean.cm.deep_r\n",
    "newcmap = cmocean.tools.crop_by_percent(cmap, 20, which='min', N=None)\n",
    "\n",
    "fig, axs = plt.subplots(2, 3, sharey=True, figsize=(20, 8))\n",
    "im = axs[0,0].imshow(deposition_time[::-1,:], vmin=0, vmax=0.5, cmap=newcmap)\n",
    "axs[0,0].contour(deposition_time[::-1,:], levels=np.linspace(0,0.5,10), colors='k', linewidths=0.5)\n",
    "axs[0,0].set_title('deposition (time)')\n",
    "# axs[0,0].set_xticks([])\n",
    "# axs[0,0].set_yticks([])\n",
    "axs[0,0].set_ylim(520, 22)\n",
    "fig.colorbar(im, ax=axs[0,0], shrink=0.65)\n",
    "im = axs[0,1].imshow(erosion_time[::-1,:], vmin=0, vmax=0.2, cmap=newcmap)\n",
    "axs[0,1].contour(erosion_time[::-1,:], levels=np.linspace(0,0.2,10), colors='k', linewidths=0.5)\n",
    "axs[0,1].set_title('erosion (time)')\n",
    "axs[0,1].set_xticks([])\n",
    "axs[0,1].set_yticks([])\n",
    "fig.colorbar(im, ax=axs[0,1], shrink=0.65)\n",
    "im = axs[0,2].imshow(stasis_time[::-1,:], vmin=0, vmax=1, cmap=newcmap)\n",
    "axs[0,2].contour(stasis_time[::-1,:], levels=np.linspace(0,1,10), colors='k', linewidths=0.5)\n",
    "axs[0,2].set_title('stasis (time)')\n",
    "axs[0,2].set_xticks([])\n",
    "axs[0,2].set_yticks([])\n",
    "fig.colorbar(im, ax=axs[0,2], shrink=0.65)\n",
    "im = axs[1,0].imshow(vacuity_time[::-1,:], vmin=0, vmax=0.3, cmap=newcmap)\n",
    "axs[1,0].contour(vacuity_time[::-1,:], levels=np.linspace(0,0.3,10), colors='k', linewidths=0.5)\n",
    "axs[1,0].set_title('vacuity (time)')\n",
    "axs[1,0].set_xticks([])\n",
    "axs[1,0].set_yticks([])\n",
    "fig.colorbar(im, ax=axs[1,0], shrink=0.65)\n",
    "im = axs[1,1].imshow(deposition_thickness[::-1,:], vmin=10, vmax=150, cmap=newcmap)\n",
    "axs[1,1].contour(deposition_thickness[::-1,:], levels=np.linspace(10,150,20), colors='k', linewidths=0.5)\n",
    "axs[1,1].set_title('deposition (thickness)')\n",
    "axs[1,1].set_xticks([])\n",
    "axs[1,1].set_yticks([])\n",
    "fig.colorbar(im, ax=axs[1,1], shrink=0.65)\n",
    "im = axs[1,2].imshow(-erosion_thickness[::-1,:], vmin=0, vmax=60, cmap=newcmap)\n",
    "axs[1,2].contour(-erosion_thickness[::-1,:], levels=np.linspace(0,60,20), colors='k', linewidths=0.5)\n",
    "axs[1,2].set_title('erosion (thickness)')\n",
    "axs[1,2].set_xticks([])\n",
    "axs[1,2].set_yticks([])\n",
    "fig.colorbar(im, ax=axs[1,2], shrink=0.65)\n",
    "fig.tight_layout()"
   ]
  },
  {
   "cell_type": "markdown",
   "id": "6382a7ac",
   "metadata": {},
   "source": [
    "### Plot erosional attributes of stratigraphic surfaces"
   ]
  },
  {
   "cell_type": "code",
   "execution_count": 48,
   "id": "6df84ceb",
   "metadata": {},
   "outputs": [],
   "source": [
    "import cmocean\n",
    "from mpl_toolkits.axes_grid1.inset_locator import inset_axes, InsetPosition\n",
    "from matplotlib.gridspec import GridSpec\n",
    "\n",
    "cmap = cmocean.cm.deep_r\n",
    "newcmap = cmocean.tools.crop_by_percent(cmap, 30, which='min', N=None)\n",
    "\n",
    "def plot_strat_surface_attributes(erosional_surfs_first_age, erosional_surfs_last_age, \n",
    "                                  erosional_surfs_time, erosional_surfs_thickness, ts, cmap):\n",
    "    fig = plt.figure(figsize = (10, 10))\n",
    "    gs = GridSpec(2, 2, left=0.05, right=0.98, wspace=0.001)\n",
    "    \n",
    "    ax1 = fig.add_subplot(gs[0, 0])\n",
    "    temp = erosional_surfs_first_age[:, :, ts].copy()\n",
    "    temp[temp==-1] = np.nan\n",
    "    im = ax1.imshow(temp*0.125, aspect=1, interpolation='none', cmap=cmap, \n",
    "                          vmin=0, vmax=12.5)\n",
    "    ax1.contour(strat[:,:,ts], colors='k', levels=100, linestyles='solid', linewidths=0.3)\n",
    "    ax1.set_xticks([])\n",
    "    ax1.set_yticks([])\n",
    "    ax1.set_title('age of deposits below')\n",
    "    cbar = fig.colorbar(im, shrink=1, ax=ax1)\n",
    "    cbar.ax.get_yaxis().labelpad = 15\n",
    "    cbar.ax.set_ylabel('age (days)', rotation=270)\n",
    "    ax1.set_xlim(0, 2500/5)\n",
    "    ax1.set_ylim(0, 2560/5)\n",
    "    \n",
    "    ax2 = fig.add_subplot(gs[0, 1])\n",
    "    temp = erosional_surfs_last_age[:, :, ts].copy()\n",
    "    temp[temp==-1] = np.nan\n",
    "    im = ax2.imshow(temp*0.125, aspect=1, interpolation='none', cmap=cmap, \n",
    "                          vmin=0, vmax=12.5)\n",
    "    ax2.contour(strat[:,:,ts], colors='k', levels=100, linestyles='solid', linewidths=0.3)\n",
    "    ax2.set_xticks([])\n",
    "    ax2.set_yticks([])\n",
    "    ax2.set_title('age of deposits above')\n",
    "    cbar = fig.colorbar(im, shrink=1, ax=ax2)\n",
    "    cbar.ax.get_yaxis().labelpad = 15\n",
    "    cbar.ax.set_ylabel('age (days)', rotation=270)\n",
    "    ax2.set_xlim(0, 2500/5)\n",
    "    ax2.set_ylim(0, 2560/5)\n",
    "    \n",
    "    ax3 = fig.add_subplot(gs[1, 0])\n",
    "    temp = erosional_surfs_time[:, :, ts].copy()\n",
    "    temp[temp==-1] = np.nan\n",
    "    im = ax3.imshow(temp*0.125, aspect=1, interpolation='none', cmap=cmap, \n",
    "                          vmin=0, vmax=6)\n",
    "    ax3.contour(strat[:,:,ts], colors='k', levels=100, linestyles='solid', linewidths=0.3)\n",
    "    ax3.set_xticks([])\n",
    "    ax3.set_yticks([])\n",
    "    ax3.set_title('time gap')\n",
    "    cbar = fig.colorbar(im, shrink=1, ax=ax3)\n",
    "    cbar.ax.get_yaxis().labelpad = 15\n",
    "    cbar.ax.set_ylabel('time gap (days)', rotation=270)\n",
    "    ax3.set_xlim(0, 2500/5)\n",
    "    ax3.set_ylim(0, 2560/5)\n",
    "    \n",
    "    ax4 = fig.add_subplot(gs[1, 1])\n",
    "    temp = erosional_surfs_thickness[:, :, ts].copy()\n",
    "    temp[temp==-1] = np.nan\n",
    "    im = ax4.imshow(temp, aspect=1, interpolation='none', cmap=cmap, \n",
    "                          vmin=0, vmax=40)\n",
    "    ax4.contour(strat[:,:,ts], colors='k', levels=100, linestyles='solid', linewidths=0.3)\n",
    "    ax4.set_xticks([])\n",
    "    ax4.set_yticks([])\n",
    "    ax4.set_title('thickness eroded')\n",
    "    cbar = fig.colorbar(im, shrink=1, ax=ax4)\n",
    "    cbar.ax.get_yaxis().labelpad = 15\n",
    "    cbar.ax.set_ylabel('thickness (mm)', rotation=270)\n",
    "    ax4.set_xlim(0, 2500/5)\n",
    "    ax4.set_ylim(0, 2560/5)\n",
    "    \n",
    "    return fig\n",
    "\n",
    "ts = 85\n",
    "fig = plot_strat_surface_attributes(erosional_surfs_age_below, erosional_surfs_age_above, \n",
    "                                  erosional_surfs_time, erosional_surfs_thickness, ts, newcmap)"
   ]
  },
  {
   "cell_type": "markdown",
   "id": "a68580c5",
   "metadata": {},
   "source": [
    "## TDB-10-1"
   ]
  },
  {
   "cell_type": "markdown",
   "id": "844dbd40",
   "metadata": {},
   "source": [
    "### Load data\n",
    "\n",
    "The original, complete dataset for this experiment is available from:\n",
    "\n",
    "[Wang, Y. and Straub, K.M., 2017, TDB_10_1, SEAD, DOI: 10.5967/M0HX19TT](http://sead-published.ncsa.illinois.edu/seadrepository/api/researchobjects/urn:uuid:59711af1e4b011ce953a57b8)\n",
    "\n",
    "The subset used below is alos available from [Zenodo](https://zenodo.org/records/10583965)."
   ]
  },
  {
   "cell_type": "code",
   "execution_count": 49,
   "id": "cc3f33d1",
   "metadata": {},
   "outputs": [],
   "source": [
    "tdb_10_D = sio.loadmat('../data/Topo_TDB_10_1_D.mat')\n",
    "tdb_10_M = sio.loadmat('../data/Topo_TDB_10_1_M.mat')\n",
    "tdb_10_P = sio.loadmat('../data/Topo_TDB_10_1_P.mat')\n",
    "topo_M = tdb_10_M['Topo_TDB_10_1_M']\n",
    "topo_P = tdb_10_P['Topo_TDB_10_1_P']\n",
    "topo_D = tdb_10_D['Topo_TDB_10_1_D']"
   ]
  },
  {
   "cell_type": "code",
   "execution_count": 50,
   "id": "7dadfe6e",
   "metadata": {},
   "outputs": [],
   "source": [
    "# a bit of smoothing helps\n",
    "from scipy.signal import savgol_filter\n",
    "for i in range(topo_P.shape[-1]):\n",
    "    topo_P[:, i] = savgol_filter(topo_P[:, i], 21, 2)\n",
    "for i in range(topo_M.shape[-1]):\n",
    "    topo_M[:, i] = savgol_filter(topo_M[:, i], 21, 2)\n",
    "for i in range(topo_D.shape[-1]):\n",
    "    topo_D[:, i] = savgol_filter(topo_D[:, i], 21, 2)"
   ]
  },
  {
   "cell_type": "code",
   "execution_count": 51,
   "id": "7ff2d4de",
   "metadata": {},
   "outputs": [],
   "source": [
    "strat_M = sg.topostrat(topo_M)\n",
    "strat_P = sg.topostrat(topo_P)\n",
    "strat_D = sg.topostrat(topo_D)"
   ]
  },
  {
   "cell_type": "markdown",
   "id": "f74b735a",
   "metadata": {},
   "source": [
    "### Figure 30C: Time-elevation plot"
   ]
  },
  {
   "cell_type": "code",
   "execution_count": 52,
   "id": "761cadd7",
   "metadata": {},
   "outputs": [],
   "source": [
    "reload(sg)\n",
    "elevation = topo_M[1000, :].copy()\n",
    "time = np.arange(topo_M.shape[-1])*2  # units are minutes; scans were done every two minutes \n",
    "fig, dve_data, duration_thickness_data, ts_labels, strat_tops, strat_top_inds, strat_topbound_inds, interval_labels\\\n",
    "     = sg.plot_strat_diagram(elevation, 'mm', time, 'minutes', 0.5, \n",
    "                max_elevation=np.max(elevation), max_time=np.max(time), plotting=True, plot_raw_data=True)"
   ]
  },
  {
   "cell_type": "markdown",
   "id": "d660ef6e",
   "metadata": {},
   "source": [
    "### Figure 30A, B: Strike section and Wheeler diagram"
   ]
  },
  {
   "cell_type": "code",
   "execution_count": 70,
   "id": "c7f774d9",
   "metadata": {},
   "outputs": [
    {
     "name": "stderr",
     "output_type": "stream",
     "text": [
      "100%|██████████████████████████████████████| 2284/2284 [00:11<00:00, 204.16it/s]\n"
     ]
    }
   ],
   "source": [
    "reload(sg)\n",
    "strat, wheeler, wheeler_strat, vacuity, stasis = sg.create_wheeler_diagram_2D(topo_M, 1.0)\n",
    "erosional_surfs_age_below, erosional_surfs_age_above, erosional_surfs_time, erosional_surfs_thickness =\\\n",
    "        sg.compute_erosional_surf_attributes(strat, time, topo_M, erosion_threshold=0.1)"
   ]
  },
  {
   "cell_type": "code",
   "execution_count": 71,
   "id": "318b3cc2",
   "metadata": {},
   "outputs": [],
   "source": [
    "strat, wheeler, wheeler_strat, vacuity, stasis = sg.create_wheeler_diagram_2D(topo_M[:,1500:2000], 1.0)\n",
    "loc = 0\n",
    "dx = 1\n",
    "fig = plt.figure(figsize=(15,12))\n",
    "spec = gridspec.GridSpec(ncols=3, nrows=2,\n",
    "                         width_ratios=[1, 6, 0.2], wspace=0.04,\n",
    "                         hspace=0.05, height_ratios=[3, 2])\n",
    "ax0 = fig.add_subplot(spec[1,0])\n",
    "ax1 = fig.add_subplot(spec[1,1], sharey = ax0)\n",
    "ax2 = fig.add_subplot(spec[0,1], sharex = ax1)\n",
    "ax3 = fig.add_subplot(spec[1,2])\n",
    "im = ax1.imshow(wheeler_strat.T, cmap=newcmp, vmin = -5, vmax = 5, extent = [0, dx*(strat.shape[0]-1), \n",
    "        time[-1], 0], interpolation='none', aspect='auto')\n",
    "ax1.invert_yaxis()\n",
    "ax1.set_xlabel('distance (mm)', fontsize = 14)\n",
    "ax2.set_ylabel('depth (mm)', fontsize = 14)\n",
    "ax0.set_ylabel('time (minutes)', fontsize = 14)\n",
    "ax0.set_xlabel('base level (mm)', fontsize = 14)\n",
    "plt.setp(ax1.get_yticklabels(), visible=False)\n",
    "plt.setp(ax2.get_xticklabels(), visible=False)\n",
    "plt.colorbar(im, cax=ax3)\n",
    "ax3.text(2.5, -8, 'erosion (mm)', rotation=90)\n",
    "ax3.text(2.5, 1.8, 'deposition (mm)', rotation=90)\n",
    "cmap = mpl.colormaps['viridis']\n",
    "norm = mpl.colors.Normalize(vmin=0, vmax=len(time)-1)\n",
    "\n",
    "    \n",
    "topo = topo_M[:,1500:2000].copy()\n",
    "topo = topo[:,np.newaxis,:]\n",
    "er_surfs = erosional_surfs_thickness[:,1500:2000].copy()\n",
    "er_surfs = er_surfs[:,np.newaxis,:]\n",
    "sg.plot_strike_section(topo, sg.topostrat(topo), \n",
    "                    dx, loc, ve, ax=ax2, \n",
    "                    linewidth=0.25, line_freq=1, color_mode='age', plot_type='2D', \n",
    "                    plot_erosion=True, erosional_surfs_thickness=er_surfs, \n",
    "                    plot_water=False, plot_basement=True)"
   ]
  },
  {
   "cell_type": "markdown",
   "id": "9c827bdb",
   "metadata": {},
   "source": [
    "### Figure 31C: Time-elevation plot for downsampled surface data"
   ]
  },
  {
   "cell_type": "code",
   "execution_count": 74,
   "id": "225c65e2",
   "metadata": {},
   "outputs": [],
   "source": [
    "reload(sg)\n",
    "elevation = topo_M[1600, 1500:2000:10].copy()\n",
    "fig, dve_data, duration_thickness_data, ts_labels, strat_tops, strat_top_inds, strat_topbound_inds, interval_labels\\\n",
    " = sg.plot_strat_diagram(elevation, 'mm', time[1500:2000:10], 'minutes', 0.5, \n",
    "                max_elevation=np.max(elevation), max_time=np.max(time[1500:2000:10]), plotting=True, plot_raw_data=True)"
   ]
  },
  {
   "cell_type": "markdown",
   "id": "cce45f17",
   "metadata": {},
   "source": [
    "### Figure 31A, B: Strike section and Wheeler diagram for downsampled surface data"
   ]
  },
  {
   "cell_type": "code",
   "execution_count": 76,
   "id": "2f4fa567",
   "metadata": {},
   "outputs": [],
   "source": [
    "strat, wheeler, wheeler_strat, vacuity, stasis = sg.create_wheeler_diagram_2D(topo_M[:,1500:2000:10], 1.0)\n",
    "loc = 0\n",
    "dx = 1\n",
    "fig = plt.figure(figsize=(15,12))\n",
    "spec = gridspec.GridSpec(ncols=3, nrows=2,\n",
    "                         width_ratios=[1, 6, 0.2], wspace=0.04,\n",
    "                         hspace=0.05, height_ratios=[3, 2])\n",
    "ax0 = fig.add_subplot(spec[1,0])\n",
    "ax1 = fig.add_subplot(spec[1,1], sharey = ax0)\n",
    "ax2 = fig.add_subplot(spec[0,1], sharex = ax1)\n",
    "ax3 = fig.add_subplot(spec[1,2])\n",
    "im = ax1.imshow(wheeler_strat.T, cmap=newcmp, vmin = -5, vmax = 5, extent = [0, dx*(strat.shape[0]-1), \n",
    "        time[-1], 0], interpolation='none', aspect='auto')\n",
    "ax1.invert_yaxis()\n",
    "ax1.set_xlabel('distance (mm)', fontsize = 14)\n",
    "ax2.set_ylabel('depth (mm)', fontsize = 14)\n",
    "ax0.set_ylabel('time (minutes)', fontsize = 14)\n",
    "ax0.set_xlabel('base level (mm)', fontsize = 14)\n",
    "plt.setp(ax1.get_yticklabels(), visible=False)\n",
    "plt.setp(ax2.get_xticklabels(), visible=False)\n",
    "plt.colorbar(im, cax=ax3)\n",
    "ax3.text(2.5, -8, 'erosion (mm)', rotation=90)\n",
    "ax3.text(2.5, 1.8, 'deposition (mm)', rotation=90)\n",
    "cmap = mpl.colormaps['viridis']\n",
    "norm = mpl.colors.Normalize(vmin=0, vmax=len(time)-1)\n",
    "\n",
    "    \n",
    "topo = topo_M[:,1500:2000:10].copy()\n",
    "topo = topo[:,np.newaxis,:]\n",
    "er_surfs = erosional_surfs_thickness[:,1500:2000:10].copy()\n",
    "er_surfs = er_surfs[:,np.newaxis,:]\n",
    "sg.plot_strike_section(topo, sg.topostrat(topo), \n",
    "                    dx, loc, ve, ax=ax2, \n",
    "                    linewidth=0.25, line_freq=1, color_mode='age', plot_type='2D', \n",
    "                    plot_erosion=True, erosional_surfs_thickness=er_surfs, \n",
    "                    plot_water=False, plot_basement=True)"
   ]
  }
 ],
 "metadata": {
  "kernelspec": {
   "display_name": "Python 3 (ipykernel)",
   "language": "python",
   "name": "python3"
  },
  "language_info": {
   "codemirror_mode": {
    "name": "ipython",
    "version": 3
   },
   "file_extension": ".py",
   "mimetype": "text/x-python",
   "name": "python",
   "nbconvert_exporter": "python",
   "pygments_lexer": "ipython3",
   "version": "3.11.3"
  }
 },
 "nbformat": 4,
 "nbformat_minor": 5
}
