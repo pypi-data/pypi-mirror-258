{
 "cells": [
  {
   "cell_type": "code",
   "execution_count": 1,
   "id": "0c211dcb",
   "metadata": {},
   "outputs": [],
   "source": [
    "import stratigraph as sg\n",
    "from mayavi import mlab\n",
    "import matplotlib.pyplot as plt\n",
    "import numpy as np\n",
    "import h5py\n",
    "from tqdm import trange\n",
    "import scipy.io as sio\n",
    "from PIL import ImageFont\n",
    "from PIL import ImageDraw \n",
    "\n",
    "# set up graphics:\n",
    "%matplotlib qt\n",
    "plt.rcParams['svg.fonttype'] = 'none'"
   ]
  },
  {
   "cell_type": "markdown",
   "id": "a9ed4666",
   "metadata": {},
   "source": [
    "## Barrell's original plot\n",
    "\n",
    "Thanks to Matt Hall for helping with this. The image used in the next cell is available from this [Zenodo repository](https://zenodo.org/records/10583965)."
   ]
  },
  {
   "cell_type": "code",
   "execution_count": 34,
   "id": "ee5801b3",
   "metadata": {},
   "outputs": [],
   "source": [
    "im = plt.imread('../data/barrell_strat_plot_copy.png')\n",
    "max_time = 1e6\n",
    "max_elevation = 175\n",
    "x = np.linspace(4.705, 7.857, 1000)\n",
    "b = np.sin(x)\n",
    "c = np.sin(x) - 0.25 * np.cos(8 * x) - 0.05 * np.cos(64 * x)\n",
    "x = (x - 4.705) * max_time/np.max((x - 4.705))\n",
    "b = (b + 1.0) * 0.396 * max_elevation + 21\n",
    "c = (c + 1.0) * 0.396 * max_elevation + 21\n",
    "plt.figure(figsize=(15,8))\n",
    "plt.imshow(im, extent = [0, max_time, 0, np.max(c)], aspect = 'auto')\n",
    "time = x\n",
    "elevation = c\n",
    "elevation[0] = 0.17 # this is needed to eliminate erosion at the very beginning\n",
    "elevation[1] = 0.19\n",
    "\n",
    "plt.plot(time, elevation, linewidth=2)\n",
    "plt.plot(time, np.minimum.accumulate(elevation[::-1])[::-1], linewidth=2);\n",
    "plt.xlabel('time (years)', fontsize=16)\n",
    "plt.ylabel('elevation (m)', fontsize=16);"
   ]
  },
  {
   "cell_type": "markdown",
   "id": "3118fbda",
   "metadata": {},
   "source": [
    "### Figure 2: The original Barrell plot"
   ]
  },
  {
   "cell_type": "code",
   "execution_count": 4,
   "id": "f29b1ccf",
   "metadata": {},
   "outputs": [],
   "source": [
    "fig, dve_data, duration_thickness_data, ts_labels, strat_tops, strat_top_inds, bound_inds, interval_labels = \\\n",
    "        sg.plot_strat_diagram(elevation, 'm', time, 'years', 0.0001, \n",
    "        max_elevation=np.max(elevation), max_time=np.max(time), plotting=True, plot_raw_data=True)"
   ]
  },
  {
   "cell_type": "markdown",
   "id": "04826801",
   "metadata": {},
   "source": [
    "### Animation of the original Barrell plot"
   ]
  },
  {
   "cell_type": "code",
   "execution_count": null,
   "id": "92e99d00",
   "metadata": {},
   "outputs": [],
   "source": [
    "# create animation\n",
    "for end_time in trange(10, 1001, 10):\n",
    "    fig, dve_data, duration_thickness_data, ts_labels, strat_tops, strat_top_inds, bound_inds, interval_labels = \\\n",
    "            sg.plot_strat_diagram(elevation[:end_time], 'm', time[:end_time], 'years', 0.0001, \n",
    "            max_elevation=np.max(elevation), max_time=np.max(time), plotting=True, plot_raw_data=True)\n",
    "    fname = 'barrell_fig_'+'%03d.png'%(end_time/10)\n",
    "    fig.savefig(fname, dpi=300)\n",
    "    plt.close('all')"
   ]
  },
  {
   "cell_type": "markdown",
   "id": "540c03d9",
   "metadata": {},
   "source": [
    "## The original Wheeler diagram\n",
    "\n",
    "### Load manually interpreted lines (from original figure)\n",
    "\n",
    "The image files used in the next cell are available from [this Zenodo repository](https://zenodo.org/records/10583965)."
   ]
  },
  {
   "cell_type": "code",
   "execution_count": 35,
   "id": "73b31018",
   "metadata": {},
   "outputs": [
    {
     "data": {
      "text/plain": [
       "['../data/wheeler_figure_01.tif',\n",
       " '../data/wheeler_figure_02.tif',\n",
       " '../data/wheeler_figure_03.tif',\n",
       " '../data/wheeler_figure_04.tif',\n",
       " '../data/wheeler_figure_05.tif',\n",
       " '../data/wheeler_figure_06.tif',\n",
       " '../data/wheeler_figure_07.tif',\n",
       " '../data/wheeler_figure_08.tif',\n",
       " '../data/wheeler_figure_09.tif',\n",
       " '../data/wheeler_figure_10.tif',\n",
       " '../data/wheeler_figure_11.tif']"
      ]
     },
     "execution_count": 35,
     "metadata": {},
     "output_type": "execute_result"
    }
   ],
   "source": [
    "import glob\n",
    "fnames = glob.glob('../data/wheeler_figure*.tif')\n",
    "fnames.sort()\n",
    "fnames"
   ]
  },
  {
   "cell_type": "markdown",
   "id": "559dc38e",
   "metadata": {},
   "source": [
    "### Track lines in images to get topographic and stratigraphic surfaces"
   ]
  },
  {
   "cell_type": "code",
   "execution_count": 36,
   "id": "7ff4bfc9",
   "metadata": {},
   "outputs": [],
   "source": [
    "XS = []\n",
    "YS = []\n",
    "for fname in fnames[:-1]:\n",
    "    x_pix, y_pix = sg.read_and_track_line(fname)\n",
    "    delta_x = 10.0\n",
    "    delta_y = 10.0\n",
    "    x = 0.5*delta_x + x_pix*delta_x \n",
    "    y = 0.5*delta_y + y_pix*delta_y \n",
    "    xs, ys = sg.resample_and_smooth(x, y, 50, 5000)\n",
    "    XS.append(xs)\n",
    "    YS.append(ys)\n",
    "\n",
    "min_x = 0\n",
    "max_x = 10000\n",
    "for i in range(len(XS)):\n",
    "    min_x = max(min_x, min(XS[i]))\n",
    "    max_x = min(max_x, max(XS[i]))\n",
    "\n",
    "topo = np.zeros((len(XS), 89))\n",
    "from scipy import interpolate\n",
    "for i in range(len(XS)):\n",
    "    x = XS[i]\n",
    "    y = YS[i]\n",
    "    f = interpolate.interp1d(x, y)\n",
    "    xnew = np.arange(min_x, max_x, 50)\n",
    "    ynew = f(xnew)\n",
    "    topo[i, :] = ynew\n",
    "    \n",
    "topo = 2000 - topo\n",
    "\n",
    "# convert to stratigraphy:\n",
    "strat = np.minimum.accumulate(topo[::-1, :], axis=0)[::-1, :] \n",
    "\n",
    "plt.figure()\n",
    "for i in range(strat.shape[0]):\n",
    "    plt.plot(xnew, strat[i,:], 'k')\n",
    "plt.axis('equal');"
   ]
  },
  {
   "cell_type": "markdown",
   "id": "4365aaa8",
   "metadata": {},
   "source": [
    "### Create basement surfaces through time"
   ]
  },
  {
   "cell_type": "code",
   "execution_count": 19,
   "id": "a415d596",
   "metadata": {},
   "outputs": [],
   "source": [
    "basement_0 = np.min(topo[1, :]) + topo[0, :] - topo[1, :]\n",
    "basement_7 = topo[0, :]\n",
    "total_uplift = basement_7 - basement_0\n",
    "basement_5 = basement_0 + total_uplift * 0.25 # uplift is sped up between time steps 5 and 6\n",
    "basement_6 = basement_0 + total_uplift * 0.75\n",
    "basement = np.zeros((topo.shape[0], topo.shape[1]))\n",
    "basement[0, :] = basement_0\n",
    "basement[1, :] = basement_0\n",
    "basement[2, :] = basement_0\n",
    "basement[3, :] = basement_0\n",
    "basement[4, :] = basement_0\n",
    "basement[5, :] = basement_5\n",
    "basement[6, :] = basement_6\n",
    "basement[7, :] = basement_7\n",
    "basement[8, :] = basement_7\n",
    "basement[9, :] = basement_7\n",
    "\n",
    "# QC:\n",
    "plt.figure()\n",
    "for i in range(topo.shape[0]):\n",
    "    plt.plot(xnew, strat[i, :], 'k')\n",
    "plt.axis('equal');\n",
    "plt.plot(xnew, basement[0, :], 'r')\n",
    "plt.plot(xnew, basement[-1, :], 'b');"
   ]
  },
  {
   "cell_type": "markdown",
   "id": "fed58b88",
   "metadata": {},
   "source": [
    "### Figure 4: Plot topographic surfaces at their original, undeformed position"
   ]
  },
  {
   "cell_type": "code",
   "execution_count": 22,
   "id": "6a0db1a9",
   "metadata": {},
   "outputs": [],
   "source": [
    "from matplotlib import colormaps\n",
    "cmap = colormaps['viridis']\n",
    "\n",
    "fig = plt.figure(figsize=(15, 10))\n",
    "for end_time in range(10):\n",
    "    color = cmap(end_time / (topo.shape[0] - 2))\n",
    "    t = topo[end_time, :] - basement[-1, :] + basement[end_time, :]\n",
    "    plt.plot(xnew, t, color=color)\n",
    "plt.axis('equal');"
   ]
  },
  {
   "cell_type": "markdown",
   "id": "3cf61776",
   "metadata": {},
   "source": [
    "### Figure 5: Plot stratigraphy at a given time step"
   ]
  },
  {
   "cell_type": "code",
   "execution_count": 23,
   "id": "98b989bd",
   "metadata": {},
   "outputs": [],
   "source": [
    "for end_time in range(9,10):\n",
    "    fig = plt.figure(figsize=(15, 10))\n",
    "    t = np.zeros((end_time+1, topo.shape[1]))\n",
    "    for i in range(end_time+1):\n",
    "        t[i, :] = topo[i, :] - basement[-1, :] + basement[end_time, :]\n",
    "    strat = np.minimum.accumulate(t[::-1, :], axis=0)[::-1, :]\n",
    "    for i in range(strat.shape[0]-1):\n",
    "        x = np.hstack((xnew, xnew[::-1]))\n",
    "        y = np.hstack((strat[i, :], strat[i+1, :][::-1]))\n",
    "        plt.fill(x, y, facecolor='palegoldenrod', edgecolor='k', alpha=0.5)\n",
    "    x = np.hstack((xnew[0], xnew[-1], xnew[::-1]))\n",
    "    y = np.hstack((-275, -275, basement[end_time, :][::-1]))\n",
    "    plt.fill(x, y, facecolor='lightgray', edgecolor='k', alpha=0.5)\n",
    "    plt.axis('equal')\n",
    "    plt.ylim(-654.8220305610621, 2514.597324277648)\n",
    "    plt.tight_layout()\n",
    "#     fname = 'wheeler_fig_'+'%03d.png'%(end_time)\n",
    "#     fig.savefig(fname)"
   ]
  },
  {
   "cell_type": "markdown",
   "id": "898cf237",
   "metadata": {},
   "source": [
    "### Resample surfaces to a higher resolution (so that an animation can be built)"
   ]
  },
  {
   "cell_type": "code",
   "execution_count": 28,
   "id": "d39901ae",
   "metadata": {},
   "outputs": [],
   "source": [
    "time = np.arange(0, 10) * 1e6 # time vector (years)\n",
    "\n",
    "sampling_rate = 250000 # years\n",
    "time1, elevation1 = sg.resample_elevation_spl(time, t[:, 7], sampling_rate)\n",
    "plt.figure()\n",
    "plt.plot(time, t[:, 7], '.-')\n",
    "plt.plot(time1, elevation1, '.-')\n",
    "\n",
    "topo1 = np.zeros((len(time1), topo.shape[1])) # array for resampled topo surfaces\n",
    "for i in range(topo.shape[1]):\n",
    "    elevation = t[:, i].copy()\n",
    "    time1, elevation = sg.resample_elevation_spl(time, elevation, sampling_rate)\n",
    "    topo1[:, i] = elevation\n",
    "\n",
    "# this is needed so that there is no erosion at the bottom left side:\n",
    "topo1[1, :] = np.maximum(topo1[0, :], topo1[1, :])\n",
    "topo1[2, :] = np.maximum(topo1[0, :], topo1[2, :])\n",
    "topo1[3, :] = np.maximum(topo1[0, :], topo1[3, :])\n",
    "        \n",
    "subsid = np.zeros((len(time1), basement.shape[1])) # subsidence / uplift array\n",
    "for i in range(basement.shape[1]):\n",
    "    elevation = basement[:, i].copy()\n",
    "    time1, elevation = sg.resample_elevation_int1d(time, elevation, sampling_rate)\n",
    "    subsid[:, i] = elevation\n",
    "    \n",
    "plt.figure()\n",
    "for i in range(topo1.shape[0]):\n",
    "    plt.plot(xnew, topo1[i, :], 'k')\n",
    "plt.axis('equal');"
   ]
  },
  {
   "cell_type": "markdown",
   "id": "0f4ec6f0",
   "metadata": {},
   "source": [
    "### See how the resulting stratigraphy looks like"
   ]
  },
  {
   "cell_type": "code",
   "execution_count": 30,
   "id": "55193d2d",
   "metadata": {},
   "outputs": [],
   "source": [
    "end_time = 36\n",
    "fig = plt.figure(figsize=(15, 10))\n",
    "t = np.zeros((end_time+1, topo1.shape[1]))\n",
    "for i in range(end_time+1):\n",
    "    t[i, :] = topo1[i, :] - subsid[-1, :] + subsid[end_time, :]\n",
    "strat = np.minimum.accumulate(t[::-1, :], axis=0)[::-1, :]\n",
    "for i in range(strat.shape[0]-1):\n",
    "    x = np.hstack((xnew, xnew[::-1]))\n",
    "    y = np.hstack((strat[i, :], strat[i+1, :][::-1]))\n",
    "    plt.fill(x, y, facecolor='palegoldenrod', edgecolor='k', alpha=0.5)\n",
    "x = np.hstack((xnew[0], xnew[-1], xnew[::-1]))\n",
    "y = np.hstack((-275, -275, subsid[end_time, :][::-1]))\n",
    "plt.fill(x, y, facecolor='lightgray', edgecolor='k', alpha=0.5)\n",
    "plt.axis('equal')\n",
    "plt.ylim(-654.8220305610621, 2514.597324277648)\n",
    "plt.tight_layout()"
   ]
  },
  {
   "cell_type": "markdown",
   "id": "1a18301d",
   "metadata": {},
   "source": [
    "### Figure 3: Plot stratigraphy and Wheeler diagram"
   ]
  },
  {
   "cell_type": "code",
   "execution_count": 31,
   "id": "be51a560",
   "metadata": {},
   "outputs": [],
   "source": [
    "from mpl_toolkits.axes_grid1.inset_locator import inset_axes\n",
    "\n",
    "for end_time in range(36, 37):  # change '36' to '0' to plot all time steps\n",
    "    fig = plt.figure(figsize=(7.5,10))\n",
    "    ax1 = fig.add_axes([0.1, 0.70, 0.85, 0.25]) # [left, bottom, width, height]\n",
    "    ax2 = fig.add_axes([0.1, 0.05, 0.85, 0.25*2.4]) # [left, bottom, width, height]\n",
    "    t = np.zeros((end_time+1, topo1.shape[1]))\n",
    "    for i in range(end_time+1):\n",
    "        t[i, :] = topo1[i, :] - subsid[-1, :] + subsid[end_time, :]\n",
    "    strat = np.minimum.accumulate(t[::-1, :], axis=0)[::-1, :]\n",
    "    for i in range(strat.shape[0]-1):\n",
    "        x = np.hstack((xnew, xnew[::-1]))\n",
    "        y = np.hstack((strat[i, :], strat[i+1, :][::-1]))\n",
    "        ax1.fill(x, y, facecolor='palegoldenrod', edgecolor=None, linewidth = 0.5)\n",
    "        if np.mod(i, 4) == 0:\n",
    "            ax1.plot(xnew, strat[i, :], 'k', linewidth = 0.5)\n",
    "    if end_time >= 1:\n",
    "        ax1.plot(xnew, strat[i+1, :], 'k', linewidth = 1)\n",
    "    x = np.hstack((xnew[0], xnew[-1], xnew[::-1]))\n",
    "    y = np.hstack((-260, -260, subsid[end_time, :][::-1]))\n",
    "    ax1.fill(x, y, facecolor='lightgray', edgecolor='k')\n",
    "    ax1.set_xlim(xnew[0], xnew[-1])\n",
    "    ax1.set_ylim(-260, 1600)\n",
    "    ax1.set_xlabel('distance (m)', fontsize=12)\n",
    "    ax1.set_ylabel('distance (m)', fontsize=12)\n",
    "    ax1.tick_params(axis='both', labelsize=8)\n",
    "\n",
    "    strat, wheeler, wheeler_strat, vacuity, stasis = sg.create_wheeler_diagram_2D(topo1.T, 0.1)\n",
    "    \n",
    "    im = ax2.imshow(wheeler_strat.T, cmap='RdBu', vmin = -100, vmax = 100, \n",
    "               interpolation='none', aspect='auto', extent = [xnew[0], xnew[-1], time1[-1]/1e6, 0])\n",
    "    plt.gca().invert_yaxis()\n",
    "    axins1 = inset_axes(ax2,\n",
    "                        width=\"100%\",  # width = 50% of parent_bbox width\n",
    "                        height=\"100%\",  # height : 5%\n",
    "                        loc='upper right',\n",
    "                        bbox_to_anchor=(0.47, 0.95, 0.5, 0.035),  # x, y, width, height\n",
    "                        bbox_transform=ax2.transAxes)\n",
    "    axins1.set_position([0.10, 0.619, 0.94, 0.643])\n",
    "    axins1.set_xticks([-100, -50, 0, 50, 100])\n",
    "    axins1.set_xticklabels([-100, -50, 0, 50, 100], fontsize=8)\n",
    "    fig.colorbar(im, cax=axins1, orientation=\"horizontal\")\n",
    "    ax2.set_xlabel('distance (m)', fontsize=12)\n",
    "    ax2.set_ylabel('time (My)', fontsize=12)\n",
    "    ax2.text(2030, 7.85, 'erosion (m)', fontsize=12, zorder=200)\n",
    "    ax2.text(3430, 7.85, 'deposition (m)', fontsize=12, zorder=200)\n",
    "    ax2.tick_params(axis='both', labelsize=8)\n",
    "    if end_time < 36:\n",
    "        ax2.fill([xnew[0]+5, xnew[-1]-5, xnew[-1]-5, xnew[0]+5], [time1[-1]/1e6-0.01, time1[-1]/1e6-0.01, \n",
    "                                        time1[end_time]/1e6+0.01, time1[end_time]/1e6+0.01], 'w', zorder=100)\n",
    "#     fname = 'wheeler_fig_'+'%03d.png'%(end_time)\n",
    "#     fig.savefig(fname, dpi=300)\n",
    "#     plt.close('all')"
   ]
  },
  {
   "cell_type": "markdown",
   "id": "619c19fb",
   "metadata": {},
   "source": [
    "### Figure 5: Plot stratigraphy for ten time steps"
   ]
  },
  {
   "cell_type": "code",
   "execution_count": 32,
   "id": "b9f65274",
   "metadata": {},
   "outputs": [],
   "source": [
    "# create figure with all 10 time steps:\n",
    "fig, axes = plt.subplots(5, 2, figsize=(10,10))\n",
    "for end_time in range(10):\n",
    "    t = np.zeros((end_time+1, topo.shape[1]))\n",
    "    for i in range(end_time+1):\n",
    "        t[i, :] = topo[i, :] - basement[-1, :] + basement[end_time, :]\n",
    "    strat = np.minimum.accumulate(t[::-1, :], axis=0)[::-1, :]\n",
    "    if end_time < 5:\n",
    "        ax = axes[end_time, 0]\n",
    "    else:\n",
    "        ax = axes[end_time-5, 1]\n",
    "    for i in range(strat.shape[0]-1):\n",
    "        x = np.hstack((xnew, xnew[::-1]))\n",
    "        y = np.hstack((strat[i, :], strat[i+1, :][::-1]))\n",
    "        ax.fill(x, y, facecolor='palegoldenrod', edgecolor=None, linewidth = 0.5)\n",
    "        ax.plot(xnew, strat[i, :], 'k', linewidth = 0.5)\n",
    "    if end_time >= 1:\n",
    "        ax.plot(xnew, strat[i+1, :], 'k', linewidth = 1)\n",
    "    x = np.hstack((xnew[0], xnew[-1], xnew[::-1]))\n",
    "    y = np.hstack((-260, -260, basement[end_time, :][::-1]))\n",
    "    ax.fill(x, y, facecolor='lightgray', edgecolor='k')\n",
    "    ax.set_xlim(xnew[0], xnew[-1])\n",
    "    ax.set_ylim(-260, 1600)\n",
    "    ax.tick_params(axis='both', labelsize=8)"
   ]
  }
 ],
 "metadata": {
  "kernelspec": {
   "display_name": "Python 3 (ipykernel)",
   "language": "python",
   "name": "python3"
  },
  "language_info": {
   "codemirror_mode": {
    "name": "ipython",
    "version": 3
   },
   "file_extension": ".py",
   "mimetype": "text/x-python",
   "name": "python",
   "nbconvert_exporter": "python",
   "pygments_lexer": "ipython3",
   "version": "3.11.3"
  }
 },
 "nbformat": 4,
 "nbformat_minor": 5
}
