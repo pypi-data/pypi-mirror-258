{
 "cells": [
  {
   "cell_type": "code",
   "execution_count": 1,
   "id": "5efd71af",
   "metadata": {},
   "outputs": [],
   "source": [
    "import stratigraph as sg\n",
    "from mayavi import mlab\n",
    "import matplotlib.pyplot as plt\n",
    "import numpy as np\n",
    "import h5py\n",
    "from tqdm import trange\n",
    "import scipy.io as sio\n",
    "from PIL import ImageFont\n",
    "from PIL import ImageDraw \n",
    "\n",
    "# set up graphics:\n",
    "%matplotlib qt\n",
    "plt.rcParams['svg.fonttype'] = 'none'"
   ]
  },
  {
   "cell_type": "markdown",
   "id": "2f1d6926",
   "metadata": {},
   "source": [
    "### Load data\n",
    "\n",
    "The data (hdf5 file) for the 'meanderpy' model below is available from this [Zenodo repository](https://zenodo.org/records/10583965)."
   ]
  },
  {
   "cell_type": "code",
   "execution_count": 2,
   "id": "5d6a79f5",
   "metadata": {},
   "outputs": [],
   "source": [
    "fname = 'meanderpy_strat_model_example_3.hdf5'\n",
    "f = h5py.File(fname, 'r')\n",
    "model  = f['model']\n",
    "topo = np.array(model['topo'])\n",
    "strat = np.array(model['strat'])\n",
    "facies = np.array(model['facies'])\n",
    "porosity = np.array(model['porosity'])\n",
    "facies_code = {}\n",
    "facies_code[int(np.array(model['point bar']))] = 'point bar'\n",
    "facies_code[int(np.array(model['levee']))] = 'levee'\n",
    "dx = float(np.array(model['dx']))\n",
    "f.close()"
   ]
  },
  {
   "cell_type": "code",
   "execution_count": 3,
   "id": "545d818a",
   "metadata": {},
   "outputs": [],
   "source": [
    "# create facies volume (the facies data that comes from meanderpy is a 1D array and we need to expand it to 3D)\n",
    "facies3d = np.zeros((strat.shape[0], strat.shape[1], strat.shape[2]-1))\n",
    "for i in range(len(facies)):\n",
    "    facies3d[:,:,i] = facies[i] - 1 # facies codes should start at 0"
   ]
  },
  {
   "cell_type": "markdown",
   "id": "a703279e",
   "metadata": {},
   "source": [
    "### Figure 6: Block diagram of meandering model"
   ]
  },
  {
   "cell_type": "code",
   "execution_count": 14,
   "id": "dad974a9",
   "metadata": {},
   "outputs": [
    {
     "data": {
      "text/plain": [
       "<mayavi.modules.surface.Surface at 0x2f55cc360>"
      ]
     },
     "execution_count": 14,
     "metadata": {},
     "output_type": "execute_result"
    }
   ],
   "source": [
    "# mlab.figure(bgcolor = (1,1,1))\n",
    "mlab.figure()\n",
    "ve = 5.0\n",
    "scale = 1\n",
    "dx = 10.0\n",
    "bottom = np.min(strat) - 2\n",
    "colors = [[0.9,0.9,0],[0.5,0.25,0]] # sand and mud facies (~ point bar and levee)\n",
    "gap = 50\n",
    "color_mode = 'facies'\n",
    "topo_min = ve*np.min(topo[:,:,-1])\n",
    "topo_max = ve*np.max(topo[:,:,-1])\n",
    "\n",
    "sg.create_exploded_view(topo, strat, facies=facies3d, facies_colors=colors, nx=1, ny=1, gap=gap, dx=dx, ve=ve, \n",
    "    color_mode=color_mode, linewidth=0.5, bottom=bottom, opacity=1.0, x0=0, y0=0, \n",
    "    scale=1, plot_sides=True, plot_water=False, plot_surf=True, \n",
    "    surf_cmap='gist_earth', topo_min=topo_min, topo_max=topo_max, line_freq=1)"
   ]
  },
  {
   "cell_type": "markdown",
   "id": "f9ae21a5",
   "metadata": {},
   "source": [
    "### Figure 8: Exploded view - 9 blocks, 3 in each direction"
   ]
  },
  {
   "cell_type": "code",
   "execution_count": 5,
   "id": "d2bf5fb4",
   "metadata": {},
   "outputs": [],
   "source": [
    "mlab.clf()\n",
    "ve = 10\n",
    "topo_min = ve*np.min(topo[:,:,-1])\n",
    "topo_max = ve*np.max(topo[:,:,-1])\n",
    "temp = sg.create_exploded_view(topo, strat, facies=facies3d, facies_colors=colors, nx=3, ny=3, gap=gap, dx=dx, ve=ve, \n",
    "    color_mode=color_mode, linewidth=2, bottom=bottom, opacity=1.0, x0=0, y0=0, \n",
    "    scale=1, plot_sides=True, plot_water=False, plot_surf=True, \n",
    "    surf_cmap='gist_earth', topo_min=topo_min, topo_max=topo_max, line_freq=1)"
   ]
  },
  {
   "cell_type": "markdown",
   "id": "1c71050a",
   "metadata": {},
   "source": [
    "### Figure 7: Fence diagram, property mode"
   ]
  },
  {
   "cell_type": "code",
   "execution_count": 6,
   "id": "5f699cf5",
   "metadata": {},
   "outputs": [
    {
     "name": "stderr",
     "output_type": "stream",
     "text": [
      "100%|█████████████████████████████████████████████| 6/6 [00:17<00:00,  2.92s/it]\n",
      "100%|█████████████████████████████████████████████| 6/6 [00:17<00:00,  2.99s/it]\n"
     ]
    }
   ],
   "source": [
    "mlab.clf()\n",
    "sg.create_fence_diagram(topo, strat, prop=porosity, nx=4, ny=4, dx=dx, ve=10, \n",
    "    color_mode='property', prop_cmap = 'YlOrBr_r', prop_vmin=0, prop_vmax=0.5,\n",
    "    linewidth=0.5, bottom=bottom, opacity=0.5, \n",
    "    scale=1, plot_sides=True, plot_water=False, plot_surf=True,\n",
    "    surf_cmap='gist_earth', topo_min=topo_min, topo_max=topo_max, line_freq=1)\n",
    "mlab.view(azimuth=27,\n",
    "    elevation=60,\n",
    "    distance=13000,\n",
    "    focalpoint=np.array([ 5602,  3120, -1278]));"
   ]
  },
  {
   "cell_type": "markdown",
   "id": "b209aa3b",
   "metadata": {},
   "source": [
    "### Figure 13: Time-elevation plots"
   ]
  },
  {
   "cell_type": "code",
   "execution_count": 7,
   "id": "ccdabedd",
   "metadata": {},
   "outputs": [],
   "source": [
    "# create time array (assumes that every point bar - overbank couplet was deposited in 5 years)\n",
    "dt = 5.0\n",
    "time = np.linspace(0, np.round(dt*(topo.shape[2]-1)/3), int((topo.shape[2]-1)/3)+1)"
   ]
  },
  {
   "cell_type": "code",
   "execution_count": 14,
   "id": "fd89789d",
   "metadata": {},
   "outputs": [],
   "source": [
    "# only consider point bar - overbank couplets so that surfaces represent constant time increments:\n",
    "\n",
    "elevation = topo[489, 163, ::3].copy() # single erosion + point bar; Figure 13A\n",
    "# elevation = topo[400, 356, ::3].copy() # double erosion + oxbow fill; Figure 13B\n",
    "# elevation = topo[354, 596, ::3].copy() # lots of erosion; Figure 13C\n",
    "# elevation = topo[451, 815, ::3].copy() # single erosion + oxbow fill; Figure 13D\n",
    "\n",
    "fig = sg.plot_strat_diagram(elevation, 'm', time, 'years', 0.05, 2.0, max(time))"
   ]
  },
  {
   "cell_type": "markdown",
   "id": "363e691f",
   "metadata": {},
   "source": [
    "### 3D Wheeler diagram"
   ]
  },
  {
   "cell_type": "code",
   "execution_count": 15,
   "id": "db75f9e0",
   "metadata": {},
   "outputs": [],
   "source": [
    "# use every third surface in the topography array and every second surface in the stratigraphy array:\n",
    "strat, wheeler, wheeler_strat, vacuity = sg.create_wheeler_diagram(topo[:,:,::3], 0.05)"
   ]
  },
  {
   "cell_type": "markdown",
   "id": "4b4f2fd0",
   "metadata": {},
   "source": [
    "### Compute erosional surface attributes and plot them"
   ]
  },
  {
   "cell_type": "code",
   "execution_count": 18,
   "id": "635cf121",
   "metadata": {},
   "outputs": [
    {
     "name": "stderr",
     "output_type": "stream",
     "text": [
      "100%|█████████████████████████████████████████| 741/741 [02:35<00:00,  4.77it/s]\n"
     ]
    }
   ],
   "source": [
    "erosional_surfs_age_below, erosional_surfs_age_above, erosional_surfs_time, erosional_surfs_thickness =\\\n",
    "        sg.compute_erosional_surf_attributes(strat, time, topo[:,:,::3], erosion_threshold = 0.01)"
   ]
  },
  {
   "cell_type": "code",
   "execution_count": 19,
   "id": "c252b734",
   "metadata": {},
   "outputs": [],
   "source": [
    "import cmocean\n",
    "from mpl_toolkits.axes_grid1.inset_locator import inset_axes, InsetPosition\n",
    "from matplotlib.gridspec import GridSpec\n",
    "\n",
    "cmap = cmocean.cm.deep_r\n",
    "newcmap = cmocean.tools.crop_by_percent(cmap, 30, which='min', N=None)\n",
    "\n",
    "def plot_strat_surface_attributes(erosional_surfs_first_age, erosional_surfs_last_age, \n",
    "                                  erosional_surfs_time, erosional_surfs_thickness, ts, cmap):\n",
    "    fig = plt.figure(figsize = (18, 10))\n",
    "    gs = GridSpec(2, 2, left=0.05, right=0.98, wspace=0.001)\n",
    "    \n",
    "    ax1 = fig.add_subplot(gs[0, 0])\n",
    "    temp = erosional_surfs_first_age[:, :, ts].copy()\n",
    "    temp[temp==-1] = np.nan\n",
    "    im = ax1.imshow(temp, aspect=1, interpolation='none', cmap=cmap) #vmin=0, vmax=310)\n",
    "    ax1.contour(strat[:,:,ts], colors='k', levels=20, linestyles='solid', linewidths=0.3)\n",
    "    ax1.set_xticks([])\n",
    "    ax1.set_yticks([])\n",
    "    ax1.set_title('age of deposits below')\n",
    "    cbar = fig.colorbar(im, shrink=1, ax=ax1)\n",
    "    cbar.ax.get_yaxis().labelpad = 15\n",
    "    cbar.ax.set_ylabel('age (years)', rotation=270)\n",
    "    \n",
    "    ax2 = fig.add_subplot(gs[0, 1])\n",
    "    temp = erosional_surfs_last_age[:, :, ts].copy()\n",
    "    temp[temp==-1] = np.nan\n",
    "    im = ax2.imshow(temp, aspect=1, interpolation='none', cmap=cmap) #vmin=0, vmax=310)\n",
    "    ax2.contour(strat[:,:,ts], colors='k', levels=20, linestyles='solid', linewidths=0.3)\n",
    "    ax2.set_xticks([])\n",
    "    ax2.set_yticks([])\n",
    "    ax2.set_title('age of deposits above')\n",
    "    cbar = fig.colorbar(im, shrink=1, ax=ax2)\n",
    "    cbar.ax.get_yaxis().labelpad = 15\n",
    "    cbar.ax.set_ylabel('age (years)', rotation=270)\n",
    "    \n",
    "    ax3 = fig.add_subplot(gs[1, 0])\n",
    "    temp = erosional_surfs_time[:, :, ts].copy()\n",
    "    temp[temp==-1] = np.nan\n",
    "    im = ax3.imshow(temp, aspect=1, interpolation='none', cmap=cmap) #vmin=0, vmax=310)\n",
    "    ax3.contour(strat[:,:,ts], colors='k', levels=20, linestyles='solid', linewidths=0.3)\n",
    "    ax3.set_xticks([])\n",
    "    ax3.set_yticks([])\n",
    "    ax3.set_title('time gap')\n",
    "    cbar = fig.colorbar(im, shrink=1, ax=ax3)\n",
    "    cbar.ax.get_yaxis().labelpad = 15\n",
    "    cbar.ax.set_ylabel('time gap (years)', rotation=270)\n",
    "    \n",
    "    ax4 = fig.add_subplot(gs[1, 1])\n",
    "    temp = erosional_surfs_thickness[:, :, ts].copy()\n",
    "    temp[temp==-1] = np.nan\n",
    "    im = ax4.imshow(temp, aspect=1, interpolation='none', cmap=cmap) #vmin=np.nanmin(temp), vmax=np.nanmax(temp))\n",
    "    ax4.contour(strat[:,:,ts], colors='k', levels=20, linestyles='solid', linewidths=0.3)\n",
    "    ax4.set_xticks([])\n",
    "    ax4.set_yticks([])\n",
    "    ax4.set_title('thickness eroded')\n",
    "    cbar = fig.colorbar(im, shrink=1, ax=ax4)\n",
    "    cbar.ax.get_yaxis().labelpad = 15\n",
    "    cbar.ax.set_ylabel('thickness (m)', rotation=270)\n",
    "    \n",
    "plot_strat_surface_attributes(erosional_surfs_age_below, erosional_surfs_age_above, \n",
    "                                  erosional_surfs_time, erosional_surfs_thickness, ts=60, cmap='viridis')"
   ]
  },
  {
   "cell_type": "code",
   "execution_count": 20,
   "id": "400e50b2",
   "metadata": {},
   "outputs": [
    {
     "data": {
      "text/plain": [
       "Text(0, 0.5, 'age (years)')"
      ]
     },
     "execution_count": 20,
     "metadata": {},
     "output_type": "execute_result"
    }
   ],
   "source": [
    "fig, ax1 = plt.subplots()\n",
    "temp = erosional_surfs_age_below[:, :, 60].copy()\n",
    "temp[temp==-1] = np.nan\n",
    "im = ax1.imshow(temp, aspect=1, interpolation='none', cmap=newcmap) #vmin=0, vmax=310)\n",
    "ax1.contour(strat[:,:,60], colors='k', levels=20, linestyles='solid', linewidths=0.3)\n",
    "ax1.set_xticks([])\n",
    "ax1.set_yticks([])\n",
    "ax1.set_title('age of deposits below')\n",
    "cbar = fig.colorbar(im, shrink=1, ax=ax1)\n",
    "cbar.ax.get_yaxis().labelpad = 15\n",
    "cbar.ax.set_ylabel('age (years)', rotation=270)"
   ]
  },
  {
   "cell_type": "markdown",
   "id": "38f43dfa",
   "metadata": {},
   "source": [
    "### Figure 9: Strike section through Wheeler diagram"
   ]
  },
  {
   "cell_type": "code",
   "execution_count": 22,
   "id": "8a9e728f",
   "metadata": {},
   "outputs": [],
   "source": [
    "import matplotlib as mpl\n",
    "from matplotlib.colors import ListedColormap\n",
    "rdbu = mpl.colormaps['RdBu'].resampled(256)\n",
    "newcolors = rdbu(np.linspace(0, 1, 256))\n",
    "newcolors[126:131, :] = np.array([1, 1, 1, 1])\n",
    "newcmp = ListedColormap(newcolors)\n",
    "\n",
    "# strike section\n",
    "plt.figure(figsize=(15,6))\n",
    "plt.imshow(wheeler[:, 775, :].T, cmap=newcmp, vmin = -4, vmax = 4, extent = [0, dx*strat.shape[0], time[-1], 0],\n",
    "           interpolation='none', aspect='auto')\n",
    "plt.colorbar()\n",
    "plt.gca().invert_yaxis()\n",
    "plt.xlabel('distance (m)', fontsize = 14)\n",
    "plt.ylabel('time (years)', fontsize = 14)\n",
    "plt.title('chronostratigraphic diagram', fontsize = 14)\n",
    "plt.tight_layout()"
   ]
  },
  {
   "cell_type": "code",
   "execution_count": 23,
   "id": "64d43974",
   "metadata": {},
   "outputs": [],
   "source": [
    "# strike section, showing only what is preserved\n",
    "plt.figure(figsize=(15,6))\n",
    "plt.imshow(wheeler_strat[:, 775, :].T, cmap=newcmp, vmin = -4, vmax = 4, extent = [0, dx*strat.shape[0], time[-1], 0],\n",
    "           interpolation='none', aspect='auto')\n",
    "plt.gca().invert_yaxis()\n",
    "plt.colorbar()\n",
    "plt.xlabel('distance (m)', fontsize = 14)\n",
    "plt.ylabel('time (years)', fontsize = 14)\n",
    "plt.title('chronostratigraphic diagram', fontsize = 14)\n",
    "plt.tight_layout()"
   ]
  },
  {
   "cell_type": "markdown",
   "id": "23497eb4",
   "metadata": {},
   "source": [
    "### Figure 10: Dip section through Wheeler diagram"
   ]
  },
  {
   "cell_type": "code",
   "execution_count": 24,
   "id": "3ae0cc54",
   "metadata": {},
   "outputs": [],
   "source": [
    "# dip section\n",
    "plt.figure(figsize=(15,6))\n",
    "plt.imshow(wheeler[370, :, :].T, cmap=newcmp, vmin = -6, vmax = 6, extent = [0, dx*strat.shape[1], time[-1], 0],\n",
    "           interpolation='none', aspect='auto')\n",
    "plt.gca().invert_yaxis()\n",
    "plt.colorbar()\n",
    "plt.xlabel('distance (m)', fontsize = 14)\n",
    "plt.ylabel('time (years)', fontsize = 14)\n",
    "plt.title('chronostratigraphic diagram', fontsize = 14)\n",
    "plt.tight_layout()"
   ]
  },
  {
   "cell_type": "code",
   "execution_count": 26,
   "id": "63d25276",
   "metadata": {},
   "outputs": [],
   "source": [
    "# dip section, showing only what is preserved\n",
    "plt.figure(figsize=(15,6))\n",
    "plt.imshow(wheeler_strat[370, :, :].T, cmap=newcmp, vmin = -6, vmax = 6, extent = [0, dx*strat.shape[1], time[-1], 0],\n",
    "           interpolation='none', aspect='auto')\n",
    "plt.gca().invert_yaxis()\n",
    "plt.colorbar()\n",
    "plt.xlabel('distance (m)', fontsize = 14)\n",
    "plt.ylabel('time (years)', fontsize = 14)\n",
    "plt.title('chronostratigraphic diagram', fontsize = 14)\n",
    "plt.tight_layout()"
   ]
  },
  {
   "cell_type": "markdown",
   "id": "be69a7a3",
   "metadata": {},
   "source": [
    "### Figure 11: Time section through Wheeler diagram"
   ]
  },
  {
   "cell_type": "code",
   "execution_count": 27,
   "id": "09f39677",
   "metadata": {},
   "outputs": [
    {
     "data": {
      "text/plain": [
       "(0.0, 9740.0, 7410.0, 0.0)"
      ]
     },
     "execution_count": 27,
     "metadata": {},
     "output_type": "execute_result"
    }
   ],
   "source": [
    "# time section\n",
    "plt.figure(figsize=(15,10))\n",
    "plt.imshow(wheeler[:, :, -1], cmap=newcmp, vmin = -6, vmax = 6, extent = [0, dx*strat.shape[1], 0, dx*strat.shape[0]],\n",
    "           interpolation='none')\n",
    "plt.colorbar()\n",
    "x, y = np.meshgrid(np.arange(0, dx*strat.shape[1], dx), np.arange(0, dx*strat.shape[0], dx))\n",
    "temp = sg.sgolay2d(topo[:,:,-1], 5, 3)\n",
    "plt.contour(x, y, temp[::-1,:], colors='k', linewidths=0.5, linestyles ='solid', levels=np.arange(-12,3,2))\n",
    "plt.xlabel('distance (m)', fontsize = 14)\n",
    "plt.ylabel('distance (m)', fontsize = 14)\n",
    "plt.title('chronostratigraphic diagram', fontsize = 14)\n",
    "plt.xlim(0, dx*strat.shape[1])\n",
    "plt.ylim(dx*strat.shape[0], 0)\n",
    "plt.axis('equal')\n",
    "# plt.tight_layout()"
   ]
  },
  {
   "cell_type": "markdown",
   "id": "505e033e",
   "metadata": {},
   "source": [
    "### 3D visualization with isosurface"
   ]
  },
  {
   "cell_type": "code",
   "execution_count": 29,
   "id": "358036d2",
   "metadata": {},
   "outputs": [],
   "source": [
    "mlab.clf()\n",
    "source = mlab.pipeline.scalar_field(np.swapaxes(wheeler, 0, 1))\n",
    "source.spacing = [1,1,2]\n",
    "mlab.pipeline.iso_surface(source, contours=[-1, 1], opacity=1, colormap='RdBu', vmin = -1.5, vmax = 1.5);"
   ]
  },
  {
   "cell_type": "markdown",
   "id": "0e49d6f9",
   "metadata": {},
   "source": [
    "### 3D visualization with plane widgets"
   ]
  },
  {
   "cell_type": "code",
   "execution_count": 30,
   "id": "a069188c",
   "metadata": {},
   "outputs": [],
   "source": [
    "mlab.clf()\n",
    "source = mlab.pipeline.scalar_field(np.swapaxes(wheeler, 0, 1))\n",
    "source.spacing = [1,1,3]\n",
    "for axis in ['x', 'y', 'z']:\n",
    "    plane = mlab.pipeline.image_plane_widget(source, plane_orientation = '{}_axes'.format(axis),\n",
    "                                           slice_index=i, colormap='RdBu', vmin = -8, vmax = 8);"
   ]
  },
  {
   "cell_type": "markdown",
   "id": "8097af30",
   "metadata": {},
   "source": [
    "### Figure 12: Stratigraphic attribute maps"
   ]
  },
  {
   "cell_type": "code",
   "execution_count": 31,
   "id": "36a1f880",
   "metadata": {},
   "outputs": [],
   "source": [
    "deposition_time, erosion_time, stasis_time, vacuity_time, deposition_thickness, erosion_thickness =\\\n",
    "        sg.compute_strat_maps(strat, wheeler, wheeler_strat, vacuity)"
   ]
  },
  {
   "cell_type": "code",
   "execution_count": 32,
   "id": "7d92f1e5",
   "metadata": {},
   "outputs": [],
   "source": [
    "# clip colormap (so that colors are not too dark at the lower end)\n",
    "import cmocean\n",
    "cmap = cmocean.cm.deep_r\n",
    "# newcmap = cmap\n",
    "newcmap = cmocean.tools.crop_by_percent(cmap, 10, which='min', N=None)\n",
    "\n",
    "# elevation = topo[354, 596, ::3].copy() # lots of erosion\n",
    "# elevation = topo[451, 815, ::3].copy() # single erosion + oxbow fill\n",
    "# elevation = topo[489, 163, ::3].copy() # single erosion + point bar\n",
    "\n",
    "fig, axs = plt.subplots(2, 3, sharey=True, figsize=(16, 8))\n",
    "im = axs[0,0].imshow(deposition_time, vmin=0, vmax=0.3, cmap=newcmap)\n",
    "# axs[0,0].contour(deposition_time, levels=np.linspace(0,0.3,10), colors='k', linewidths=0.5)\n",
    "axs[0,0].set_title('deposition (time)')\n",
    "axs[0,0].set_xticks([])\n",
    "axs[0,0].set_yticks([])\n",
    "axs[0,0].plot(596, 354, 'ro')\n",
    "axs[0,0].plot(815, 451, 'ro')\n",
    "axs[0,0].plot(163, 489, 'ro')\n",
    "fig.colorbar(im, ax=axs[0,0], shrink=0.8)\n",
    "im = axs[0,1].imshow(erosion_time, vmin=0, vmax=0.3, cmap=newcmap)\n",
    "# axs[0,1].contour(erosion_time, levels=np.linspace(0,0.3,10), colors='k', linewidths=0.5)\n",
    "axs[0,1].set_title('erosion (time)')\n",
    "axs[0,1].set_xticks([])\n",
    "axs[0,1].set_yticks([])\n",
    "axs[0,1].plot(596, 354, 'ro')\n",
    "axs[0,1].plot(815, 451, 'ro')\n",
    "axs[0,1].plot(163, 489, 'ro')\n",
    "fig.colorbar(im, ax=axs[0,1], shrink=0.8)\n",
    "im = axs[0,2].imshow(stasis_time, vmin=0, vmax=1, cmap=newcmap)\n",
    "# axs[0,2].contour(stasis_time, levels=np.linspace(0,1,10), colors='k', linewidths=0.5)\n",
    "axs[0,2].set_title('stasis (time)')\n",
    "axs[0,2].set_xticks([])\n",
    "axs[0,2].set_yticks([])\n",
    "axs[0,2].plot(596, 354, 'ro')\n",
    "axs[0,2].plot(815, 451, 'ro')\n",
    "axs[0,2].plot(163, 489, 'ro')\n",
    "fig.colorbar(im, ax=axs[0,2], shrink=0.8)\n",
    "im = axs[1,0].imshow(vacuity_time, vmin=0, vmax=0.3, cmap=newcmap)\n",
    "# axs[1,0].contour(vacuity_time, levels=np.linspace(0,0.3,10), colors='k', linewidths=0.5)\n",
    "axs[1,0].set_title('vacuity (time)')\n",
    "axs[1,0].set_xticks([])\n",
    "axs[1,0].set_yticks([])\n",
    "axs[1,0].plot(596, 354, 'ro')\n",
    "axs[1,0].plot(815, 451, 'ro')\n",
    "axs[1,0].plot(163, 489, 'ro')\n",
    "fig.colorbar(im, ax=axs[1,0], shrink=0.8)\n",
    "im = axs[1,1].imshow(deposition_thickness, vmin=0, vmax=14, cmap=newcmap)\n",
    "# axs[1,1].contour(deposition_thickness, levels=np.linspace(0,14,10), colors='k', linewidths=0.5)\n",
    "axs[1,1].set_title('deposition (thickness)')\n",
    "axs[1,1].set_xticks([])\n",
    "axs[1,1].set_yticks([])\n",
    "axs[1,1].plot(596, 354, 'ro')\n",
    "axs[1,1].plot(815, 451, 'ro')\n",
    "axs[1,1].plot(163, 489, 'ro')\n",
    "fig.colorbar(im, ax=axs[1,1], shrink=0.8)\n",
    "im = axs[1,2].imshow(-erosion_thickness, vmin=0, vmax=50, cmap=newcmap)\n",
    "# axs[1,2].contour(-erosion_thickness, levels=np.linspace(0,50,10), colors='k', linewidths=0.5)\n",
    "axs[1,2].set_title('erosion (thickness)')\n",
    "axs[1,2].set_xticks([])\n",
    "axs[1,2].set_yticks([])\n",
    "axs[1,2].plot(596, 354, 'ro')\n",
    "axs[1,2].plot(815, 451, 'ro')\n",
    "axs[1,2].plot(163, 489, 'ro')\n",
    "fig.colorbar(im, ax=axs[1,2], shrink=0.8)\n",
    "fig.tight_layout()"
   ]
  },
  {
   "cell_type": "markdown",
   "id": "0fc1bc56",
   "metadata": {},
   "source": [
    "### Plot cross sections (parts of Figures 9 and 10)"
   ]
  },
  {
   "cell_type": "code",
   "execution_count": 39,
   "id": "0159512d",
   "metadata": {},
   "outputs": [],
   "source": [
    "# data needs to be reloaded as \n",
    "# running 'sg.create_wheeler_diagram' has changed the dimensions of the 'strat' array but it did not change\n",
    "# the 'facies3d' array\n",
    "\n",
    "fname = '/Users/zoltan/Dropbox/Chronostratigraphy/meanderpy_strat_model_example_3.hdf5'\n",
    "f = h5py.File(fname, 'r')\n",
    "model  = f['model']\n",
    "topo = np.array(model['topo'])\n",
    "strat = np.array(model['strat'])\n",
    "facies = np.array(model['facies'])\n",
    "porosity = np.array(model['porosity'])\n",
    "facies_code = {}\n",
    "facies_code[int(np.array(model['point bar']))] = 'point bar'\n",
    "facies_code[int(np.array(model['levee']))] = 'levee'\n",
    "dx = float(np.array(model['dx']))\n",
    "f.close()"
   ]
  },
  {
   "cell_type": "code",
   "execution_count": 40,
   "id": "b41bbd06",
   "metadata": {},
   "outputs": [],
   "source": [
    "end_time = 61\n",
    "loc = 775\n",
    "fig, ax = plt.subplots()\n",
    "sg.plot_strike_section(topo, strat, \n",
    "                    dx, loc, ve=1, ax=ax, facies = facies3d, facies_colors=colors,\n",
    "                    linewidth=0.1, line_freq=1, color_mode='facies', plot_type='2D', \n",
    "                    plot_erosion=False, erosional_surfs_thickness=erosional_surfs_thickness, \n",
    "                    plot_water=False, plot_basement=True)"
   ]
  }
 ],
 "metadata": {
  "kernelspec": {
   "display_name": "Python 3 (ipykernel)",
   "language": "python",
   "name": "python3"
  },
  "language_info": {
   "codemirror_mode": {
    "name": "ipython",
    "version": 3
   },
   "file_extension": ".py",
   "mimetype": "text/x-python",
   "name": "python",
   "nbconvert_exporter": "python",
   "pygments_lexer": "ipython3",
   "version": "3.11.3"
  }
 },
 "nbformat": 4,
 "nbformat_minor": 5
}
