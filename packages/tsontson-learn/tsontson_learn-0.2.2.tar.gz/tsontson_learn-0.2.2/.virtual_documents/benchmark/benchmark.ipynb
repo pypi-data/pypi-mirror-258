import sys
import os
import time
sys.path.append(os.getcwd().replace('/benchmark',''))
from tsontson_learn import LinearRegression as TsonTson_LinearRegression
from sklearn.linear_model import LinearRegression as scikit_LinearRegression
import statsmodels.api as sm
import pandas as pd
import numpy as np

n_features = 10
n_rows = 1000
n_rows_test = 300

# Create some sample data
np.random.seed(0)  # For reproducibility
df = pd.DataFrame(data=np.random.randn(n_rows, n_features + 1).astype(np.float64), columns=['y'] + [f'X_{i}' for i in range(n_features)])

# Split the data into features and target
X = df[[c for c in df.columns if "X" in c]]  # DataFrame for features
y = df['y']  # Series for target
X_new = pd.DataFrame(np.random.randn(n_rows_test, n_features), columns=[f'X_{i}' for i in range(n_features)])

# Initialize models
sons_model = TsonTson_LinearRegression(fit_intercept=False)
scikit_model = scikit_LinearRegression(fit_intercept=False)

# Train and predict with TsonTson Linear Regression
start_time = time.time()
sons_model.fit(X, y)
sons_predictions = sons_model.predict(X_new)
sons_duration = time.time() - start_time

# Train and predict with Scikit-Learn Linear Regression
start_time = time.time()
scikit_model.fit(X, y)
scikit_predictions = scikit_model.predict(X_new)
scikit_duration = time.time() - start_time

# Train and predict with Statsmodels Linear Regression
start_time = time.time()
stats_model = sm.OLS(y, X).fit()
stats_predictions = stats_model.predict(X_new)  # Directly predict on new data
stats_duration = time.time() - start_time

# Output the durations for comparison
print('Tsonton worked = ', all(np.isclose(sons_predictions, scikit_predictions)))
print(f"TsonTson Linear Regression took {sons_duration:.6f} seconds.")
print(f"Scikit-Learn Linear Regression took {scikit_duration:.6f} seconds.")
print(f"Statsmodels Linear Regression took {stats_duration:.6f} seconds.")



import sys
import os
import time
import numpy as np
import pandas as pd
import matplotlib.pyplot as plt
from sklearn.linear_model import LinearRegression as scikit_LinearRegression
import statsmodels.api as sm

sys.path.append(os.getcwd().replace('/benchmark', ''))
from tsontson_learn import LinearRegression as TsonTson_LinearRegression

n_features = 1
n_iter = 15  # Number of iterations per dataset size

# Initialize result storage
results = {
    'size': [],
    'tsontson': [],
    'scikit': [],
    'statsmodels': []
}

for n_power in range(2, 7):  # Sizes from 10^2 to 10^8
    n_rows = 10 ** n_power
    n_rows_test = int(0.3 * n_rows)
    
    
    # Create some sample data
    np.random.seed(0)
    df = pd.DataFrame(np.random.randn(n_rows, n_features + 1).astype(np.float64), columns=['y'] + [f'X_{i}' for i in range(n_features)])
    X = df[[c for c in df.columns if "X" in c]]
    y = df['y']
    X_new = pd.DataFrame(np.random.randn(n_rows_test, n_features), columns=[f'X_{i}' for i in range(n_features)])

    # Initialize durations
    durations = {
        'tsontson': [],
        'scikit': [],
        'statsmodels': []
    }

    for _ in range(n_iter):
        # TsonTson Linear Regression
        start_time = time.time()
        sons_model = TsonTson_LinearRegression(fit_intercept=False)
        sons_model.fit(X, y)
        sons_predictions = sons_model.predict(X_new)
        durations['tsontson'].append(time.time() - start_time)

        # Scikit-Learn Linear Regression
        start_time = time.time()
        scikit_model = scikit_LinearRegression(fit_intercept=False)
        scikit_model.fit(X, y)
        scikit_predictions = scikit_model.predict(X_new)
        durations['scikit'].append(time.time() - start_time)

        # Statsmodels Linear Regression
        start_time = time.time()
        stats_model = sm.OLS(y, X).fit()
        stats_predictions = stats_model.predict(X_new)
        durations['statsmodels'].append(time.time() - start_time)

    # Store average durations
    results['size'].append(n_rows)
    results['tsontson'].append(np.mean(durations['tsontson']))
    results['scikit'].append(np.mean(durations['scikit']))
    results['statsmodels'].append(np.mean(durations['statsmodels']))

# Plotting the results
plt.figure(figsize=(10, 6))
plt.plot(results['size'], results['tsontson'], label='TsonTson Linear Regression', marker='o')
plt.plot(results['size'], results['scikit'], label='Scikit-Learn Linear Regression', marker='o')
plt.plot(results['size'], results['statsmodels'], label='Statsmodels Linear Regression', marker='o')

plt.xlabel('Dataset Size')
plt.ylabel('Average Duration (seconds)')
plt.title('Benchmarking Linear Regression Implementations')
plt.legend()
plt.xscale('log')
plt.yscale('log')
plt.grid(True)
plt.show()



import sys
import os
import time
import numpy as np
import pandas as pd
import matplotlib.pyplot as plt
from sklearn.linear_model import LinearRegression as scikit_LinearRegression
import statsmodels.api as sm
import numba as nb
sys.path.append(os.getcwd().replace('/benchmark', ''))
from tsontson_learn import LinearRegression as TsonTson_LinearRegression

import numpy as np

class DirectLinearRegression:
    def __init__(self, fit_intercept=True):
        self.fit_intercept = fit_intercept

    def fit(self, X, y):
        # Add a column of ones to X for the intercept term
        if self.fit_intercept:
            X = np.c_[np.ones(X.shape[0]), X]
        
        self.beta = np.dot(np.dot(X.T,X), np.linalg.inv(np.dot(X.T, X)))
        return self

    def predict(self, X):
        # Add a column of ones to X for the intercept term
        if self.fit_intercept:
            X = np.c_[np.ones(X.shape[0]), X]
        
        return np.dot(X, self.beta)


@nb.njit(cache = True, parallel=True, fastmath=True, forceinline=True, looplift=True, inline='always', target_backend='host', no_cfunc_wrapper=True, no_rewrites=True, nogil=True)
def nb_fit(X, y, fit_intercept):
    # Add a column of ones to X for the intercept term
    # if fit_intercept:
    #     X = np.c_[np.ones(X.shape[0]), X]

    return np.dot(np.dot(X.T,X), np.linalg.inv(np.dot(X.T, X)))

@nb.njit(cache = True, parallel=True, fastmath=True, forceinline=True, looplift=True, inline='always', target_backend='host', no_cfunc_wrapper=True, no_rewrites=True, nogil=True)
def nbpredict(X, beta, fit_intercept):
    # if self.fit_intercept:
    #     X = np.c_[np.ones(X.shape[0]), X]
    return np.dot(X, beta)

class NbDirectLinearRegression:
    def __init__(self, fit_intercept=True):
        self.fit_intercept = fit_intercept

    def fit(self, X, y):
        self.beta = nb_fit(X.to_numpy(), y.to_numpy().copy(), self.fit_intercept)
        return self

    def predict(self, X):
        return nbpredict(X.to_numpy(), self.beta, self.fit_intercept)


n_features = 10
n_iter = 5  # Number of iterations per dataset size

# Initialize result storage
results = {
    'size': [],
    'tsontson': [],
    'scikit': [],
    'statsmodels': [],
    'direct': [],
    'nb_direct': []

}

for n_power in range(2, 8):  # Sizes from 10^2 to 10^8
    n_rows = 10 ** n_power
    n_rows_test = int(0.3 * n_rows)
    
    
    # Create some sample data
    np.random.seed(0)
    df = pd.DataFrame(np.random.randn(n_rows, n_features + 1).astype(np.float64), columns=['y'] + [f'X_{i}' for i in range(n_features)])
    X = df[[c for c in df.columns if "X" in c]]
    y = df['y']
    X_new = pd.DataFrame(np.random.randn(n_rows_test, n_features), columns=[f'X_{i}' for i in range(n_features)])

    # Initialize durations
    durations = {
        'tsontson': [],
        'scikit': [],
        'statsmodels': [],
        'direct': [],
        'nb_direct': []
    }

    for _ in range(n_iter):
        # TsonTson Linear Regression
        start_time = time.time()
        sons_model = TsonTson_LinearRegression(fit_intercept=False)
        sons_model.fit(X, y)
        sons_predictions = sons_model.predict(X_new)
        durations['tsontson'].append(time.time() - start_time)

        # Scikit-Learn Linear Regression
        start_time = time.time()
        scikit_model = scikit_LinearRegression(fit_intercept=False)
        scikit_model.fit(X, y)
        scikit_predictions = scikit_model.predict(X_new)
        durations['scikit'].append(time.time() - start_time)

        # Statsmodels Linear Regression
        start_time = time.time()
        stats_model = sm.OLS(y, X).fit()
        stats_predictions = stats_model.predict(X_new)
        durations['statsmodels'].append(time.time() - start_time)
        
        start_time = time.time()
        direct_model = DirectLinearRegression(fit_intercept=False)
        direct_model.fit(X, y)
        direct_predictions = direct_model.predict(X_new)
        durations['direct'].append(time.time() - start_time)

        start_time = time.time()
        direct_model = NbDirectLinearRegression(fit_intercept=False)
        direct_model.fit(X, y)
        direct_predictions = direct_model.predict(X_new)
        durations['nb_direct'].append(time.time() - start_time)


    # Store average durations
    results['size'].append(n_rows)
    results['tsontson'].append(np.mean(durations['tsontson']))
    results['scikit'].append(np.mean(durations['scikit']))
    results['statsmodels'].append(np.mean(durations['statsmodels']))
    results['direct'].append(np.mean(durations['direct']))
    results['nb_direct'].append(np.mean(durations['nb_direct']))

# Plotting the results
plt.figure(figsize=(10,  6))
plt.plot(results['size'], results['tsontson'], label='TsonTson Linear Regression', marker='o')
plt.plot(results['size'], results['scikit'], label='Scikit-Learn Linear Regression', marker='o')
plt.plot(results['size'], results['statsmodels'], label='Statsmodels Linear Regression', marker='o')
plt.plot(results['size'], results['direct'], label='Direct Linear Regression', marker='o')  # Add this line
plt.plot(results['size'], results['nb_direct'], label='Numba Direct Linear Regression', marker='o')  # Add this line


plt.xlabel('Dataset Size')
plt.ylabel('Average Duration (seconds)')
plt.title('Benchmarking Linear Regression Implementations')
plt.legend()
plt.xscale('log')
plt.yscale('log')
plt.grid(True)
plt.show()





