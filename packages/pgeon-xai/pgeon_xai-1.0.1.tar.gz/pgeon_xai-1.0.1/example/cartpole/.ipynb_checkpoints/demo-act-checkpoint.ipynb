{
 "cells": [
  {
   "cell_type": "markdown",
   "metadata": {},
   "source": [
    "# XAI In Action - pgeon\n",
    "\n",
    "This notebook shows the current functionalities of the **pgeon** library."
   ]
  },
  {
   "cell_type": "markdown",
   "metadata": {},
   "source": [
    "## Preparation\n",
    "\n",
    "Loading an environment, an agent and a discretizer; the necessary elements to generate a Policy Graph."
   ]
  },
  {
   "cell_type": "code",
   "execution_count": 73,
   "metadata": {
    "ExecuteTime": {
     "end_time": "2023-12-16T11:45:04.672958Z",
     "start_time": "2023-12-16T11:45:04.512175Z"
    }
   },
   "outputs": [],
   "source": [
    "import gymnasium as gym\n",
    "\n",
    "from example.cartpole.discretizer import CartpoleDiscretizer"
   ]
  },
  {
   "cell_type": "code",
   "execution_count": 74,
   "metadata": {
    "ExecuteTime": {
     "end_time": "2023-12-16T11:45:04.673325Z",
     "start_time": "2023-12-16T11:45:04.515216Z"
    },
    "collapsed": false,
    "jupyter": {
     "outputs_hidden": false
    }
   },
   "outputs": [],
   "source": [
    "import torch"
   ]
  },
  {
   "cell_type": "code",
   "execution_count": 75,
   "metadata": {
    "ExecuteTime": {
     "end_time": "2023-12-16T11:45:04.740702Z",
     "start_time": "2023-12-16T11:45:04.520721Z"
    },
    "collapsed": false,
    "jupyter": {
     "outputs_hidden": false
    },
    "pycharm": {
     "name": "#%%\n"
    }
   },
   "outputs": [],
   "source": [
    "environment = gym.make('CartPole-v1')\n",
    "discretizer = CartpoleDiscretizer()"
   ]
  },
  {
   "cell_type": "code",
   "execution_count": 76,
   "metadata": {
    "ExecuteTime": {
     "end_time": "2023-12-16T11:45:04.740883Z",
     "start_time": "2023-12-16T11:45:04.524564Z"
    },
    "collapsed": false,
    "jupyter": {
     "outputs_hidden": false
    },
    "pycharm": {
     "name": "#%%\n"
    }
   },
   "outputs": [],
   "source": [
    "from pgeon import Agent\n",
    "from ray.rllib.algorithms.algorithm import Algorithm\n",
    "\n",
    "class CartpoleAgent(Agent):\n",
    "    def __init__(self, path):\n",
    "        self.agent = Algorithm.from_checkpoint(path)\n",
    "\n",
    "    def act(self, state):\n",
    "        return self.agent.compute_single_action(state)"
   ]
  },
  {
   "cell_type": "code",
   "execution_count": 77,
   "metadata": {
    "ExecuteTime": {
     "end_time": "2023-12-16T11:45:07.767601Z",
     "start_time": "2023-12-16T11:45:04.528095Z"
    },
    "collapsed": false,
    "jupyter": {
     "outputs_hidden": false
    },
    "pycharm": {
     "name": "#%%\n"
    },
    "scrolled": true
   },
   "outputs": [
    {
     "name": "stderr",
     "output_type": "stream",
     "text": [
      "/Users/sergio/repos/pgeon/venv/lib/python3.8/site-packages/ray/rllib/algorithms/algorithm.py:484: RayDeprecationWarning: This API is deprecated and may be removed in future Ray releases. You could suppress this warning by setting env variable PYTHONWARNINGS=\"ignore::DeprecationWarning\"\n",
      "`UnifiedLogger` will be removed in Ray 2.7.\n",
      "  return UnifiedLogger(config, logdir, loggers=None)\n",
      "/Users/sergio/repos/pgeon/venv/lib/python3.8/site-packages/ray/tune/logger/unified.py:53: RayDeprecationWarning: This API is deprecated and may be removed in future Ray releases. You could suppress this warning by setting env variable PYTHONWARNINGS=\"ignore::DeprecationWarning\"\n",
      "The `JsonLogger interface is deprecated in favor of the `ray.tune.json.JsonLoggerCallback` interface and will be removed in Ray 2.7.\n",
      "  self._loggers.append(cls(self.config, self.logdir, self.trial))\n",
      "/Users/sergio/repos/pgeon/venv/lib/python3.8/site-packages/ray/tune/logger/unified.py:53: RayDeprecationWarning: This API is deprecated and may be removed in future Ray releases. You could suppress this warning by setting env variable PYTHONWARNINGS=\"ignore::DeprecationWarning\"\n",
      "The `CSVLogger interface is deprecated in favor of the `ray.tune.csv.CSVLoggerCallback` interface and will be removed in Ray 2.7.\n",
      "  self._loggers.append(cls(self.config, self.logdir, self.trial))\n",
      "/Users/sergio/repos/pgeon/venv/lib/python3.8/site-packages/ray/tune/logger/unified.py:53: RayDeprecationWarning: This API is deprecated and may be removed in future Ray releases. You could suppress this warning by setting env variable PYTHONWARNINGS=\"ignore::DeprecationWarning\"\n",
      "The `TBXLogger interface is deprecated in favor of the `ray.tune.tensorboardx.TBXLoggerCallback` interface and will be removed in Ray 2.7.\n",
      "  self._loggers.append(cls(self.config, self.logdir, self.trial))\n",
      "2023-12-16 05:45:07,749\tWARNING util.py:62 -- Install gputil for GPU system monitoring.\n"
     ]
    }
   ],
   "source": [
    "agent = CartpoleAgent('checkpoints/PPO_CartPole-v1_1acbb_00000_0_2023-12-05_19-28-36/checkpoint_000000')"
   ]
  },
  {
   "cell_type": "code",
   "execution_count": 77,
   "metadata": {
    "ExecuteTime": {
     "end_time": "2023-12-16T11:45:07.768741Z",
     "start_time": "2023-12-16T11:45:07.766406Z"
    },
    "collapsed": false,
    "jupyter": {
     "outputs_hidden": false
    }
   },
   "outputs": [],
   "source": []
  },
  {
   "cell_type": "markdown",
   "metadata": {},
   "source": [
    "## Policy Graph generation"
   ]
  },
  {
   "cell_type": "code",
   "execution_count": 78,
   "metadata": {
    "ExecuteTime": {
     "end_time": "2023-12-16T11:45:07.779096Z",
     "start_time": "2023-12-16T11:45:07.778721Z"
    }
   },
   "outputs": [],
   "source": [
    "from pgeon import PolicyGraph"
   ]
  },
  {
   "cell_type": "markdown",
   "metadata": {},
   "source": [
    "Policy Graphs are instantiated with an environment and a discretizer."
   ]
  },
  {
   "cell_type": "code",
   "execution_count": 79,
   "metadata": {
    "ExecuteTime": {
     "end_time": "2023-12-16T11:45:07.780461Z",
     "start_time": "2023-12-16T11:45:07.779297Z"
    }
   },
   "outputs": [],
   "source": [
    "pg = PolicyGraph(environment, discretizer)"
   ]
  },
  {
   "cell_type": "markdown",
   "metadata": {},
   "source": [
    "We generate a Policy Graph with the `fit()` function, in this case generating 1000 episode trajectories from our agent. If the PG has been previously fit, one can choose to update the PG with new trajectories (instead of re-generating the PG) with `update=True`."
   ]
  },
  {
   "cell_type": "code",
   "execution_count": 80,
   "metadata": {
    "ExecuteTime": {
     "end_time": "2023-12-16T11:45:24.751952Z",
     "start_time": "2023-12-16T11:45:07.779474Z"
    }
   },
   "outputs": [
    {
     "name": "stderr",
     "output_type": "stream",
     "text": [
      "Fitting PG...:   0%|          | 0/200 [00:00<?, ?it/s]\u001b[36m(RolloutWorker pid=75057)\u001b[0m 2023-12-16 05:45:07,701\tWARNING __init__.py:10 -- PG has/have been moved to `rllib_contrib` and will no longer be maintained by the RLlib team. You can still use it/them normally inside RLlib util Ray 2.8, but from Ray 2.9 on, all `rllib_contrib` algorithms will no longer be part of the core repo, and will therefore have to be installed separately with pinned dependencies for e.g. ray[rllib] and other packages! See https://github.com/ray-project/ray/tree/master/rllib_contrib#rllib-contrib for more information on the RLlib contrib effort.\n",
      "Fitting PG...:  20%|██        | 40/200 [00:02<00:11, 14.31it/s]\u001b[33m(raylet)\u001b[0m [2023-12-16 05:45:10,774 E 70095 3548731] (raylet) file_system_monitor.cc:111: /tmp/ray/session_2023-12-16_05-25-04_522475_70028 is over 95% full, available space: 24519659520; capacity: 494384795648. Object creation will fail if spilling is required.\n",
      "Fitting PG...:  78%|███████▊  | 157/200 [00:13<00:05,  7.74it/s]\u001b[33m(raylet)\u001b[0m [2023-12-16 05:45:20,858 E 70095 3548731] (raylet) file_system_monitor.cc:111: /tmp/ray/session_2023-12-16_05-25-04_522475_70028 is over 95% full, available space: 24521420800; capacity: 494384795648. Object creation will fail if spilling is required.\n",
      "Fitting PG...: 100%|██████████| 200/200 [00:16<00:00, 11.79it/s]\n"
     ]
    }
   ],
   "source": [
    "pg = pg.fit(agent, num_episodes=200, update=False)"
   ]
  },
  {
   "cell_type": "code",
   "execution_count": 81,
   "metadata": {
    "ExecuteTime": {
     "end_time": "2023-12-16T11:45:24.763418Z",
     "start_time": "2023-12-16T11:45:24.758417Z"
    }
   },
   "outputs": [
    {
     "name": "stdout",
     "output_type": "stream",
     "text": [
      "Number of nodes: 14\n",
      "Number of edges: 131\n"
     ]
    }
   ],
   "source": [
    "print(f'Number of nodes: {len(pg.nodes)}')\n",
    "print(f'Number of edges: {len(pg.edges)}')"
   ]
  },
  {
   "cell_type": "markdown",
   "metadata": {},
   "source": [
    "ach node has information about a discretized state:"
   ]
  },
  {
   "cell_type": "code",
   "execution_count": 82,
   "metadata": {
    "ExecuteTime": {
     "end_time": "2023-12-16T11:45:24.801644Z",
     "start_time": "2023-12-16T11:45:24.764690Z"
    }
   },
   "outputs": [
    {
     "name": "stdout",
     "output_type": "stream",
     "text": [
      "(Position(MIDDLE), Velocity(LEFT), Angle(STUCK_RIGHT))\n",
      "  Times visited: 1501\n",
      "  p(s):          0.036\n"
     ]
    }
   ],
   "source": [
    "arbitrary_state = list(pg.nodes)[0]\n",
    "\n",
    "print(arbitrary_state)\n",
    "print(f'  Times visited: {pg.nodes[arbitrary_state][\"frequency\"]}')\n",
    "print(f'  p(s):          {pg.nodes[arbitrary_state][\"probability\"]:.3f}')"
   ]
  },
  {
   "cell_type": "markdown",
   "metadata": {},
   "source": [
    "Each edge has information about a transition between states:"
   ]
  },
  {
   "cell_type": "code",
   "execution_count": 83,
   "metadata": {
    "ExecuteTime": {
     "end_time": "2023-12-16T11:45:24.801875Z",
     "start_time": "2023-12-16T11:45:24.771933Z"
    }
   },
   "outputs": [
    {
     "name": "stdout",
     "output_type": "stream",
     "text": [
      "From:    (Position(MIDDLE), Velocity(LEFT), Angle(STUCK_RIGHT))\n",
      "Action:  1\n",
      "To:      (Position(MIDDLE), Velocity(LEFT), Angle(STABILIZING_LEFT))\n",
      "  Times visited:      39\n",
      "  p(s_to,a | s_from): 0.026\n"
     ]
    }
   ],
   "source": [
    "arbitrary_edge = list(pg.edges)[0]\n",
    "\n",
    "print(f'From:    {arbitrary_edge[0]}')\n",
    "print(f'Action:  {arbitrary_edge[2]}')\n",
    "print(f'To:      {arbitrary_edge[1]}')\n",
    "print(f'  Times visited:      {pg[arbitrary_edge[0]][arbitrary_edge[1]][arbitrary_edge[2]][\"frequency\"]}')\n",
    "print(f'  p(s_to,a | s_from): {pg[arbitrary_edge[0]][arbitrary_edge[1]][arbitrary_edge[2]][\"probability\"]:.3f}')"
   ]
  },
  {
   "cell_type": "markdown",
   "metadata": {},
   "source": [
    "The `PolicyGraph` object also stores the full discretized episode trajectories of the last fit."
   ]
  },
  {
   "cell_type": "code",
   "execution_count": 84,
   "metadata": {
    "ExecuteTime": {
     "end_time": "2023-12-16T11:45:24.802271Z",
     "start_time": "2023-12-16T11:45:24.775616Z"
    }
   },
   "outputs": [
    {
     "data": {
      "text/plain": [
       "200"
      ]
     },
     "execution_count": 84,
     "metadata": {},
     "output_type": "execute_result"
    }
   ],
   "source": [
    "len(pg._trajectories_of_last_fit)"
   ]
  },
  {
   "cell_type": "markdown",
   "metadata": {},
   "source": [
    "Each trajectory is stored as a (state0, action0, state1, ..., stateN) tuple ."
   ]
  },
  {
   "cell_type": "code",
   "execution_count": 85,
   "metadata": {
    "ExecuteTime": {
     "end_time": "2023-12-16T11:45:24.802807Z",
     "start_time": "2023-12-16T11:45:24.786780Z"
    }
   },
   "outputs": [
    {
     "data": {
      "text/plain": [
       "[(Position(MIDDLE), Velocity(LEFT), Angle(STUCK_LEFT)),\n",
       " 0,\n",
       " (Position(MIDDLE), Velocity(LEFT), Angle(STABILIZING_RIGHT)),\n",
       " 1,\n",
       " (Position(MIDDLE), Velocity(LEFT), Angle(STUCK_LEFT)),\n",
       " 0,\n",
       " (Position(MIDDLE), Velocity(LEFT), Angle(STABILIZING_RIGHT)),\n",
       " 1,\n",
       " (Position(MIDDLE), Velocity(LEFT), Angle(FALLING_LEFT)),\n",
       " 0,\n",
       " (Position(MIDDLE), Velocity(LEFT), Angle(STABILIZING_RIGHT)),\n",
       " 0,\n",
       " (Position(MIDDLE), Velocity(LEFT), Angle(STABILIZING_RIGHT)),\n",
       " 1,\n",
       " (Position(MIDDLE), Velocity(LEFT), Angle(STABILIZING_RIGHT)),\n",
       " 1,\n",
       " (Position(MIDDLE), Velocity(LEFT), Angle(FALLING_LEFT)),\n",
       " 0,\n",
       " (Position(MIDDLE), Velocity(LEFT), Angle(STABILIZING_RIGHT)),\n",
       " 0,\n",
       " (Position(MIDDLE), Velocity(LEFT), Angle(STABILIZING_RIGHT)),\n",
       " 1,\n",
       " (Position(MIDDLE), Velocity(LEFT), Angle(STABILIZING_RIGHT)),\n",
       " 1,\n",
       " (Position(MIDDLE), Velocity(LEFT), Angle(FALLING_LEFT)),\n",
       " 0,\n",
       " (Position(MIDDLE), Velocity(LEFT), Angle(STABILIZING_RIGHT)),\n",
       " 1,\n",
       " (Position(MIDDLE), Velocity(LEFT), Angle(FALLING_LEFT)),\n",
       " 0,\n",
       " (Position(MIDDLE), Velocity(LEFT), Angle(STUCK_LEFT)),\n",
       " 1,\n",
       " (Position(MIDDLE), Velocity(LEFT), Angle(FALLING_LEFT)),\n",
       " 0,\n",
       " (Position(MIDDLE), Velocity(LEFT), Angle(STUCK_LEFT)),\n",
       " 0,\n",
       " (Position(MIDDLE), Velocity(LEFT), Angle(STABILIZING_RIGHT)),\n",
       " 1,\n",
       " (Position(MIDDLE), Velocity(LEFT), Angle(STUCK_LEFT)),\n",
       " 0,\n",
       " (Position(MIDDLE), Velocity(LEFT), Angle(STABILIZING_RIGHT)),\n",
       " 1,\n",
       " (Position(MIDDLE), Velocity(LEFT), Angle(STUCK_LEFT)),\n",
       " 1,\n",
       " (Position(MIDDLE), Velocity(LEFT), Angle(FALLING_LEFT)),\n",
       " 0,\n",
       " (Position(MIDDLE), Velocity(LEFT), Angle(STUCK_LEFT)),\n",
       " 0,\n",
       " (Position(MIDDLE), Velocity(LEFT), Angle(STABILIZING_RIGHT)),\n",
       " 1,\n",
       " (Position(MIDDLE), Velocity(LEFT), Angle(STUCK_LEFT)),\n",
       " 0,\n",
       " (Position(MIDDLE), Velocity(LEFT), Angle(STABILIZING_RIGHT)),\n",
       " 1,\n",
       " (Position(MIDDLE), Velocity(LEFT), Angle(STUCK_RIGHT)),\n",
       " 1,\n",
       " (Position(MIDDLE), Velocity(LEFT), Angle(STABILIZING_LEFT)),\n",
       " 0,\n",
       " (Position(MIDDLE), Velocity(LEFT), Angle(STUCK_RIGHT)),\n",
       " 1,\n",
       " (Position(MIDDLE), Velocity(LEFT), Angle(STABILIZING_LEFT)),\n",
       " 0,\n",
       " (Position(MIDDLE), Velocity(LEFT), Angle(STUCK_LEFT)),\n",
       " 0,\n",
       " (Position(MIDDLE), Velocity(LEFT), Angle(STABILIZING_RIGHT)),\n",
       " 1,\n",
       " (Position(MIDDLE), Velocity(LEFT), Angle(STUCK_RIGHT)),\n",
       " 0,\n",
       " (Position(MIDDLE), Velocity(LEFT), Angle(FALLING_RIGHT)),\n",
       " 1,\n",
       " (Position(MIDDLE), Velocity(LEFT), Angle(STUCK_RIGHT)),\n",
       " 0,\n",
       " (Position(MIDDLE), Velocity(LEFT), Angle(FALLING_RIGHT)),\n",
       " 1,\n",
       " (Position(MIDDLE), Velocity(LEFT), Angle(STUCK_RIGHT)),\n",
       " 0,\n",
       " (Position(MIDDLE), Velocity(LEFT), Angle(FALLING_RIGHT)),\n",
       " 1,\n",
       " (Position(MIDDLE), Velocity(LEFT), Angle(STUCK_RIGHT)),\n",
       " 1,\n",
       " (Position(MIDDLE), Velocity(LEFT), Angle(STABILIZING_LEFT)),\n",
       " 0,\n",
       " (Position(MIDDLE), Velocity(LEFT), Angle(STUCK_RIGHT)),\n",
       " 1,\n",
       " (Position(MIDDLE), Velocity(LEFT), Angle(STABILIZING_LEFT)),\n",
       " 0,\n",
       " (Position(MIDDLE), Velocity(LEFT), Angle(FALLING_RIGHT)),\n",
       " 1,\n",
       " (Position(MIDDLE), Velocity(LEFT), Angle(STABILIZING_LEFT)),\n",
       " 0,\n",
       " (Position(MIDDLE), Velocity(LEFT), Angle(FALLING_RIGHT)),\n",
       " 1,\n",
       " (Position(MIDDLE), Velocity(LEFT), Angle(STABILIZING_LEFT)),\n",
       " 0,\n",
       " (Position(MIDDLE), Velocity(LEFT), Angle(FALLING_RIGHT)),\n",
       " 0,\n",
       " (Position(MIDDLE), Velocity(LEFT), Angle(FALLING_RIGHT)),\n",
       " 1,\n",
       " (Position(MIDDLE), Velocity(LEFT), Angle(FALLING_RIGHT)),\n",
       " 1,\n",
       " (Position(MIDDLE), Velocity(LEFT), Angle(STABILIZING_LEFT)),\n",
       " 0,\n",
       " (Position(MIDDLE), Velocity(LEFT), Angle(FALLING_RIGHT)),\n",
       " 1,\n",
       " (Position(MIDDLE), Velocity(LEFT), Angle(STABILIZING_LEFT)),\n",
       " 0,\n",
       " (Position(MIDDLE), Velocity(LEFT), Angle(FALLING_RIGHT)),\n",
       " 1,\n",
       " (Position(MIDDLE), Velocity(LEFT), Angle(STUCK_RIGHT)),\n",
       " 0,\n",
       " (Position(MIDDLE), Velocity(LEFT), Angle(FALLING_RIGHT)),\n",
       " 1,\n",
       " (Position(MIDDLE), Velocity(LEFT), Angle(STUCK_RIGHT)),\n",
       " 0,\n",
       " (Position(MIDDLE), Velocity(LEFT), Angle(FALLING_RIGHT)),\n",
       " 1,\n",
       " (Position(MIDDLE), Velocity(LEFT), Angle(STUCK_RIGHT)),\n",
       " 0,\n",
       " (Position(MIDDLE), Velocity(LEFT), Angle(FALLING_RIGHT)),\n",
       " 1,\n",
       " (Position(MIDDLE), Velocity(LEFT), Angle(STUCK_RIGHT)),\n",
       " 0,\n",
       " (Position(MIDDLE), Velocity(LEFT), Angle(FALLING_RIGHT)),\n",
       " 1,\n",
       " (Position(MIDDLE), Velocity(LEFT), Angle(STUCK_RIGHT)),\n",
       " 1,\n",
       " (Position(MIDDLE), Velocity(RIGHT), Angle(STABILIZING_LEFT)),\n",
       " 0,\n",
       " (Position(MIDDLE), Velocity(LEFT), Angle(STUCK_RIGHT)),\n",
       " 0,\n",
       " (Position(MIDDLE), Velocity(LEFT), Angle(FALLING_RIGHT)),\n",
       " 1,\n",
       " (Position(MIDDLE), Velocity(LEFT), Angle(STUCK_RIGHT)),\n",
       " 1,\n",
       " (Position(MIDDLE), Velocity(RIGHT), Angle(STABILIZING_LEFT)),\n",
       " 0,\n",
       " (Position(MIDDLE), Velocity(LEFT), Angle(FALLING_RIGHT)),\n",
       " 1,\n",
       " (Position(MIDDLE), Velocity(RIGHT), Angle(STABILIZING_LEFT)),\n",
       " 1,\n",
       " (Position(MIDDLE), Velocity(RIGHT), Angle(STABILIZING_LEFT)),\n",
       " 0,\n",
       " (Position(MIDDLE), Velocity(RIGHT), Angle(STABILIZING_LEFT)),\n",
       " 0,\n",
       " (Position(MIDDLE), Velocity(LEFT), Angle(FALLING_RIGHT)),\n",
       " 1,\n",
       " (Position(MIDDLE), Velocity(RIGHT), Angle(STUCK_RIGHT)),\n",
       " 1,\n",
       " (Position(MIDDLE), Velocity(RIGHT), Angle(STABILIZING_LEFT)),\n",
       " 0,\n",
       " (Position(MIDDLE), Velocity(RIGHT), Angle(STUCK_RIGHT)),\n",
       " 0,\n",
       " (Position(MIDDLE), Velocity(LEFT), Angle(FALLING_RIGHT)),\n",
       " 1,\n",
       " (Position(MIDDLE), Velocity(RIGHT), Angle(STUCK_RIGHT)),\n",
       " 1,\n",
       " (Position(MIDDLE), Velocity(RIGHT), Angle(STABILIZING_LEFT)),\n",
       " 1,\n",
       " (Position(MIDDLE), Velocity(RIGHT), Angle(STABILIZING_LEFT)),\n",
       " 0,\n",
       " (Position(MIDDLE), Velocity(RIGHT), Angle(STABILIZING_LEFT)),\n",
       " 0,\n",
       " (Position(MIDDLE), Velocity(RIGHT), Angle(STUCK_RIGHT)),\n",
       " 1,\n",
       " (Position(MIDDLE), Velocity(RIGHT), Angle(STABILIZING_LEFT)),\n",
       " 0,\n",
       " (Position(MIDDLE), Velocity(RIGHT), Angle(STUCK_RIGHT)),\n",
       " 0,\n",
       " (Position(MIDDLE), Velocity(LEFT), Angle(FALLING_RIGHT)),\n",
       " 1,\n",
       " (Position(MIDDLE), Velocity(RIGHT), Angle(STUCK_RIGHT)),\n",
       " 1,\n",
       " (Position(MIDDLE), Velocity(RIGHT), Angle(STABILIZING_LEFT)),\n",
       " 0,\n",
       " (Position(MIDDLE), Velocity(RIGHT), Angle(STUCK_RIGHT)),\n",
       " 1,\n",
       " (Position(MIDDLE), Velocity(RIGHT), Angle(STABILIZING_LEFT)),\n",
       " 0,\n",
       " (Position(MIDDLE), Velocity(RIGHT), Angle(STUCK_RIGHT)),\n",
       " 1,\n",
       " (Position(MIDDLE), Velocity(RIGHT), Angle(STABILIZING_LEFT)),\n",
       " 0,\n",
       " (Position(MIDDLE), Velocity(RIGHT), Angle(STUCK_RIGHT)),\n",
       " 1,\n",
       " (Position(MIDDLE), Velocity(RIGHT), Angle(STABILIZING_LEFT)),\n",
       " 0,\n",
       " (Position(MIDDLE), Velocity(RIGHT), Angle(FALLING_RIGHT)),\n",
       " 1,\n",
       " (Position(MIDDLE), Velocity(RIGHT), Angle(STABILIZING_LEFT)),\n",
       " 0,\n",
       " (Position(MIDDLE), Velocity(RIGHT), Angle(FALLING_RIGHT)),\n",
       " 0,\n",
       " (Position(MIDDLE), Velocity(LEFT), Angle(FALLING_RIGHT)),\n",
       " 1,\n",
       " (Position(MIDDLE), Velocity(RIGHT), Angle(FALLING_RIGHT)),\n",
       " 1,\n",
       " (Position(MIDDLE), Velocity(RIGHT), Angle(STABILIZING_LEFT)),\n",
       " 1,\n",
       " (Position(MIDDLE), Velocity(RIGHT), Angle(STABILIZING_LEFT)),\n",
       " 0,\n",
       " (Position(MIDDLE), Velocity(RIGHT), Angle(STABILIZING_LEFT)),\n",
       " 0,\n",
       " (Position(MIDDLE), Velocity(RIGHT), Angle(FALLING_RIGHT)),\n",
       " 1,\n",
       " (Position(MIDDLE), Velocity(RIGHT), Angle(STABILIZING_LEFT)),\n",
       " 0,\n",
       " (Position(MIDDLE), Velocity(RIGHT), Angle(FALLING_RIGHT)),\n",
       " 1,\n",
       " (Position(MIDDLE), Velocity(RIGHT), Angle(STABILIZING_LEFT)),\n",
       " 0,\n",
       " (Position(MIDDLE), Velocity(RIGHT), Angle(FALLING_RIGHT)),\n",
       " 0,\n",
       " (Position(MIDDLE), Velocity(LEFT), Angle(FALLING_RIGHT)),\n",
       " 1,\n",
       " (Position(MIDDLE), Velocity(RIGHT), Angle(FALLING_RIGHT)),\n",
       " 1,\n",
       " (Position(MIDDLE), Velocity(RIGHT), Angle(STUCK_RIGHT)),\n",
       " 0,\n",
       " (Position(MIDDLE), Velocity(RIGHT), Angle(FALLING_RIGHT)),\n",
       " 1,\n",
       " (Position(MIDDLE), Velocity(RIGHT), Angle(STUCK_RIGHT)),\n",
       " 1,\n",
       " (Position(MIDDLE), Velocity(RIGHT), Angle(STABILIZING_LEFT)),\n",
       " 0,\n",
       " (Position(MIDDLE), Velocity(RIGHT), Angle(STUCK_RIGHT)),\n",
       " 1,\n",
       " (Position(MIDDLE), Velocity(RIGHT), Angle(STABILIZING_LEFT)),\n",
       " 1,\n",
       " (Position(MIDDLE), Velocity(RIGHT), Angle(STABILIZING_LEFT)),\n",
       " 0,\n",
       " (Position(MIDDLE), Velocity(RIGHT), Angle(STABILIZING_LEFT)),\n",
       " 0,\n",
       " (Position(MIDDLE), Velocity(RIGHT), Angle(STUCK_LEFT)),\n",
       " 1,\n",
       " (Position(MIDDLE), Velocity(RIGHT), Angle(FALLING_LEFT)),\n",
       " 0,\n",
       " (Position(MIDDLE), Velocity(RIGHT), Angle(STUCK_LEFT)),\n",
       " 0,\n",
       " (Position(MIDDLE), Velocity(RIGHT), Angle(STABILIZING_RIGHT)),\n",
       " 1,\n",
       " (Position(MIDDLE), Velocity(RIGHT), Angle(STUCK_LEFT)),\n",
       " 1,\n",
       " (Position(MIDDLE), Velocity(RIGHT), Angle(FALLING_LEFT)),\n",
       " 0,\n",
       " (Position(MIDDLE), Velocity(RIGHT), Angle(STUCK_LEFT)),\n",
       " 0,\n",
       " (Position(MIDDLE), Velocity(RIGHT), Angle(STABILIZING_RIGHT)),\n",
       " 1,\n",
       " (Position(MIDDLE), Velocity(RIGHT), Angle(STUCK_LEFT)),\n",
       " 1,\n",
       " (Position(MIDDLE), Velocity(RIGHT), Angle(FALLING_LEFT)),\n",
       " 0,\n",
       " (Position(MIDDLE), Velocity(RIGHT), Angle(STUCK_LEFT)),\n",
       " 1,\n",
       " (Position(MIDDLE), Velocity(RIGHT), Angle(FALLING_LEFT)),\n",
       " 0,\n",
       " (Position(MIDDLE), Velocity(RIGHT), Angle(STUCK_LEFT)),\n",
       " 0,\n",
       " (Position(MIDDLE), Velocity(RIGHT), Angle(STABILIZING_RIGHT)),\n",
       " 0,\n",
       " (Position(MIDDLE), Velocity(LEFT), Angle(STABILIZING_RIGHT)),\n",
       " 1,\n",
       " (Position(MIDDLE), Velocity(RIGHT), Angle(STABILIZING_RIGHT)),\n",
       " 1,\n",
       " (Position(MIDDLE), Velocity(RIGHT), Angle(STUCK_LEFT)),\n",
       " 0,\n",
       " (Position(MIDDLE), Velocity(RIGHT), Angle(STABILIZING_RIGHT)),\n",
       " 1,\n",
       " (Position(MIDDLE), Velocity(RIGHT), Angle(STUCK_LEFT)),\n",
       " 1,\n",
       " (Position(MIDDLE), Velocity(RIGHT), Angle(FALLING_LEFT)),\n",
       " 0,\n",
       " (Position(MIDDLE), Velocity(RIGHT), Angle(STUCK_LEFT)),\n",
       " 1,\n",
       " (Position(MIDDLE), Velocity(RIGHT), Angle(FALLING_LEFT)),\n",
       " 0,\n",
       " (Position(MIDDLE), Velocity(RIGHT), Angle(FALLING_LEFT)),\n",
       " 1,\n",
       " (Position(MIDDLE), Velocity(RIGHT), Angle(FALLING_LEFT)),\n",
       " 0,\n",
       " (Position(MIDDLE), Velocity(RIGHT), Angle(FALLING_LEFT)),\n",
       " 0,\n",
       " (Position(MIDDLE), Velocity(RIGHT), Angle(STABILIZING_RIGHT)),\n",
       " 0,\n",
       " (Position(MIDDLE), Velocity(LEFT), Angle(STABILIZING_RIGHT)),\n",
       " 1,\n",
       " (Position(MIDDLE), Velocity(RIGHT), Angle(STABILIZING_RIGHT)),\n",
       " 0,\n",
       " (Position(MIDDLE), Velocity(LEFT), Angle(STABILIZING_RIGHT)),\n",
       " 1,\n",
       " (Position(MIDDLE), Velocity(RIGHT), Angle(STABILIZING_RIGHT)),\n",
       " 0,\n",
       " (Position(MIDDLE), Velocity(LEFT), Angle(STABILIZING_RIGHT)),\n",
       " 1,\n",
       " (Position(MIDDLE), Velocity(RIGHT), Angle(STABILIZING_RIGHT)),\n",
       " 0,\n",
       " (Position(MIDDLE), Velocity(LEFT), Angle(STABILIZING_RIGHT)),\n",
       " 0,\n",
       " (Position(MIDDLE), Velocity(LEFT), Angle(FALLING_RIGHT)),\n",
       " 1,\n",
       " (Position(MIDDLE), Velocity(LEFT), Angle(FALLING_RIGHT)),\n",
       " 1,\n",
       " (Position(MIDDLE), Velocity(RIGHT), Angle(FALLING_RIGHT)),\n",
       " 1,\n",
       " (Position(MIDDLE), Velocity(RIGHT), Angle(STABILIZING_LEFT)),\n",
       " 0,\n",
       " (Position(MIDDLE), Velocity(RIGHT), Angle(FALLING_RIGHT)),\n",
       " 1,\n",
       " (Position(MIDDLE), Velocity(RIGHT), Angle(STABILIZING_LEFT)),\n",
       " 1,\n",
       " (Position(MIDDLE), Velocity(RIGHT), Angle(STABILIZING_LEFT)),\n",
       " 0,\n",
       " (Position(MIDDLE), Velocity(RIGHT), Angle(STABILIZING_LEFT)),\n",
       " 0,\n",
       " (Position(MIDDLE), Velocity(RIGHT), Angle(FALLING_RIGHT)),\n",
       " 0,\n",
       " (Position(MIDDLE), Velocity(LEFT), Angle(FALLING_RIGHT)),\n",
       " 1,\n",
       " (Position(MIDDLE), Velocity(RIGHT), Angle(FALLING_RIGHT)),\n",
       " 1,\n",
       " (Position(MIDDLE), Velocity(RIGHT), Angle(STUCK_RIGHT)),\n",
       " 0,\n",
       " (Position(MIDDLE), Velocity(RIGHT), Angle(FALLING_RIGHT)),\n",
       " 1,\n",
       " (Position(MIDDLE), Velocity(RIGHT), Angle(STUCK_RIGHT)),\n",
       " 1,\n",
       " (Position(MIDDLE), Velocity(RIGHT), Angle(STABILIZING_LEFT)),\n",
       " 0,\n",
       " (Position(MIDDLE), Velocity(RIGHT), Angle(STUCK_RIGHT)),\n",
       " 1,\n",
       " (Position(MIDDLE), Velocity(RIGHT), Angle(STABILIZING_LEFT)),\n",
       " 0,\n",
       " (Position(MIDDLE), Velocity(RIGHT), Angle(STUCK_RIGHT)),\n",
       " 0,\n",
       " (Position(MIDDLE), Velocity(RIGHT), Angle(FALLING_RIGHT)),\n",
       " 1,\n",
       " (Position(MIDDLE), Velocity(RIGHT), Angle(STUCK_RIGHT)),\n",
       " 0,\n",
       " (Position(MIDDLE), Velocity(RIGHT), Angle(FALLING_RIGHT)),\n",
       " 0,\n",
       " (Position(MIDDLE), Velocity(LEFT), Angle(FALLING_RIGHT)),\n",
       " 1,\n",
       " (Position(MIDDLE), Velocity(RIGHT), Angle(FALLING_RIGHT)),\n",
       " 1,\n",
       " (Position(MIDDLE), Velocity(RIGHT), Angle(STUCK_RIGHT)),\n",
       " 0,\n",
       " (Position(MIDDLE), Velocity(RIGHT), Angle(FALLING_RIGHT)),\n",
       " 1,\n",
       " (Position(MIDDLE), Velocity(RIGHT), Angle(STUCK_RIGHT)),\n",
       " 0,\n",
       " (Position(MIDDLE), Velocity(RIGHT), Angle(FALLING_RIGHT)),\n",
       " 1,\n",
       " (Position(MIDDLE), Velocity(RIGHT), Angle(STUCK_RIGHT)),\n",
       " 1,\n",
       " (Position(MIDDLE), Velocity(RIGHT), Angle(STABILIZING_LEFT)),\n",
       " 1,\n",
       " (Position(MIDDLE), Velocity(RIGHT), Angle(STABILIZING_LEFT)),\n",
       " 0,\n",
       " (Position(MIDDLE), Velocity(RIGHT), Angle(STABILIZING_LEFT)),\n",
       " 0,\n",
       " (Position(MIDDLE), Velocity(RIGHT), Angle(FALLING_RIGHT)),\n",
       " 0,\n",
       " (Position(MIDDLE), Velocity(RIGHT), Angle(FALLING_RIGHT)),\n",
       " 0,\n",
       " (Position(MIDDLE), Velocity(LEFT), Angle(FALLING_RIGHT)),\n",
       " 1,\n",
       " (Position(MIDDLE), Velocity(RIGHT), Angle(FALLING_RIGHT)),\n",
       " 1,\n",
       " (Position(MIDDLE), Velocity(RIGHT), Angle(FALLING_RIGHT)),\n",
       " 0,\n",
       " (Position(MIDDLE), Velocity(RIGHT), Angle(FALLING_RIGHT)),\n",
       " 1,\n",
       " (Position(MIDDLE), Velocity(RIGHT), Angle(FALLING_RIGHT)),\n",
       " 1,\n",
       " (Position(MIDDLE), Velocity(RIGHT), Angle(STUCK_RIGHT)),\n",
       " 1,\n",
       " (Position(MIDDLE), Velocity(RIGHT), Angle(STABILIZING_LEFT)),\n",
       " 0,\n",
       " (Position(MIDDLE), Velocity(RIGHT), Angle(STUCK_RIGHT)),\n",
       " 1,\n",
       " (Position(MIDDLE), Velocity(RIGHT), Angle(STABILIZING_LEFT)),\n",
       " 1,\n",
       " (Position(MIDDLE), Velocity(RIGHT), Angle(STABILIZING_LEFT)),\n",
       " 0,\n",
       " (Position(MIDDLE), Velocity(RIGHT), Angle(STABILIZING_LEFT)),\n",
       " 0,\n",
       " (Position(MIDDLE), Velocity(RIGHT), Angle(FALLING_RIGHT)),\n",
       " 1,\n",
       " (Position(MIDDLE), Velocity(RIGHT), Angle(STUCK_RIGHT)),\n",
       " 0,\n",
       " (Position(MIDDLE), Velocity(RIGHT), Angle(FALLING_RIGHT)),\n",
       " 1,\n",
       " (Position(MIDDLE), Velocity(RIGHT), Angle(STUCK_RIGHT)),\n",
       " 1,\n",
       " (Position(MIDDLE), Velocity(RIGHT), Angle(STABILIZING_LEFT)),\n",
       " 1,\n",
       " (Position(MIDDLE), Velocity(RIGHT), Angle(STABILIZING_LEFT)),\n",
       " 1,\n",
       " (Position(MIDDLE), Velocity(RIGHT), Angle(STABILIZING_LEFT)),\n",
       " 0,\n",
       " (Position(MIDDLE), Velocity(RIGHT), Angle(STABILIZING_LEFT)),\n",
       " 0,\n",
       " (Position(MIDDLE), Velocity(RIGHT), Angle(STABILIZING_LEFT)),\n",
       " 0,\n",
       " (Position(MIDDLE), Velocity(RIGHT), Angle(FALLING_RIGHT)),\n",
       " 1,\n",
       " (Position(MIDDLE), Velocity(RIGHT), Angle(STABILIZING_LEFT)),\n",
       " 0,\n",
       " (Position(MIDDLE), Velocity(RIGHT), Angle(FALLING_RIGHT)),\n",
       " 0,\n",
       " (Position(MIDDLE), Velocity(RIGHT), Angle(FALLING_RIGHT)),\n",
       " 0,\n",
       " (Position(MIDDLE), Velocity(RIGHT), Angle(FALLING_RIGHT)),\n",
       " 1,\n",
       " (Position(MIDDLE), Velocity(RIGHT), Angle(FALLING_RIGHT)),\n",
       " 1,\n",
       " (Position(MIDDLE), Velocity(RIGHT), Angle(FALLING_RIGHT)),\n",
       " 0,\n",
       " (Position(MIDDLE), Velocity(RIGHT), Angle(FALLING_RIGHT)),\n",
       " 1,\n",
       " (Position(MIDDLE), Velocity(RIGHT), Angle(FALLING_RIGHT)),\n",
       " 1,\n",
       " (Position(MIDDLE), Velocity(RIGHT), Angle(STUCK_RIGHT)),\n",
       " 0,\n",
       " (Position(MIDDLE), Velocity(RIGHT), Angle(FALLING_RIGHT)),\n",
       " 0,\n",
       " (Position(MIDDLE), Velocity(RIGHT), Angle(FALLING_RIGHT)),\n",
       " 1,\n",
       " (Position(MIDDLE), Velocity(RIGHT), Angle(FALLING_RIGHT)),\n",
       " 0,\n",
       " (Position(MIDDLE), Velocity(RIGHT), Angle(FALLING_RIGHT)),\n",
       " 1,\n",
       " (Position(MIDDLE), Velocity(RIGHT), Angle(FALLING_RIGHT)),\n",
       " 0,\n",
       " (Position(MIDDLE), Velocity(RIGHT), Angle(FALLING_RIGHT)),\n",
       " 1,\n",
       " (Position(MIDDLE), Velocity(RIGHT), Angle(FALLING_RIGHT)),\n",
       " 0,\n",
       " (Position(MIDDLE), Velocity(RIGHT), Angle(FALLING_RIGHT)),\n",
       " 1,\n",
       " (Position(MIDDLE), Velocity(RIGHT), Angle(FALLING_RIGHT)),\n",
       " 0,\n",
       " (Position(MIDDLE), Velocity(RIGHT), Angle(FALLING_RIGHT))]"
      ]
     },
     "execution_count": 85,
     "metadata": {},
     "output_type": "execute_result"
    }
   ],
   "source": [
    "pg._trajectories_of_last_fit[0]"
   ]
  },
  {
   "cell_type": "markdown",
   "metadata": {},
   "source": [
    "## Loading and saving Policy Graphs"
   ]
  },
  {
   "cell_type": "markdown",
   "metadata": {},
   "source": [
    "### Pickle\n",
    "\n",
    "Saving as pickle lets you restore the full state of the object."
   ]
  },
  {
   "cell_type": "code",
   "execution_count": 86,
   "metadata": {
    "ExecuteTime": {
     "end_time": "2023-12-16T11:45:24.955217Z",
     "start_time": "2023-12-16T11:45:24.796624Z"
    }
   },
   "outputs": [],
   "source": [
    "pg.save('pickle', './ppo-cartpole.pickle')"
   ]
  },
  {
   "cell_type": "code",
   "execution_count": 87,
   "metadata": {
    "ExecuteTime": {
     "end_time": "2023-12-16T11:45:25.484618Z",
     "start_time": "2023-12-16T11:45:24.955940Z"
    }
   },
   "outputs": [
    {
     "name": "stdout",
     "output_type": "stream",
     "text": [
      "Number of nodes:             14\n",
      "Number of edges:             131\n",
      "Num. of stored trajectories: 200\n"
     ]
    }
   ],
   "source": [
    "pg_pickle = PolicyGraph.from_pickle('./ppo-cartpole.pickle')\n",
    "\n",
    "print(f'Number of nodes:             {len(pg_pickle.nodes)}')\n",
    "print(f'Number of edges:             {len(pg_pickle.edges)}')\n",
    "print(f'Num. of stored trajectories: {len(pg._trajectories_of_last_fit)}')"
   ]
  },
  {
   "cell_type": "markdown",
   "metadata": {},
   "source": [
    "### CSV\n",
    "\n",
    "Saving as CSV creates three separated CSV files for node, edge and trajectory information."
   ]
  },
  {
   "cell_type": "code",
   "execution_count": 88,
   "metadata": {
    "ExecuteTime": {
     "end_time": "2023-12-16T11:45:25.486111Z",
     "start_time": "2023-12-16T11:45:25.484534Z"
    }
   },
   "outputs": [],
   "source": [
    "import csv"
   ]
  },
  {
   "cell_type": "code",
   "execution_count": 89,
   "metadata": {
    "ExecuteTime": {
     "end_time": "2023-12-16T11:45:25.614649Z",
     "start_time": "2023-12-16T11:45:25.486270Z"
    }
   },
   "outputs": [],
   "source": [
    "pg.save('csv', ['./ppo-cartpole_nodes.csv', './ppo-cartpole_edges.csv', './ppo-cartpole_trajectories.csv'])"
   ]
  },
  {
   "cell_type": "code",
   "execution_count": 90,
   "metadata": {
    "ExecuteTime": {
     "end_time": "2023-12-16T11:45:25.617219Z",
     "start_time": "2023-12-16T11:45:25.614911Z"
    }
   },
   "outputs": [
    {
     "name": "stdout",
     "output_type": "stream",
     "text": [
      "['id', 'value', 'p(s)', 'frequency']\n",
      "['0', 'Position(MIDDLE)&Velocity(LEFT)&Angle(STUCK_RIGHT)', '0.0363570303984498', '1501']\n",
      "['1', 'Position(MIDDLE)&Velocity(RIGHT)&Angle(FALLING_RIGHT)', '0.1818578176093012', '7508']\n",
      "['2', 'Position(MIDDLE)&Velocity(LEFT)&Angle(STABILIZING_RIGHT)', '0.07910863509749304', '3266']\n",
      "['3', 'Position(MIDDLE)&Velocity(RIGHT)&Angle(FALLING_LEFT)', '0.06956521739130435', '2872']\n",
      "['4', 'Position(MIDDLE)&Velocity(RIGHT)&Angle(STUCK_LEFT)', '0.0572362843647814', '2363']\n",
      "['5', 'Position(MIDDLE)&Velocity(LEFT)&Angle(FALLING_RIGHT)', '0.12387065520164708', '5114']\n",
      "['6', 'Position(MIDDLE)&Velocity(RIGHT)&Angle(STABILIZING_LEFT)', '0.21928061039118324', '9053']\n",
      "['7', 'Position(MIDDLE)&Velocity(RIGHT)&Angle(STUCK_RIGHT)', '0.16691292236889912', '6891']\n",
      "['8', 'Position(MIDDLE)&Velocity(LEFT)&Angle(FALLING_LEFT)', '0.004505268257236284', '186']\n"
     ]
    }
   ],
   "source": [
    "with open('ppo-cartpole_nodes.csv', 'r+') as f:\n",
    "    csv_r = csv.reader(f)\n",
    "    for i in range(10):\n",
    "        print(next(csv_r))"
   ]
  },
  {
   "cell_type": "markdown",
   "metadata": {},
   "source": [
    "Edges and trajectories use the IDs of the nodes, from the corresponding node CSV file."
   ]
  },
  {
   "cell_type": "code",
   "execution_count": 91,
   "metadata": {
    "ExecuteTime": {
     "end_time": "2023-12-16T11:45:25.622526Z",
     "start_time": "2023-12-16T11:45:25.620853Z"
    }
   },
   "outputs": [
    {
     "name": "stdout",
     "output_type": "stream",
     "text": [
      "['from', 'to', 'action', 'p(s)', 'frequency']\n",
      "['0', '10', '1', '0.02598267821452365', '39']\n",
      "['0', '5', '0', '0.49233844103930713', '739']\n",
      "['0', '6', '1', '0.47235176548967356', '709']\n",
      "['0', '13', '0', '0.006662225183211193', '10']\n",
      "['0', '12', '1', '0.001998667554963358', '3']\n",
      "['0', '2', '0', '0.0006662225183211193', '1']\n",
      "['1', '6', '1', '0.1709915323682054', '1252']\n",
      "['1', '5', '0', '0.07702813438951106', '564']\n",
      "['1', '7', '1', '0.2783392515706091', '2038']\n"
     ]
    }
   ],
   "source": [
    "with open('ppo-cartpole_edges.csv', 'r+') as f:\n",
    "    csv_r = csv.reader(f)\n",
    "    for i in range(10):\n",
    "        print(next(csv_r))"
   ]
  },
  {
   "cell_type": "markdown",
   "metadata": {},
   "source": [
    "Each trajectory is stored as a series of (state0, action0, state1, ..., stateN) lists"
   ]
  },
  {
   "cell_type": "code",
   "execution_count": 92,
   "metadata": {
    "ExecuteTime": {
     "end_time": "2023-12-16T11:45:25.625508Z",
     "start_time": "2023-12-16T11:45:25.623883Z"
    }
   },
   "outputs": [
    {
     "name": "stdout",
     "output_type": "stream",
     "text": [
      "['9', '0', '2', '1', '9', '0', '2', '1', '8', '0', '2', '0', '2', '1', '2', '1', '8', '0', '2', '0', '2', '1', '2', '1', '8', '0', '2', '1', '8', '0', '9', '1', '8', '0', '9', '0', '2', '1', '9', '0', '2', '1', '9', '1', '8', '0', '9', '0', '2', '1', '9', '0', '2', '1', '0', '1', '10', '0', '0', '1', '10', '0', '9', '0', '2', '1', '0', '0', '5', '1', '0', '0', '5', '1', '0', '0', '5', '1', '0', '1', '10', '0', '0', '1', '10', '0', '5', '1', '10', '0', '5', '1', '10', '0', '5', '0', '5', '1', '5', '1', '10', '0', '5', '1', '10', '0', '5', '1', '0', '0', '5', '1', '0', '0', '5', '1', '0', '0', '5', '1', '0', '0', '5', '1', '0', '1', '6', '0', '0', '0', '5', '1', '0', '1', '6', '0', '5', '1', '6', '1', '6', '0', '6', '0', '5', '1', '7', '1', '6', '0', '7', '0', '5', '1', '7', '1', '6', '1', '6', '0', '6', '0', '7', '1', '6', '0', '7', '0', '5', '1', '7', '1', '6', '0', '7', '1', '6', '0', '7', '1', '6', '0', '7', '1', '6', '0', '1', '1', '6', '0', '1', '0', '5', '1', '1', '1', '6', '1', '6', '0', '6', '0', '1', '1', '6', '0', '1', '1', '6', '0', '1', '0', '5', '1', '1', '1', '7', '0', '1', '1', '7', '1', '6', '0', '7', '1', '6', '1', '6', '0', '6', '0', '4', '1', '3', '0', '4', '0', '11', '1', '4', '1', '3', '0', '4', '0', '11', '1', '4', '1', '3', '0', '4', '1', '3', '0', '4', '0', '11', '0', '2', '1', '11', '1', '4', '0', '11', '1', '4', '1', '3', '0', '4', '1', '3', '0', '3', '1', '3', '0', '3', '0', '11', '0', '2', '1', '11', '0', '2', '1', '11', '0', '2', '1', '11', '0', '2', '0', '5', '1', '5', '1', '1', '1', '6', '0', '1', '1', '6', '1', '6', '0', '6', '0', '1', '0', '5', '1', '1', '1', '7', '0', '1', '1', '7', '1', '6', '0', '7', '1', '6', '0', '7', '0', '1', '1', '7', '0', '1', '0', '5', '1', '1', '1', '7', '0', '1', '1', '7', '0', '1', '1', '7', '1', '6', '1', '6', '0', '6', '0', '1', '0', '1', '0', '5', '1', '1', '1', '1', '0', '1', '1', '1', '1', '7', '1', '6', '0', '7', '1', '6', '1', '6', '0', '6', '0', '1', '1', '7', '0', '1', '1', '7', '1', '6', '1', '6', '1', '6', '0', '6', '0', '6', '0', '1', '1', '6', '0', '1', '0', '1', '0', '1', '1', '1', '1', '1', '0', '1', '1', '1', '1', '7', '0', '1', '0', '1', '1', '1', '0', '1', '1', '1', '0', '1', '1', '1', '0', '1', '1', '1', '0', '1']\n"
     ]
    }
   ],
   "source": [
    "with open('ppo-cartpole_trajectories.csv', 'r+') as f:\n",
    "    csv_r = csv.reader(f)\n",
    "    for i in range(1):\n",
    "        print(next(csv_r))"
   ]
  },
  {
   "cell_type": "markdown",
   "metadata": {},
   "source": [
    "There are two ways of loading Policy Graphs from CSV files. When loading from nodes and edges, though, episode trajectories cannot be restored."
   ]
  },
  {
   "cell_type": "code",
   "execution_count": 93,
   "metadata": {
    "ExecuteTime": {
     "end_time": "2023-12-16T11:45:26.354776Z",
     "start_time": "2023-12-16T11:45:25.626718Z"
    }
   },
   "outputs": [
    {
     "name": "stdout",
     "output_type": "stream",
     "text": [
      "Number of nodes:             14\n",
      "Number of edges:             131\n",
      "Num. of stored trajectories: 200\n"
     ]
    }
   ],
   "source": [
    "pg_csv = PolicyGraph.from_nodes_and_trajectories('./ppo-cartpole_nodes.csv', './ppo-cartpole_trajectories.csv',\n",
    "                                          environment, discretizer)\n",
    "print(f'Number of nodes:             {len(pg_csv.nodes)}')\n",
    "print(f'Number of edges:             {len(pg_csv.edges)}')\n",
    "print(f'Num. of stored trajectories: {len(pg_csv._trajectories_of_last_fit)}')"
   ]
  },
  {
   "cell_type": "code",
   "execution_count": 94,
   "metadata": {
    "ExecuteTime": {
     "end_time": "2023-12-16T11:45:26.359750Z",
     "start_time": "2023-12-16T11:45:26.355006Z"
    }
   },
   "outputs": [
    {
     "name": "stdout",
     "output_type": "stream",
     "text": [
      "Number of nodes:             14\n",
      "Number of edges:             131\n",
      "Num. of stored trajectories: 0\n"
     ]
    }
   ],
   "source": [
    "pg_csv = PolicyGraph.from_nodes_and_edges('./ppo-cartpole_nodes.csv', './ppo-cartpole_edges.csv',\n",
    "                                          environment, discretizer)\n",
    "print(f'Number of nodes:             {len(pg_csv.nodes)}')\n",
    "print(f'Number of edges:             {len(pg_csv.edges)}')\n",
    "print(f'Num. of stored trajectories: {len(pg_csv._trajectories_of_last_fit)}')"
   ]
  },
  {
   "cell_type": "markdown",
   "metadata": {},
   "source": [
    "### Gram\n",
    "\n",
    "PGs can also be exported to the [gram](https://neo4j.com/developer-blog/gram-a-data-graph-format/) format, allowing visualization using Neo4j. Episode trajectories cannot be stored in this format, though.\n",
    "\n",
    "PGs currently cannot be loaded from a Gram file."
   ]
  },
  {
   "cell_type": "code",
   "execution_count": 95,
   "metadata": {
    "ExecuteTime": {
     "end_time": "2023-12-16T11:45:26.367210Z",
     "start_time": "2023-12-16T11:45:26.360317Z"
    }
   },
   "outputs": [],
   "source": [
    "pg.save('gram', './ppo-cartpole.gram')"
   ]
  },
  {
   "cell_type": "code",
   "execution_count": 96,
   "metadata": {
    "ExecuteTime": {
     "end_time": "2023-12-16T11:45:26.542949Z",
     "start_time": "2023-12-16T11:45:26.368316Z"
    }
   },
   "outputs": [
    {
     "name": "stdout",
     "output_type": "stream",
     "text": [
      "\r\n",
      "CREATE (s0:State {\r\n",
      "  uid: \"s0\",\r\n",
      "  value: \"Position(MIDDLE)&Velocity(LEFT)&Angle(STUCK_RIGHT)\",\r\n",
      "  probability: 0.0363570303984498, \r\n",
      "  frequency:1501\r\n",
      "});\r\n",
      "CREATE (s1:State {\r\n",
      "  uid: \"s1\",\r\n",
      "  value: \"Position(MIDDLE)&Velocity(RIGHT)&Angle(FALLING_RIGHT)\",\r\n"
     ]
    }
   ],
   "source": [
    "!head ./ppo-cartpole.gram"
   ]
  },
  {
   "cell_type": "code",
   "execution_count": 97,
   "metadata": {
    "ExecuteTime": {
     "end_time": "2023-12-16T11:45:26.702419Z",
     "start_time": "2023-12-16T11:45:26.545030Z"
    }
   },
   "outputs": [
    {
     "name": "stdout",
     "output_type": "stream",
     "text": [
      "MATCH (s13:State) WHERE s13.uid = \"s13\" MATCH (s0:State) WHERE s0.uid = \"s0\" CREATE (s13)-[:a1 {probability:0.1506849315068493, frequency:22}]->(s0);\r\n",
      "MATCH (s13:State) WHERE s13.uid = \"s13\" MATCH (s10:State) WHERE s10.uid = \"s10\" CREATE (s13)-[:a1 {probability:0.03424657534246575, frequency:5}]->(s10);\r\n",
      "MATCH (s13:State) WHERE s13.uid = \"s13\" MATCH (s7:State) WHERE s7.uid = \"s7\" CREATE (s13)-[:a1 {probability:0.18493150684931506, frequency:27}]->(s7);\r\n",
      "MATCH (s13:State) WHERE s13.uid = \"s13\" MATCH (s5:State) WHERE s5.uid = \"s5\" CREATE (s13)-[:a0 {probability:0.1506849315068493, frequency:22}]->(s5);\r\n",
      "MATCH (s13:State) WHERE s13.uid = \"s13\" MATCH (s5:State) WHERE s5.uid = \"s5\" CREATE (s13)-[:a1 {probability:0.1232876712328767, frequency:18}]->(s5);\r\n",
      "MATCH (s13:State) WHERE s13.uid = \"s13\" MATCH (s12:State) WHERE s12.uid = \"s12\" CREATE (s13)-[:a1 {probability:0.0410958904109589, frequency:6}]->(s12);\r\n",
      "MATCH (s13:State) WHERE s13.uid = \"s13\" MATCH (s2:State) WHERE s2.uid = \"s2\" CREATE (s13)-[:a0 {probability:0.0547945205479452, frequency:8}]->(s2);\r\n",
      "MATCH (s13:State) WHERE s13.uid = \"s13\" MATCH (s6:State) WHERE s6.uid = \"s6\" CREATE (s13)-[:a1 {probability:0.13013698630136986, frequency:19}]->(s6);\r\n",
      "MATCH (s13:State) WHERE s13.uid = \"s13\" MATCH (s3:State) WHERE s3.uid = \"s3\" CREATE (s13)-[:a1 {probability:0.02054794520547945, frequency:3}]->(s3);\r\n",
      "MATCH (s13:State) WHERE s13.uid = \"s13\" MATCH (s1:State) WHERE s1.uid = \"s1\" CREATE (s13)-[:a1 {probability:0.0410958904109589, frequency:6}]->(s1);"
     ]
    }
   ],
   "source": [
    "!tail ./ppo-cartpole.gram"
   ]
  },
  {
   "cell_type": "markdown",
   "metadata": {},
   "source": [
    "## Using PG-based policies\n",
    "\n",
    "Using the `PGBasedPolicy`, we can create policies that replicate an agent's behavior, based on their generated Policy Graph. These policies are subclasses of the `pgeon.Agent` class.\n",
    "\n",
    "The policy mode (greedy/stochastic) can be specified via the `PGBasedPolicyMode` enum. The behavior when encountering an unknown node (select random action/search nearest node in PG) can be specified via the `PGBasedPolicyNodeNotFoundMode` enum."
   ]
  },
  {
   "cell_type": "code",
   "execution_count": 98,
   "metadata": {
    "ExecuteTime": {
     "end_time": "2023-12-16T11:45:26.705686Z",
     "start_time": "2023-12-16T11:45:26.703779Z"
    }
   },
   "outputs": [],
   "source": [
    "from pgeon import PGBasedPolicy, PGBasedPolicyMode, PGBasedPolicyNodeNotFoundMode"
   ]
  },
  {
   "cell_type": "code",
   "execution_count": 99,
   "metadata": {
    "ExecuteTime": {
     "end_time": "2023-12-16T11:45:26.709712Z",
     "start_time": "2023-12-16T11:45:26.708133Z"
    }
   },
   "outputs": [],
   "source": [
    "policy = PGBasedPolicy(pg, mode=PGBasedPolicyMode.GREEDY,\n",
    "                       node_not_found_mode=PGBasedPolicyNodeNotFoundMode.RANDOM_UNIFORM)"
   ]
  },
  {
   "cell_type": "code",
   "execution_count": 100,
   "metadata": {
    "ExecuteTime": {
     "end_time": "2023-12-16T11:45:45.257030Z",
     "start_time": "2023-12-16T11:45:26.713464Z"
    }
   },
   "outputs": [
    {
     "name": "stderr",
     "output_type": "stream",
     "text": [
      "\u001b[33m(raylet)\u001b[0m [2023-12-16 05:45:30,949 E 70095 3548731] (raylet) file_system_monitor.cc:111: /tmp/ray/session_2023-12-16_05-25-04_522475_70028 is over 95% full, available space: 24519815168; capacity: 494384795648. Object creation will fail if spilling is required.\n"
     ]
    },
    {
     "ename": "KeyboardInterrupt",
     "evalue": "",
     "output_type": "error",
     "traceback": [
      "\u001b[0;31m---------------------------------------------------------------------------\u001b[0m",
      "\u001b[0;31mKeyboardInterrupt\u001b[0m                         Traceback (most recent call last)",
      "Cell \u001b[0;32mIn[100], line 14\u001b[0m\n\u001b[1;32m     10\u001b[0m     steps \u001b[38;5;241m=\u001b[39m steps \u001b[38;5;241m+\u001b[39m \u001b[38;5;241m1\u001b[39m\n\u001b[1;32m     11\u001b[0m \u001b[38;5;66;03m# print(f'Observed state:  {obs}')\u001b[39;00m\n\u001b[1;32m     12\u001b[0m \u001b[38;5;66;03m# print(f'Discretization:  {policy.pg.discretizer.discretize(obs)}')\u001b[39;00m\n\u001b[1;32m     13\u001b[0m \u001b[38;5;66;03m# print(f'Selected action: {action}')\u001b[39;00m\n\u001b[0;32m---> 14\u001b[0m obs, _ \u001b[38;5;241m=\u001b[39m \u001b[43menvironment\u001b[49m\u001b[38;5;241;43m.\u001b[39;49m\u001b[43mreset\u001b[49m\u001b[43m(\u001b[49m\u001b[43m)\u001b[49m\n",
      "File \u001b[0;32m~/repos/pgeon/venv/lib/python3.8/site-packages/gymnasium/wrappers/time_limit.py:75\u001b[0m, in \u001b[0;36mTimeLimit.reset\u001b[0;34m(self, **kwargs)\u001b[0m\n\u001b[1;32m     66\u001b[0m \u001b[38;5;250m\u001b[39m\u001b[38;5;124;03m\"\"\"Resets the environment with :param:`**kwargs` and sets the number of steps elapsed to zero.\u001b[39;00m\n\u001b[1;32m     67\u001b[0m \n\u001b[1;32m     68\u001b[0m \u001b[38;5;124;03mArgs:\u001b[39;00m\n\u001b[0;32m   (...)\u001b[0m\n\u001b[1;32m     72\u001b[0m \u001b[38;5;124;03m    The reset environment\u001b[39;00m\n\u001b[1;32m     73\u001b[0m \u001b[38;5;124;03m\"\"\"\u001b[39;00m\n\u001b[1;32m     74\u001b[0m \u001b[38;5;28mself\u001b[39m\u001b[38;5;241m.\u001b[39m_elapsed_steps \u001b[38;5;241m=\u001b[39m \u001b[38;5;241m0\u001b[39m\n\u001b[0;32m---> 75\u001b[0m \u001b[38;5;28;01mreturn\u001b[39;00m \u001b[38;5;28;43mself\u001b[39;49m\u001b[38;5;241;43m.\u001b[39;49m\u001b[43menv\u001b[49m\u001b[38;5;241;43m.\u001b[39;49m\u001b[43mreset\u001b[49m\u001b[43m(\u001b[49m\u001b[38;5;241;43m*\u001b[39;49m\u001b[38;5;241;43m*\u001b[39;49m\u001b[43mkwargs\u001b[49m\u001b[43m)\u001b[49m\n",
      "File \u001b[0;32m~/repos/pgeon/venv/lib/python3.8/site-packages/gymnasium/wrappers/order_enforcing.py:61\u001b[0m, in \u001b[0;36mOrderEnforcing.reset\u001b[0;34m(self, **kwargs)\u001b[0m\n\u001b[1;32m     59\u001b[0m \u001b[38;5;250m\u001b[39m\u001b[38;5;124;03m\"\"\"Resets the environment with `kwargs`.\"\"\"\u001b[39;00m\n\u001b[1;32m     60\u001b[0m \u001b[38;5;28mself\u001b[39m\u001b[38;5;241m.\u001b[39m_has_reset \u001b[38;5;241m=\u001b[39m \u001b[38;5;28;01mTrue\u001b[39;00m\n\u001b[0;32m---> 61\u001b[0m \u001b[38;5;28;01mreturn\u001b[39;00m \u001b[38;5;28;43mself\u001b[39;49m\u001b[38;5;241;43m.\u001b[39;49m\u001b[43menv\u001b[49m\u001b[38;5;241;43m.\u001b[39;49m\u001b[43mreset\u001b[49m\u001b[43m(\u001b[49m\u001b[38;5;241;43m*\u001b[39;49m\u001b[38;5;241;43m*\u001b[39;49m\u001b[43mkwargs\u001b[49m\u001b[43m)\u001b[49m\n",
      "File \u001b[0;32m~/repos/pgeon/venv/lib/python3.8/site-packages/gymnasium/wrappers/env_checker.py:57\u001b[0m, in \u001b[0;36mPassiveEnvChecker.reset\u001b[0;34m(self, **kwargs)\u001b[0m\n\u001b[1;32m     55\u001b[0m     \u001b[38;5;28;01mreturn\u001b[39;00m env_reset_passive_checker(\u001b[38;5;28mself\u001b[39m\u001b[38;5;241m.\u001b[39menv, \u001b[38;5;241m*\u001b[39m\u001b[38;5;241m*\u001b[39mkwargs)\n\u001b[1;32m     56\u001b[0m \u001b[38;5;28;01melse\u001b[39;00m:\n\u001b[0;32m---> 57\u001b[0m     \u001b[38;5;28;01mreturn\u001b[39;00m \u001b[38;5;28;43mself\u001b[39;49m\u001b[38;5;241;43m.\u001b[39;49m\u001b[43menv\u001b[49m\u001b[38;5;241;43m.\u001b[39;49m\u001b[43mreset\u001b[49m\u001b[43m(\u001b[49m\u001b[38;5;241;43m*\u001b[39;49m\u001b[38;5;241;43m*\u001b[39;49m\u001b[43mkwargs\u001b[49m\u001b[43m)\u001b[49m\n",
      "File \u001b[0;32m~/repos/pgeon/venv/lib/python3.8/site-packages/gymnasium/envs/classic_control/cartpole.py:209\u001b[0m, in \u001b[0;36mCartPoleEnv.reset\u001b[0;34m(self, seed, options)\u001b[0m\n\u001b[1;32m    206\u001b[0m \u001b[38;5;28mself\u001b[39m\u001b[38;5;241m.\u001b[39msteps_beyond_terminated \u001b[38;5;241m=\u001b[39m \u001b[38;5;28;01mNone\u001b[39;00m\n\u001b[1;32m    208\u001b[0m \u001b[38;5;28;01mif\u001b[39;00m \u001b[38;5;28mself\u001b[39m\u001b[38;5;241m.\u001b[39mrender_mode \u001b[38;5;241m==\u001b[39m \u001b[38;5;124m\"\u001b[39m\u001b[38;5;124mhuman\u001b[39m\u001b[38;5;124m\"\u001b[39m:\n\u001b[0;32m--> 209\u001b[0m     \u001b[38;5;28;43mself\u001b[39;49m\u001b[38;5;241;43m.\u001b[39;49m\u001b[43mrender\u001b[49m\u001b[43m(\u001b[49m\u001b[43m)\u001b[49m\n\u001b[1;32m    210\u001b[0m \u001b[38;5;28;01mreturn\u001b[39;00m np\u001b[38;5;241m.\u001b[39marray(\u001b[38;5;28mself\u001b[39m\u001b[38;5;241m.\u001b[39mstate, dtype\u001b[38;5;241m=\u001b[39mnp\u001b[38;5;241m.\u001b[39mfloat32), {}\n",
      "File \u001b[0;32m~/repos/pgeon/venv/lib/python3.8/site-packages/gymnasium/envs/classic_control/cartpole.py:302\u001b[0m, in \u001b[0;36mCartPoleEnv.render\u001b[0;34m(self)\u001b[0m\n\u001b[1;32m    300\u001b[0m \u001b[38;5;28;01mif\u001b[39;00m \u001b[38;5;28mself\u001b[39m\u001b[38;5;241m.\u001b[39mrender_mode \u001b[38;5;241m==\u001b[39m \u001b[38;5;124m\"\u001b[39m\u001b[38;5;124mhuman\u001b[39m\u001b[38;5;124m\"\u001b[39m:\n\u001b[1;32m    301\u001b[0m     pygame\u001b[38;5;241m.\u001b[39mevent\u001b[38;5;241m.\u001b[39mpump()\n\u001b[0;32m--> 302\u001b[0m     \u001b[38;5;28;43mself\u001b[39;49m\u001b[38;5;241;43m.\u001b[39;49m\u001b[43mclock\u001b[49m\u001b[38;5;241;43m.\u001b[39;49m\u001b[43mtick\u001b[49m\u001b[43m(\u001b[49m\u001b[38;5;28;43mself\u001b[39;49m\u001b[38;5;241;43m.\u001b[39;49m\u001b[43mmetadata\u001b[49m\u001b[43m[\u001b[49m\u001b[38;5;124;43m\"\u001b[39;49m\u001b[38;5;124;43mrender_fps\u001b[39;49m\u001b[38;5;124;43m\"\u001b[39;49m\u001b[43m]\u001b[49m\u001b[43m)\u001b[49m\n\u001b[1;32m    303\u001b[0m     pygame\u001b[38;5;241m.\u001b[39mdisplay\u001b[38;5;241m.\u001b[39mflip()\n\u001b[1;32m    305\u001b[0m \u001b[38;5;28;01melif\u001b[39;00m \u001b[38;5;28mself\u001b[39m\u001b[38;5;241m.\u001b[39mrender_mode \u001b[38;5;241m==\u001b[39m \u001b[38;5;124m\"\u001b[39m\u001b[38;5;124mrgb_array\u001b[39m\u001b[38;5;124m\"\u001b[39m:\n",
      "\u001b[0;31mKeyboardInterrupt\u001b[0m: "
     ]
    }
   ],
   "source": [
    "environment = gym.make('CartPole-v1', render_mode='human')\n",
    "obs, _ = environment.reset()\n",
    "done = False\n",
    "done_orig = False\n",
    "steps = 0\n",
    "while True:\n",
    "    while not done and steps < 200:\n",
    "        action = policy.act(obs)\n",
    "        obs, _, _, _, done = environment.step(action)\n",
    "        steps = steps + 1\n",
    "    # print(f'Observed state:  {obs}')\n",
    "    # print(f'Discretization:  {policy.pg.discretizer.discretize(obs)}')\n",
    "    # print(f'Selected action: {action}')\n",
    "    obs, _ = environment.reset()"
   ]
  },
  {
   "cell_type": "code",
   "execution_count": 6,
   "metadata": {
    "ExecuteTime": {
     "end_time": "2023-12-16T12:09:20.420737Z",
     "start_time": "2023-12-16T12:09:20.416009Z"
    },
    "collapsed": false,
    "jupyter": {
     "outputs_hidden": false
    }
   },
   "outputs": [
    {
     "data": {
      "text/html": [
       "\n",
       "<div id=\"viz\"></div>\n",
       "<script src=\"neovis.js\"></script>\n",
       "<script type=\"text/Javascript\">\n",
       "    neoViz = null;\n",
       "    marked = \"s7\";\n",
       "    alert('0');\n",
       "\n",
       "    config = {\n",
       "            containerId: \"viz\",\n",
       "            neo4j: {\n",
       "                serverUrl: \"bolt://localhost:7687\",\n",
       "                serverUser: \"neo4j\",\n",
       "                serverPassword: \"spain-joker-popular-exotic-parent-8142\",\n",
       "            },\n",
       "            labels: {\n",
       "                State: {\n",
       "                    label: \"uid\",\n",
       "                    value: \"probability\",\n",
       "                    group: \"community\",\n",
       "                    [NeoVis.NEOVIS_ADVANCED_CONFIG]: {\n",
       "                        function: {\n",
       "                            color: function (node) {\n",
       "                                if (node.properties.uid == marked) {\n",
       "                                    return \"#ff0000\";\n",
       "                                } else {\n",
       "                                    return null;\n",
       "                                }\n",
       "                            }\n",
       "                        }\n",
       "                    }\n",
       "                }\n",
       "            },\n",
       "            relationships: {\n",
       "                a0: {\n",
       "                    label: \"name\",\n",
       "                    caption: true,\n",
       "                    value: \"probability\",\n",
       "                    [NeoVis.NEOVIS_ADVANCED_CONFIG]: {\n",
       "                        static: {\n",
       "                            label: \"L\",     //content on edge\n",
       "                            color: \"#ff5378\",\n",
       "                            font: {\n",
       "                                \"background\": \"none\",\n",
       "                                \"strokeWidth\": \"0\",\n",
       "                                \"size\": 20,\n",
       "                                \"color\": \"#000000\"  //font color on edge\n",
       "                            }\n",
       "                        }\n",
       "                    }\n",
       "                },\n",
       "                a1: {\n",
       "                    label: \"name\",\n",
       "                    value: \"probability\",\n",
       "                    [NeoVis.NEOVIS_ADVANCED_CONFIG]: {\n",
       "                        static: {\n",
       "                            label: \"R\",     //content on edge\n",
       "                            color: \"#461274\",\n",
       "                            font: {\n",
       "                                \"background\": \"none\",\n",
       "                                \"strokeWidth\": \"0\",\n",
       "                                \"size\": 20,\n",
       "                                \"color\": \"#000000\"  //font color on edge\n",
       "                            }\n",
       "                        }\n",
       "                    }\n",
       "                }\n",
       "            },\n",
       "        };\n",
       "\n",
       "    function draw() {\n",
       "        neoViz = new NeoVis.default(config);\n",
       "        neoViz.render();\n",
       "    }\n",
       "    alert('draw');\n",
       "    draw();\n",
       "    alert('draw2');\n",
       "</script>\n"
      ],
      "text/plain": [
       "<IPython.core.display.HTML object>"
      ]
     },
     "execution_count": 6,
     "metadata": {},
     "output_type": "execute_result"
    }
   ],
   "source": [
    "from IPython.display import HTML, Javascript, display\n",
    "HTML(\"\"\"\n",
    "<div id=\"viz\"></div>\n",
    "<script src=\"neovis.js\"></script>\n",
    "<script type=\"text/Javascript\">\n",
    "    neoViz = null;\n",
    "    marked = \"s7\";\n",
    "    alert('0');\n",
    "\n",
    "    config = {\n",
    "            containerId: \"viz\",\n",
    "            neo4j: {\n",
    "                serverUrl: \"bolt://localhost:7687\",\n",
    "                serverUser: \"neo4j\",\n",
    "                serverPassword: \"spain-joker-popular-exotic-parent-8142\",\n",
    "            },\n",
    "            labels: {\n",
    "                State: {\n",
    "                    label: \"uid\",\n",
    "                    value: \"probability\",\n",
    "                    group: \"community\",\n",
    "                    [NeoVis.NEOVIS_ADVANCED_CONFIG]: {\n",
    "                        function: {\n",
    "                            color: function (node) {\n",
    "                                if (node.properties.uid == marked) {\n",
    "                                    return \"#ff0000\";\n",
    "                                } else {\n",
    "                                    return null;\n",
    "                                }\n",
    "                            }\n",
    "                        }\n",
    "                    }\n",
    "                }\n",
    "            },\n",
    "            relationships: {\n",
    "                a0: {\n",
    "                    label: \"name\",\n",
    "                    caption: true,\n",
    "                    value: \"probability\",\n",
    "                    [NeoVis.NEOVIS_ADVANCED_CONFIG]: {\n",
    "                        static: {\n",
    "                            label: \"L\",     //content on edge\n",
    "                            color: \"#ff5378\",\n",
    "                            font: {\n",
    "                                \"background\": \"none\",\n",
    "                                \"strokeWidth\": \"0\",\n",
    "                                \"size\": 20,\n",
    "                                \"color\": \"#000000\"  //font color on edge\n",
    "                            }\n",
    "                        }\n",
    "                    }\n",
    "                },\n",
    "                a1: {\n",
    "                    label: \"name\",\n",
    "                    value: \"probability\",\n",
    "                    [NeoVis.NEOVIS_ADVANCED_CONFIG]: {\n",
    "                        static: {\n",
    "                            label: \"R\",     //content on edge\n",
    "                            color: \"#461274\",\n",
    "                            font: {\n",
    "                                \"background\": \"none\",\n",
    "                                \"strokeWidth\": \"0\",\n",
    "                                \"size\": 20,\n",
    "                                \"color\": \"#000000\"  //font color on edge\n",
    "                            }\n",
    "                        }\n",
    "                    }\n",
    "                }\n",
    "            },\n",
    "        };\n",
    "\n",
    "    function draw() {\n",
    "        neoViz = new NeoVis.default(config);\n",
    "        neoViz.render();\n",
    "    }\n",
    "    alert('draw');\n",
    "    draw();\n",
    "    alert('draw2');\n",
    "</script>\n",
    "\"\"\")"
   ]
  },
  {
   "cell_type": "code",
   "execution_count": null,
   "metadata": {
    "collapsed": false,
    "jupyter": {
     "outputs_hidden": false
    }
   },
   "outputs": [],
   "source": []
  }
 ],
 "metadata": {
  "kernelspec": {
   "display_name": "Python 3 (ipykernel)",
   "language": "python",
   "name": "python3"
  },
  "language_info": {
   "codemirror_mode": {
    "name": "ipython",
    "version": 3
   },
   "file_extension": ".py",
   "mimetype": "text/x-python",
   "name": "python",
   "nbconvert_exporter": "python",
   "pygments_lexer": "ipython3",
   "version": "3.8.18"
  }
 },
 "nbformat": 4,
 "nbformat_minor": 4
}
