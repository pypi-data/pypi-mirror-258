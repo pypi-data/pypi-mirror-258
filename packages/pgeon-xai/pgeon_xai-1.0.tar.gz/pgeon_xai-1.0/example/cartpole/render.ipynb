{
 "cells": [
  {
   "cell_type": "code",
   "execution_count": 4,
   "metadata": {
    "collapsed": true,
    "ExecuteTime": {
     "end_time": "2023-12-16T10:56:27.284777Z",
     "start_time": "2023-12-16T10:56:26.582169Z"
    }
   },
   "outputs": [
    {
     "name": "stdout",
     "output_type": "stream",
     "text": [
      "Number of nodes:             14\n",
      "Number of edges:             137\n",
      "Num. of stored trajectories: 200\n"
     ]
    }
   ],
   "source": [
    "from example.cartpole.discretizer import CartpoleDiscretizer\n",
    "import gymnasium as gym\n",
    "from pgeon import PolicyGraph\n",
    "\n",
    "environment = gym.make('CartPole-v1', render_mode=\"human\")\n",
    "discretizer = CartpoleDiscretizer()\n",
    "pg_csv = PolicyGraph.from_nodes_and_trajectories('./ppo-cartpole_nodes.csv', './ppo-cartpole_trajectories.csv',\n",
    "                                          environment, discretizer)\n",
    "print(f'Number of nodes:             {len(pg_csv.nodes)}')\n",
    "print(f'Number of edges:             {len(pg_csv.edges)}')\n",
    "print(f'Num. of stored trajectories: {len(pg_csv._trajectories_of_last_fit)}')\n",
    "pg = pg_csv"
   ]
  },
  {
   "cell_type": "code",
   "execution_count": 6,
   "outputs": [
    {
     "data": {
      "text/plain": "<pgeon.policy_graph.PolicyGraph at 0x10780ea90>"
     },
     "execution_count": 6,
     "metadata": {},
     "output_type": "execute_result"
    }
   ],
   "source": [
    "pg"
   ],
   "metadata": {
    "collapsed": false,
    "ExecuteTime": {
     "end_time": "2023-12-16T10:57:50.742083Z",
     "start_time": "2023-12-16T10:57:50.737108Z"
    }
   }
  },
  {
   "cell_type": "code",
   "execution_count": 5,
   "outputs": [
    {
     "ename": "KeyError",
     "evalue": "'probability'",
     "output_type": "error",
     "traceback": [
      "\u001B[0;31m---------------------------------------------------------------------------\u001B[0m",
      "\u001B[0;31mKeyError\u001B[0m                                  Traceback (most recent call last)",
      "Cell \u001B[0;32mIn[5], line 7\u001B[0m\n\u001B[1;32m      3\u001B[0m policy \u001B[38;5;241m=\u001B[39m PGBasedPolicy(pg, mode\u001B[38;5;241m=\u001B[39mPGBasedPolicyMode\u001B[38;5;241m.\u001B[39mGREEDY,\n\u001B[1;32m      4\u001B[0m                        node_not_found_mode\u001B[38;5;241m=\u001B[39mPGBasedPolicyNodeNotFoundMode\u001B[38;5;241m.\u001B[39mRANDOM_UNIFORM)\n\u001B[1;32m      6\u001B[0m obs, _ \u001B[38;5;241m=\u001B[39m environment\u001B[38;5;241m.\u001B[39mreset()\n\u001B[0;32m----> 7\u001B[0m action \u001B[38;5;241m=\u001B[39m \u001B[43mpolicy\u001B[49m\u001B[38;5;241;43m.\u001B[39;49m\u001B[43mact\u001B[49m\u001B[43m(\u001B[49m\u001B[43mobs\u001B[49m\u001B[43m)\u001B[49m\n\u001B[1;32m      9\u001B[0m \u001B[38;5;28mprint\u001B[39m(\u001B[38;5;124mf\u001B[39m\u001B[38;5;124m'\u001B[39m\u001B[38;5;124mObserved state:  \u001B[39m\u001B[38;5;132;01m{\u001B[39;00mobs\u001B[38;5;132;01m}\u001B[39;00m\u001B[38;5;124m'\u001B[39m)\n\u001B[1;32m     10\u001B[0m \u001B[38;5;28mprint\u001B[39m(\u001B[38;5;124mf\u001B[39m\u001B[38;5;124m'\u001B[39m\u001B[38;5;124mDiscretization:  \u001B[39m\u001B[38;5;132;01m{\u001B[39;00mpolicy\u001B[38;5;241m.\u001B[39mpg\u001B[38;5;241m.\u001B[39mdiscretizer\u001B[38;5;241m.\u001B[39mdiscretize(obs)\u001B[38;5;132;01m}\u001B[39;00m\u001B[38;5;124m'\u001B[39m)\n",
      "File \u001B[0;32m~/repos/pgeon/pgeon/policy_graph.py:415\u001B[0m, in \u001B[0;36mPGBasedPolicy.act\u001B[0;34m(self, state)\u001B[0m\n\u001B[1;32m    412\u001B[0m predicate \u001B[38;5;241m=\u001B[39m \u001B[38;5;28mself\u001B[39m\u001B[38;5;241m.\u001B[39mpg\u001B[38;5;241m.\u001B[39mdiscretizer\u001B[38;5;241m.\u001B[39mdiscretize(state)\n\u001B[1;32m    414\u001B[0m \u001B[38;5;28;01mif\u001B[39;00m \u001B[38;5;28mself\u001B[39m\u001B[38;5;241m.\u001B[39mpg\u001B[38;5;241m.\u001B[39mhas_node(predicate) \u001B[38;5;129;01mand\u001B[39;00m \u001B[38;5;28mlen\u001B[39m(\u001B[38;5;28mself\u001B[39m\u001B[38;5;241m.\u001B[39mpg[predicate]) \u001B[38;5;241m>\u001B[39m \u001B[38;5;241m0\u001B[39m:\n\u001B[0;32m--> 415\u001B[0m     action_prob_dist \u001B[38;5;241m=\u001B[39m \u001B[38;5;28;43mself\u001B[39;49m\u001B[38;5;241;43m.\u001B[39;49m\u001B[43m_get_action_probability_dist\u001B[49m\u001B[43m(\u001B[49m\u001B[43mpredicate\u001B[49m\u001B[43m)\u001B[49m\n\u001B[1;32m    416\u001B[0m \u001B[38;5;28;01melse\u001B[39;00m:\n\u001B[1;32m    417\u001B[0m     \u001B[38;5;28;01mif\u001B[39;00m \u001B[38;5;28mself\u001B[39m\u001B[38;5;241m.\u001B[39mnode_not_found_mode \u001B[38;5;241m==\u001B[39m PGBasedPolicyNodeNotFoundMode\u001B[38;5;241m.\u001B[39mRANDOM_UNIFORM:\n",
      "File \u001B[0;32m~/repos/pgeon/pgeon/policy_graph.py:380\u001B[0m, in \u001B[0;36mPGBasedPolicy._get_action_probability_dist\u001B[0;34m(self, predicate)\u001B[0m\n\u001B[1;32m    378\u001B[0m \u001B[38;5;28;01mfor\u001B[39;00m dest_node \u001B[38;5;129;01min\u001B[39;00m \u001B[38;5;28mself\u001B[39m\u001B[38;5;241m.\u001B[39mpg[predicate]:\n\u001B[1;32m    379\u001B[0m     \u001B[38;5;28;01mfor\u001B[39;00m action \u001B[38;5;129;01min\u001B[39;00m \u001B[38;5;28mself\u001B[39m\u001B[38;5;241m.\u001B[39mpg[predicate][dest_node]:\n\u001B[0;32m--> 380\u001B[0m         action_weights[action] \u001B[38;5;241m+\u001B[39m\u001B[38;5;241m=\u001B[39m \u001B[38;5;28;43mself\u001B[39;49m\u001B[38;5;241;43m.\u001B[39;49m\u001B[43mpg\u001B[49m\u001B[43m[\u001B[49m\u001B[43mpredicate\u001B[49m\u001B[43m]\u001B[49m\u001B[43m[\u001B[49m\u001B[43mdest_node\u001B[49m\u001B[43m]\u001B[49m\u001B[43m[\u001B[49m\u001B[43maction\u001B[49m\u001B[43m]\u001B[49m\u001B[43m[\u001B[49m\u001B[38;5;124;43m'\u001B[39;49m\u001B[38;5;124;43mprobability\u001B[39;49m\u001B[38;5;124;43m'\u001B[39;49m\u001B[43m]\u001B[49m\n\u001B[1;32m    382\u001B[0m action_weights \u001B[38;5;241m=\u001B[39m [(a, action_weights[a]) \u001B[38;5;28;01mfor\u001B[39;00m a \u001B[38;5;129;01min\u001B[39;00m action_weights]\n\u001B[1;32m    383\u001B[0m \u001B[38;5;28;01mreturn\u001B[39;00m action_weights\n",
      "\u001B[0;31mKeyError\u001B[0m: 'probability'"
     ]
    }
   ],
   "source": [
    "from pgeon import PGBasedPolicy, PGBasedPolicyMode, PGBasedPolicyNodeNotFoundMode\n",
    "\n",
    "policy = PGBasedPolicy(pg, mode=PGBasedPolicyMode.GREEDY,\n",
    "                       node_not_found_mode=PGBasedPolicyNodeNotFoundMode.RANDOM_UNIFORM)\n",
    "\n",
    "obs, _ = environment.reset()\n",
    "action = policy.act(obs)\n",
    "\n",
    "print(f'Observed state:  {obs}')\n",
    "print(f'Discretization:  {policy.pg.discretizer.discretize(obs)}')\n",
    "print(f'Selected action: {action}')"
   ],
   "metadata": {
    "collapsed": false,
    "ExecuteTime": {
     "end_time": "2023-12-16T10:56:29.903168Z",
     "start_time": "2023-12-16T10:56:27.828951Z"
    }
   }
  },
  {
   "cell_type": "code",
   "execution_count": null,
   "outputs": [],
   "source": [],
   "metadata": {
    "collapsed": false
   }
  }
 ],
 "metadata": {
  "kernelspec": {
   "display_name": "Python 3",
   "language": "python",
   "name": "python3"
  },
  "language_info": {
   "codemirror_mode": {
    "name": "ipython",
    "version": 2
   },
   "file_extension": ".py",
   "mimetype": "text/x-python",
   "name": "python",
   "nbconvert_exporter": "python",
   "pygments_lexer": "ipython2",
   "version": "2.7.6"
  }
 },
 "nbformat": 4,
 "nbformat_minor": 0
}
