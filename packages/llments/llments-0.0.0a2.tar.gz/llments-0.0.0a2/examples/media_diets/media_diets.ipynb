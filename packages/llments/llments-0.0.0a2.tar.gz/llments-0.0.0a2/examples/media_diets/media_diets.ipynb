{
 "cells": [
  {
   "cell_type": "markdown",
   "metadata": {},
   "source": [
    "# Language Models Trained on Media Diets Can Predict Public Opinion\n",
    "\n",
    "Chu et al. [Language Models Trained on Media Diets Can Predict Public Opinion](https://arxiv.org/abs/2303.16779) demonstrates that if you train language models on the media diets of different groups of people, you can predict their opinions on a variety of topics."
   ]
  },
  {
   "cell_type": "code",
   "execution_count": null,
   "metadata": {},
   "outputs": [],
   "source": [
    "from llments.lm import empirical, hugging_face\n",
    "from llments.distance.norm import L1Distance"
   ]
  },
  {
   "cell_type": "markdown",
   "metadata": {},
   "source": [
    "Load the base language model."
   ]
  },
  {
   "cell_type": "code",
   "execution_count": null,
   "metadata": {},
   "outputs": [],
   "source": [
    "base_lm = hugging_face.load_from_spec('base_lm_spec.json')"
   ]
  },
  {
   "cell_type": "markdown",
   "metadata": {},
   "source": [
    "Load survey questions, and question/answer probabilities from each news audience."
   ]
  },
  {
   "cell_type": "code",
   "execution_count": null,
   "metadata": {},
   "outputs": [],
   "source": [
    "news_source_names = [\"cnn\", \"wsj\", \"fox\", \"npr\"]\n",
    "survey_questions = empirical.load_from_text_file(f'survey_questions.txt')\n",
    "survey_answer_probs = {\n",
    "    source_name: empirical.load_from_json_file(f'survey_answers_{source_name}.json')\n",
    "    for source_name in news_source_names\n",
    "}"
   ]
  },
  {
   "cell_type": "markdown",
   "metadata": {},
   "source": [
    "Perform the experiment to find the correlation between empirical survey answers from each voter and the other voters."
   ]
  },
  {
   "cell_type": "code",
   "execution_count": null,
   "metadata": {},
   "outputs": [],
   "source": [
    "# Define the distance we want to use\n",
    "answer_distances = {}\n",
    "distance_function = L1Distance()\n",
    "\n",
    "for news_source in news_source_names:\n",
    "    # Load the dataset (empirical distribution) for this source\n",
    "    news_dataset = empirical.load_from_text_file(f'news_data_{news_source}.txt')\n",
    "    # Fit the LM to the dataset\n",
    "    news_lm = base_lm.fit(news_dataset)\n",
    "    # Measure the distance between the empirical survey answers and actual survey answers\n",
    "    for survey_source in news_source_names:\n",
    "        answer_distances[news_source,survey_source] = distance_function(survey_answer_probs[news_source], news_lm)\n"
   ]
  },
  {
   "cell_type": "markdown",
   "metadata": {},
   "source": [
    "Print the distances."
   ]
  },
  {
   "cell_type": "code",
   "execution_count": 2,
   "metadata": {},
   "outputs": [],
   "source": [
    "answer_distances = []"
   ]
  }
 ],
 "metadata": {
  "kernelspec": {
   "display_name": "llments",
   "language": "python",
   "name": "python3"
  },
  "language_info": {
   "codemirror_mode": {
    "name": "ipython",
    "version": 3
   },
   "file_extension": ".py",
   "mimetype": "text/x-python",
   "name": "python",
   "nbconvert_exporter": "python",
   "pygments_lexer": "ipython3",
   "version": "3.11.5"
  }
 },
 "nbformat": 4,
 "nbformat_minor": 2
}
