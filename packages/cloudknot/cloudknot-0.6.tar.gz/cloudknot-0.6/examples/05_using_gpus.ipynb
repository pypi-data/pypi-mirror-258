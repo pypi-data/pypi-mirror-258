{
 "cells": [
  {
   "cell_type": "markdown",
   "metadata": {
    "deletable": true,
    "editable": true
   },
   "source": [
    "# Using GPUs in cloudknot"
   ]
  },
  {
   "cell_type": "markdown",
   "metadata": {},
   "source": [
    "You can specify the number of GPUs for your cloudknot jobs using the `n_gpus` parameter of the `Knot` class."
   ]
  },
  {
   "cell_type": "code",
   "execution_count": 1,
   "metadata": {
    "collapsed": false,
    "deletable": true,
    "editable": true,
    "jupyter": {
     "outputs_hidden": false
    }
   },
   "outputs": [],
   "source": [
    "import logging\n",
    "import uuid\n",
    "import cloudknot as ck"
   ]
  },
  {
   "cell_type": "markdown",
   "metadata": {
    "deletable": true,
    "editable": true
   },
   "source": [
    "Set the logging level to print loging statements in the notebook"
   ]
  },
  {
   "cell_type": "code",
   "execution_count": 2,
   "metadata": {
    "deletable": true,
    "editable": true
   },
   "outputs": [],
   "source": [
    "logger = logging.getLogger()\n",
    "logger.setLevel(logging.INFO)  # Change this to logging.DEBUG if you want more verbose output"
   ]
  },
  {
   "cell_type": "markdown",
   "metadata": {
    "deletable": true,
    "editable": true
   },
   "source": [
    "## Initialization"
   ]
  },
  {
   "cell_type": "markdown",
   "metadata": {
    "deletable": true,
    "editable": true
   },
   "source": [
    "Create a function to output the number of GPUs. Remember that the import statements should be inside the function."
   ]
  },
  {
   "cell_type": "code",
   "execution_count": 3,
   "metadata": {
    "deletable": true,
    "editable": true
   },
   "outputs": [],
   "source": [
    "def get_n_gpus(job_idx):\n",
    "    \"\"\"Output the number of GPUs\"\"\"\n",
    "    import torch\n",
    "\n",
    "    return {\n",
    "        \"job_idx\": job_idx,\n",
    "        \"device_count\": torch.cuda.device_count()\n",
    "    }"
   ]
  },
  {
   "cell_type": "markdown",
   "metadata": {
    "deletable": true,
    "editable": true
   },
   "source": [
    "Create a `Knot` instance from the test function. Here we specify the instance type, selecting one of the [GPU instances](https://docs.aws.amazon.com/batch/latest/userguide/gpu-jobs.html). If you don't do this, your Batch jobs will be stuck in \"RUNNABLE\" status. Note also that we specify a `base_image` that has CUDA drivers."
   ]
  },
  {
   "cell_type": "code",
   "execution_count": 4,
   "metadata": {
    "collapsed": false,
    "deletable": true,
    "editable": true,
    "jupyter": {
     "outputs_hidden": false
    }
   },
   "outputs": [],
   "source": [
    "knot = ck.Knot(\n",
    "    name=\"count-gpu\",\n",
    "    base_image=\"pytorch/pytorch\",\n",
    "    func=get_n_gpus,\n",
    "    n_gpus=2,\n",
    "    instance_types=(\"p3.8xlarge\",),\n",
    ")"
   ]
  },
  {
   "cell_type": "markdown",
   "metadata": {},
   "source": [
    "Let's see what happens if we don't specify the base image."
   ]
  },
  {
   "cell_type": "code",
   "execution_count": 5,
   "metadata": {
    "collapsed": false,
    "deletable": true,
    "editable": true,
    "jupyter": {
     "outputs_hidden": false
    }
   },
   "outputs": [
    {
     "name": "stderr",
     "output_type": "stream",
     "text": [
      "WARNING:cloudknot.dockerimage:Warning, your Dockerfile will have a base image of python:3, which may default to Python 3.8. This may cause dependency conflicts. If this build fails, consider rerunning with the `base_image='python:3.7' parameter.\n"
     ]
    }
   ],
   "source": [
    "knot_without_base_image_specified = ck.Knot(\n",
    "    name=\"count-gpu-no-base-image\",\n",
    "    func=get_n_gpus,\n",
    "    n_gpus=2,\n",
    "    instance_types=(\"p3.8xlarge\",),\n",
    ")"
   ]
  },
  {
   "cell_type": "markdown",
   "metadata": {},
   "source": [
    "Now we dispatch the jobs on AWS Batch"
   ]
  },
  {
   "cell_type": "code",
   "execution_count": 6,
   "metadata": {},
   "outputs": [],
   "source": [
    "result_futures = knot.map(list(range(5)))\n",
    "result_futures_without_base_image = knot_without_base_image_specified.map(list(range(5)))"
   ]
  },
  {
   "cell_type": "markdown",
   "metadata": {},
   "source": [
    "Let's check the results"
   ]
  },
  {
   "cell_type": "code",
   "execution_count": 10,
   "metadata": {},
   "outputs": [
    {
     "data": {
      "text/plain": [
       "[{'job_idx': 0, 'device_count': 2},\n",
       " {'job_idx': 1, 'device_count': 2},\n",
       " {'job_idx': 2, 'device_count': 2},\n",
       " {'job_idx': 3, 'device_count': 2},\n",
       " {'job_idx': 4, 'device_count': 2}]"
      ]
     },
     "execution_count": 10,
     "metadata": {},
     "output_type": "execute_result"
    }
   ],
   "source": [
    "result_futures.result()"
   ]
  },
  {
   "cell_type": "markdown",
   "metadata": {},
   "source": [
    "Great! Each job got two GPUs as desired. Now let's see what happens when we don't specify a base image."
   ]
  },
  {
   "cell_type": "code",
   "execution_count": 11,
   "metadata": {},
   "outputs": [
    {
     "data": {
      "text/plain": [
       "[{'job_idx': 0, 'device_count': 0},\n",
       " {'job_idx': 1, 'device_count': 0},\n",
       " {'job_idx': 2, 'device_count': 0},\n",
       " {'job_idx': 3, 'device_count': 0},\n",
       " {'job_idx': 4, 'device_count': 0}]"
      ]
     },
     "execution_count": 11,
     "metadata": {},
     "output_type": "execute_result"
    }
   ],
   "source": [
    "result_futures_without_base_image.result()"
   ]
  },
  {
   "cell_type": "markdown",
   "metadata": {},
   "source": [
    "Boo! Okay, from now on, if you want GPUs for your Batch jobs, remember to specify `n_gpus`, an appropriate `instance_type`, and a `base_image` with the right device drivers."
   ]
  },
  {
   "cell_type": "markdown",
   "metadata": {},
   "source": [
    "Let's clean up our resources with the `clobber()` method."
   ]
  },
  {
   "cell_type": "code",
   "execution_count": null,
   "metadata": {},
   "outputs": [],
   "source": [
    "knot.clobber(clobber_pars=True, clobber_repo=True, clobber_image=True)\n",
    "knot_without_base_image_specified.clobber(clobber_pars=True, clobber_repo=True, clobber_image=True)"
   ]
  },
  {
   "cell_type": "code",
   "execution_count": null,
   "metadata": {},
   "outputs": [],
   "source": []
  }
 ],
 "metadata": {
  "kernelspec": {
   "display_name": "Python 3 (ipykernel)",
   "language": "python",
   "name": "python3"
  },
  "language_info": {
   "codemirror_mode": {
    "name": "ipython",
    "version": 3
   },
   "file_extension": ".py",
   "mimetype": "text/x-python",
   "name": "python",
   "nbconvert_exporter": "python",
   "pygments_lexer": "ipython3",
   "version": "3.7.8"
  }
 },
 "nbformat": 4,
 "nbformat_minor": 4
}
