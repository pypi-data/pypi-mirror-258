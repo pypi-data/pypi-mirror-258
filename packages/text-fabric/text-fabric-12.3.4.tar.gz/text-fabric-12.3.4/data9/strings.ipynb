{
 "cells": [
  {
   "cell_type": "code",
   "execution_count": null,
   "metadata": {},
   "outputs": [],
   "source": [
    "from multiprocessing import shared_memory"
   ]
  },
  {
   "cell_type": "code",
   "execution_count": 2,
   "metadata": {},
   "outputs": [],
   "source": [
    "def console(*msg):\n",
    "    print(*msg)\n",
    "    sys.stdout.flush()"
   ]
  },
  {
   "cell_type": "code",
   "execution_count": 9,
   "metadata": {},
   "outputs": [
    {
     "name": "stdout",
     "output_type": "stream",
     "text": [
      "24\n"
     ]
    },
    {
     "ename": "ValueError",
     "evalue": "memoryview: destination format must be a native single character format prefixed with an optional '@'",
     "output_type": "error",
     "traceback": [
      "\u001b[0;31m---------------------------------------------------------------------------\u001b[0m",
      "\u001b[0;31mValueError\u001b[0m                                Traceback (most recent call last)",
      "\u001b[0;32m<ipython-input-9-61db132f2d2c>\u001b[0m in \u001b[0;36m<module>\u001b[0;34m\u001b[0m\n\u001b[1;32m      5\u001b[0m \u001b[0mprint\u001b[0m\u001b[0;34m(\u001b[0m\u001b[0melemSize\u001b[0m\u001b[0;34m)\u001b[0m\u001b[0;34m\u001b[0m\u001b[0;34m\u001b[0m\u001b[0m\n\u001b[1;32m      6\u001b[0m \u001b[0mbuf\u001b[0m \u001b[0;34m=\u001b[0m \u001b[0;34mb\"\"\u001b[0m\u001b[0;34m.\u001b[0m\u001b[0mjoin\u001b[0m\u001b[0;34m(\u001b[0m\u001b[0me\u001b[0m \u001b[0;32mfor\u001b[0m \u001b[0me\u001b[0m \u001b[0;32min\u001b[0m \u001b[0mdataB\u001b[0m\u001b[0;34m)\u001b[0m\u001b[0;34m\u001b[0m\u001b[0;34m\u001b[0m\u001b[0m\n\u001b[0;32m----> 7\u001b[0;31m \u001b[0mmv\u001b[0m \u001b[0;34m=\u001b[0m \u001b[0mmemoryview\u001b[0m\u001b[0;34m(\u001b[0m\u001b[0mbuf\u001b[0m\u001b[0;34m)\u001b[0m\u001b[0;34m.\u001b[0m\u001b[0mcast\u001b[0m\u001b[0;34m(\u001b[0m\u001b[0;34mf\"{elemSize}s\"\u001b[0m\u001b[0;34m)\u001b[0m\u001b[0;34m\u001b[0m\u001b[0;34m\u001b[0m\u001b[0m\n\u001b[0m\u001b[1;32m      8\u001b[0m \u001b[0mtype\u001b[0m\u001b[0;34m(\u001b[0m\u001b[0mmv\u001b[0m\u001b[0;34m)\u001b[0m\u001b[0;34m\u001b[0m\u001b[0;34m\u001b[0m\u001b[0m\n",
      "\u001b[0;31mValueError\u001b[0m: memoryview: destination format must be a native single character format prefixed with an optional '@'"
     ]
    }
   ],
   "source": [
    "size = 1000\n",
    "data = [\"ä\" * (i % 13) for i in range(size)]\n",
    "dataB = [e.encode('utf8') for e in data]\n",
    "elemSize = max(len(e) for e in dataB)\n",
    "print(elemSize)\n",
    "buf = b\"\".join(e for e in dataB)\n",
    "mv = memoryview(buf).cast(f\"{elemSize}s\")\n",
    "type(mv)"
   ]
  },
  {
   "cell_type": "code",
   "execution_count": 3,
   "metadata": {},
   "outputs": [],
   "source": [
    "def test(size):\n",
    "    data = [\"ä\" * (i % 9) for i in range(size)]\n",
    "    elemSize = max(len(v) for v in data)\n",
    "    \n",
    "    dataA = array('I', [1 for i in range(size)])\n",
    "    byteSize = elemSize * size\n",
    "    shmA1 = shared_memory.SharedMemory(create=True, name=f\"dataA{size}\", size=byteSize)\n",
    "    bufA1 = shmA1.buf\n",
    "    bufA1[0:byteSize] = \"\".join(e.encode('utf8') for e in data)\n",
    "    dataA1 = bufA1.cast(\"\")\n",
    "    \n",
    "    shmA2 = shared_memory.SharedMemory(name=f\"dataA{size}\")\n",
    "    bufA2 = shmA2.buf\n",
    "    dataA2 = bufA2.cast('I')\n",
    "    \n",
    "    dataN = np.array([1 for i in range(size)])\n",
    "    byteSize = dataN.nbytes\n",
    "    shmN1 = shared_memory.SharedMemory(create=True, name=f\"dataN{size}\", size=byteSize)\n",
    "    bufN1 = shmN1.buf\n",
    "    dataN1 = np.ndarray(dataN.shape, dtype=dataN.dtype, buffer=bufN1)\n",
    "    dataN1[:] = dataN[:]\n",
    "    \n",
    "    shmN2 = shared_memory.SharedMemory(name=f\"dataN{size}\")\n",
    "    bufN2 = shmN2.buf\n",
    "    dataN2 = np.ndarray(dataN.shape, dtype=dataN.dtype, buffer=bufN2)\n",
    "    \n",
    "    half = size // 2\n",
    "    \n",
    "    dataA1[half] = 1000\n",
    "    dataN1[half] = 1000\n",
    "\n",
    "    console(f\"{dataA1[half]} == {dataA2[half]} ? {dataA1[half] == dataA2[half]}\")\n",
    "    console(f\"{dataN1[half]} == {dataN2[half]} ? {dataN1[half] == dataN2[half]}\")\n",
    "\n",
    "    \n",
    "    console(f'''list   : {timeit(\"max(data)\",   globals=locals(), number=1):>.3e}''')\n",
    "    console(f'''array  : {timeit(\"max(dataA)\",  globals=locals(), number=1):>.3e}''')\n",
    "    console(f'''array1 : {timeit(\"max(dataA1)\", globals=locals(), number=1):>.3e}''')\n",
    "    console(f'''array2 : {timeit(\"max(dataA2)\", globals=locals(), number=1):>.3e}''')\n",
    "    console(f'''numpy1 : {timeit(\"max(dataN1)\", globals=locals(), number=1):>.3e}''')\n",
    "    console(f'''numpy2 : {timeit(\"max(dataN2)\", globals=locals(), number=1):>.3e}''')\n",
    "\n",
    "\n",
    "    dataA1.release()\n",
    "    dataA2.release()\n",
    "    bufA1.release()\n",
    "    shmA1.close()\n",
    "    shmA2.close()\n",
    "    shmA1.unlink()\n",
    "    bufN1.release()\n",
    "    bufN2.release()\n",
    "    shmN1.close()\n",
    "    shmN2.close()\n",
    "    shmN1.unlink()"
   ]
  },
  {
   "cell_type": "code",
   "execution_count": 4,
   "metadata": {},
   "outputs": [
    {
     "name": "stdout",
     "output_type": "stream",
     "text": [
      "1000 == 1000 ? True\n",
      "1000 == 1000 ? True\n",
      "list   : 1.505e-02\n",
      "array  : 1.789e-02\n",
      "array1 : 2.230e-02\n",
      "array2 : 2.371e-02\n",
      "numpy1 : 1.044e-01\n",
      "numpy2 : 1.078e-01\n"
     ]
    }
   ],
   "source": [
    "test(1000000)"
   ]
  }
 ],
 "metadata": {
  "kernelspec": {
   "display_name": "Python 3",
   "language": "python",
   "name": "python3"
  },
  "language_info": {
   "codemirror_mode": {
    "name": "ipython",
    "version": 3
   },
   "file_extension": ".py",
   "mimetype": "text/x-python",
   "name": "python",
   "nbconvert_exporter": "python",
   "pygments_lexer": "ipython3",
   "version": "3.8.3"
  }
 },
 "nbformat": 4,
 "nbformat_minor": 4
}
