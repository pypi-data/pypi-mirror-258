{
 "cells": [
  {
   "cell_type": "code",
   "execution_count": 10,
   "metadata": {},
   "outputs": [],
   "source": [
    "from ints import INTS, getIntSpec"
   ]
  },
  {
   "cell_type": "code",
   "execution_count": 11,
   "metadata": {},
   "outputs": [],
   "source": [
    "def testSizes():\n",
    "    for (tp, (name, nbytes, signed)) in INTS.items():\n",
    "        ar = array(tp, [0])\n",
    "\n",
    "        topvalue = 256 ** nbytes\n",
    "        if signed:\n",
    "            minvalue = - topvalue // 2\n",
    "            maxvalue = topvalue // 2 - 1\n",
    "        else:\n",
    "            minvalue = 0\n",
    "            maxvalue = topvalue - 1\n",
    "\n",
    "        try:\n",
    "            ar[0] = minvalue\n",
    "            try:\n",
    "                ar[0] = minvalue - 1\n",
    "                print(f\"XX {tp}={name}: not the minimum value {minvalue}\")\n",
    "            except OverflowError:\n",
    "                print(f\"OK {tp}={name}: correct minimum value {minvalue}\")\n",
    "        except OverflowError:\n",
    "            print(f\"XX {tp}={name}: underflow for {minvalue}\")\n",
    "\n",
    "        try:\n",
    "            ar[0] = maxvalue\n",
    "            try:\n",
    "                ar[0] = maxvalue + 1\n",
    "                print(f\"XX {tp}={name}: not the maximum value {maxvalue}\")\n",
    "            except OverflowError:\n",
    "                print(f\"OK {tp}={name}: correct maximum value {maxvalue}\")\n",
    "        except OverflowError:\n",
    "            print(f\"XX {tp}={name}: overflow for {maxvalue}\")"
   ]
  },
  {
   "cell_type": "code",
   "execution_count": 12,
   "metadata": {},
   "outputs": [
    {
     "name": "stdout",
     "output_type": "stream",
     "text": [
      "OK B=char: correct minimum value 0\n",
      "OK B=char: correct maximum value 255\n",
      "OK b=signed char: correct minimum value -128\n",
      "OK b=signed char: correct maximum value 127\n",
      "OK H=unsigned short: correct minimum value 0\n",
      "OK H=unsigned short: correct maximum value 65535\n",
      "OK h=short: correct minimum value -32768\n",
      "OK h=short: correct maximum value 32767\n",
      "OK I=unsigned int: correct minimum value 0\n",
      "OK I=unsigned int: correct maximum value 4294967295\n",
      "OK i=int: correct minimum value -2147483648\n",
      "OK i=int: correct maximum value 2147483647\n",
      "OK Q=unsigned int: correct minimum value 0\n",
      "OK Q=unsigned int: correct maximum value 18446744073709551615\n",
      "OK q=int: correct minimum value -9223372036854775808\n",
      "OK q=int: correct maximum value 9223372036854775807\n"
     ]
    }
   ],
   "source": [
    "testSizes()"
   ]
  },
  {
   "cell_type": "code",
   "execution_count": 14,
   "metadata": {},
   "outputs": [
    {
     "name": "stdout",
     "output_type": "stream",
     "text": [
      "OK 0 .. 0                         => B\n",
      "OK -1 .. 0                        => b\n",
      "OK -2 .. -1                       => b\n",
      "OK -128 .. -1                     => b\n",
      "OK -128 .. 127                    => b\n",
      "OK -128 .. 128                    => h\n",
      "OK -129 .. 127                    => h\n",
      "OK -1 .. 32767                    => h\n",
      "OK -1 .. 32769                    => i\n",
      "OK 1 .. 32769                     => H\n"
     ]
    }
   ],
   "source": [
    "for (minv, maxv, expected) in (\n",
    "    (0, 0, 'B'),\n",
    "    (-1, 0, 'b'),\n",
    "    (-2, -1, 'b'),\n",
    "    (-128, -1, 'b'),\n",
    "    (-128, 127, 'b'),\n",
    "    (-128, 128, 'h'),\n",
    "    (-129, 127, 'h'),\n",
    "    (-1, 256 * 128 - 1, 'h'),\n",
    "    (-1, 256 * 128 + 1, 'i'),\n",
    "    (1, 256 * 128 + 1, 'H'),\n",
    "):\n",
    "    rng = f\"{minv} .. {maxv}\"\n",
    "    result = getIntSpec(minv, maxv)\n",
    "    status = \"OK\" if result == expected else \"XX\"\n",
    "    print(f\"{status} {rng:<30} => {result}\")"
   ]
  },
  {
   "cell_type": "code",
   "execution_count": null,
   "metadata": {},
   "outputs": [],
   "source": []
  }
 ],
 "metadata": {
  "kernelspec": {
   "display_name": "Python 3",
   "language": "python",
   "name": "python3"
  },
  "language_info": {
   "codemirror_mode": {
    "name": "ipython",
    "version": 3
   },
   "file_extension": ".py",
   "mimetype": "text/x-python",
   "name": "python",
   "nbconvert_exporter": "python",
   "pygments_lexer": "ipython3",
   "version": "3.8.3"
  }
 },
 "nbformat": 4,
 "nbformat_minor": 4
}
