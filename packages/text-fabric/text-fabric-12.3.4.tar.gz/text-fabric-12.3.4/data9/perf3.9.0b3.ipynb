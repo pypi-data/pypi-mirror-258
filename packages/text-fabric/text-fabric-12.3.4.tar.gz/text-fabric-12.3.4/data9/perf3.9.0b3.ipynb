{
 "cells": [
  {
   "cell_type": "code",
   "execution_count": 1,
   "metadata": {},
   "outputs": [],
   "source": [
    "from timeit import timeit\n",
    "from multiprocessing import shared_memory"
   ]
  },
  {
   "cell_type": "code",
   "execution_count": 2,
   "metadata": {},
   "outputs": [],
   "source": [
    "def test(size):\n",
    "    data = [1 for i in range(size)]\n",
    "    dataM = shared_memory.ShareableList(data, name=f\"data{size}\")\n",
    "    print(f'''Size = {dataM.shm.size}''')\n",
    "    print(f'''{timeit(\"max(data)\", globals=locals(), number=1):>.3e}''')\n",
    "    print(f'''{timeit(\"max(dataM)\", globals=locals(), number=1):>.3e}''')"
   ]
  },
  {
   "cell_type": "code",
   "execution_count": 3,
   "metadata": {},
   "outputs": [
    {
     "name": "stdout",
     "output_type": "stream",
     "text": [
      "Size = 28672\n",
      "2.357e-05\n",
      "4.543e-03\n"
     ]
    }
   ],
   "source": [
    "test(1000)"
   ]
  },
  {
   "cell_type": "code",
   "execution_count": 4,
   "metadata": {},
   "outputs": [
    {
     "name": "stdout",
     "output_type": "stream",
     "text": [
      "Size = 253952\n",
      "2.026e-04\n",
      "3.832e-02\n"
     ]
    }
   ],
   "source": [
    "test(10000)"
   ]
  },
  {
   "cell_type": "code",
   "execution_count": 5,
   "metadata": {},
   "outputs": [
    {
     "name": "stdout",
     "output_type": "stream",
     "text": [
      "Size = 2502656\n",
      "1.526e-03\n",
      "3.016e-01\n"
     ]
    }
   ],
   "source": [
    "test(100000)"
   ]
  },
  {
   "cell_type": "code",
   "execution_count": null,
   "metadata": {},
   "outputs": [],
   "source": []
  }
 ],
 "metadata": {
  "kernelspec": {
   "display_name": "Python 3",
   "language": "python",
   "name": "python3"
  },
  "language_info": {
   "codemirror_mode": {
    "name": "ipython",
    "version": 3
   },
   "file_extension": ".py",
   "mimetype": "text/x-python",
   "name": "python",
   "nbconvert_exporter": "python",
   "pygments_lexer": "ipython3",
   "version": "3.8.3"
  }
 },
 "nbformat": 4,
 "nbformat_minor": 4
}
